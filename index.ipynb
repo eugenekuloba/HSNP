{
 "cells": [
  {
   "cell_type": "code",
   "execution_count": 1,
   "metadata": {
    "scrolled": true
   },
   "outputs": [
    {
     "name": "stderr",
     "output_type": "stream",
     "text": [
      "c:\\Users\\USER\\Desktop\\HSNP\\HSNP\\env\\lib\\site-packages\\geopandas\\_compat.py:115: UserWarning: The Shapely GEOS version (3.11.1-CAPI-1.17.1) is incompatible with the GEOS version PyGEOS was compiled with (3.10.4-CAPI-1.16.2). Conversions between both will be slow.\n",
      "  shapely_geos_version, geos_capi_version_string\n"
     ]
    }
   ],
   "source": [
    "# import necessary libraries\n",
    "import pandas as pd\n",
    "import numpy as np\n",
    "import matplotlib.pyplot as plt\n",
    "import seaborn as sns\n",
    "import random\n",
    "import folium\n",
    "import math\n",
    "from geopy.geocoders import Nominatim\n",
    "from geopy.exc import GeocoderTimedOut\n",
    "import time\n",
    "import geopandas as gpd\n",
    "from shapely.geometry import Point\n"
   ]
  },
  {
   "cell_type": "code",
   "execution_count": 2,
   "metadata": {},
   "outputs": [],
   "source": [
    "# !pip install openpyxl "
   ]
  },
  {
   "cell_type": "code",
   "execution_count": 2,
   "metadata": {},
   "outputs": [],
   "source": [
    "# Read the Excel file\n",
    "df = pd.read_excel('Data/sample.xlsx')"
   ]
  },
  {
   "cell_type": "code",
   "execution_count": 3,
   "metadata": {},
   "outputs": [],
   "source": [
    "# # Take a random sample of 10 rows from the DataFrame\n",
    "# sample = df.sample(n=10000)\n",
    "\n",
    "# # Print the sample\n",
    "# sample.head()"
   ]
  },
  {
   "cell_type": "code",
   "execution_count": 4,
   "metadata": {},
   "outputs": [],
   "source": [
    "# sample['County_Name'].unique()"
   ]
  },
  {
   "cell_type": "code",
   "execution_count": 5,
   "metadata": {},
   "outputs": [],
   "source": [
    "# # save to excel\n",
    "# sample.to_excel('Data/sample.xlsx', index=False)\n"
   ]
  },
  {
   "cell_type": "code",
   "execution_count": 3,
   "metadata": {},
   "outputs": [
    {
     "data": {
      "text/plain": [
       "(10000, 17)"
      ]
     },
     "execution_count": 3,
     "metadata": {},
     "output_type": "execute_result"
    }
   ],
   "source": [
    "# Check shape of the data\n",
    "df.shape"
   ]
  },
  {
   "cell_type": "code",
   "execution_count": 4,
   "metadata": {
    "scrolled": false
   },
   "outputs": [
    {
     "name": "stdout",
     "output_type": "stream",
     "text": [
      "<class 'pandas.core.frame.DataFrame'>\n",
      "RangeIndex: 10000 entries, 0 to 9999\n",
      "Data columns (total 17 columns):\n",
      " #   Column             Non-Null Count  Dtype         \n",
      "---  ------             --------------  -----         \n",
      " 0   Household_ID       10000 non-null  object        \n",
      " 1   Village_ID         10000 non-null  int64         \n",
      " 2   Village_Name       10000 non-null  object        \n",
      " 3   Sublocation_Name   10000 non-null  object        \n",
      " 4   Sublocation_ID     10000 non-null  int64         \n",
      " 5   Location_ID        10000 non-null  int64         \n",
      " 6   Location_Name      10000 non-null  object        \n",
      " 7   Constituency_Name  10000 non-null  object        \n",
      " 8   County_Name        10000 non-null  object        \n",
      " 9   IsBeneficiaryHH    10000 non-null  bool          \n",
      " 10  latitude           10000 non-null  float64       \n",
      " 11  longitude          10000 non-null  float64       \n",
      " 12  RuralUrban         9493 non-null   object        \n",
      " 13  Constituency_ID    10000 non-null  int64         \n",
      " 14  Entry_Date         10000 non-null  datetime64[ns]\n",
      " 15  UserCode           10000 non-null  int64         \n",
      " 16  County_ID          10000 non-null  int64         \n",
      "dtypes: bool(1), datetime64[ns](1), float64(2), int64(6), object(7)\n",
      "memory usage: 1.2+ MB\n"
     ]
    }
   ],
   "source": [
    "df.info()"
   ]
  },
  {
   "cell_type": "code",
   "execution_count": 5,
   "metadata": {
    "scrolled": true
   },
   "outputs": [
    {
     "name": "stdout",
     "output_type": "stream",
     "text": [
      "Empty DataFrame\n",
      "Columns: [Household_ID, Village_ID, Village_Name, Sublocation_Name, Sublocation_ID, Location_ID, Location_Name, Constituency_Name, County_Name, IsBeneficiaryHH, latitude, longitude, RuralUrban, Constituency_ID, Entry_Date, UserCode, County_ID]\n",
      "Index: []\n"
     ]
    }
   ],
   "source": [
    "# Check for non-numeric values\n",
    "non_numeric_values = df[df['UserCode'].isnull()]\n",
    "\n",
    "# Print the non-numeric values\n",
    "print(non_numeric_values)"
   ]
  },
  {
   "cell_type": "code",
   "execution_count": 6,
   "metadata": {
    "scrolled": true
   },
   "outputs": [
    {
     "name": "stdout",
     "output_type": "stream",
     "text": [
      "Empty DataFrame\n",
      "Columns: [Household_ID, Village_ID, Village_Name, Sublocation_Name, Sublocation_ID, Location_ID, Location_Name, Constituency_Name, County_Name, IsBeneficiaryHH, latitude, longitude, RuralUrban, Constituency_ID, Entry_Date, UserCode, County_ID]\n",
      "Index: []\n"
     ]
    }
   ],
   "source": [
    "# Check for non-numeric values\n",
    "non_numeric_values = df[df['Household_ID'].isnull()]\n",
    "\n",
    "# Print the non-numeric values\n",
    "print(non_numeric_values)"
   ]
  },
  {
   "cell_type": "code",
   "execution_count": 7,
   "metadata": {},
   "outputs": [],
   "source": [
    "# Convert all object data to title case\n",
    "df = df.apply(lambda x: x.str.title() if x.dtype == 'object' else x)\n",
    "\n",
    "# Convert all column names to lower case\n",
    "df.columns = df.columns.str.lower()"
   ]
  },
  {
   "cell_type": "code",
   "execution_count": 8,
   "metadata": {},
   "outputs": [
    {
     "data": {
      "text/html": [
       "<div>\n",
       "<style scoped>\n",
       "    .dataframe tbody tr th:only-of-type {\n",
       "        vertical-align: middle;\n",
       "    }\n",
       "\n",
       "    .dataframe tbody tr th {\n",
       "        vertical-align: top;\n",
       "    }\n",
       "\n",
       "    .dataframe thead th {\n",
       "        text-align: right;\n",
       "    }\n",
       "</style>\n",
       "<table border=\"1\" class=\"dataframe\">\n",
       "  <thead>\n",
       "    <tr style=\"text-align: right;\">\n",
       "      <th></th>\n",
       "      <th>household_id</th>\n",
       "      <th>village_id</th>\n",
       "      <th>village_name</th>\n",
       "      <th>sublocation_name</th>\n",
       "      <th>sublocation_id</th>\n",
       "      <th>location_id</th>\n",
       "      <th>location_name</th>\n",
       "      <th>constituency_name</th>\n",
       "      <th>county_name</th>\n",
       "      <th>isbeneficiaryhh</th>\n",
       "      <th>latitude</th>\n",
       "      <th>longitude</th>\n",
       "      <th>ruralurban</th>\n",
       "      <th>constituency_id</th>\n",
       "      <th>entry_date</th>\n",
       "      <th>usercode</th>\n",
       "      <th>county_id</th>\n",
       "    </tr>\n",
       "  </thead>\n",
       "  <tbody>\n",
       "    <tr>\n",
       "      <th>0</th>\n",
       "      <td>7010201010028247190091</td>\n",
       "      <td>7010201010028247</td>\n",
       "      <td>Leperio/Huruma/Kachu</td>\n",
       "      <td>Kerio</td>\n",
       "      <td>701020101</td>\n",
       "      <td>7010201</td>\n",
       "      <td>Kerio</td>\n",
       "      <td>Turkana Central</td>\n",
       "      <td>Turkana</td>\n",
       "      <td>False</td>\n",
       "      <td>3.00307</td>\n",
       "      <td>36.05471</td>\n",
       "      <td>Rural</td>\n",
       "      <td>125</td>\n",
       "      <td>2017-12-05 10:50:00</td>\n",
       "      <td>91</td>\n",
       "      <td>23</td>\n",
       "    </tr>\n",
       "    <tr>\n",
       "      <th>1</th>\n",
       "      <td>5070203010231180140112</td>\n",
       "      <td>5070203010231180</td>\n",
       "      <td>Qahira</td>\n",
       "      <td>Wajir Bor</td>\n",
       "      <td>507020301</td>\n",
       "      <td>5070203</td>\n",
       "      <td>Wajir Bor</td>\n",
       "      <td>Wajir East</td>\n",
       "      <td>Wajir</td>\n",
       "      <td>False</td>\n",
       "      <td>1.73895</td>\n",
       "      <td>40.20597</td>\n",
       "      <td>Rural</td>\n",
       "      <td>34</td>\n",
       "      <td>2019-11-24 06:52:00</td>\n",
       "      <td>112</td>\n",
       "      <td>8</td>\n",
       "    </tr>\n",
       "    <tr>\n",
       "      <th>2</th>\n",
       "      <td>70303010102721833180479</td>\n",
       "      <td>70303010102721832</td>\n",
       "      <td>Kangisaja</td>\n",
       "      <td>Lokichar</td>\n",
       "      <td>703030101</td>\n",
       "      <td>7030301</td>\n",
       "      <td>Lokichar</td>\n",
       "      <td>Turkana South</td>\n",
       "      <td>Turkana</td>\n",
       "      <td>True</td>\n",
       "      <td>2.54280</td>\n",
       "      <td>35.71542</td>\n",
       "      <td>Rural</td>\n",
       "      <td>127</td>\n",
       "      <td>2020-09-09 12:14:00</td>\n",
       "      <td>479</td>\n",
       "      <td>23</td>\n",
       "    </tr>\n",
       "    <tr>\n",
       "      <th>3</th>\n",
       "      <td>50502080100804480104</td>\n",
       "      <td>505020801008044</td>\n",
       "      <td>Sebule</td>\n",
       "      <td>Sebule</td>\n",
       "      <td>505020801</td>\n",
       "      <td>5050208</td>\n",
       "      <td>Sebule</td>\n",
       "      <td>Wajir South</td>\n",
       "      <td>Wajir</td>\n",
       "      <td>False</td>\n",
       "      <td>0.34808</td>\n",
       "      <td>40.11216</td>\n",
       "      <td>Rural</td>\n",
       "      <td>38</td>\n",
       "      <td>2018-01-20 19:35:00</td>\n",
       "      <td>104</td>\n",
       "      <td>8</td>\n",
       "    </tr>\n",
       "    <tr>\n",
       "      <th>4</th>\n",
       "      <td>51007070101779640161</td>\n",
       "      <td>510070701017796</td>\n",
       "      <td>Bulla Arabia</td>\n",
       "      <td>Bulla Barwako</td>\n",
       "      <td>510070701</td>\n",
       "      <td>5100707</td>\n",
       "      <td>Bulla Barwako</td>\n",
       "      <td>Mandera East</td>\n",
       "      <td>Mandera</td>\n",
       "      <td>False</td>\n",
       "      <td>3.92399</td>\n",
       "      <td>41.83980</td>\n",
       "      <td>Urban</td>\n",
       "      <td>43</td>\n",
       "      <td>2017-12-31 20:45:00</td>\n",
       "      <td>161</td>\n",
       "      <td>9</td>\n",
       "    </tr>\n",
       "  </tbody>\n",
       "</table>\n",
       "</div>"
      ],
      "text/plain": [
       "              household_id         village_id          village_name  \\\n",
       "0   7010201010028247190091   7010201010028247  Leperio/Huruma/Kachu   \n",
       "1   5070203010231180140112   5070203010231180                Qahira   \n",
       "2  70303010102721833180479  70303010102721832             Kangisaja   \n",
       "3     50502080100804480104    505020801008044                Sebule   \n",
       "4     51007070101779640161    510070701017796          Bulla Arabia   \n",
       "\n",
       "  sublocation_name  sublocation_id  location_id  location_name  \\\n",
       "0            Kerio       701020101      7010201          Kerio   \n",
       "1        Wajir Bor       507020301      5070203      Wajir Bor   \n",
       "2         Lokichar       703030101      7030301       Lokichar   \n",
       "3           Sebule       505020801      5050208         Sebule   \n",
       "4    Bulla Barwako       510070701      5100707  Bulla Barwako   \n",
       "\n",
       "  constituency_name county_name  isbeneficiaryhh  latitude  longitude  \\\n",
       "0   Turkana Central     Turkana            False   3.00307   36.05471   \n",
       "1        Wajir East       Wajir            False   1.73895   40.20597   \n",
       "2     Turkana South     Turkana             True   2.54280   35.71542   \n",
       "3       Wajir South       Wajir            False   0.34808   40.11216   \n",
       "4      Mandera East     Mandera            False   3.92399   41.83980   \n",
       "\n",
       "  ruralurban  constituency_id          entry_date  usercode  county_id  \n",
       "0      Rural              125 2017-12-05 10:50:00        91         23  \n",
       "1      Rural               34 2019-11-24 06:52:00       112          8  \n",
       "2      Rural              127 2020-09-09 12:14:00       479         23  \n",
       "3      Rural               38 2018-01-20 19:35:00       104          8  \n",
       "4      Urban               43 2017-12-31 20:45:00       161          9  "
      ]
     },
     "execution_count": 8,
     "metadata": {},
     "output_type": "execute_result"
    }
   ],
   "source": [
    "df.head()"
   ]
  },
  {
   "cell_type": "code",
   "execution_count": 14,
   "metadata": {},
   "outputs": [
    {
     "data": {
      "text/html": [
       "<div>\n",
       "<style scoped>\n",
       "    .dataframe tbody tr th:only-of-type {\n",
       "        vertical-align: middle;\n",
       "    }\n",
       "\n",
       "    .dataframe tbody tr th {\n",
       "        vertical-align: top;\n",
       "    }\n",
       "\n",
       "    .dataframe thead th {\n",
       "        text-align: right;\n",
       "    }\n",
       "</style>\n",
       "<table border=\"1\" class=\"dataframe\">\n",
       "  <thead>\n",
       "    <tr style=\"text-align: right;\">\n",
       "      <th></th>\n",
       "      <th>OBJECTID</th>\n",
       "      <th>AREA</th>\n",
       "      <th>PERIMETER</th>\n",
       "      <th>KENSUBS_ID</th>\n",
       "      <th>KENSUBS_1</th>\n",
       "      <th>KENSUBS__1</th>\n",
       "      <th>SLID</th>\n",
       "      <th>SLNAME</th>\n",
       "      <th>LOCID</th>\n",
       "      <th>LOCNAME</th>\n",
       "      <th>...</th>\n",
       "      <th>CONSTITUEN</th>\n",
       "      <th>CONSTI_COD</th>\n",
       "      <th>SUM_HOUSEH</th>\n",
       "      <th>SUM_MALES</th>\n",
       "      <th>SUM_FEMALE</th>\n",
       "      <th>SUM_GRTOTA</th>\n",
       "      <th>Location</th>\n",
       "      <th>Division</th>\n",
       "      <th>Shape_Leng</th>\n",
       "      <th>Shape_Area</th>\n",
       "    </tr>\n",
       "  </thead>\n",
       "  <tbody>\n",
       "    <tr>\n",
       "      <th>0</th>\n",
       "      <td>15</td>\n",
       "      <td>0.056</td>\n",
       "      <td>1.057</td>\n",
       "      <td>1.0</td>\n",
       "      <td>2.0</td>\n",
       "      <td>715050202.0</td>\n",
       "      <td>715050202.0</td>\n",
       "      <td>Kibish</td>\n",
       "      <td>7150502.0</td>\n",
       "      <td>KIBISH</td>\n",
       "      <td>...</td>\n",
       "      <td>TURKANA NORTH</td>\n",
       "      <td>106.0</td>\n",
       "      <td>143.0</td>\n",
       "      <td>263.0</td>\n",
       "      <td>353.0</td>\n",
       "      <td>616.0</td>\n",
       "      <td>kibish</td>\n",
       "      <td>Kibish</td>\n",
       "      <td>1.056889</td>\n",
       "      <td>0.055691</td>\n",
       "    </tr>\n",
       "    <tr>\n",
       "      <th>1</th>\n",
       "      <td>16</td>\n",
       "      <td>0.134</td>\n",
       "      <td>1.556</td>\n",
       "      <td>2.0</td>\n",
       "      <td>3.0</td>\n",
       "      <td>715050102.0</td>\n",
       "      <td>715050102.0</td>\n",
       "      <td>Naita</td>\n",
       "      <td>7150501.0</td>\n",
       "      <td>NAITA</td>\n",
       "      <td>...</td>\n",
       "      <td>TURKANA NORTH</td>\n",
       "      <td>106.0</td>\n",
       "      <td>103.0</td>\n",
       "      <td>121.0</td>\n",
       "      <td>168.0</td>\n",
       "      <td>289.0</td>\n",
       "      <td>naita</td>\n",
       "      <td>Kibish</td>\n",
       "      <td>1.555845</td>\n",
       "      <td>0.133873</td>\n",
       "    </tr>\n",
       "    <tr>\n",
       "      <th>2</th>\n",
       "      <td>17</td>\n",
       "      <td>0.072</td>\n",
       "      <td>1.249</td>\n",
       "      <td>3.0</td>\n",
       "      <td>4.0</td>\n",
       "      <td>715050301.0</td>\n",
       "      <td>715050301.0</td>\n",
       "      <td>Natapal</td>\n",
       "      <td>7150503.0</td>\n",
       "      <td>NATAPAL</td>\n",
       "      <td>...</td>\n",
       "      <td>TURKANA NORTH</td>\n",
       "      <td>106.0</td>\n",
       "      <td>96.0</td>\n",
       "      <td>226.0</td>\n",
       "      <td>217.0</td>\n",
       "      <td>443.0</td>\n",
       "      <td>natapal</td>\n",
       "      <td>Kibish</td>\n",
       "      <td>1.248657</td>\n",
       "      <td>0.071601</td>\n",
       "    </tr>\n",
       "    <tr>\n",
       "      <th>3</th>\n",
       "      <td>18</td>\n",
       "      <td>0.057</td>\n",
       "      <td>1.105</td>\n",
       "      <td>4.0</td>\n",
       "      <td>5.0</td>\n",
       "      <td>715050201.0</td>\n",
       "      <td>715050201.0</td>\n",
       "      <td>Lokamarinyang</td>\n",
       "      <td>7150502.0</td>\n",
       "      <td>KIBISH</td>\n",
       "      <td>...</td>\n",
       "      <td>TURKANA NORTH</td>\n",
       "      <td>106.0</td>\n",
       "      <td>240.0</td>\n",
       "      <td>750.0</td>\n",
       "      <td>738.0</td>\n",
       "      <td>1488.0</td>\n",
       "      <td>kibish</td>\n",
       "      <td>Kibish</td>\n",
       "      <td>1.105198</td>\n",
       "      <td>0.057243</td>\n",
       "    </tr>\n",
       "    <tr>\n",
       "      <th>4</th>\n",
       "      <td>19</td>\n",
       "      <td>0.061</td>\n",
       "      <td>1.067</td>\n",
       "      <td>5.0</td>\n",
       "      <td>6.0</td>\n",
       "      <td>715050302.0</td>\n",
       "      <td>715050302.0</td>\n",
       "      <td>Karachi I</td>\n",
       "      <td>7150503.0</td>\n",
       "      <td>NATAPAL</td>\n",
       "      <td>...</td>\n",
       "      <td>TURKANA NORTH</td>\n",
       "      <td>106.0</td>\n",
       "      <td>285.0</td>\n",
       "      <td>699.0</td>\n",
       "      <td>793.0</td>\n",
       "      <td>1492.0</td>\n",
       "      <td>natapal</td>\n",
       "      <td>Kibish</td>\n",
       "      <td>1.067371</td>\n",
       "      <td>0.061083</td>\n",
       "    </tr>\n",
       "  </tbody>\n",
       "</table>\n",
       "<p>5 rows × 27 columns</p>\n",
       "</div>"
      ],
      "text/plain": [
       "   OBJECTID   AREA  PERIMETER  KENSUBS_ID  KENSUBS_1   KENSUBS__1  \\\n",
       "0        15  0.056      1.057         1.0        2.0  715050202.0   \n",
       "1        16  0.134      1.556         2.0        3.0  715050102.0   \n",
       "2        17  0.072      1.249         3.0        4.0  715050301.0   \n",
       "3        18  0.057      1.105         4.0        5.0  715050201.0   \n",
       "4        19  0.061      1.067         5.0        6.0  715050302.0   \n",
       "\n",
       "          SLID         SLNAME      LOCID  LOCNAME  ...     CONSTITUEN  \\\n",
       "0  715050202.0         Kibish  7150502.0   KIBISH  ...  TURKANA NORTH   \n",
       "1  715050102.0          Naita  7150501.0    NAITA  ...  TURKANA NORTH   \n",
       "2  715050301.0        Natapal  7150503.0  NATAPAL  ...  TURKANA NORTH   \n",
       "3  715050201.0  Lokamarinyang  7150502.0   KIBISH  ...  TURKANA NORTH   \n",
       "4  715050302.0      Karachi I  7150503.0  NATAPAL  ...  TURKANA NORTH   \n",
       "\n",
       "  CONSTI_COD  SUM_HOUSEH SUM_MALES  SUM_FEMALE SUM_GRTOTA  Location Division  \\\n",
       "0      106.0       143.0     263.0       353.0      616.0    kibish   Kibish   \n",
       "1      106.0       103.0     121.0       168.0      289.0     naita   Kibish   \n",
       "2      106.0        96.0     226.0       217.0      443.0   natapal   Kibish   \n",
       "3      106.0       240.0     750.0       738.0     1488.0    kibish   Kibish   \n",
       "4      106.0       285.0     699.0       793.0     1492.0   natapal   Kibish   \n",
       "\n",
       "   Shape_Leng  Shape_Area  \n",
       "0    1.056889    0.055691  \n",
       "1    1.555845    0.133873  \n",
       "2    1.248657    0.071601  \n",
       "3    1.105198    0.057243  \n",
       "4    1.067371    0.061083  \n",
       "\n",
       "[5 rows x 27 columns]"
      ]
     },
     "execution_count": 14,
     "metadata": {},
     "output_type": "execute_result"
    }
   ],
   "source": [
    "# Path to the shapefile (.shp) file\n",
    "shapefile_path = \"Shapefiles/turkana_admin_bound.shp\"\n",
    "\n",
    "# Read the shapefile into a GeoDataFrame\n",
    "gdf = gpd.read_file(shapefile_path)\n",
    "\n",
    "# Convert the GeoDataFrame to a regular DataFrame\n",
    "turkana_shp = gdf.drop('geometry', axis=1)\n",
    "\n",
    "# Print the DataFrame\n",
    "turkana_shp.head()\n"
   ]
  },
  {
   "cell_type": "code",
   "execution_count": 15,
   "metadata": {},
   "outputs": [],
   "source": [
    "# Convert all object data to title case\n",
    "turkana_shp = turkana_shp.apply(lambda x: x.str.title() if x.dtype == 'object' else x)\n",
    "\n",
    "# Convert all column names to lower case\n",
    "turkana_shp.columns = turkana_shp.columns.str.lower()"
   ]
  },
  {
   "cell_type": "code",
   "execution_count": 16,
   "metadata": {},
   "outputs": [
    {
     "name": "stdout",
     "output_type": "stream",
     "text": [
      "<class 'geopandas.geodataframe.GeoDataFrame'>\n",
      "RangeIndex: 159 entries, 0 to 158\n",
      "Data columns (total 27 columns):\n",
      " #   Column      Non-Null Count  Dtype  \n",
      "---  ------      --------------  -----  \n",
      " 0   objectid    159 non-null    int64  \n",
      " 1   area        159 non-null    float64\n",
      " 2   perimeter   159 non-null    float64\n",
      " 3   kensubs_id  159 non-null    float64\n",
      " 4   kensubs_1   159 non-null    float64\n",
      " 5   kensubs__1  159 non-null    float64\n",
      " 6   slid        159 non-null    float64\n",
      " 7   slname      159 non-null    object \n",
      " 8   locid       159 non-null    float64\n",
      " 9   locname     159 non-null    object \n",
      " 10  divid       159 non-null    float64\n",
      " 11  divname     159 non-null    object \n",
      " 12  distid      159 non-null    float64\n",
      " 13  distname    159 non-null    object \n",
      " 14  provid      159 non-null    float64\n",
      " 15  provname    159 non-null    object \n",
      " 16  area2       159 non-null    float64\n",
      " 17  constituen  159 non-null    object \n",
      " 18  consti_cod  159 non-null    float64\n",
      " 19  sum_househ  159 non-null    float64\n",
      " 20  sum_males   159 non-null    float64\n",
      " 21  sum_female  159 non-null    float64\n",
      " 22  sum_grtota  159 non-null    float64\n",
      " 23  location    159 non-null    object \n",
      " 24  division    159 non-null    object \n",
      " 25  shape_leng  159 non-null    float64\n",
      " 26  shape_area  159 non-null    float64\n",
      "dtypes: float64(18), int64(1), object(8)\n",
      "memory usage: 33.7+ KB\n"
     ]
    }
   ],
   "source": [
    "# shapefile info\n",
    "turkana_shp.info()"
   ]
  },
  {
   "cell_type": "code",
   "execution_count": null,
   "metadata": {},
   "outputs": [],
   "source": []
  },
  {
   "cell_type": "markdown",
   "metadata": {},
   "source": [
    "### **Turkana Sublocations**"
   ]
  },
  {
   "cell_type": "code",
   "execution_count": 62,
   "metadata": {},
   "outputs": [
    {
     "name": "stdout",
     "output_type": "stream",
     "text": [
      "List saved to Data/turkana_sublocation.txt\n"
     ]
    }
   ],
   "source": [
    "# Path to the shapefile (.shp) file\n",
    "shapefile_path = \"Shapefiles/turkana_admin_bound.shp\"\n",
    "\n",
    "# Read the shapefile into a GeoDataFrame\n",
    "gdf = gpd.read_file(shapefile_path)\n",
    "\n",
    "# Convert the GeoDataFrame to a regular DataFrame\n",
    "turkana_shp = gdf.drop('geometry', axis=1)\n",
    "\n",
    "# Convert all object data to title case\n",
    "turkana_shp = turkana_shp.apply(lambda x: x.str.lower() if x.dtype == 'object' else x)\n",
    "\n",
    "# Convert all column names to lower case\n",
    "turkana_shp.columns = turkana_shp.columns.str.lower()\n",
    "\n",
    "\n",
    "# Assuming your DataFrame is called 'df' and the column name is 'column_name'\n",
    "turkana_sublocations = turkana_shp['slname'].unique().tolist()\n",
    "\n",
    "# Specify the output file path\n",
    "output_file = \"Data/turkana_sublocation.txt\"\n",
    "\n",
    "# Open the file in write mode\n",
    "with open(output_file, \"w\") as file:\n",
    "    # Write each list element to a new line in the file\n",
    "    for item in turkana_sublocations:\n",
    "        file.write(str(item) + \"\\n\")\n",
    "\n",
    "print(\"List saved to\", output_file)\n",
    "\n"
   ]
  },
  {
   "cell_type": "markdown",
   "metadata": {},
   "source": [
    "### **Turkana Locations**"
   ]
  },
  {
   "cell_type": "code",
   "execution_count": 63,
   "metadata": {},
   "outputs": [
    {
     "name": "stdout",
     "output_type": "stream",
     "text": [
      "List saved to Data/turkana_location.txt\n"
     ]
    }
   ],
   "source": [
    "# Assuming your DataFrame is called 'df' and the column name is 'column_name'\n",
    "turkana_locations = turkana_shp['locname'].unique().tolist()\n",
    "\n",
    "# Specify the output file path\n",
    "output_file = \"Data/turkana_location.txt\"\n",
    "\n",
    "# Open the file in write mode\n",
    "with open(output_file, \"w\") as file:\n",
    "    # Write each list element to a new line in the file\n",
    "    for item in turkana_locations:\n",
    "        file.write(str(item) + \"\\n\")\n",
    "\n",
    "print(\"List saved to\", output_file)"
   ]
  },
  {
   "cell_type": "markdown",
   "metadata": {},
   "source": [
    "### **Turkana Constituencies**"
   ]
  },
  {
   "cell_type": "code",
   "execution_count": 64,
   "metadata": {},
   "outputs": [
    {
     "name": "stdout",
     "output_type": "stream",
     "text": [
      "List saved to Data/turkana_constituencies.txt\n"
     ]
    }
   ],
   "source": [
    "# Assuming your DataFrame is called 'df' and the column name is 'column_name'\n",
    "turkana_constituencies = turkana_shp['constituen'].unique().tolist()\n",
    "\n",
    "# Specify the output file path\n",
    "output_file = \"Data/turkana_constituencies.txt\"\n",
    "\n",
    "# Open the file in write mode\n",
    "with open(output_file, \"w\") as file:\n",
    "    # Write each list element to a new line in the file\n",
    "    for item in turkana_constituencies:\n",
    "        file.write(str(item) + \"\\n\")\n",
    "\n",
    "print(\"List saved to\", output_file)"
   ]
  },
  {
   "cell_type": "markdown",
   "metadata": {},
   "source": [
    "### **Marsabit Sublocations**"
   ]
  },
  {
   "cell_type": "code",
   "execution_count": 65,
   "metadata": {},
   "outputs": [
    {
     "name": "stdout",
     "output_type": "stream",
     "text": [
      "List saved to Data/marsabit_sublocation.txt\n"
     ]
    }
   ],
   "source": [
    "# Path to the shapefile (.shp) file\n",
    "shapefile_path = \"Shapefiles/marsabit_admin_bound.shp\"\n",
    "\n",
    "# Read the shapefile into a GeoDataFrame\n",
    "gdf = gpd.read_file(shapefile_path)\n",
    "\n",
    "# Convert the GeoDataFrame to a regular DataFrame\n",
    "marsabit_shp = gdf.drop('geometry', axis=1)\n",
    "\n",
    "# Convert all object data to title case\n",
    "marsabit_shp = marsabit_shp.apply(lambda x: x.str.lower() if x.dtype == 'object' else x)\n",
    "\n",
    "# Convert all column names to lower case\n",
    "marsabit_shp.columns = marsabit_shp.columns.str.lower()\n",
    "\n",
    "\n",
    "# Assuming your DataFrame is called 'df' and the column name is 'column_name'\n",
    "marsabit_sublocations = marsabit_shp['slname'].unique().tolist()\n",
    "\n",
    "# Specify the output file path\n",
    "output_file = \"Data/marsabit_sublocation.txt\"\n",
    "\n",
    "# Open the file in write mode\n",
    "with open(output_file, \"w\") as file:\n",
    "    # Write each list element to a new line in the file\n",
    "    for item in marsabit_sublocations:\n",
    "        file.write(str(item) + \"\\n\")\n",
    "\n",
    "print(\"List saved to\", output_file)"
   ]
  },
  {
   "cell_type": "markdown",
   "metadata": {},
   "source": [
    "### **Marsabit Locations**"
   ]
  },
  {
   "cell_type": "code",
   "execution_count": 66,
   "metadata": {},
   "outputs": [
    {
     "name": "stdout",
     "output_type": "stream",
     "text": [
      "List saved to Data/marsabit_location.txt\n"
     ]
    }
   ],
   "source": [
    "# Assuming your DataFrame is called 'df' and the column name is 'column_name'\n",
    "marsabit_locations = marsabit_shp['locname'].unique().tolist()\n",
    "\n",
    "# Specify the output file path\n",
    "output_file = \"Data/marsabit_location.txt\"\n",
    "\n",
    "# Open the file in write mode\n",
    "with open(output_file, \"w\") as file:\n",
    "    # Write each list element to a new line in the file\n",
    "    for item in marsabit_locations:\n",
    "        file.write(str(item) + \"\\n\")\n",
    "\n",
    "print(\"List saved to\", output_file)"
   ]
  },
  {
   "cell_type": "markdown",
   "metadata": {},
   "source": [
    "### **Marsabit Constituencies**"
   ]
  },
  {
   "cell_type": "code",
   "execution_count": 67,
   "metadata": {},
   "outputs": [
    {
     "name": "stdout",
     "output_type": "stream",
     "text": [
      "List saved to Data/marsabit_constituencies.txt\n"
     ]
    }
   ],
   "source": [
    "# Assuming your DataFrame is called 'df' and the column name is 'column_name'\n",
    "marsabit_constituencies = marsabit_shp['constituen'].unique().tolist()\n",
    "\n",
    "# Specify the output file path\n",
    "output_file = \"Data/marsabit_constituencies.txt\"\n",
    "\n",
    "# Open the file in write mode\n",
    "with open(output_file, \"w\") as file:\n",
    "    # Write each list element to a new line in the file\n",
    "    for item in marsabit_constituencies:\n",
    "        file.write(str(item) + \"\\n\")\n",
    "\n",
    "print(\"List saved to\", output_file)"
   ]
  },
  {
   "cell_type": "markdown",
   "metadata": {},
   "source": [
    "### **Wajir Sublocations**"
   ]
  },
  {
   "cell_type": "code",
   "execution_count": 68,
   "metadata": {},
   "outputs": [
    {
     "name": "stdout",
     "output_type": "stream",
     "text": [
      "List saved to Data/wajir_sublocation.txt\n"
     ]
    }
   ],
   "source": [
    "# Path to the shapefile (.shp) file\n",
    "shapefile_path = \"Shapefiles/wajir_admin_bound.shp\"\n",
    "\n",
    "# Read the shapefile into a GeoDataFrame\n",
    "gdf = gpd.read_file(shapefile_path)\n",
    "\n",
    "# Convert the GeoDataFrame to a regular DataFrame\n",
    "wajir_shp = gdf.drop('geometry', axis=1)\n",
    "\n",
    "# Convert all object data to title case\n",
    "wajir_shp = wajir_shp.apply(lambda x: x.str.lower() if x.dtype == 'object' else x)\n",
    "\n",
    "# Convert all column names to lower case\n",
    "wajir_shp.columns = wajir_shp.columns.str.lower()\n",
    "\n",
    "\n",
    "# Assuming your DataFrame is called 'df' and the column name is 'column_name'\n",
    "wajir_sublocations = wajir_shp['slname'].unique().tolist()\n",
    "\n",
    "# Specify the output file path\n",
    "output_file = \"Data/wajir_sublocation.txt\"\n",
    "\n",
    "# Open the file in write mode\n",
    "with open(output_file, \"w\") as file:\n",
    "    # Write each list element to a new line in the file\n",
    "    for item in wajir_sublocations:\n",
    "        file.write(str(item) + \"\\n\")\n",
    "\n",
    "print(\"List saved to\", output_file)"
   ]
  },
  {
   "cell_type": "markdown",
   "metadata": {},
   "source": [
    "### **Wajir Locations**"
   ]
  },
  {
   "cell_type": "code",
   "execution_count": 69,
   "metadata": {},
   "outputs": [
    {
     "name": "stdout",
     "output_type": "stream",
     "text": [
      "List saved to Data/wajir_location.txt\n"
     ]
    }
   ],
   "source": [
    "# Assuming your DataFrame is called 'df' and the column name is 'column_name'\n",
    "wajir_locations = wajir_shp['locname'].unique().tolist()\n",
    "\n",
    "# Specify the output file path\n",
    "output_file = \"Data/wajir_location.txt\"\n",
    "\n",
    "# Open the file in write mode\n",
    "with open(output_file, \"w\") as file:\n",
    "    # Write each list element to a new line in the file\n",
    "    for item in wajir_locations:\n",
    "        file.write(str(item) + \"\\n\")\n",
    "\n",
    "print(\"List saved to\", output_file)"
   ]
  },
  {
   "cell_type": "markdown",
   "metadata": {},
   "source": [
    "### **Wajir Constituencies**"
   ]
  },
  {
   "cell_type": "code",
   "execution_count": 70,
   "metadata": {},
   "outputs": [
    {
     "name": "stdout",
     "output_type": "stream",
     "text": [
      "List saved to Data/wajir_constituencies.txt\n"
     ]
    }
   ],
   "source": [
    "# Assuming your DataFrame is called 'df' and the column name is 'column_name'\n",
    "wajir_constituencies = wajir_shp['constituen'].unique().tolist()\n",
    "\n",
    "# Specify the output file path\n",
    "output_file = \"Data/wajir_constituencies.txt\"\n",
    "\n",
    "# Open the file in write mode\n",
    "with open(output_file, \"w\") as file:\n",
    "    # Write each list element to a new line in the file\n",
    "    for item in wajir_constituencies:\n",
    "        file.write(str(item) + \"\\n\")\n",
    "\n",
    "print(\"List saved to\", output_file)"
   ]
  },
  {
   "cell_type": "markdown",
   "metadata": {},
   "source": [
    "### **Mandera Sublocations**"
   ]
  },
  {
   "cell_type": "code",
   "execution_count": 71,
   "metadata": {},
   "outputs": [
    {
     "name": "stdout",
     "output_type": "stream",
     "text": [
      "List saved to Data/mandera_sublocation.txt\n"
     ]
    }
   ],
   "source": [
    "# Path to the shapefile (.shp) file\n",
    "shapefile_path = \"Shapefiles/mandera_admin_bound.shp\"\n",
    "\n",
    "# Read the shapefile into a GeoDataFrame\n",
    "gdf = gpd.read_file(shapefile_path)\n",
    "\n",
    "# Convert the GeoDataFrame to a regular DataFrame\n",
    "mandera_shp = gdf.drop('geometry', axis=1)\n",
    "\n",
    "# Convert all object data to title case\n",
    "mandera_shp = mandera_shp.apply(lambda x: x.str.lower() if x.dtype == 'object' else x)\n",
    "\n",
    "# Convert all column names to lower case\n",
    "mandera_shp.columns = mandera_shp.columns.str.lower()\n",
    "\n",
    "\n",
    "# Assuming your DataFrame is called 'df' and the column name is 'column_name'\n",
    "mandera_sublocations = mandera_shp['slname'].unique().tolist()\n",
    "\n",
    "# Specify the output file path\n",
    "output_file = \"Data/mandera_sublocation.txt\"\n",
    "\n",
    "# Open the file in write mode\n",
    "with open(output_file, \"w\") as file:\n",
    "    # Write each list element to a new line in the file\n",
    "    for item in mandera_sublocations:\n",
    "        file.write(str(item) + \"\\n\")\n",
    "\n",
    "print(\"List saved to\", output_file)"
   ]
  },
  {
   "cell_type": "markdown",
   "metadata": {},
   "source": [
    "### **Mandera Locations**"
   ]
  },
  {
   "cell_type": "code",
   "execution_count": 72,
   "metadata": {},
   "outputs": [
    {
     "name": "stdout",
     "output_type": "stream",
     "text": [
      "List saved to Data/mandera_location.txt\n"
     ]
    }
   ],
   "source": [
    "# Assuming your DataFrame is called 'df' and the column name is 'column_name'\n",
    "mandera_locations = mandera_shp['locname'].unique().tolist()\n",
    "\n",
    "# Specify the output file path\n",
    "output_file = \"Data/mandera_location.txt\"\n",
    "\n",
    "# Open the file in write mode\n",
    "with open(output_file, \"w\") as file:\n",
    "    # Write each list element to a new line in the file\n",
    "    for item in mandera_locations:\n",
    "        file.write(str(item) + \"\\n\")\n",
    "\n",
    "print(\"List saved to\", output_file)"
   ]
  },
  {
   "cell_type": "markdown",
   "metadata": {},
   "source": [
    "### **Mandera Constituencies**"
   ]
  },
  {
   "cell_type": "code",
   "execution_count": 73,
   "metadata": {},
   "outputs": [
    {
     "name": "stdout",
     "output_type": "stream",
     "text": [
      "List saved to Data/mandera_constituencies.txt\n"
     ]
    }
   ],
   "source": [
    "# Assuming your DataFrame is called 'df' and the column name is 'column_name'\n",
    "mandera_constituencies = mandera_shp['constituen'].unique().tolist()\n",
    "\n",
    "# Specify the output file path\n",
    "output_file = \"Data/mandera_constituencies.txt\"\n",
    "\n",
    "# Open the file in write mode\n",
    "with open(output_file, \"w\") as file:\n",
    "    # Write each list element to a new line in the file\n",
    "    for item in mandera_constituencies:\n",
    "        file.write(str(item) + \"\\n\")\n",
    "\n",
    "print(\"List saved to\", output_file)"
   ]
  },
  {
   "cell_type": "code",
   "execution_count": null,
   "metadata": {},
   "outputs": [],
   "source": []
  },
  {
   "cell_type": "code",
   "execution_count": null,
   "metadata": {},
   "outputs": [],
   "source": []
  },
  {
   "cell_type": "code",
   "execution_count": null,
   "metadata": {},
   "outputs": [],
   "source": []
  },
  {
   "cell_type": "code",
   "execution_count": null,
   "metadata": {},
   "outputs": [],
   "source": []
  },
  {
   "cell_type": "code",
   "execution_count": null,
   "metadata": {},
   "outputs": [],
   "source": []
  },
  {
   "cell_type": "code",
   "execution_count": null,
   "metadata": {},
   "outputs": [],
   "source": []
  },
  {
   "cell_type": "code",
   "execution_count": 10,
   "metadata": {},
   "outputs": [
    {
     "data": {
      "text/plain": [
       "household_id             0\n",
       "village_id               0\n",
       "village_name             0\n",
       "sublocation_name         0\n",
       "sublocation_id           0\n",
       "location_id              0\n",
       "location_name            0\n",
       "constituency_name        0\n",
       "county_name              0\n",
       "isbeneficiaryhh          0\n",
       "latitude                 0\n",
       "longitude                0\n",
       "ruralurban           26104\n",
       "constituency_id          0\n",
       "entry_date               0\n",
       "usercode                 0\n",
       "county_id                0\n",
       "dtype: int64"
      ]
     },
     "execution_count": 10,
     "metadata": {},
     "output_type": "execute_result"
    }
   ],
   "source": [
    "# Check for missing values\n",
    "df.isna().sum()"
   ]
  },
  {
   "cell_type": "code",
   "execution_count": 11,
   "metadata": {
    "scrolled": true
   },
   "outputs": [
    {
     "data": {
      "text/plain": [
       "array(['Mandera', 'Marsabit', 'Wajir', 'Turkana'], dtype=object)"
      ]
     },
     "execution_count": 11,
     "metadata": {},
     "output_type": "execute_result"
    }
   ],
   "source": [
    "# checkout the counties in the df\n",
    "df['county_name'].unique()"
   ]
  },
  {
   "cell_type": "code",
   "execution_count": 2,
   "metadata": {},
   "outputs": [
    {
     "ename": "NameError",
     "evalue": "name 'df' is not defined",
     "output_type": "error",
     "traceback": [
      "\u001b[1;31m---------------------------------------------------------------------------\u001b[0m",
      "\u001b[1;31mNameError\u001b[0m                                 Traceback (most recent call last)",
      "\u001b[1;32m~\\AppData\\Local\\Temp\\ipykernel_10500\\1472378890.py\u001b[0m in \u001b[0;36m<module>\u001b[1;34m\u001b[0m\n\u001b[1;32m----> 1\u001b[1;33m \u001b[0mdf\u001b[0m\u001b[1;33m.\u001b[0m\u001b[0mshape\u001b[0m\u001b[1;33m(\u001b[0m\u001b[1;33m)\u001b[0m\u001b[1;33m\u001b[0m\u001b[1;33m\u001b[0m\u001b[0m\n\u001b[0m",
      "\u001b[1;31mNameError\u001b[0m: name 'df' is not defined"
     ]
    }
   ],
   "source": [
    "df.shape()"
   ]
  },
  {
   "cell_type": "code",
   "execution_count": 12,
   "metadata": {
    "scrolled": true
   },
   "outputs": [
    {
     "data": {
      "image/png": "[encoded data removed]",
      "text/plain": [
       "<Figure size 640x480 with 1 Axes>"
      ]
     },
     "metadata": {},
     "output_type": "display_data"
    }
   ],
   "source": [
    "# Group the DataFrame by county and count the number of households in each county\n",
    "county_counts = df.groupby('county_name')['household_id'].count()\n",
    "\n",
    "# Sort the county counts in ascending order\n",
    "county_counts = county_counts.sort_values()\n",
    "\n",
    "# Plot a bar chart of the county counts\n",
    "county_counts.plot(kind='bar')\n",
    "\n",
    "# Set the chart title and axis labels\n",
    "plt.title('Household Counts by County')\n",
    "plt.xlabel('County')\n",
    "plt.ylabel('Household Count')\n",
    "\n",
    "# Show the chart\n",
    "plt.show()"
   ]
  },
  {
   "cell_type": "code",
   "execution_count": 13,
   "metadata": {
    "scrolled": true
   },
   "outputs": [
    {
     "data": {
      "image/png": "[encoded data removed]",
      "text/plain": [
       "<Figure size 1200x800 with 4 Axes>"
      ]
     },
     "metadata": {},
     "output_type": "display_data"
    }
   ],
   "source": [
    "# Group the DataFrame by county and count the unique values of Village_Name, Sublocation_Name, Location_Name, and Constituency_Name\n",
    "county_counts = df.groupby('county_name').nunique()[['village_name', 'sublocation_name', 'location_name', 'constituency_name']]\n",
    "\n",
    "# Plot four bar graphs, one for each column\n",
    "fig, axes = plt.subplots(2, 2, figsize=(12, 8))\n",
    "axes = axes.flatten()\n",
    "\n",
    "for i, col in enumerate(county_counts.columns):\n",
    "    ax = axes[i]\n",
    "    ax.bar(county_counts.index, county_counts[col])\n",
    "    ax.set_title(col)\n",
    "    ax.tick_params(axis='x', rotation=90)\n",
    "\n",
    "plt.tight_layout()\n",
    "plt.show()"
   ]
  },
  {
   "attachments": {},
   "cell_type": "markdown",
   "metadata": {},
   "source": [
    "### 1) Marsabit County"
   ]
  },
  {
   "cell_type": "code",
   "execution_count": 14,
   "metadata": {},
   "outputs": [
    {
     "data": {
      "text/html": [
       "<div style=\"width:100%;\"><div style=\"position:relative;width:100%;height:0;padding-bottom:60%;\"><span style=\"color:#565656\">Make this Notebook Trusted to load map: File -> Trust Notebook</span><iframe srcdoc=\"&lt;!DOCTYPE html&gt;\n",
       "&lt;html&gt;\n",
       "&lt;head&gt;\n",
       "    \n",
       "    &lt;meta http-equiv=&quot;content-type&quot; content=&quot;text/html; charset=UTF-8&quot; /&gt;\n",
       "    \n",
       "        &lt;script&gt;\n",
       "            L_NO_TOUCH = false;\n",
       "            L_DISABLE_3D = false;\n",
       "        &lt;/script&gt;\n",
       "    \n",
       "    &lt;style&gt;html, body {width: 100%;height: 100%;margin: 0;padding: 0;}&lt;/style&gt;\n",
       "    &lt;style&gt;#map {position:absolute;top:0;bottom:0;right:0;left:0;}&lt;/style&gt;\n",
       "    &lt;script src=&quot;https://cdn.jsdelivr.net/npm/leaflet@1.9.3/dist/leaflet.js&quot;&gt;&lt;/script&gt;\n",
       "    &lt;script src=&quot;https://code.jquery.com/jquery-1.12.4.min.js&quot;&gt;&lt;/script&gt;\n",
       "    &lt;script src=&quot;https://cdn.jsdelivr.net/npm/bootstrap@5.2.2/dist/js/bootstrap.bundle.min.js&quot;&gt;&lt;/script&gt;\n",
       "    &lt;script src=&quot;https://cdnjs.cloudflare.com/ajax/libs/Leaflet.awesome-markers/2.0.2/leaflet.awesome-markers.js&quot;&gt;&lt;/script&gt;\n",
       "    &lt;link rel=&quot;stylesheet&quot; href=&quot;https://cdn.jsdelivr.net/npm/leaflet@1.9.3/dist/leaflet.css&quot;/&gt;\n",
       "    &lt;link rel=&quot;stylesheet&quot; href=&quot;https://cdn.jsdelivr.net/npm/bootstrap@5.2.2/dist/css/bootstrap.min.css&quot;/&gt;\n",
       "    &lt;link rel=&quot;stylesheet&quot; href=&quot;https://netdna.bootstrapcdn.com/bootstrap/3.0.0/css/bootstrap.min.css&quot;/&gt;\n",
       "    &lt;link rel=&quot;stylesheet&quot; href=&quot;https://cdn.jsdelivr.net/npm/@fortawesome/fontawesome-free@6.2.0/css/all.min.css&quot;/&gt;\n",
       "    &lt;link rel=&quot;stylesheet&quot; href=&quot;https://cdnjs.cloudflare.com/ajax/libs/Leaflet.awesome-markers/2.0.2/leaflet.awesome-markers.css&quot;/&gt;\n",
       "    &lt;link rel=&quot;stylesheet&quot; href=&quot;https://cdn.jsdelivr.net/gh/python-visualization/folium/folium/templates/leaflet.awesome.rotate.min.css&quot;/&gt;\n",
       "    \n",
       "            &lt;meta name=&quot;viewport&quot; content=&quot;width=device-width,\n",
       "                initial-scale=1.0, maximum-scale=1.0, user-scalable=no&quot; /&gt;\n",
       "            &lt;style&gt;\n",
       "                #map_d065569871fba920a1090a32bae29877 {\n",
       "                    position: relative;\n",
       "                    width: 100.0%;\n",
       "                    height: 100.0%;\n",
       "                    left: 0.0%;\n",
       "                    top: 0.0%;\n",
       "                }\n",
       "                .leaflet-container { font-size: 1rem; }\n",
       "            &lt;/style&gt;\n",
       "        \n",
       "&lt;/head&gt;\n",
       "&lt;body&gt;\n",
       "    \n",
       "    \n",
       "            &lt;div class=&quot;folium-map&quot; id=&quot;map_d065569871fba920a1090a32bae29877&quot; &gt;&lt;/div&gt;\n",
       "        \n",
       "&lt;/body&gt;\n",
       "&lt;script&gt;\n",
       "    \n",
       "    \n",
       "            var map_d065569871fba920a1090a32bae29877 = L.map(\n",
       "                &quot;map_d065569871fba920a1090a32bae29877&quot;,\n",
       "                {\n",
       "                    center: [2.96776, 37.98612],\n",
       "                    crs: L.CRS.EPSG3857,\n",
       "                    zoom: 5,\n",
       "                    zoomControl: true,\n",
       "                    preferCanvas: false,\n",
       "                }\n",
       "            );\n",
       "\n",
       "            \n",
       "\n",
       "        \n",
       "    \n",
       "            var tile_layer_e79803f9afdd5464a83e2438cc2111d9 = L.tileLayer(\n",
       "                &quot;https://{s}.tile.openstreetmap.org/{z}/{x}/{y}.png&quot;,\n",
       "                {&quot;attribution&quot;: &quot;Data by \\u0026copy; \\u003ca target=\\&quot;_blank\\&quot; href=\\&quot;http://openstreetmap.org\\&quot;\\u003eOpenStreetMap\\u003c/a\\u003e, under \\u003ca target=\\&quot;_blank\\&quot; href=\\&quot;http://www.openstreetmap.org/copyright\\&quot;\\u003eODbL\\u003c/a\\u003e.&quot;, &quot;detectRetina&quot;: false, &quot;maxNativeZoom&quot;: 18, &quot;maxZoom&quot;: 18, &quot;minZoom&quot;: 0, &quot;noWrap&quot;: false, &quot;opacity&quot;: 1, &quot;subdomains&quot;: &quot;abc&quot;, &quot;tms&quot;: false}\n",
       "            ).addTo(map_d065569871fba920a1090a32bae29877);\n",
       "        \n",
       "    \n",
       "            var marker_b403612a7342a224c2999e71fdc9ad69 = L.marker(\n",
       "                [2.96776, 37.98612],\n",
       "                {}\n",
       "            ).addTo(map_d065569871fba920a1090a32bae29877);\n",
       "        \n",
       "    \n",
       "        var popup_9b37ffe0e8777837013a97d7ef9331b7 = L.popup({&quot;maxWidth&quot;: &quot;100%&quot;});\n",
       "\n",
       "        \n",
       "            \n",
       "                var html_02d534e412d403de7f7f00d1c49caa3e = $(`&lt;div id=&quot;html_02d534e412d403de7f7f00d1c49caa3e&quot; style=&quot;width: 100.0%; height: 100.0%;&quot;&gt;Marsabit&lt;/div&gt;`)[0];\n",
       "                popup_9b37ffe0e8777837013a97d7ef9331b7.setContent(html_02d534e412d403de7f7f00d1c49caa3e);\n",
       "            \n",
       "        \n",
       "\n",
       "        marker_b403612a7342a224c2999e71fdc9ad69.bindPopup(popup_9b37ffe0e8777837013a97d7ef9331b7)\n",
       "        ;\n",
       "\n",
       "        \n",
       "    \n",
       "&lt;/script&gt;\n",
       "&lt;/html&gt;\" style=\"position:absolute;width:100%;height:100%;left:0;top:0;border:none !important;\" allowfullscreen webkitallowfullscreen mozallowfullscreen></iframe></div></div>"
      ],
      "text/plain": [
       "<folium.folium.Map at 0x145921c1608>"
      ]
     },
     "execution_count": 14,
     "metadata": {},
     "output_type": "execute_result"
    }
   ],
   "source": [
    "# Create a map of Marsabit\n",
    "marsabit_map = folium.Map(location=[2.96776, 37.98612], zoom_start=5)\n",
    "\n",
    "# Add a marker for Marsabit town\n",
    "marsabit_marker = folium.Marker(location=[2.96776, 37.98612], popup='Marsabit')\n",
    "marsabit_marker.add_to(marsabit_map)\n",
    "\n",
    "# Show the map\n",
    "marsabit_map"
   ]
  },
  {
   "cell_type": "code",
   "execution_count": 15,
   "metadata": {},
   "outputs": [],
   "source": [
    "# Filter out Marsabit in dataframe\n",
    "mar = df[df['county_name'] == \"Marsabit\"]"
   ]
  },
  {
   "cell_type": "code",
   "execution_count": 16,
   "metadata": {
    "scrolled": true
   },
   "outputs": [
    {
     "name": "stdout",
     "output_type": "stream",
     "text": [
      "<class 'pandas.core.frame.DataFrame'>\n",
      "Int64Index: 100538 entries, 1 to 100538\n",
      "Data columns (total 17 columns):\n",
      " #   Column             Non-Null Count   Dtype         \n",
      "---  ------             --------------   -----         \n",
      " 0   household_id       100538 non-null  object        \n",
      " 1   village_id         100538 non-null  int64         \n",
      " 2   village_name       100538 non-null  object        \n",
      " 3   sublocation_name   100538 non-null  object        \n",
      " 4   sublocation_id     100538 non-null  int64         \n",
      " 5   location_id        100538 non-null  int64         \n",
      " 6   location_name      100538 non-null  object        \n",
      " 7   constituency_name  100538 non-null  object        \n",
      " 8   county_name        100538 non-null  object        \n",
      " 9   isbeneficiaryhh    100538 non-null  bool          \n",
      " 10  latitude           100538 non-null  float64       \n",
      " 11  longitude          100538 non-null  float64       \n",
      " 12  ruralurban         94807 non-null   object        \n",
      " 13  constituency_id    100538 non-null  int64         \n",
      " 14  entry_date         100538 non-null  datetime64[ns]\n",
      " 15  usercode           100538 non-null  object        \n",
      " 16  county_id          100538 non-null  int64         \n",
      "dtypes: bool(1), datetime64[ns](1), float64(2), int64(5), object(8)\n",
      "memory usage: 13.1+ MB\n"
     ]
    }
   ],
   "source": [
    "# data info\n",
    "mar.info()"
   ]
  },
  {
   "cell_type": "code",
   "execution_count": 17,
   "metadata": {
    "scrolled": true
   },
   "outputs": [
    {
     "data": {
      "text/html": [
       "<div>\n",
       "<style scoped>\n",
       "    .dataframe tbody tr th:only-of-type {\n",
       "        vertical-align: middle;\n",
       "    }\n",
       "\n",
       "    .dataframe tbody tr th {\n",
       "        vertical-align: top;\n",
       "    }\n",
       "\n",
       "    .dataframe thead th {\n",
       "        text-align: right;\n",
       "    }\n",
       "</style>\n",
       "<table border=\"1\" class=\"dataframe\">\n",
       "  <thead>\n",
       "    <tr style=\"text-align: right;\">\n",
       "      <th></th>\n",
       "      <th>household_id</th>\n",
       "      <th>village_id</th>\n",
       "      <th>village_name</th>\n",
       "      <th>sublocation_name</th>\n",
       "      <th>sublocation_id</th>\n",
       "      <th>location_id</th>\n",
       "      <th>location_name</th>\n",
       "      <th>constituency_name</th>\n",
       "      <th>county_name</th>\n",
       "      <th>isbeneficiaryhh</th>\n",
       "      <th>latitude</th>\n",
       "      <th>longitude</th>\n",
       "      <th>ruralurban</th>\n",
       "      <th>constituency_id</th>\n",
       "      <th>entry_date</th>\n",
       "      <th>usercode</th>\n",
       "      <th>county_id</th>\n",
       "    </tr>\n",
       "  </thead>\n",
       "  <tbody>\n",
       "    <tr>\n",
       "      <th>1</th>\n",
       "      <td>4010101010072345100212</td>\n",
       "      <td>4010101010072345</td>\n",
       "      <td>Galcha Dida</td>\n",
       "      <td>Nyayo Rd</td>\n",
       "      <td>401010101</td>\n",
       "      <td>4010101</td>\n",
       "      <td>Nagayo</td>\n",
       "      <td>Saku</td>\n",
       "      <td>Marsabit</td>\n",
       "      <td>True</td>\n",
       "      <td>2.33374</td>\n",
       "      <td>37.992490</td>\n",
       "      <td>Urban</td>\n",
       "      <td>47</td>\n",
       "      <td>2018-07-02 09:05:00</td>\n",
       "      <td>0212</td>\n",
       "      <td>10</td>\n",
       "    </tr>\n",
       "    <tr>\n",
       "      <th>2</th>\n",
       "      <td>4010101010072345100213</td>\n",
       "      <td>4010101010072345</td>\n",
       "      <td>Galcha Dida</td>\n",
       "      <td>Nyayo Rd</td>\n",
       "      <td>401010101</td>\n",
       "      <td>4010101</td>\n",
       "      <td>Nagayo</td>\n",
       "      <td>Saku</td>\n",
       "      <td>Marsabit</td>\n",
       "      <td>False</td>\n",
       "      <td>2.33319</td>\n",
       "      <td>37.992270</td>\n",
       "      <td>Urban</td>\n",
       "      <td>47</td>\n",
       "      <td>2018-06-08 19:57:00</td>\n",
       "      <td>0213</td>\n",
       "      <td>10</td>\n",
       "    </tr>\n",
       "    <tr>\n",
       "      <th>3</th>\n",
       "      <td>401010101007234510126</td>\n",
       "      <td>4010101010072345</td>\n",
       "      <td>Galcha Dida</td>\n",
       "      <td>Nyayo Rd</td>\n",
       "      <td>401010101</td>\n",
       "      <td>4010101</td>\n",
       "      <td>Nagayo</td>\n",
       "      <td>Saku</td>\n",
       "      <td>Marsabit</td>\n",
       "      <td>False</td>\n",
       "      <td>2.33148</td>\n",
       "      <td>37.994250</td>\n",
       "      <td>Urban</td>\n",
       "      <td>47</td>\n",
       "      <td>2018-02-10 13:17:00</td>\n",
       "      <td>0126</td>\n",
       "      <td>10</td>\n",
       "    </tr>\n",
       "    <tr>\n",
       "      <th>4</th>\n",
       "      <td>401010101007234510128</td>\n",
       "      <td>4010101010072345</td>\n",
       "      <td>Galcha Dida</td>\n",
       "      <td>Nyayo Rd</td>\n",
       "      <td>401010101</td>\n",
       "      <td>4010101</td>\n",
       "      <td>Nagayo</td>\n",
       "      <td>Saku</td>\n",
       "      <td>Marsabit</td>\n",
       "      <td>False</td>\n",
       "      <td>2.67537</td>\n",
       "      <td>37.876865</td>\n",
       "      <td>Urban</td>\n",
       "      <td>47</td>\n",
       "      <td>2019-07-20 06:57:00</td>\n",
       "      <td>0128</td>\n",
       "      <td>10</td>\n",
       "    </tr>\n",
       "    <tr>\n",
       "      <th>5</th>\n",
       "      <td>401010101007234510133</td>\n",
       "      <td>4010101010072345</td>\n",
       "      <td>Galcha Dida</td>\n",
       "      <td>Nyayo Rd</td>\n",
       "      <td>401010101</td>\n",
       "      <td>4010101</td>\n",
       "      <td>Nagayo</td>\n",
       "      <td>Saku</td>\n",
       "      <td>Marsabit</td>\n",
       "      <td>False</td>\n",
       "      <td>2.30000</td>\n",
       "      <td>37.200000</td>\n",
       "      <td>Urban</td>\n",
       "      <td>47</td>\n",
       "      <td>2019-07-15 14:04:00</td>\n",
       "      <td>0133</td>\n",
       "      <td>10</td>\n",
       "    </tr>\n",
       "  </tbody>\n",
       "</table>\n",
       "</div>"
      ],
      "text/plain": [
       "             household_id        village_id village_name sublocation_name  \\\n",
       "1  4010101010072345100212  4010101010072345  Galcha Dida         Nyayo Rd   \n",
       "2  4010101010072345100213  4010101010072345  Galcha Dida         Nyayo Rd   \n",
       "3   401010101007234510126  4010101010072345  Galcha Dida         Nyayo Rd   \n",
       "4   401010101007234510128  4010101010072345  Galcha Dida         Nyayo Rd   \n",
       "5   401010101007234510133  4010101010072345  Galcha Dida         Nyayo Rd   \n",
       "\n",
       "   sublocation_id  location_id location_name constituency_name county_name  \\\n",
       "1       401010101      4010101        Nagayo              Saku    Marsabit   \n",
       "2       401010101      4010101        Nagayo              Saku    Marsabit   \n",
       "3       401010101      4010101        Nagayo              Saku    Marsabit   \n",
       "4       401010101      4010101        Nagayo              Saku    Marsabit   \n",
       "5       401010101      4010101        Nagayo              Saku    Marsabit   \n",
       "\n",
       "   isbeneficiaryhh  latitude  longitude ruralurban  constituency_id  \\\n",
       "1             True   2.33374  37.992490      Urban               47   \n",
       "2            False   2.33319  37.992270      Urban               47   \n",
       "3            False   2.33148  37.994250      Urban               47   \n",
       "4            False   2.67537  37.876865      Urban               47   \n",
       "5            False   2.30000  37.200000      Urban               47   \n",
       "\n",
       "           entry_date usercode  county_id  \n",
       "1 2018-07-02 09:05:00     0212         10  \n",
       "2 2018-06-08 19:57:00     0213         10  \n",
       "3 2018-02-10 13:17:00     0126         10  \n",
       "4 2019-07-20 06:57:00     0128         10  \n",
       "5 2019-07-15 14:04:00     0133         10  "
      ]
     },
     "execution_count": 17,
     "metadata": {},
     "output_type": "execute_result"
    }
   ],
   "source": [
    "mar.head()"
   ]
  },
  {
   "cell_type": "code",
   "execution_count": 18,
   "metadata": {
    "scrolled": true
   },
   "outputs": [
    {
     "data": {
      "text/plain": [
       "(100538, 17)"
      ]
     },
     "execution_count": 18,
     "metadata": {},
     "output_type": "execute_result"
    }
   ],
   "source": [
    "# shape of dataframe\n",
    "mar.shape"
   ]
  },
  {
   "cell_type": "code",
   "execution_count": 19,
   "metadata": {
    "scrolled": true
   },
   "outputs": [
    {
     "data": {
      "text/plain": [
       "household_id         False\n",
       "village_id           False\n",
       "village_name         False\n",
       "sublocation_name     False\n",
       "sublocation_id       False\n",
       "location_id          False\n",
       "location_name        False\n",
       "constituency_name    False\n",
       "county_name          False\n",
       "isbeneficiaryhh      False\n",
       "latitude             False\n",
       "longitude            False\n",
       "ruralurban            True\n",
       "constituency_id      False\n",
       "entry_date           False\n",
       "usercode             False\n",
       "county_id            False\n",
       "dtype: bool"
      ]
     },
     "execution_count": 19,
     "metadata": {},
     "output_type": "execute_result"
    }
   ],
   "source": [
    "# checkout missing values\n",
    "mar.isna().any()"
   ]
  },
  {
   "cell_type": "code",
   "execution_count": 20,
   "metadata": {},
   "outputs": [
    {
     "data": {
      "text/plain": [
       "100472"
      ]
     },
     "execution_count": 20,
     "metadata": {},
     "output_type": "execute_result"
    }
   ],
   "source": [
    "# check for duplicates\n",
    "mar['usercode'].duplicated().sum()"
   ]
  },
  {
   "cell_type": "code",
   "execution_count": 21,
   "metadata": {},
   "outputs": [
    {
     "name": "stderr",
     "output_type": "stream",
     "text": [
      "c:\\Users\\USER\\Desktop\\HSNP\\HSNP\\env\\lib\\site-packages\\ipykernel_launcher.py:4: SettingWithCopyWarning: \n",
      "A value is trying to be set on a copy of a slice from a DataFrame.\n",
      "Try using .loc[row_indexer,col_indexer] = value instead\n",
      "\n",
      "See the caveats in the documentation: https://pandas.pydata.org/pandas-docs/stable/user_guide/indexing.html#returning-a-view-versus-a-copy\n",
      "  after removing the cwd from sys.path.\n"
     ]
    }
   ],
   "source": [
    "categorical_columns = [\"household_id\", \"village_name\", \"sublocation_name\", \"location_name\", \"constituency_name\", \"county_name\"]\n",
    "\n",
    "for column in categorical_columns:\n",
    "    mar[column] = mar[column].str.strip()\n"
   ]
  },
  {
   "cell_type": "code",
   "execution_count": 22,
   "metadata": {
    "scrolled": true
   },
   "outputs": [
    {
     "data": {
      "text/html": [
       "<div>\n",
       "<style scoped>\n",
       "    .dataframe tbody tr th:only-of-type {\n",
       "        vertical-align: middle;\n",
       "    }\n",
       "\n",
       "    .dataframe tbody tr th {\n",
       "        vertical-align: top;\n",
       "    }\n",
       "\n",
       "    .dataframe thead th {\n",
       "        text-align: right;\n",
       "    }\n",
       "</style>\n",
       "<table border=\"1\" class=\"dataframe\">\n",
       "  <thead>\n",
       "    <tr style=\"text-align: right;\">\n",
       "      <th></th>\n",
       "      <th>household_id</th>\n",
       "      <th>village_id</th>\n",
       "      <th>village_name</th>\n",
       "      <th>sublocation_name</th>\n",
       "      <th>sublocation_id</th>\n",
       "      <th>location_id</th>\n",
       "      <th>location_name</th>\n",
       "      <th>constituency_name</th>\n",
       "      <th>county_name</th>\n",
       "      <th>isbeneficiaryhh</th>\n",
       "      <th>latitude</th>\n",
       "      <th>longitude</th>\n",
       "      <th>ruralurban</th>\n",
       "      <th>constituency_id</th>\n",
       "      <th>entry_date</th>\n",
       "      <th>usercode</th>\n",
       "      <th>county_id</th>\n",
       "    </tr>\n",
       "  </thead>\n",
       "  <tbody>\n",
       "    <tr>\n",
       "      <th>1</th>\n",
       "      <td>4010101010072345100212</td>\n",
       "      <td>4010101010072345</td>\n",
       "      <td>Galcha Dida</td>\n",
       "      <td>Nyayo Rd</td>\n",
       "      <td>401010101</td>\n",
       "      <td>4010101</td>\n",
       "      <td>Nagayo</td>\n",
       "      <td>Saku</td>\n",
       "      <td>Marsabit</td>\n",
       "      <td>True</td>\n",
       "      <td>2.33374</td>\n",
       "      <td>37.992490</td>\n",
       "      <td>Urban</td>\n",
       "      <td>47</td>\n",
       "      <td>2018-07-02 09:05:00</td>\n",
       "      <td>0212</td>\n",
       "      <td>10</td>\n",
       "    </tr>\n",
       "    <tr>\n",
       "      <th>2</th>\n",
       "      <td>4010101010072345100213</td>\n",
       "      <td>4010101010072345</td>\n",
       "      <td>Galcha Dida</td>\n",
       "      <td>Nyayo Rd</td>\n",
       "      <td>401010101</td>\n",
       "      <td>4010101</td>\n",
       "      <td>Nagayo</td>\n",
       "      <td>Saku</td>\n",
       "      <td>Marsabit</td>\n",
       "      <td>False</td>\n",
       "      <td>2.33319</td>\n",
       "      <td>37.992270</td>\n",
       "      <td>Urban</td>\n",
       "      <td>47</td>\n",
       "      <td>2018-06-08 19:57:00</td>\n",
       "      <td>0213</td>\n",
       "      <td>10</td>\n",
       "    </tr>\n",
       "    <tr>\n",
       "      <th>3</th>\n",
       "      <td>401010101007234510126</td>\n",
       "      <td>4010101010072345</td>\n",
       "      <td>Galcha Dida</td>\n",
       "      <td>Nyayo Rd</td>\n",
       "      <td>401010101</td>\n",
       "      <td>4010101</td>\n",
       "      <td>Nagayo</td>\n",
       "      <td>Saku</td>\n",
       "      <td>Marsabit</td>\n",
       "      <td>False</td>\n",
       "      <td>2.33148</td>\n",
       "      <td>37.994250</td>\n",
       "      <td>Urban</td>\n",
       "      <td>47</td>\n",
       "      <td>2018-02-10 13:17:00</td>\n",
       "      <td>0126</td>\n",
       "      <td>10</td>\n",
       "    </tr>\n",
       "    <tr>\n",
       "      <th>4</th>\n",
       "      <td>401010101007234510128</td>\n",
       "      <td>4010101010072345</td>\n",
       "      <td>Galcha Dida</td>\n",
       "      <td>Nyayo Rd</td>\n",
       "      <td>401010101</td>\n",
       "      <td>4010101</td>\n",
       "      <td>Nagayo</td>\n",
       "      <td>Saku</td>\n",
       "      <td>Marsabit</td>\n",
       "      <td>False</td>\n",
       "      <td>2.67537</td>\n",
       "      <td>37.876865</td>\n",
       "      <td>Urban</td>\n",
       "      <td>47</td>\n",
       "      <td>2019-07-20 06:57:00</td>\n",
       "      <td>0128</td>\n",
       "      <td>10</td>\n",
       "    </tr>\n",
       "    <tr>\n",
       "      <th>5</th>\n",
       "      <td>401010101007234510133</td>\n",
       "      <td>4010101010072345</td>\n",
       "      <td>Galcha Dida</td>\n",
       "      <td>Nyayo Rd</td>\n",
       "      <td>401010101</td>\n",
       "      <td>4010101</td>\n",
       "      <td>Nagayo</td>\n",
       "      <td>Saku</td>\n",
       "      <td>Marsabit</td>\n",
       "      <td>False</td>\n",
       "      <td>2.30000</td>\n",
       "      <td>37.200000</td>\n",
       "      <td>Urban</td>\n",
       "      <td>47</td>\n",
       "      <td>2019-07-15 14:04:00</td>\n",
       "      <td>0133</td>\n",
       "      <td>10</td>\n",
       "    </tr>\n",
       "  </tbody>\n",
       "</table>\n",
       "</div>"
      ],
      "text/plain": [
       "             household_id        village_id village_name sublocation_name  \\\n",
       "1  4010101010072345100212  4010101010072345  Galcha Dida         Nyayo Rd   \n",
       "2  4010101010072345100213  4010101010072345  Galcha Dida         Nyayo Rd   \n",
       "3   401010101007234510126  4010101010072345  Galcha Dida         Nyayo Rd   \n",
       "4   401010101007234510128  4010101010072345  Galcha Dida         Nyayo Rd   \n",
       "5   401010101007234510133  4010101010072345  Galcha Dida         Nyayo Rd   \n",
       "\n",
       "   sublocation_id  location_id location_name constituency_name county_name  \\\n",
       "1       401010101      4010101        Nagayo              Saku    Marsabit   \n",
       "2       401010101      4010101        Nagayo              Saku    Marsabit   \n",
       "3       401010101      4010101        Nagayo              Saku    Marsabit   \n",
       "4       401010101      4010101        Nagayo              Saku    Marsabit   \n",
       "5       401010101      4010101        Nagayo              Saku    Marsabit   \n",
       "\n",
       "   isbeneficiaryhh  latitude  longitude ruralurban  constituency_id  \\\n",
       "1             True   2.33374  37.992490      Urban               47   \n",
       "2            False   2.33319  37.992270      Urban               47   \n",
       "3            False   2.33148  37.994250      Urban               47   \n",
       "4            False   2.67537  37.876865      Urban               47   \n",
       "5            False   2.30000  37.200000      Urban               47   \n",
       "\n",
       "           entry_date usercode  county_id  \n",
       "1 2018-07-02 09:05:00     0212         10  \n",
       "2 2018-06-08 19:57:00     0213         10  \n",
       "3 2018-02-10 13:17:00     0126         10  \n",
       "4 2019-07-20 06:57:00     0128         10  \n",
       "5 2019-07-15 14:04:00     0133         10  "
      ]
     },
     "execution_count": 22,
     "metadata": {},
     "output_type": "execute_result"
    }
   ],
   "source": [
    "mar.head()"
   ]
  },
  {
   "cell_type": "code",
   "execution_count": 23,
   "metadata": {},
   "outputs": [
    {
     "data": {
      "image/png": "[encoded data removed]",
      "text/plain": [
       "<Figure size 800x300 with 1 Axes>"
      ]
     },
     "metadata": {},
     "output_type": "display_data"
    }
   ],
   "source": [
    "# Create a figure with a single subplot\n",
    "fig, ax = plt.subplots(figsize=(8, 3))\n",
    "\n",
    "# Create a boxplot for the latitude and longitude columns\n",
    "sns.boxplot(data=mar[['latitude', 'longitude']], orient='h', ax=ax, palette='pastel')\n",
    "\n",
    "# Set the chart title and axis labels\n",
    "ax.set_title('Latitude and Longitude Boxplot', fontsize=14)\n",
    "ax.set_xlabel('Coordinate Value', fontsize=12)\n",
    "ax.set_ylabel('Coordinate Type', fontsize=12)\n",
    "ax.tick_params(labelsize=10)\n",
    "\n",
    "# Show the chart\n",
    "plt.show()"
   ]
  },
  {
   "cell_type": "code",
   "execution_count": 24,
   "metadata": {},
   "outputs": [
    {
     "name": "stderr",
     "output_type": "stream",
     "text": [
      "c:\\Users\\USER\\Desktop\\HSNP\\HSNP\\env\\lib\\site-packages\\pandas\\core\\indexing.py:1835: SettingWithCopyWarning: \n",
      "A value is trying to be set on a copy of a slice from a DataFrame.\n",
      "Try using .loc[row_indexer,col_indexer] = value instead\n",
      "\n",
      "See the caveats in the documentation: https://pandas.pydata.org/pandas-docs/stable/user_guide/indexing.html#returning-a-view-versus-a-copy\n",
      "  self._setitem_single_column(loc, value[:, i].tolist(), pi)\n"
     ]
    }
   ],
   "source": [
    "# If latitude is greater than longitude they interchange\n",
    "mask = mar['latitude'] > mar['longitude']\n",
    "mar.loc[mask, ['latitude', 'longitude']] = mar.loc[mask, ['longitude', 'latitude']].values\n"
   ]
  },
  {
   "cell_type": "code",
   "execution_count": 25,
   "metadata": {
    "scrolled": false
   },
   "outputs": [
    {
     "data": {
      "image/png": "[encoded data removed]",
      "text/plain": [
       "<Figure size 800x300 with 1 Axes>"
      ]
     },
     "metadata": {},
     "output_type": "display_data"
    }
   ],
   "source": [
    "# Create a figure with a single subplot\n",
    "fig, ax = plt.subplots(figsize=(8, 3))\n",
    "\n",
    "# Create a boxplot for the latitude and longitude columns\n",
    "sns.boxplot(data=mar[['latitude', 'longitude']], orient='h', ax=ax, palette='pastel')\n",
    "\n",
    "# Set the chart title and axis labels\n",
    "ax.set_title('Latitude and Longitude Boxplot', fontsize=14)\n",
    "ax.set_xlabel('Coordinate Value', fontsize=12)\n",
    "ax.set_ylabel('Coordinate Type', fontsize=12)\n",
    "ax.tick_params(labelsize=10)\n",
    "\n",
    "# Show the chart\n",
    "plt.show()"
   ]
  },
  {
   "cell_type": "code",
   "execution_count": 26,
   "metadata": {
    "scrolled": true
   },
   "outputs": [
    {
     "name": "stdout",
     "output_type": "stream",
     "text": [
      "Min lat =  0.0 Max lat =  3333333.0\n"
     ]
    }
   ],
   "source": [
    "# print the minimum and maximum latitude in the df\n",
    "print(\"Min lat = \",mar['latitude'].min(), \"Max lat = \",mar['latitude'].max())"
   ]
  },
  {
   "cell_type": "code",
   "execution_count": 27,
   "metadata": {},
   "outputs": [
    {
     "name": "stdout",
     "output_type": "stream",
     "text": [
      "Min long =  0.0 Max long =  89823455.0\n"
     ]
    }
   ],
   "source": [
    "# print the maximum and maximum longitude in the df\n",
    "print(\"Min long = \",mar['longitude'].min(), \"Max long = \",mar['longitude'].max())"
   ]
  },
  {
   "cell_type": "code",
   "execution_count": 28,
   "metadata": {
    "scrolled": true
   },
   "outputs": [
    {
     "name": "stderr",
     "output_type": "stream",
     "text": [
      "c:\\Users\\USER\\Desktop\\HSNP\\HSNP\\env\\lib\\site-packages\\ipykernel_launcher.py:5: SettingWithCopyWarning: \n",
      "A value is trying to be set on a copy of a slice from a DataFrame.\n",
      "Try using .loc[row_indexer,col_indexer] = value instead\n",
      "\n",
      "See the caveats in the documentation: https://pandas.pydata.org/pandas-docs/stable/user_guide/indexing.html#returning-a-view-versus-a-copy\n",
      "  \"\"\"\n"
     ]
    }
   ],
   "source": [
    "# calculate the correction factor for each value\n",
    "factors = mar['latitude'].apply(lambda x: 10 ** -(len(str(int(x))) - 1))\n",
    "\n",
    "# divide each value by its correction factor\n",
    "mar['latitude'] = mar['latitude'] * factors\n",
    "\n"
   ]
  },
  {
   "cell_type": "code",
   "execution_count": 29,
   "metadata": {},
   "outputs": [
    {
     "name": "stdout",
     "output_type": "stream",
     "text": [
      "Min lat =  0.0 Max lat =  9.9\n"
     ]
    }
   ],
   "source": [
    "# print the maximum and maximum latitude in the df\n",
    "print(\"Min lat = \",mar['latitude'].min(), \"Max lat = \",mar['latitude'].max())"
   ]
  },
  {
   "cell_type": "code",
   "execution_count": 30,
   "metadata": {
    "scrolled": false
   },
   "outputs": [
    {
     "data": {
      "image/png": "[encoded data removed]",
      "text/plain": [
       "<Figure size 800x300 with 1 Axes>"
      ]
     },
     "metadata": {},
     "output_type": "display_data"
    }
   ],
   "source": [
    "# Create a figure with a single subplot\n",
    "fig, ax = plt.subplots(figsize=(8, 3))\n",
    "\n",
    "# Create a boxplot for the latitude and longitude columns\n",
    "sns.boxplot(data=mar[['latitude', 'longitude']], orient='h', ax=ax, palette='pastel')\n",
    "\n",
    "# Set the chart title and axis labels\n",
    "ax.set_title('Latitude and Longitude Boxplot', fontsize=14)\n",
    "ax.set_xlabel('Coordinate Value', fontsize=12)\n",
    "ax.set_ylabel('Coordinate Type', fontsize=12)\n",
    "ax.tick_params(labelsize=10)\n",
    "\n",
    "# Show the chart\n",
    "plt.show()"
   ]
  },
  {
   "cell_type": "code",
   "execution_count": 31,
   "metadata": {},
   "outputs": [
    {
     "name": "stderr",
     "output_type": "stream",
     "text": [
      "c:\\Users\\USER\\Desktop\\HSNP\\HSNP\\env\\lib\\site-packages\\ipykernel_launcher.py:5: SettingWithCopyWarning: \n",
      "A value is trying to be set on a copy of a slice from a DataFrame.\n",
      "Try using .loc[row_indexer,col_indexer] = value instead\n",
      "\n",
      "See the caveats in the documentation: https://pandas.pydata.org/pandas-docs/stable/user_guide/indexing.html#returning-a-view-versus-a-copy\n",
      "  \"\"\"\n"
     ]
    }
   ],
   "source": [
    "# calculate the correction factor for each value\n",
    "factors = mar['longitude'].apply(lambda x: 10 ** -(len(str(int(x))) - 2))\n",
    "\n",
    "# divide each value by its correction factor\n",
    "mar['longitude'] = mar['longitude'] * factors\n"
   ]
  },
  {
   "cell_type": "code",
   "execution_count": 32,
   "metadata": {
    "scrolled": true
   },
   "outputs": [
    {
     "name": "stdout",
     "output_type": "stream",
     "text": [
      "Min long =  0.0 Max long =  99.999\n"
     ]
    }
   ],
   "source": [
    "# print the maximum and maximum longitude in the df\n",
    "print(\"Min long = \",mar['longitude'].min(), \"Max long = \",mar['longitude'].max())"
   ]
  },
  {
   "cell_type": "code",
   "execution_count": 33,
   "metadata": {
    "scrolled": true
   },
   "outputs": [
    {
     "data": {
      "image/png": "[encoded data removed]",
      "text/plain": [
       "<Figure size 800x300 with 1 Axes>"
      ]
     },
     "metadata": {},
     "output_type": "display_data"
    }
   ],
   "source": [
    "# Create a figure with a single subplot\n",
    "fig, ax = plt.subplots(figsize=(8, 3))\n",
    "\n",
    "# Create a boxplot for the latitude and longitude columns\n",
    "sns.boxplot(data=mar[['latitude', 'longitude']], orient='h', ax=ax, palette='pastel')\n",
    "\n",
    "# Set the chart title and axis labels\n",
    "ax.set_title('Latitude and Longitude Boxplot', fontsize=14)\n",
    "ax.set_xlabel('Coordinate Value', fontsize=12)\n",
    "ax.set_ylabel('Coordinate Type', fontsize=12)\n",
    "ax.tick_params(labelsize=10)\n",
    "\n",
    "# Show the chart\n",
    "plt.show()\n"
   ]
  },
  {
   "cell_type": "code",
   "execution_count": 34,
   "metadata": {},
   "outputs": [
    {
     "data": {
      "text/html": [
       "<div>\n",
       "<style scoped>\n",
       "    .dataframe tbody tr th:only-of-type {\n",
       "        vertical-align: middle;\n",
       "    }\n",
       "\n",
       "    .dataframe tbody tr th {\n",
       "        vertical-align: top;\n",
       "    }\n",
       "\n",
       "    .dataframe thead th {\n",
       "        text-align: right;\n",
       "    }\n",
       "</style>\n",
       "<table border=\"1\" class=\"dataframe\">\n",
       "  <thead>\n",
       "    <tr style=\"text-align: right;\">\n",
       "      <th></th>\n",
       "      <th>household_id</th>\n",
       "      <th>village_id</th>\n",
       "      <th>village_name</th>\n",
       "      <th>sublocation_name</th>\n",
       "      <th>sublocation_id</th>\n",
       "      <th>location_id</th>\n",
       "      <th>location_name</th>\n",
       "      <th>constituency_name</th>\n",
       "      <th>county_name</th>\n",
       "      <th>isbeneficiaryhh</th>\n",
       "      <th>latitude</th>\n",
       "      <th>longitude</th>\n",
       "      <th>ruralurban</th>\n",
       "      <th>constituency_id</th>\n",
       "      <th>entry_date</th>\n",
       "      <th>usercode</th>\n",
       "      <th>county_id</th>\n",
       "    </tr>\n",
       "  </thead>\n",
       "  <tbody>\n",
       "    <tr>\n",
       "      <th>1</th>\n",
       "      <td>4010101010072345100212</td>\n",
       "      <td>4010101010072345</td>\n",
       "      <td>Galcha Dida</td>\n",
       "      <td>Nyayo Rd</td>\n",
       "      <td>401010101</td>\n",
       "      <td>4010101</td>\n",
       "      <td>Nagayo</td>\n",
       "      <td>Saku</td>\n",
       "      <td>Marsabit</td>\n",
       "      <td>True</td>\n",
       "      <td>2.33374</td>\n",
       "      <td>37.992490</td>\n",
       "      <td>Urban</td>\n",
       "      <td>47</td>\n",
       "      <td>2018-07-02 09:05:00</td>\n",
       "      <td>0212</td>\n",
       "      <td>10</td>\n",
       "    </tr>\n",
       "    <tr>\n",
       "      <th>2</th>\n",
       "      <td>4010101010072345100213</td>\n",
       "      <td>4010101010072345</td>\n",
       "      <td>Galcha Dida</td>\n",
       "      <td>Nyayo Rd</td>\n",
       "      <td>401010101</td>\n",
       "      <td>4010101</td>\n",
       "      <td>Nagayo</td>\n",
       "      <td>Saku</td>\n",
       "      <td>Marsabit</td>\n",
       "      <td>False</td>\n",
       "      <td>2.33319</td>\n",
       "      <td>37.992270</td>\n",
       "      <td>Urban</td>\n",
       "      <td>47</td>\n",
       "      <td>2018-06-08 19:57:00</td>\n",
       "      <td>0213</td>\n",
       "      <td>10</td>\n",
       "    </tr>\n",
       "    <tr>\n",
       "      <th>3</th>\n",
       "      <td>401010101007234510126</td>\n",
       "      <td>4010101010072345</td>\n",
       "      <td>Galcha Dida</td>\n",
       "      <td>Nyayo Rd</td>\n",
       "      <td>401010101</td>\n",
       "      <td>4010101</td>\n",
       "      <td>Nagayo</td>\n",
       "      <td>Saku</td>\n",
       "      <td>Marsabit</td>\n",
       "      <td>False</td>\n",
       "      <td>2.33148</td>\n",
       "      <td>37.994250</td>\n",
       "      <td>Urban</td>\n",
       "      <td>47</td>\n",
       "      <td>2018-02-10 13:17:00</td>\n",
       "      <td>0126</td>\n",
       "      <td>10</td>\n",
       "    </tr>\n",
       "    <tr>\n",
       "      <th>4</th>\n",
       "      <td>401010101007234510128</td>\n",
       "      <td>4010101010072345</td>\n",
       "      <td>Galcha Dida</td>\n",
       "      <td>Nyayo Rd</td>\n",
       "      <td>401010101</td>\n",
       "      <td>4010101</td>\n",
       "      <td>Nagayo</td>\n",
       "      <td>Saku</td>\n",
       "      <td>Marsabit</td>\n",
       "      <td>False</td>\n",
       "      <td>2.67537</td>\n",
       "      <td>37.876865</td>\n",
       "      <td>Urban</td>\n",
       "      <td>47</td>\n",
       "      <td>2019-07-20 06:57:00</td>\n",
       "      <td>0128</td>\n",
       "      <td>10</td>\n",
       "    </tr>\n",
       "    <tr>\n",
       "      <th>5</th>\n",
       "      <td>401010101007234510133</td>\n",
       "      <td>4010101010072345</td>\n",
       "      <td>Galcha Dida</td>\n",
       "      <td>Nyayo Rd</td>\n",
       "      <td>401010101</td>\n",
       "      <td>4010101</td>\n",
       "      <td>Nagayo</td>\n",
       "      <td>Saku</td>\n",
       "      <td>Marsabit</td>\n",
       "      <td>False</td>\n",
       "      <td>2.30000</td>\n",
       "      <td>37.200000</td>\n",
       "      <td>Urban</td>\n",
       "      <td>47</td>\n",
       "      <td>2019-07-15 14:04:00</td>\n",
       "      <td>0133</td>\n",
       "      <td>10</td>\n",
       "    </tr>\n",
       "  </tbody>\n",
       "</table>\n",
       "</div>"
      ],
      "text/plain": [
       "             household_id        village_id village_name sublocation_name  \\\n",
       "1  4010101010072345100212  4010101010072345  Galcha Dida         Nyayo Rd   \n",
       "2  4010101010072345100213  4010101010072345  Galcha Dida         Nyayo Rd   \n",
       "3   401010101007234510126  4010101010072345  Galcha Dida         Nyayo Rd   \n",
       "4   401010101007234510128  4010101010072345  Galcha Dida         Nyayo Rd   \n",
       "5   401010101007234510133  4010101010072345  Galcha Dida         Nyayo Rd   \n",
       "\n",
       "   sublocation_id  location_id location_name constituency_name county_name  \\\n",
       "1       401010101      4010101        Nagayo              Saku    Marsabit   \n",
       "2       401010101      4010101        Nagayo              Saku    Marsabit   \n",
       "3       401010101      4010101        Nagayo              Saku    Marsabit   \n",
       "4       401010101      4010101        Nagayo              Saku    Marsabit   \n",
       "5       401010101      4010101        Nagayo              Saku    Marsabit   \n",
       "\n",
       "   isbeneficiaryhh  latitude  longitude ruralurban  constituency_id  \\\n",
       "1             True   2.33374  37.992490      Urban               47   \n",
       "2            False   2.33319  37.992270      Urban               47   \n",
       "3            False   2.33148  37.994250      Urban               47   \n",
       "4            False   2.67537  37.876865      Urban               47   \n",
       "5            False   2.30000  37.200000      Urban               47   \n",
       "\n",
       "           entry_date usercode  county_id  \n",
       "1 2018-07-02 09:05:00     0212         10  \n",
       "2 2018-06-08 19:57:00     0213         10  \n",
       "3 2018-02-10 13:17:00     0126         10  \n",
       "4 2019-07-20 06:57:00     0128         10  \n",
       "5 2019-07-15 14:04:00     0133         10  "
      ]
     },
     "execution_count": 34,
     "metadata": {},
     "output_type": "execute_result"
    }
   ],
   "source": [
    "mar.head()"
   ]
  },
  {
   "cell_type": "code",
   "execution_count": 35,
   "metadata": {},
   "outputs": [
    {
     "ename": "ValueError",
     "evalue": "Point() takes only scalar or 1-size vector arguments, got (0       3.754532e+01\n1       3.793235e+01\n2       3.854536e+01\n3       3.854378e+06\n4       3.783767e+01\n            ...     \n5904    3.722520e+01\n5905    3.673323e+01\n5906    3.802121e+01\n5907    3.699443e+01\n5908    3.692232e+01\nLength: 5909, dtype: float64, 0            2.511535\n1            2.361980\n2       360930.000000\n3            3.610090\n4            2.804510\n            ...      \n5904         3.317193\n5905    272341.000000\n5906         2.150275\n5907         3.590713\n5908         3.246912\nLength: 5909, dtype: float64)",
     "output_type": "error",
     "traceback": [
      "\u001b[1;31m---------------------------------------------------------------------------\u001b[0m",
      "\u001b[1;31mValueError\u001b[0m                                Traceback (most recent call last)",
      "\u001b[1;32m~\\AppData\\Local\\Temp\\ipykernel_16592\\3696940411.py\u001b[0m in \u001b[0;36m<module>\u001b[1;34m\u001b[0m\n\u001b[0;32m     23\u001b[0m             \u001b[0mrandom_longitude\u001b[0m \u001b[1;33m=\u001b[0m \u001b[0mrandom\u001b[0m\u001b[1;33m.\u001b[0m\u001b[0muniform\u001b[0m\u001b[1;33m(\u001b[0m\u001b[0mmarsabit_boundary\u001b[0m\u001b[1;33m.\u001b[0m\u001b[0mbounds\u001b[0m\u001b[1;33m[\u001b[0m\u001b[1;34m'minx'\u001b[0m\u001b[1;33m]\u001b[0m\u001b[1;33m,\u001b[0m \u001b[0mmarsabit_boundary\u001b[0m\u001b[1;33m.\u001b[0m\u001b[0mbounds\u001b[0m\u001b[1;33m[\u001b[0m\u001b[1;34m'maxx'\u001b[0m\u001b[1;33m]\u001b[0m\u001b[1;33m)\u001b[0m\u001b[1;33m\u001b[0m\u001b[1;33m\u001b[0m\u001b[0m\n\u001b[0;32m     24\u001b[0m \u001b[1;33m\u001b[0m\u001b[0m\n\u001b[1;32m---> 25\u001b[1;33m             \u001b[1;32mif\u001b[0m \u001b[0mis_coordinate_in_marsabit\u001b[0m\u001b[1;33m(\u001b[0m\u001b[0mrandom_latitude\u001b[0m\u001b[1;33m,\u001b[0m \u001b[0mrandom_longitude\u001b[0m\u001b[1;33m)\u001b[0m\u001b[1;33m:\u001b[0m\u001b[1;33m\u001b[0m\u001b[1;33m\u001b[0m\u001b[0m\n\u001b[0m\u001b[0;32m     26\u001b[0m                 \u001b[1;31m# Found a random coordinate within Marsabit, update the dataframe\u001b[0m\u001b[1;33m\u001b[0m\u001b[1;33m\u001b[0m\u001b[1;33m\u001b[0m\u001b[0m\n\u001b[0;32m     27\u001b[0m                 \u001b[0mmarsabit\u001b[0m\u001b[1;33m.\u001b[0m\u001b[0mat\u001b[0m\u001b[1;33m[\u001b[0m\u001b[0mindex\u001b[0m\u001b[1;33m,\u001b[0m \u001b[1;34m'latitude'\u001b[0m\u001b[1;33m]\u001b[0m \u001b[1;33m=\u001b[0m \u001b[0mrandom_latitude\u001b[0m\u001b[1;33m\u001b[0m\u001b[1;33m\u001b[0m\u001b[0m\n",
      "\u001b[1;32m~\\AppData\\Local\\Temp\\ipykernel_16592\\3696940411.py\u001b[0m in \u001b[0;36mis_coordinate_in_marsabit\u001b[1;34m(latitude, longitude)\u001b[0m\n\u001b[0;32m      7\u001b[0m \u001b[1;31m# Function to check if a coordinate is in Marsabit\u001b[0m\u001b[1;33m\u001b[0m\u001b[1;33m\u001b[0m\u001b[1;33m\u001b[0m\u001b[0m\n\u001b[0;32m      8\u001b[0m \u001b[1;32mdef\u001b[0m \u001b[0mis_coordinate_in_marsabit\u001b[0m\u001b[1;33m(\u001b[0m\u001b[0mlatitude\u001b[0m\u001b[1;33m,\u001b[0m \u001b[0mlongitude\u001b[0m\u001b[1;33m)\u001b[0m\u001b[1;33m:\u001b[0m\u001b[1;33m\u001b[0m\u001b[1;33m\u001b[0m\u001b[0m\n\u001b[1;32m----> 9\u001b[1;33m     \u001b[0mpoint\u001b[0m \u001b[1;33m=\u001b[0m \u001b[0mPoint\u001b[0m\u001b[1;33m(\u001b[0m\u001b[0mlongitude\u001b[0m\u001b[1;33m,\u001b[0m \u001b[0mlatitude\u001b[0m\u001b[1;33m)\u001b[0m\u001b[1;33m\u001b[0m\u001b[1;33m\u001b[0m\u001b[0m\n\u001b[0m\u001b[0;32m     10\u001b[0m     \u001b[1;32mreturn\u001b[0m \u001b[0mmarsabit_boundary\u001b[0m\u001b[1;33m.\u001b[0m\u001b[0mcontains\u001b[0m\u001b[1;33m(\u001b[0m\u001b[0mpoint\u001b[0m\u001b[1;33m)\u001b[0m\u001b[1;33m.\u001b[0m\u001b[0many\u001b[0m\u001b[1;33m(\u001b[0m\u001b[1;33m)\u001b[0m\u001b[1;33m\u001b[0m\u001b[1;33m\u001b[0m\u001b[0m\n\u001b[0;32m     11\u001b[0m \u001b[1;33m\u001b[0m\u001b[0m\n",
      "\u001b[1;32mc:\\Users\\USER\\Desktop\\HSNP\\HSNP\\env\\lib\\site-packages\\shapely\\geometry\\point.py\u001b[0m in \u001b[0;36m__new__\u001b[1;34m(self, *args)\u001b[0m\n\u001b[0;32m     72\u001b[0m         \u001b[1;32mif\u001b[0m \u001b[0mcoords\u001b[0m\u001b[1;33m.\u001b[0m\u001b[0mndim\u001b[0m \u001b[1;33m>\u001b[0m \u001b[1;36m1\u001b[0m\u001b[1;33m:\u001b[0m\u001b[1;33m\u001b[0m\u001b[1;33m\u001b[0m\u001b[0m\n\u001b[0;32m     73\u001b[0m             raise ValueError(\n\u001b[1;32m---> 74\u001b[1;33m                 \u001b[1;34mf\"Point() takes only scalar or 1-size vector arguments, got {args}\"\u001b[0m\u001b[1;33m\u001b[0m\u001b[1;33m\u001b[0m\u001b[0m\n\u001b[0m\u001b[0;32m     75\u001b[0m             )\n\u001b[0;32m     76\u001b[0m         \u001b[1;32mif\u001b[0m \u001b[1;32mnot\u001b[0m \u001b[0mnp\u001b[0m\u001b[1;33m.\u001b[0m\u001b[0missubdtype\u001b[0m\u001b[1;33m(\u001b[0m\u001b[0mcoords\u001b[0m\u001b[1;33m.\u001b[0m\u001b[0mdtype\u001b[0m\u001b[1;33m,\u001b[0m \u001b[0mnp\u001b[0m\u001b[1;33m.\u001b[0m\u001b[0mnumber\u001b[0m\u001b[1;33m)\u001b[0m\u001b[1;33m:\u001b[0m\u001b[1;33m\u001b[0m\u001b[1;33m\u001b[0m\u001b[0m\n",
      "\u001b[1;31mValueError\u001b[0m: Point() takes only scalar or 1-size vector arguments, got (0       3.754532e+01\n1       3.793235e+01\n2       3.854536e+01\n3       3.854378e+06\n4       3.783767e+01\n            ...     \n5904    3.722520e+01\n5905    3.673323e+01\n5906    3.802121e+01\n5907    3.699443e+01\n5908    3.692232e+01\nLength: 5909, dtype: float64, 0            2.511535\n1            2.361980\n2       360930.000000\n3            3.610090\n4            2.804510\n            ...      \n5904         3.317193\n5905    272341.000000\n5906         2.150275\n5907         3.590713\n5908         3.246912\nLength: 5909, dtype: float64)"
     ]
    }
   ],
   "source": [
    "# Read mar as marsabit\n",
    "marsabit = mar\n",
    "\n",
    "# Read the Marsabit boundary shapefile into a GeoDataFrame\n",
    "marsabit_boundary = gpd.read_file('Shapefiles\\Marsabit.shp')  \n",
    "\n",
    "# Function to check if a coordinate is in Marsabit\n",
    "def is_coordinate_in_marsabit(latitude, longitude):\n",
    "    point = Point(longitude, latitude)\n",
    "    return marsabit_boundary.contains(point).any()\n",
    "\n",
    "# Iterate through the dataframe rows and update coordinates if necessary\n",
    "for index, row in marsabit.iterrows():\n",
    "    latitude = row['latitude']\n",
    "    longitude = row['longitude']\n",
    "    \n",
    "    if not is_coordinate_in_marsabit(latitude, longitude):\n",
    "        # Assign random coordinates within Marsabit\n",
    "        while True:\n",
    "            # Set the latitude range to cover the approximate area of Marsabit\n",
    "            random_latitude = random.uniform(marsabit_boundary.bounds['miny'], marsabit_boundary.bounds['maxy'])\n",
    "            # Set the longitude range to cover the approximate area of Marsabit\n",
    "            random_longitude = random.uniform(marsabit_boundary.bounds['minx'], marsabit_boundary.bounds['maxx']) \n",
    "            \n",
    "            if is_coordinate_in_marsabit(random_latitude, random_longitude):\n",
    "                # Found a random coordinate within Marsabit, update the dataframe\n",
    "                marsabit.at[index, 'latitude'] = random_latitude\n",
    "                marsabit.at[index, 'longitude'] = random_longitude\n",
    "                break"
   ]
  },
  {
   "cell_type": "code",
   "execution_count": null,
   "metadata": {},
   "outputs": [],
   "source": []
  },
  {
   "cell_type": "code",
   "execution_count": null,
   "metadata": {},
   "outputs": [],
   "source": [
    "# Calculate the mean latitude and longitude\n",
    "mean_latitude = mar['latitude'].mean()\n",
    "mean_longitude = mar['longitude'].mean()"
   ]
  },
  {
   "cell_type": "code",
   "execution_count": 35,
   "metadata": {},
   "outputs": [
    {
     "data": {
      "text/plain": [
       "3.006505675082725"
      ]
     },
     "execution_count": 35,
     "metadata": {},
     "output_type": "execute_result"
    }
   ],
   "source": [
    "mean_latitude"
   ]
  },
  {
   "cell_type": "code",
   "execution_count": 36,
   "metadata": {},
   "outputs": [
    {
     "data": {
      "text/plain": [
       "38.10805760671885"
      ]
     },
     "execution_count": 36,
     "metadata": {},
     "output_type": "execute_result"
    }
   ],
   "source": [
    "mean_longitude"
   ]
  },
  {
   "cell_type": "code",
   "execution_count": 37,
   "metadata": {},
   "outputs": [],
   "source": [
    "# Define a threshold for considering outliers (e.g., 3 standard deviations)\n",
    "threshold = 10 * mar['latitude'].std()"
   ]
  },
  {
   "cell_type": "code",
   "execution_count": 38,
   "metadata": {},
   "outputs": [
    {
     "data": {
      "text/plain": [
       "7.394863080445737"
      ]
     },
     "execution_count": 38,
     "metadata": {},
     "output_type": "execute_result"
    }
   ],
   "source": [
    "threshold"
   ]
  },
  {
   "cell_type": "code",
   "execution_count": 39,
   "metadata": {},
   "outputs": [],
   "source": [
    "# Identify outliers based on the threshold\n",
    "outliers = ((mar['latitude'] - mean_latitude).abs() > threshold) | ((mar['longitude'] - mean_longitude).abs() > threshold)\n"
   ]
  },
  {
   "cell_type": "code",
   "execution_count": 40,
   "metadata": {},
   "outputs": [],
   "source": [
    "# Replace outliers with random values around the mean\n",
    "mar.loc[outliers, 'latitude'] = np.random.normal(loc=mean_latitude, scale=mar['latitude'].std(), size=outliers.sum())\n",
    "mar.loc[outliers, 'longitude'] = np.random.normal(loc=mean_longitude, scale=mar['longitude'].std(), size=outliers.sum())\n"
   ]
  },
  {
   "cell_type": "code",
   "execution_count": 41,
   "metadata": {
    "scrolled": false
   },
   "outputs": [
    {
     "data": {
      "text/html": [
       "<div>\n",
       "<style scoped>\n",
       "    .dataframe tbody tr th:only-of-type {\n",
       "        vertical-align: middle;\n",
       "    }\n",
       "\n",
       "    .dataframe tbody tr th {\n",
       "        vertical-align: top;\n",
       "    }\n",
       "\n",
       "    .dataframe thead th {\n",
       "        text-align: right;\n",
       "    }\n",
       "</style>\n",
       "<table border=\"1\" class=\"dataframe\">\n",
       "  <thead>\n",
       "    <tr style=\"text-align: right;\">\n",
       "      <th></th>\n",
       "      <th>household_id</th>\n",
       "      <th>village_id</th>\n",
       "      <th>village_name</th>\n",
       "      <th>sublocation_name</th>\n",
       "      <th>sublocation_id</th>\n",
       "      <th>location_id</th>\n",
       "      <th>location_name</th>\n",
       "      <th>constituency_name</th>\n",
       "      <th>county_name</th>\n",
       "      <th>isbeneficiaryhh</th>\n",
       "      <th>latitude</th>\n",
       "      <th>longitude</th>\n",
       "      <th>ruralurban</th>\n",
       "      <th>constituency_id</th>\n",
       "      <th>entry_date</th>\n",
       "      <th>usercode</th>\n",
       "      <th>county_id</th>\n",
       "    </tr>\n",
       "  </thead>\n",
       "  <tbody>\n",
       "    <tr>\n",
       "      <th>1</th>\n",
       "      <td>4010101010072345100212</td>\n",
       "      <td>4010101010072345</td>\n",
       "      <td>Galcha Dida</td>\n",
       "      <td>Nyayo Rd</td>\n",
       "      <td>401010101</td>\n",
       "      <td>4010101</td>\n",
       "      <td>Nagayo</td>\n",
       "      <td>Saku</td>\n",
       "      <td>Marsabit</td>\n",
       "      <td>True</td>\n",
       "      <td>2.33374</td>\n",
       "      <td>37.992490</td>\n",
       "      <td>Urban</td>\n",
       "      <td>47</td>\n",
       "      <td>2018-07-02 09:05:00</td>\n",
       "      <td>0212</td>\n",
       "      <td>10</td>\n",
       "    </tr>\n",
       "    <tr>\n",
       "      <th>2</th>\n",
       "      <td>4010101010072345100213</td>\n",
       "      <td>4010101010072345</td>\n",
       "      <td>Galcha Dida</td>\n",
       "      <td>Nyayo Rd</td>\n",
       "      <td>401010101</td>\n",
       "      <td>4010101</td>\n",
       "      <td>Nagayo</td>\n",
       "      <td>Saku</td>\n",
       "      <td>Marsabit</td>\n",
       "      <td>False</td>\n",
       "      <td>2.33319</td>\n",
       "      <td>37.992270</td>\n",
       "      <td>Urban</td>\n",
       "      <td>47</td>\n",
       "      <td>2018-06-08 19:57:00</td>\n",
       "      <td>0213</td>\n",
       "      <td>10</td>\n",
       "    </tr>\n",
       "    <tr>\n",
       "      <th>3</th>\n",
       "      <td>401010101007234510126</td>\n",
       "      <td>4010101010072345</td>\n",
       "      <td>Galcha Dida</td>\n",
       "      <td>Nyayo Rd</td>\n",
       "      <td>401010101</td>\n",
       "      <td>4010101</td>\n",
       "      <td>Nagayo</td>\n",
       "      <td>Saku</td>\n",
       "      <td>Marsabit</td>\n",
       "      <td>False</td>\n",
       "      <td>2.33148</td>\n",
       "      <td>37.994250</td>\n",
       "      <td>Urban</td>\n",
       "      <td>47</td>\n",
       "      <td>2018-02-10 13:17:00</td>\n",
       "      <td>0126</td>\n",
       "      <td>10</td>\n",
       "    </tr>\n",
       "    <tr>\n",
       "      <th>4</th>\n",
       "      <td>401010101007234510128</td>\n",
       "      <td>4010101010072345</td>\n",
       "      <td>Galcha Dida</td>\n",
       "      <td>Nyayo Rd</td>\n",
       "      <td>401010101</td>\n",
       "      <td>4010101</td>\n",
       "      <td>Nagayo</td>\n",
       "      <td>Saku</td>\n",
       "      <td>Marsabit</td>\n",
       "      <td>False</td>\n",
       "      <td>2.67537</td>\n",
       "      <td>37.876865</td>\n",
       "      <td>Urban</td>\n",
       "      <td>47</td>\n",
       "      <td>2019-07-20 06:57:00</td>\n",
       "      <td>0128</td>\n",
       "      <td>10</td>\n",
       "    </tr>\n",
       "    <tr>\n",
       "      <th>5</th>\n",
       "      <td>401010101007234510133</td>\n",
       "      <td>4010101010072345</td>\n",
       "      <td>Galcha Dida</td>\n",
       "      <td>Nyayo Rd</td>\n",
       "      <td>401010101</td>\n",
       "      <td>4010101</td>\n",
       "      <td>Nagayo</td>\n",
       "      <td>Saku</td>\n",
       "      <td>Marsabit</td>\n",
       "      <td>False</td>\n",
       "      <td>2.30000</td>\n",
       "      <td>37.200000</td>\n",
       "      <td>Urban</td>\n",
       "      <td>47</td>\n",
       "      <td>2019-07-15 14:04:00</td>\n",
       "      <td>0133</td>\n",
       "      <td>10</td>\n",
       "    </tr>\n",
       "  </tbody>\n",
       "</table>\n",
       "</div>"
      ],
      "text/plain": [
       "             household_id        village_id village_name sublocation_name  \\\n",
       "1  4010101010072345100212  4010101010072345  Galcha Dida         Nyayo Rd   \n",
       "2  4010101010072345100213  4010101010072345  Galcha Dida         Nyayo Rd   \n",
       "3   401010101007234510126  4010101010072345  Galcha Dida         Nyayo Rd   \n",
       "4   401010101007234510128  4010101010072345  Galcha Dida         Nyayo Rd   \n",
       "5   401010101007234510133  4010101010072345  Galcha Dida         Nyayo Rd   \n",
       "\n",
       "   sublocation_id  location_id location_name constituency_name county_name  \\\n",
       "1       401010101      4010101        Nagayo              Saku    Marsabit   \n",
       "2       401010101      4010101        Nagayo              Saku    Marsabit   \n",
       "3       401010101      4010101        Nagayo              Saku    Marsabit   \n",
       "4       401010101      4010101        Nagayo              Saku    Marsabit   \n",
       "5       401010101      4010101        Nagayo              Saku    Marsabit   \n",
       "\n",
       "   isbeneficiaryhh  latitude  longitude ruralurban  constituency_id  \\\n",
       "1             True   2.33374  37.992490      Urban               47   \n",
       "2            False   2.33319  37.992270      Urban               47   \n",
       "3            False   2.33148  37.994250      Urban               47   \n",
       "4            False   2.67537  37.876865      Urban               47   \n",
       "5            False   2.30000  37.200000      Urban               47   \n",
       "\n",
       "           entry_date usercode  county_id  \n",
       "1 2018-07-02 09:05:00     0212         10  \n",
       "2 2018-06-08 19:57:00     0213         10  \n",
       "3 2018-02-10 13:17:00     0126         10  \n",
       "4 2019-07-20 06:57:00     0128         10  \n",
       "5 2019-07-15 14:04:00     0133         10  "
      ]
     },
     "execution_count": 41,
     "metadata": {},
     "output_type": "execute_result"
    }
   ],
   "source": [
    "mar.head()"
   ]
  },
  {
   "cell_type": "code",
   "execution_count": 42,
   "metadata": {},
   "outputs": [
    {
     "name": "stderr",
     "output_type": "stream",
     "text": [
      "c:\\Users\\USER\\anaconda3\\envs\\learn-env\\lib\\site-packages\\seaborn\\categorical.py:82: FutureWarning: iteritems is deprecated and will be removed in a future version. Use .items instead.\n",
      "  plot_data = [np.asarray(s, float) for k, s in iter_data]\n"
     ]
    },
    {
     "data": {
      "image/png": "[encoded data removed]",
      "text/plain": [
       "<Figure size 576x360 with 1 Axes>"
      ]
     },
     "metadata": {
      "needs_background": "light"
     },
     "output_type": "display_data"
    }
   ],
   "source": [
    "# Create a figure with a single subplot\n",
    "fig, ax = plt.subplots(figsize=(8, 5))\n",
    "\n",
    "# Create a boxplot for the latitude and longitude columns\n",
    "sns.boxplot(data=mar[['latitude', 'longitude']], orient='h', ax=ax, palette='pastel')\n",
    "\n",
    "# Set the chart title and axis labels\n",
    "ax.set_title('Latitude and Longitude Boxplot', fontsize=14)\n",
    "ax.set_xlabel('Coordinate Value', fontsize=12)\n",
    "ax.set_ylabel('Coordinate Type', fontsize=12)\n",
    "ax.tick_params(labelsize=10)\n",
    "\n",
    "# Show the chart\n",
    "plt.show()\n"
   ]
  },
  {
   "cell_type": "code",
   "execution_count": 43,
   "metadata": {},
   "outputs": [],
   "source": [
    "# Calculate the mean latitude and longitude\n",
    "mean_latitude = mar['latitude'].mean()\n",
    "mean_longitude = mar['longitude'].mean()\n",
    "\n",
    "# Define a threshold for considering outliers (e.g., 3 standard deviations)\n",
    "threshold = 3 * mar['latitude'].std()\n",
    "\n",
    "# Identify outliers based on the threshold\n",
    "outliers = ((mar['latitude'] - mean_latitude).abs() > threshold) | ((mar['longitude'] - mean_longitude).abs() > threshold)\n",
    "\n",
    "# Replace outliers with random values around the mean\n",
    "mar.loc[outliers, 'latitude'] = np.random.normal(loc=mean_latitude, scale=mar['latitude'].std(), size=outliers.sum())\n",
    "mar.loc[outliers, 'longitude'] = np.random.normal(loc=mean_longitude, scale=mar['longitude'].std(), size=outliers.sum())\n"
   ]
  },
  {
   "cell_type": "code",
   "execution_count": 44,
   "metadata": {},
   "outputs": [
    {
     "name": "stderr",
     "output_type": "stream",
     "text": [
      "c:\\Users\\USER\\anaconda3\\envs\\learn-env\\lib\\site-packages\\seaborn\\categorical.py:82: FutureWarning: iteritems is deprecated and will be removed in a future version. Use .items instead.\n",
      "  plot_data = [np.asarray(s, float) for k, s in iter_data]\n"
     ]
    },
    {
     "data": {
      "image/png": "[encoded data removed]",
      "text/plain": [
       "<Figure size 576x360 with 1 Axes>"
      ]
     },
     "metadata": {
      "needs_background": "light"
     },
     "output_type": "display_data"
    }
   ],
   "source": [
    "# Create a figure with a single subplot\n",
    "fig, ax = plt.subplots(figsize=(8, 5))\n",
    "\n",
    "# Create a boxplot for the latitude and longitude columns\n",
    "sns.boxplot(data=mar[['latitude', 'longitude']], orient='h', ax=ax, palette='pastel')\n",
    "\n",
    "# Set the chart title and axis labels\n",
    "ax.set_title('Latitude and Longitude Boxplot', fontsize=14)\n",
    "ax.set_xlabel('Coordinate Value', fontsize=12)\n",
    "ax.set_ylabel('Coordinate Type', fontsize=12)\n",
    "ax.tick_params(labelsize=10)\n",
    "\n",
    "# Show the chart\n",
    "plt.show()\n"
   ]
  },
  {
   "cell_type": "code",
   "execution_count": 45,
   "metadata": {},
   "outputs": [],
   "source": [
    "# Calculate the mean latitude and longitude\n",
    "mean_latitude = mar['latitude'].mean()\n",
    "mean_longitude = mar['longitude'].mean()\n",
    "\n",
    "# Define a threshold for considering outliers (e.g., 3 standard deviations)\n",
    "threshold = 3 * mar['latitude'].std()\n",
    "\n",
    "# Identify outliers based on the threshold\n",
    "outliers = ((mar['latitude'] - mean_latitude).abs() > threshold) | ((mar['longitude'] - mean_longitude).abs() > threshold)\n",
    "\n",
    "# Replace outliers with random values around the mean\n",
    "mar.loc[outliers, 'latitude'] = np.random.normal(loc=mean_latitude, scale=mar['latitude'].std(), size=outliers.sum())\n",
    "mar.loc[outliers, 'longitude'] = np.random.normal(loc=mean_longitude, scale=mar['longitude'].std(), size=outliers.sum())\n"
   ]
  },
  {
   "cell_type": "code",
   "execution_count": 46,
   "metadata": {},
   "outputs": [],
   "source": [
    "# Calculate the mean latitude and longitude\n",
    "mean_latitude = mar['latitude'].mean()\n",
    "mean_longitude = mar['longitude'].mean()\n",
    "\n",
    "# Define a threshold for considering outliers (e.g., 3 standard deviations)\n",
    "threshold = 3 * mar['latitude'].std()\n",
    "\n",
    "# Identify outliers based on the threshold\n",
    "outliers = ((mar['latitude'] - mean_latitude).abs() > threshold) | ((mar['longitude'] - mean_longitude).abs() > threshold)\n",
    "\n",
    "# Replace outliers with random values around the mean\n",
    "mar.loc[outliers, 'latitude'] = np.random.normal(loc=mean_latitude, scale=mar['latitude'].std(), size=outliers.sum())\n",
    "mar.loc[outliers, 'longitude'] = np.random.normal(loc=mean_longitude, scale=mar['longitude'].std(), size=outliers.sum())\n"
   ]
  },
  {
   "cell_type": "code",
   "execution_count": 47,
   "metadata": {
    "scrolled": false
   },
   "outputs": [
    {
     "name": "stderr",
     "output_type": "stream",
     "text": [
      "c:\\Users\\USER\\anaconda3\\envs\\learn-env\\lib\\site-packages\\seaborn\\categorical.py:82: FutureWarning: iteritems is deprecated and will be removed in a future version. Use .items instead.\n",
      "  plot_data = [np.asarray(s, float) for k, s in iter_data]\n"
     ]
    },
    {
     "data": {
      "image/png": "[encoded data removed]",
      "text/plain": [
       "<Figure size 576x360 with 1 Axes>"
      ]
     },
     "metadata": {
      "needs_background": "light"
     },
     "output_type": "display_data"
    }
   ],
   "source": [
    "# Create a figure with a single subplot\n",
    "fig, ax = plt.subplots(figsize=(8, 5))\n",
    "\n",
    "# Create a boxplot for the latitude and longitude columns\n",
    "sns.boxplot(data=mar[['latitude', 'longitude']], orient='h', ax=ax, palette='pastel')\n",
    "\n",
    "# Set the chart title and axis labels\n",
    "ax.set_title('Latitude and Longitude Boxplot', fontsize=14)\n",
    "ax.set_xlabel('Coordinate Value', fontsize=12)\n",
    "ax.set_ylabel('Coordinate Type', fontsize=12)\n",
    "ax.tick_params(labelsize=10)\n",
    "\n",
    "# Show the chart\n",
    "plt.show()\n"
   ]
  },
  {
   "cell_type": "code",
   "execution_count": 48,
   "metadata": {},
   "outputs": [],
   "source": [
    "# Read the Marsabit boundary shapefile into a GeoDataFrame\n",
    "marsabit_boundary = gpd.read_file('Shapefiles/Marsabit_County.shp')  # Replace 'marsabit_boundary.shp' with the actual path to your Marsabit boundary shapefile\n"
   ]
  },
  {
   "cell_type": "code",
   "execution_count": 49,
   "metadata": {},
   "outputs": [],
   "source": [
    "# Function to check if a coordinate is in Marsabit\n",
    "def is_coordinate_in_marsabit(latitude, longitude):\n",
    "    point = Point(longitude, latitude)\n",
    "    return marsabit_boundary.contains(point).any()\n",
    "\n",
    "# Iterate through the dataframe rows and update coordinates if necessary\n",
    "for index, row in mar.iterrows():\n",
    "    latitude = row['latitude']\n",
    "    longitude = row['longitude']\n",
    "    \n",
    "    if not is_coordinate_in_marsabit(latitude, longitude):\n",
    "        # Assign random coordinates within Marsabit\n",
    "        while True:\n",
    "            random_latitude = random.uniform(2.2769, 4.6429)  # Set the latitude range to cover the approximate area of Marsabit\n",
    "            random_longitude = random.uniform(36.4842, 40.9980 )  # Set the longitude range to cover the approximate area of Marsabit\n",
    "            \n",
    "            if is_coordinate_in_marsabit(random_latitude, random_longitude):\n",
    "                # Found a random coordinate within Marsabit, update the dataframe\n",
    "                mar.at[index, 'latitude'] = random_latitude\n",
    "                mar.at[index, 'longitude'] = random_longitude\n",
    "                break"
   ]
  },
  {
   "cell_type": "code",
   "execution_count": null,
   "metadata": {},
   "outputs": [],
   "source": [
    "# # #  save dataset\n",
    "mar.to_csv('marsabit.csv', index=False)"
   ]
  },
  {
   "attachments": {},
   "cell_type": "markdown",
   "metadata": {},
   "source": [
    "### *2) Wajir*"
   ]
  },
  {
   "cell_type": "code",
   "execution_count": 76,
   "metadata": {},
   "outputs": [
    {
     "data": {
      "text/html": [
       "<div style=\"width:100%;\"><div style=\"position:relative;width:100%;height:0;padding-bottom:60%;\"><span style=\"color:#565656\">Make this Notebook Trusted to load map: File -> Trust Notebook</span><iframe src=\"about:blank\" style=\"position:absolute;width:100%;height:100%;left:0;top:0;border:none !important;\" data-html=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 onload=\"this.contentDocument.open();this.contentDocument.write(atob(this.getAttribute('data-html')));this.contentDocument.close();\" allowfullscreen webkitallowfullscreen mozallowfullscreen></iframe></div></div>"
      ],
      "text/plain": [
       "<folium.folium.Map at 0x27881c7aaf0>"
      ]
     },
     "execution_count": 76,
     "metadata": {},
     "output_type": "execute_result"
    }
   ],
   "source": [
    "# Create a map of Marsabit\n",
    "wajir_map = folium.Map(location=[1.7470, 40.0682], zoom_start=10)\n",
    "\n",
    "# Add a marker for Marsabit town\n",
    "wajir_marker = folium.Marker(location=[1.7470, 40.0682], popup='Wajir')\n",
    "wajir_marker.add_to(wajir_map)\n",
    "\n",
    "# Show the map\n",
    "wajir_map"
   ]
  },
  {
   "cell_type": "code",
   "execution_count": 77,
   "metadata": {},
   "outputs": [],
   "source": [
    "# Filter out Marsabit in dataframe\n",
    "wajir = df[df['county_name'] == \"Wajir\"]"
   ]
  },
  {
   "cell_type": "code",
   "execution_count": 78,
   "metadata": {},
   "outputs": [
    {
     "name": "stderr",
     "output_type": "stream",
     "text": [
      "c:\\Users\\USER\\anaconda3\\envs\\learn-env\\lib\\site-packages\\seaborn\\categorical.py:82: FutureWarning: iteritems is deprecated and will be removed in a future version. Use .items instead.\n",
      "  plot_data = [np.asarray(s, float) for k, s in iter_data]\n"
     ]
    },
    {
     "data": {
      "image/png": "[encoded data removed]",
      "text/plain": [
       "<Figure size 576x360 with 1 Axes>"
      ]
     },
     "metadata": {
      "needs_background": "light"
     },
     "output_type": "display_data"
    }
   ],
   "source": [
    "# Create a figure with a single subplot\n",
    "fig, ax = plt.subplots(figsize=(8, 5))\n",
    "\n",
    "# Create a boxplot for the latitude and longitude columns\n",
    "sns.boxplot(data=wajir[['latitude', 'longitude']], orient='h', ax=ax, palette='pastel')\n",
    "\n",
    "# Set the chart title and axis labels\n",
    "ax.set_title('Latitude and Longitude Boxplot', fontsize=14)\n",
    "ax.set_xlabel('Coordinate Value', fontsize=12)\n",
    "ax.set_ylabel('Coordinate Type', fontsize=12)\n",
    "ax.tick_params(labelsize=10)\n",
    "\n",
    "# Show the chart\n",
    "plt.show()"
   ]
  },
  {
   "cell_type": "code",
   "execution_count": 79,
   "metadata": {},
   "outputs": [],
   "source": [
    "# If latitude is greater than longitude they interchange\n",
    "mask = wajir['latitude'] > wajir['longitude']\n",
    "wajir.loc[mask, ['latitude', 'longitude']] = wajir.loc[mask, ['longitude', 'latitude']].values\n"
   ]
  },
  {
   "cell_type": "code",
   "execution_count": 80,
   "metadata": {},
   "outputs": [
    {
     "name": "stderr",
     "output_type": "stream",
     "text": [
      "c:\\Users\\USER\\anaconda3\\envs\\learn-env\\lib\\site-packages\\seaborn\\categorical.py:82: FutureWarning: iteritems is deprecated and will be removed in a future version. Use .items instead.\n",
      "  plot_data = [np.asarray(s, float) for k, s in iter_data]\n"
     ]
    },
    {
     "data": {
      "image/png": "[encoded data removed]",
      "text/plain": [
       "<Figure size 576x360 with 1 Axes>"
      ]
     },
     "metadata": {
      "needs_background": "light"
     },
     "output_type": "display_data"
    }
   ],
   "source": [
    "# Create a figure with a single subplot\n",
    "fig, ax = plt.subplots(figsize=(8, 5))\n",
    "\n",
    "# Create a boxplot for the latitude and longitude columns\n",
    "sns.boxplot(data=wajir[['latitude', 'longitude']], orient='h', ax=ax, palette='pastel')\n",
    "\n",
    "# Set the chart title and axis labels\n",
    "ax.set_title('Latitude and Longitude Boxplot', fontsize=14)\n",
    "ax.set_xlabel('Coordinate Value', fontsize=12)\n",
    "ax.set_ylabel('Coordinate Type', fontsize=12)\n",
    "ax.tick_params(labelsize=10)\n",
    "\n",
    "# Show the chart\n",
    "plt.show()"
   ]
  },
  {
   "cell_type": "code",
   "execution_count": 81,
   "metadata": {},
   "outputs": [
    {
     "name": "stderr",
     "output_type": "stream",
     "text": [
      "<ipython-input-81-0be54d746f88>:5: SettingWithCopyWarning: \n",
      "A value is trying to be set on a copy of a slice from a DataFrame.\n",
      "Try using .loc[row_indexer,col_indexer] = value instead\n",
      "\n",
      "See the caveats in the documentation: https://pandas.pydata.org/pandas-docs/stable/user_guide/indexing.html#returning-a-view-versus-a-copy\n",
      "  wajir['latitude'] = wajir['latitude'] * factors\n"
     ]
    }
   ],
   "source": [
    "# calculate the correction factor for each value\n",
    "factors = wajir['latitude'].apply(lambda x: 10 ** -(len(str(int(x))) - 1))\n",
    "\n",
    "# divide each value by its correction factor\n",
    "wajir['latitude'] = wajir['latitude'] * factors\n",
    "\n",
    "# # print the corrected dataframe\n",
    "# print(df_sample)"
   ]
  },
  {
   "cell_type": "code",
   "execution_count": 82,
   "metadata": {},
   "outputs": [
    {
     "name": "stderr",
     "output_type": "stream",
     "text": [
      "c:\\Users\\USER\\anaconda3\\envs\\learn-env\\lib\\site-packages\\seaborn\\categorical.py:82: FutureWarning: iteritems is deprecated and will be removed in a future version. Use .items instead.\n",
      "  plot_data = [np.asarray(s, float) for k, s in iter_data]\n"
     ]
    },
    {
     "data": {
      "image/png": "[encoded data removed]",
      "text/plain": [
       "<Figure size 576x360 with 1 Axes>"
      ]
     },
     "metadata": {
      "needs_background": "light"
     },
     "output_type": "display_data"
    }
   ],
   "source": [
    "# Create a figure with a single subplot\n",
    "fig, ax = plt.subplots(figsize=(8, 5))\n",
    "\n",
    "# Create a boxplot for the latitude and longitude columns\n",
    "sns.boxplot(data=wajir[['latitude', 'longitude']], orient='h', ax=ax, palette='pastel')\n",
    "\n",
    "# Set the chart title and axis labels\n",
    "ax.set_title('Latitude and Longitude Boxplot', fontsize=14)\n",
    "ax.set_xlabel('Coordinate Value', fontsize=12)\n",
    "ax.set_ylabel('Coordinate Type', fontsize=12)\n",
    "ax.tick_params(labelsize=10)\n",
    "\n",
    "# Show the chart\n",
    "plt.show()"
   ]
  },
  {
   "cell_type": "code",
   "execution_count": 83,
   "metadata": {},
   "outputs": [
    {
     "name": "stderr",
     "output_type": "stream",
     "text": [
      "<ipython-input-83-b91090bf27e7>:5: SettingWithCopyWarning: \n",
      "A value is trying to be set on a copy of a slice from a DataFrame.\n",
      "Try using .loc[row_indexer,col_indexer] = value instead\n",
      "\n",
      "See the caveats in the documentation: https://pandas.pydata.org/pandas-docs/stable/user_guide/indexing.html#returning-a-view-versus-a-copy\n",
      "  wajir['longitude'] = wajir['longitude'] * factors\n"
     ]
    }
   ],
   "source": [
    "# calculate the correction factor for each value\n",
    "factors = wajir['longitude'].apply(lambda x: 10 ** -(len(str(int(x))) - 2))\n",
    "\n",
    "# divide each value by its correction factor\n",
    "wajir['longitude'] = wajir['longitude'] * factors\n"
   ]
  },
  {
   "cell_type": "code",
   "execution_count": 84,
   "metadata": {},
   "outputs": [
    {
     "name": "stderr",
     "output_type": "stream",
     "text": [
      "c:\\Users\\USER\\anaconda3\\envs\\learn-env\\lib\\site-packages\\seaborn\\categorical.py:82: FutureWarning: iteritems is deprecated and will be removed in a future version. Use .items instead.\n",
      "  plot_data = [np.asarray(s, float) for k, s in iter_data]\n"
     ]
    },
    {
     "data": {
      "image/png": "[encoded data removed]",
      "text/plain": [
       "<Figure size 576x360 with 1 Axes>"
      ]
     },
     "metadata": {
      "needs_background": "light"
     },
     "output_type": "display_data"
    }
   ],
   "source": [
    "# Create a figure with a single subplot\n",
    "fig, ax = plt.subplots(figsize=(8, 5))\n",
    "\n",
    "# Create a boxplot for the latitude and longitude columns\n",
    "sns.boxplot(data=wajir[['latitude', 'longitude']], orient='h', ax=ax, palette='pastel')\n",
    "\n",
    "# Set the chart title and axis labels\n",
    "ax.set_title('Latitude and Longitude Boxplot', fontsize=14)\n",
    "ax.set_xlabel('Coordinate Value', fontsize=12)\n",
    "ax.set_ylabel('Coordinate Type', fontsize=12)\n",
    "ax.tick_params(labelsize=10)\n",
    "\n",
    "# Show the chart\n",
    "plt.show()\n"
   ]
  },
  {
   "cell_type": "code",
   "execution_count": 85,
   "metadata": {},
   "outputs": [],
   "source": [
    "# Define a threshold for considering outliers (e.g., 3 standard deviations)\n",
    "threshold = 10 * wajir['latitude'].std()"
   ]
  },
  {
   "cell_type": "code",
   "execution_count": 86,
   "metadata": {},
   "outputs": [],
   "source": [
    "# Identify outliers based on the threshold\n",
    "outliers = ((wajir['latitude'] - mean_latitude).abs() > threshold) | ((wajir['longitude'] - mean_longitude).abs() > threshold)\n"
   ]
  },
  {
   "cell_type": "code",
   "execution_count": 87,
   "metadata": {},
   "outputs": [],
   "source": [
    "# Replace outliers with random values around the mean\n",
    "wajir.loc[outliers, 'latitude'] = np.random.normal(loc=mean_latitude, scale=wajir['latitude'].std(), size=outliers.sum())\n",
    "wajir.loc[outliers, 'longitude'] = np.random.normal(loc=mean_longitude, scale=wajir['longitude'].std(), size=outliers.sum())\n"
   ]
  },
  {
   "cell_type": "code",
   "execution_count": 88,
   "metadata": {},
   "outputs": [
    {
     "name": "stderr",
     "output_type": "stream",
     "text": [
      "c:\\Users\\USER\\anaconda3\\envs\\learn-env\\lib\\site-packages\\seaborn\\categorical.py:82: FutureWarning: iteritems is deprecated and will be removed in a future version. Use .items instead.\n",
      "  plot_data = [np.asarray(s, float) for k, s in iter_data]\n"
     ]
    },
    {
     "data": {
      "image/png": "[encoded data removed]",
      "text/plain": [
       "<Figure size 576x360 with 1 Axes>"
      ]
     },
     "metadata": {
      "needs_background": "light"
     },
     "output_type": "display_data"
    }
   ],
   "source": [
    "# Create a figure with a single subplot\n",
    "fig, ax = plt.subplots(figsize=(8, 5))\n",
    "\n",
    "# Create a boxplot for the latitude and longitude columns\n",
    "sns.boxplot(data=wajir[['latitude', 'longitude']], orient='h', ax=ax, palette='pastel')\n",
    "\n",
    "# Set the chart title and axis labels\n",
    "ax.set_title('Latitude and Longitude Boxplot', fontsize=14)\n",
    "ax.set_xlabel('Coordinate Value', fontsize=12)\n",
    "ax.set_ylabel('Coordinate Type', fontsize=12)\n",
    "ax.tick_params(labelsize=10)\n",
    "\n",
    "# Show the chart\n",
    "plt.show()\n"
   ]
  },
  {
   "cell_type": "code",
   "execution_count": 89,
   "metadata": {},
   "outputs": [],
   "source": [
    "# Calculate the mean latitude and longitude\n",
    "mean_latitude = wajir['latitude'].mean()\n",
    "mean_longitude = wajir['longitude'].mean()\n",
    "\n",
    "# Define a threshold for considering outliers (e.g., 3 standard deviations)\n",
    "threshold = 3 * wajir['latitude'].std()\n",
    "\n",
    "# Identify outliers based on the threshold\n",
    "outliers = ((wajir['latitude'] - mean_latitude).abs() > threshold) | ((wajir['longitude'] - mean_longitude).abs() > threshold)\n",
    "\n",
    "# Replace outliers with random values around the mean\n",
    "wajir.loc[outliers, 'latitude'] = np.random.normal(loc=mean_latitude, scale=wajir['latitude'].std(), size=outliers.sum())\n",
    "wajir.loc[outliers, 'longitude'] = np.random.normal(loc=mean_longitude, scale=wajir['longitude'].std(), size=outliers.sum())\n"
   ]
  },
  {
   "cell_type": "code",
   "execution_count": 90,
   "metadata": {},
   "outputs": [
    {
     "name": "stderr",
     "output_type": "stream",
     "text": [
      "c:\\Users\\USER\\anaconda3\\envs\\learn-env\\lib\\site-packages\\seaborn\\categorical.py:82: FutureWarning: iteritems is deprecated and will be removed in a future version. Use .items instead.\n",
      "  plot_data = [np.asarray(s, float) for k, s in iter_data]\n"
     ]
    },
    {
     "data": {
      "image/png": "[encoded data removed]",
      "text/plain": [
       "<Figure size 576x360 with 1 Axes>"
      ]
     },
     "metadata": {
      "needs_background": "light"
     },
     "output_type": "display_data"
    }
   ],
   "source": [
    "# Create a figure with a single subplot\n",
    "fig, ax = plt.subplots(figsize=(8, 5))\n",
    "\n",
    "# Create a boxplot for the latitude and longitude columns\n",
    "sns.boxplot(data=wajir[['latitude', 'longitude']], orient='h', ax=ax, palette='pastel')\n",
    "\n",
    "# Set the chart title and axis labels\n",
    "ax.set_title('Latitude and Longitude Boxplot', fontsize=14)\n",
    "ax.set_xlabel('Coordinate Value', fontsize=12)\n",
    "ax.set_ylabel('Coordinate Type', fontsize=12)\n",
    "ax.tick_params(labelsize=10)\n",
    "\n",
    "# Show the chart\n",
    "plt.show()\n"
   ]
  },
  {
   "cell_type": "code",
   "execution_count": 91,
   "metadata": {},
   "outputs": [],
   "source": [
    "# Calculate the mean latitude and longitude\n",
    "mean_latitude = wajir['latitude'].mean()\n",
    "mean_longitude = wajir['longitude'].mean()\n",
    "\n",
    "# Define a threshold for considering outliers (e.g., 3 standard deviations)\n",
    "threshold = 3 * wajir['latitude'].std()\n",
    "\n",
    "# Identify outliers based on the threshold\n",
    "outliers = ((wajir['latitude'] - mean_latitude).abs() > threshold) | ((wajir['longitude'] - mean_longitude).abs() > threshold)\n",
    "\n",
    "# Replace outliers with random values around the mean\n",
    "wajir.loc[outliers, 'latitude'] = np.random.normal(loc=mean_latitude, scale=wajir['latitude'].std(), size=outliers.sum())\n",
    "wajir.loc[outliers, 'longitude'] = np.random.normal(loc=mean_longitude, scale=wajir['longitude'].std(), size=outliers.sum())\n"
   ]
  },
  {
   "cell_type": "code",
   "execution_count": 92,
   "metadata": {},
   "outputs": [
    {
     "name": "stderr",
     "output_type": "stream",
     "text": [
      "c:\\Users\\USER\\anaconda3\\envs\\learn-env\\lib\\site-packages\\seaborn\\categorical.py:82: FutureWarning: iteritems is deprecated and will be removed in a future version. Use .items instead.\n",
      "  plot_data = [np.asarray(s, float) for k, s in iter_data]\n"
     ]
    },
    {
     "data": {
      "image/png": "[encoded data removed]",
      "text/plain": [
       "<Figure size 576x360 with 1 Axes>"
      ]
     },
     "metadata": {
      "needs_background": "light"
     },
     "output_type": "display_data"
    }
   ],
   "source": [
    "# Create a figure with a single subplot\n",
    "fig, ax = plt.subplots(figsize=(8, 5))\n",
    "\n",
    "# Create a boxplot for the latitude and longitude columns\n",
    "sns.boxplot(data=wajir[['latitude', 'longitude']], orient='h', ax=ax, palette='pastel')\n",
    "\n",
    "# Set the chart title and axis labels\n",
    "ax.set_title('Latitude and Longitude Boxplot', fontsize=14)\n",
    "ax.set_xlabel('Coordinate Value', fontsize=12)\n",
    "ax.set_ylabel('Coordinate Type', fontsize=12)\n",
    "ax.tick_params(labelsize=10)\n",
    "\n",
    "# Show the chart\n",
    "plt.show()\n"
   ]
  },
  {
   "cell_type": "code",
   "execution_count": 93,
   "metadata": {},
   "outputs": [],
   "source": [
    "# Calculate the mean latitude and longitude\n",
    "mean_latitude = wajir['latitude'].mean()\n",
    "mean_longitude = wajir['longitude'].mean()\n",
    "\n",
    "# Define a threshold for considering outliers (e.g., 3 standard deviations)\n",
    "threshold = 3 * wajir['latitude'].std()\n",
    "\n",
    "# Identify outliers based on the threshold\n",
    "outliers = ((wajir['latitude'] - mean_latitude).abs() > threshold) | ((wajir['longitude'] - mean_longitude).abs() > threshold)\n",
    "\n",
    "# Replace outliers with random values around the mean\n",
    "wajir.loc[outliers, 'latitude'] = np.random.normal(loc=mean_latitude, scale=wajir['latitude'].std(), size=outliers.sum())\n",
    "wajir.loc[outliers, 'longitude'] = np.random.normal(loc=mean_longitude, scale=wajir['longitude'].std(), size=outliers.sum())\n"
   ]
  },
  {
   "cell_type": "code",
   "execution_count": 94,
   "metadata": {},
   "outputs": [
    {
     "name": "stderr",
     "output_type": "stream",
     "text": [
      "c:\\Users\\USER\\anaconda3\\envs\\learn-env\\lib\\site-packages\\seaborn\\categorical.py:82: FutureWarning: iteritems is deprecated and will be removed in a future version. Use .items instead.\n",
      "  plot_data = [np.asarray(s, float) for k, s in iter_data]\n"
     ]
    },
    {
     "data": {
      "image/png": "[encoded data removed]",
      "text/plain": [
       "<Figure size 576x360 with 1 Axes>"
      ]
     },
     "metadata": {
      "needs_background": "light"
     },
     "output_type": "display_data"
    }
   ],
   "source": [
    "# Create a figure with a single subplot\n",
    "fig, ax = plt.subplots(figsize=(8, 5))\n",
    "\n",
    "# Create a boxplot for the latitude and longitude columns\n",
    "sns.boxplot(data=wajir[['latitude', 'longitude']], orient='h', ax=ax, palette='pastel')\n",
    "\n",
    "# Set the chart title and axis labels\n",
    "ax.set_title('Latitude and Longitude Boxplot', fontsize=14)\n",
    "ax.set_xlabel('Coordinate Value', fontsize=12)\n",
    "ax.set_ylabel('Coordinate Type', fontsize=12)\n",
    "ax.tick_params(labelsize=10)\n",
    "\n",
    "# Show the chart\n",
    "plt.show()\n"
   ]
  },
  {
   "cell_type": "code",
   "execution_count": 95,
   "metadata": {},
   "outputs": [],
   "source": [
    "# Calculate the mean latitude and longitude\n",
    "mean_latitude = wajir['latitude'].mean()\n",
    "mean_longitude = wajir['longitude'].mean()\n",
    "\n",
    "# Define a threshold for considering outliers (e.g., 3 standard deviations)\n",
    "threshold = 3 * wajir['latitude'].std()\n",
    "\n",
    "# Identify outliers based on the threshold\n",
    "outliers = ((wajir['latitude'] - mean_latitude).abs() > threshold) | ((wajir['longitude'] - mean_longitude).abs() > threshold)\n",
    "\n",
    "# Replace outliers with random values around the mean\n",
    "wajir.loc[outliers, 'latitude'] = np.random.normal(loc=mean_latitude, scale=wajir['latitude'].std(), size=outliers.sum())\n",
    "wajir.loc[outliers, 'longitude'] = np.random.normal(loc=mean_longitude, scale=wajir['longitude'].std(), size=outliers.sum())\n"
   ]
  },
  {
   "cell_type": "code",
   "execution_count": 96,
   "metadata": {},
   "outputs": [
    {
     "name": "stderr",
     "output_type": "stream",
     "text": [
      "c:\\Users\\USER\\anaconda3\\envs\\learn-env\\lib\\site-packages\\seaborn\\categorical.py:82: FutureWarning: iteritems is deprecated and will be removed in a future version. Use .items instead.\n",
      "  plot_data = [np.asarray(s, float) for k, s in iter_data]\n"
     ]
    },
    {
     "data": {
      "image/png": "[encoded data removed]",
      "text/plain": [
       "<Figure size 576x360 with 1 Axes>"
      ]
     },
     "metadata": {
      "needs_background": "light"
     },
     "output_type": "display_data"
    }
   ],
   "source": [
    "# Create a figure with a single subplot\n",
    "fig, ax = plt.subplots(figsize=(8, 5))\n",
    "\n",
    "# Create a boxplot for the latitude and longitude columns\n",
    "sns.boxplot(data=wajir[['latitude', 'longitude']], orient='h', ax=ax, palette='pastel')\n",
    "\n",
    "# Set the chart title and axis labels\n",
    "ax.set_title('Latitude and Longitude Boxplot', fontsize=14)\n",
    "ax.set_xlabel('Coordinate Value', fontsize=12)\n",
    "ax.set_ylabel('Coordinate Type', fontsize=12)\n",
    "ax.tick_params(labelsize=10)\n",
    "\n",
    "# Show the chart\n",
    "plt.show()\n"
   ]
  },
  {
   "cell_type": "code",
   "execution_count": 97,
   "metadata": {},
   "outputs": [],
   "source": [
    "# Calculate the mean latitude and longitude\n",
    "mean_latitude = wajir['latitude'].mean()\n",
    "mean_longitude = wajir['longitude'].mean()\n",
    "\n",
    "# Define a threshold for considering outliers (e.g., 3 standard deviations)\n",
    "threshold =3 * wajir['latitude'].std()\n",
    "\n",
    "# Identify outliers based on the threshold\n",
    "outliers = ((wajir['latitude'] - mean_latitude).abs() > threshold) | ((wajir['longitude'] - mean_longitude).abs() > threshold)\n",
    "\n",
    "# Replace outliers with random values around the mean\n",
    "wajir.loc[outliers, 'latitude'] = np.random.normal(loc=mean_latitude, scale=wajir['latitude'].std(), size=outliers.sum())\n",
    "wajir.loc[outliers, 'longitude'] = np.random.normal(loc=mean_longitude, scale=wajir['longitude'].std(), size=outliers.sum())\n"
   ]
  },
  {
   "cell_type": "code",
   "execution_count": 98,
   "metadata": {},
   "outputs": [
    {
     "name": "stderr",
     "output_type": "stream",
     "text": [
      "c:\\Users\\USER\\anaconda3\\envs\\learn-env\\lib\\site-packages\\seaborn\\categorical.py:82: FutureWarning: iteritems is deprecated and will be removed in a future version. Use .items instead.\n",
      "  plot_data = [np.asarray(s, float) for k, s in iter_data]\n"
     ]
    },
    {
     "data": {
      "image/png": "[encoded data removed]",
      "text/plain": [
       "<Figure size 576x360 with 1 Axes>"
      ]
     },
     "metadata": {
      "needs_background": "light"
     },
     "output_type": "display_data"
    }
   ],
   "source": [
    "# Create a figure with a single subplot\n",
    "fig, ax = plt.subplots(figsize=(8, 5))\n",
    "\n",
    "# Create a boxplot for the latitude and longitude columns\n",
    "sns.boxplot(data=wajir[['latitude', 'longitude']], orient='h', ax=ax, palette='pastel')\n",
    "\n",
    "# Set the chart title and axis labels\n",
    "ax.set_title('Latitude and Longitude Boxplot', fontsize=14)\n",
    "ax.set_xlabel('Coordinate Value', fontsize=12)\n",
    "ax.set_ylabel('Coordinate Type', fontsize=12)\n",
    "ax.tick_params(labelsize=10)\n",
    "\n",
    "# Show the chart\n",
    "plt.show()\n"
   ]
  },
  {
   "cell_type": "code",
   "execution_count": 99,
   "metadata": {},
   "outputs": [],
   "source": [
    "# Calculate the mean latitude and longitude\n",
    "mean_latitude = wajir['latitude'].mean()\n",
    "mean_longitude = wajir['longitude'].mean()\n",
    "\n",
    "# Define a threshold for considering outliers (e.g., 3 standard deviations)\n",
    "threshold = 3 * wajir['latitude'].std()\n",
    "\n",
    "# Identify outliers based on the threshold\n",
    "outliers = ((wajir['latitude'] - mean_latitude).abs() > threshold) | ((wajir['longitude'] - mean_longitude).abs() > threshold)\n",
    "\n",
    "# Replace outliers with random values around the mean\n",
    "wajir.loc[outliers, 'latitude'] = np.random.normal(loc=mean_latitude, scale=wajir['latitude'].std(), size=outliers.sum())\n",
    "wajir.loc[outliers, 'longitude'] = np.random.normal(loc=mean_longitude, scale=wajir['longitude'].std(), size=outliers.sum())\n"
   ]
  },
  {
   "cell_type": "code",
   "execution_count": 100,
   "metadata": {},
   "outputs": [
    {
     "name": "stderr",
     "output_type": "stream",
     "text": [
      "c:\\Users\\USER\\anaconda3\\envs\\learn-env\\lib\\site-packages\\seaborn\\categorical.py:82: FutureWarning: iteritems is deprecated and will be removed in a future version. Use .items instead.\n",
      "  plot_data = [np.asarray(s, float) for k, s in iter_data]\n"
     ]
    },
    {
     "data": {
      "image/png": "[encoded data removed]",
      "text/plain": [
       "<Figure size 576x360 with 1 Axes>"
      ]
     },
     "metadata": {
      "needs_background": "light"
     },
     "output_type": "display_data"
    }
   ],
   "source": [
    "# Create a figure with a single subplot\n",
    "fig, ax = plt.subplots(figsize=(8, 5))\n",
    "\n",
    "# Create a boxplot for the latitude and longitude columns\n",
    "sns.boxplot(data=wajir[['latitude', 'longitude']], orient='h', ax=ax, palette='pastel')\n",
    "\n",
    "# Set the chart title and axis labels\n",
    "ax.set_title('Latitude and Longitude Boxplot', fontsize=14)\n",
    "ax.set_xlabel('Coordinate Value', fontsize=12)\n",
    "ax.set_ylabel('Coordinate Type', fontsize=12)\n",
    "ax.tick_params(labelsize=10)\n",
    "\n",
    "# Show the chart\n",
    "plt.show()\n"
   ]
  },
  {
   "cell_type": "code",
   "execution_count": 101,
   "metadata": {},
   "outputs": [],
   "source": [
    "# Calculate the mean latitude and longitude\n",
    "mean_latitude = wajir['latitude'].mean()\n",
    "mean_longitude = wajir['longitude'].mean()\n",
    "\n",
    "# Define a threshold for considering outliers (e.g., 3 standard deviations)\n",
    "threshold = 3 * wajir['latitude'].std()\n",
    "\n",
    "# Identify outliers based on the threshold\n",
    "outliers = ((wajir['latitude'] - mean_latitude).abs() > threshold) | ((wajir['longitude'] - mean_longitude).abs() > threshold)\n",
    "\n",
    "# Replace outliers with random values around the mean\n",
    "wajir.loc[outliers, 'latitude'] = np.random.normal(loc=mean_latitude, scale=wajir['latitude'].std(), size=outliers.sum())\n",
    "wajir.loc[outliers, 'longitude'] = np.random.normal(loc=mean_longitude, scale=wajir['longitude'].std(), size=outliers.sum())\n"
   ]
  },
  {
   "cell_type": "code",
   "execution_count": 102,
   "metadata": {},
   "outputs": [
    {
     "name": "stderr",
     "output_type": "stream",
     "text": [
      "c:\\Users\\USER\\anaconda3\\envs\\learn-env\\lib\\site-packages\\seaborn\\categorical.py:82: FutureWarning: iteritems is deprecated and will be removed in a future version. Use .items instead.\n",
      "  plot_data = [np.asarray(s, float) for k, s in iter_data]\n"
     ]
    },
    {
     "data": {
      "image/png": "[encoded data removed]",
      "text/plain": [
       "<Figure size 576x360 with 1 Axes>"
      ]
     },
     "metadata": {
      "needs_background": "light"
     },
     "output_type": "display_data"
    }
   ],
   "source": [
    "# Create a figure with a single subplot\n",
    "fig, ax = plt.subplots(figsize=(8, 5))\n",
    "\n",
    "# Create a boxplot for the latitude and longitude columns\n",
    "sns.boxplot(data=wajir[['latitude', 'longitude']], orient='h', ax=ax, palette='pastel')\n",
    "\n",
    "# Set the chart title and axis labels\n",
    "ax.set_title('Latitude and Longitude Boxplot', fontsize=14)\n",
    "ax.set_xlabel('Coordinate Value', fontsize=12)\n",
    "ax.set_ylabel('Coordinate Type', fontsize=12)\n",
    "ax.tick_params(labelsize=10)\n",
    "\n",
    "# Show the chart\n",
    "plt.show()\n"
   ]
  },
  {
   "cell_type": "code",
   "execution_count": 103,
   "metadata": {},
   "outputs": [],
   "source": [
    "# Calculate the mean latitude and longitude\n",
    "mean_latitude = wajir['latitude'].mean()\n",
    "mean_longitude = wajir['longitude'].mean()\n",
    "\n",
    "# Define a threshold for considering outliers (e.g., 3 standard deviations)\n",
    "threshold = 3 * wajir['latitude'].std()\n",
    "\n",
    "# Identify outliers based on the threshold\n",
    "outliers = ((wajir['latitude'] - mean_latitude).abs() > threshold) | ((wajir['longitude'] - mean_longitude).abs() > threshold)\n",
    "\n",
    "# Replace outliers with random values around the mean\n",
    "wajir.loc[outliers, 'latitude'] = np.random.normal(loc=mean_latitude, scale=wajir['latitude'].std(), size=outliers.sum())\n",
    "wajir.loc[outliers, 'longitude'] = np.random.normal(loc=mean_longitude, scale=wajir['longitude'].std(), size=outliers.sum())\n"
   ]
  },
  {
   "cell_type": "code",
   "execution_count": 104,
   "metadata": {},
   "outputs": [
    {
     "name": "stderr",
     "output_type": "stream",
     "text": [
      "c:\\Users\\USER\\anaconda3\\envs\\learn-env\\lib\\site-packages\\seaborn\\categorical.py:82: FutureWarning: iteritems is deprecated and will be removed in a future version. Use .items instead.\n",
      "  plot_data = [np.asarray(s, float) for k, s in iter_data]\n"
     ]
    },
    {
     "data": {
      "image/png": "[encoded data removed]",
      "text/plain": [
       "<Figure size 576x360 with 1 Axes>"
      ]
     },
     "metadata": {
      "needs_background": "light"
     },
     "output_type": "display_data"
    }
   ],
   "source": [
    "# Create a figure with a single subplot\n",
    "fig, ax = plt.subplots(figsize=(8, 5))\n",
    "\n",
    "# Create a boxplot for the latitude and longitude columns\n",
    "sns.boxplot(data=wajir[['latitude', 'longitude']], orient='h', ax=ax, palette='pastel')\n",
    "\n",
    "# Set the chart title and axis labels\n",
    "ax.set_title('Latitude and Longitude Boxplot', fontsize=14)\n",
    "ax.set_xlabel('Coordinate Value', fontsize=12)\n",
    "ax.set_ylabel('Coordinate Type', fontsize=12)\n",
    "ax.tick_params(labelsize=10)\n",
    "\n",
    "# Show the chart\n",
    "plt.show()\n"
   ]
  },
  {
   "cell_type": "code",
   "execution_count": 105,
   "metadata": {},
   "outputs": [],
   "source": [
    "# Calculate the mean latitude and longitude\n",
    "mean_latitude = wajir['latitude'].mean()\n",
    "mean_longitude = wajir['longitude'].mean()\n",
    "\n",
    "# Define a threshold for considering outliers (e.g., 3 standard deviations)\n",
    "threshold = 3 * wajir['latitude'].std()\n",
    "\n",
    "# Identify outliers based on the threshold\n",
    "outliers = ((wajir['latitude'] - mean_latitude).abs() > threshold) | ((wajir['longitude'] - mean_longitude).abs() > threshold)\n",
    "\n",
    "# Replace outliers with random values around the mean\n",
    "wajir.loc[outliers, 'latitude'] = np.random.normal(loc=mean_latitude, scale=wajir['latitude'].std(), size=outliers.sum())\n",
    "wajir.loc[outliers, 'longitude'] = np.random.normal(loc=mean_longitude, scale=wajir['longitude'].std(), size=outliers.sum())\n"
   ]
  },
  {
   "cell_type": "code",
   "execution_count": 106,
   "metadata": {},
   "outputs": [
    {
     "name": "stderr",
     "output_type": "stream",
     "text": [
      "c:\\Users\\USER\\anaconda3\\envs\\learn-env\\lib\\site-packages\\seaborn\\categorical.py:82: FutureWarning: iteritems is deprecated and will be removed in a future version. Use .items instead.\n",
      "  plot_data = [np.asarray(s, float) for k, s in iter_data]\n"
     ]
    },
    {
     "data": {
      "image/png": "[encoded data removed]",
      "text/plain": [
       "<Figure size 576x360 with 1 Axes>"
      ]
     },
     "metadata": {
      "needs_background": "light"
     },
     "output_type": "display_data"
    }
   ],
   "source": [
    "# Create a figure with a single subplot\n",
    "fig, ax = plt.subplots(figsize=(8, 5))\n",
    "\n",
    "# Create a boxplot for the latitude and longitude columns\n",
    "sns.boxplot(data=wajir[['latitude', 'longitude']], orient='h', ax=ax, palette='pastel')\n",
    "\n",
    "# Set the chart title and axis labels\n",
    "ax.set_title('Latitude and Longitude Boxplot', fontsize=14)\n",
    "ax.set_xlabel('Coordinate Value', fontsize=12)\n",
    "ax.set_ylabel('Coordinate Type', fontsize=12)\n",
    "ax.tick_params(labelsize=10)\n",
    "\n",
    "# Show the chart\n",
    "plt.show()\n"
   ]
  },
  {
   "cell_type": "code",
   "execution_count": 107,
   "metadata": {},
   "outputs": [],
   "source": [
    "# Read the Wajir boundary shapefile into a GeoDataFrame\n",
    "wajir_boundary = gpd.read_file('Shapefiles/Wajir_County.shp')  # Replace 'wajir_boundary.shp' with the actual path to your Wajir boundary shapefile\n"
   ]
  },
  {
   "cell_type": "code",
   "execution_count": 108,
   "metadata": {},
   "outputs": [],
   "source": [
    "# Function to check if a coordinate is in Wajir\n",
    "def is_coordinate_in_wajir(latitude, longitude):\n",
    "    point = Point(longitude, latitude)\n",
    "    return wajir_boundary.contains(point).any()\n",
    "\n",
    "# Iterate through the dataframe rows and update coordinates if necessary\n",
    "for index, row in wajir.iterrows():\n",
    "    latitude = row['latitude']\n",
    "    longitude = row['longitude']\n",
    "    \n",
    "    if not is_coordinate_in_wajir(latitude, longitude):\n",
    "        # Assign random coordinates within Wajir\n",
    "        while True:\n",
    "            random_latitude = random.uniform(wajir_boundary.bounds['miny'], wajir_boundary.bounds['maxy'])\n",
    "            random_longitude = random.uniform(wajir_boundary.bounds['minx'], wajir_boundary.bounds['maxx'])\n",
    "            \n",
    "            if is_coordinate_in_wajir(random_latitude, random_longitude):\n",
    "                # Found a random coordinate within Wajir, update the dataframe\n",
    "                wajir.at[index, 'latitude'] = random_latitude\n",
    "                wajir.at[index, 'longitude'] = random_longitude\n",
    "                break"
   ]
  },
  {
   "cell_type": "code",
   "execution_count": 109,
   "metadata": {},
   "outputs": [],
   "source": [
    "## save dataset\n",
    "wajir.to_csv('wajir.csv', index=False)"
   ]
  },
  {
   "attachments": {},
   "cell_type": "markdown",
   "metadata": {},
   "source": [
    "### *3) Mandera*"
   ]
  },
  {
   "cell_type": "code",
   "execution_count": 110,
   "metadata": {},
   "outputs": [
    {
     "data": {
      "text/html": [
       "<div style=\"width:100%;\"><div style=\"position:relative;width:100%;height:0;padding-bottom:60%;\"><span style=\"color:#565656\">Make this Notebook Trusted to load map: File -> Trust Notebook</span><iframe src=\"about:blank\" style=\"position:absolute;width:100%;height:100%;left:0;top:0;border:none !important;\" data-html=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 onload=\"this.contentDocument.open();this.contentDocument.write(atob(this.getAttribute('data-html')));this.contentDocument.close();\" allowfullscreen webkitallowfullscreen mozallowfullscreen></iframe></div></div>"
      ],
      "text/plain": [
       "<folium.folium.Map at 0x2789aa76a30>"
      ]
     },
     "execution_count": 110,
     "metadata": {},
     "output_type": "execute_result"
    }
   ],
   "source": [
    "# Create a map of Mandera\n",
    "mandera_map = folium.Map(location=[3.4421, 40.9382], zoom_start=10)\n",
    "\n",
    "# Add a marker for Marsabit town\n",
    "mandera_marker = folium.Marker(location=[3.4421, 40.9382], popup='Mandera')\n",
    "mandera_marker.add_to(mandera_map)\n",
    "\n",
    "# Show the map\n",
    "mandera_map"
   ]
  },
  {
   "cell_type": "code",
   "execution_count": 111,
   "metadata": {},
   "outputs": [],
   "source": [
    "# Filter out Marsabit in dataframe\n",
    "mandera = df[df['county_name'] == \"Mandera\"]"
   ]
  },
  {
   "cell_type": "code",
   "execution_count": 112,
   "metadata": {},
   "outputs": [
    {
     "name": "stdout",
     "output_type": "stream",
     "text": [
      "<class 'pandas.core.frame.DataFrame'>\n",
      "Int64Index: 151606 entries, 0 to 400783\n",
      "Data columns (total 17 columns):\n",
      " #   Column             Non-Null Count   Dtype         \n",
      "---  ------             --------------   -----         \n",
      " 0   household_id       151606 non-null  object        \n",
      " 1   village_id         151606 non-null  int64         \n",
      " 2   village_name       151606 non-null  object        \n",
      " 3   sublocation_name   151606 non-null  object        \n",
      " 4   sublocation_id     151606 non-null  int64         \n",
      " 5   location_id        151606 non-null  int64         \n",
      " 6   location_name      151606 non-null  object        \n",
      " 7   constituency_name  151606 non-null  object        \n",
      " 8   county_name        151606 non-null  object        \n",
      " 9   isbeneficiaryhh    151606 non-null  bool          \n",
      " 10  latitude           151606 non-null  float64       \n",
      " 11  longitude          151606 non-null  float64       \n",
      " 12  ruralurban         139321 non-null  object        \n",
      " 13  constituency_id    151606 non-null  int64         \n",
      " 14  entry_date         151606 non-null  datetime64[ns]\n",
      " 15  usercode           151606 non-null  object        \n",
      " 16  county_id          151606 non-null  int64         \n",
      "dtypes: bool(1), datetime64[ns](1), float64(2), int64(5), object(8)\n",
      "memory usage: 19.8+ MB\n"
     ]
    }
   ],
   "source": [
    "mandera.info()"
   ]
  },
  {
   "cell_type": "code",
   "execution_count": 113,
   "metadata": {},
   "outputs": [
    {
     "name": "stderr",
     "output_type": "stream",
     "text": [
      "c:\\Users\\USER\\anaconda3\\envs\\learn-env\\lib\\site-packages\\seaborn\\categorical.py:82: FutureWarning: iteritems is deprecated and will be removed in a future version. Use .items instead.\n",
      "  plot_data = [np.asarray(s, float) for k, s in iter_data]\n"
     ]
    },
    {
     "data": {
      "image/png": "[encoded data removed]",
      "text/plain": [
       "<Figure size 576x360 with 1 Axes>"
      ]
     },
     "metadata": {
      "needs_background": "light"
     },
     "output_type": "display_data"
    }
   ],
   "source": [
    "# Create a figure with a single subplot\n",
    "fig, ax = plt.subplots(figsize=(8, 5))\n",
    "\n",
    "# Create a boxplot for the latitude and longitude columns\n",
    "sns.boxplot(data=mandera[['latitude', 'longitude']], orient='h', ax=ax, palette='pastel')\n",
    "\n",
    "# Set the chart title and axis labels\n",
    "ax.set_title('Latitude and Longitude Boxplot', fontsize=14)\n",
    "ax.set_xlabel('Coordinate Value', fontsize=12)\n",
    "ax.set_ylabel('Coordinate Type', fontsize=12)\n",
    "ax.tick_params(labelsize=10)\n",
    "\n",
    "# Show the chart\n",
    "plt.show()"
   ]
  },
  {
   "cell_type": "code",
   "execution_count": 114,
   "metadata": {},
   "outputs": [],
   "source": [
    "# If latitude is greater than longitude they interchange\n",
    "mask = mandera['latitude'] > mandera['longitude']\n",
    "mandera.loc[mask, ['latitude', 'longitude']] = mandera.loc[mask, ['longitude', 'latitude']].values\n"
   ]
  },
  {
   "cell_type": "code",
   "execution_count": 115,
   "metadata": {},
   "outputs": [
    {
     "name": "stderr",
     "output_type": "stream",
     "text": [
      "c:\\Users\\USER\\anaconda3\\envs\\learn-env\\lib\\site-packages\\seaborn\\categorical.py:82: FutureWarning: iteritems is deprecated and will be removed in a future version. Use .items instead.\n",
      "  plot_data = [np.asarray(s, float) for k, s in iter_data]\n"
     ]
    },
    {
     "data": {
      "image/png": "[encoded data removed]",
      "text/plain": [
       "<Figure size 576x360 with 1 Axes>"
      ]
     },
     "metadata": {
      "needs_background": "light"
     },
     "output_type": "display_data"
    }
   ],
   "source": [
    "# Create a figure with a single subplot\n",
    "fig, ax = plt.subplots(figsize=(8, 5))\n",
    "\n",
    "# Create a boxplot for the latitude and longitude columns\n",
    "sns.boxplot(data=mandera[['latitude', 'longitude']], orient='h', ax=ax, palette='pastel')\n",
    "\n",
    "# Set the chart title and axis labels\n",
    "ax.set_title('Latitude and Longitude Boxplot', fontsize=14)\n",
    "ax.set_xlabel('Coordinate Value', fontsize=12)\n",
    "ax.set_ylabel('Coordinate Type', fontsize=12)\n",
    "ax.tick_params(labelsize=10)\n",
    "\n",
    "# Show the chart\n",
    "plt.show()"
   ]
  },
  {
   "cell_type": "code",
   "execution_count": 116,
   "metadata": {},
   "outputs": [
    {
     "name": "stderr",
     "output_type": "stream",
     "text": [
      "<ipython-input-116-92c563b375b9>:5: SettingWithCopyWarning: \n",
      "A value is trying to be set on a copy of a slice from a DataFrame.\n",
      "Try using .loc[row_indexer,col_indexer] = value instead\n",
      "\n",
      "See the caveats in the documentation: https://pandas.pydata.org/pandas-docs/stable/user_guide/indexing.html#returning-a-view-versus-a-copy\n",
      "  mandera['latitude'] = mandera['latitude'] * factors\n"
     ]
    }
   ],
   "source": [
    "# calculate the correction factor for each value\n",
    "factors = mandera['latitude'].apply(lambda x: 10 ** -(len(str(int(x))) - 1))\n",
    "\n",
    "# divide each value by its correction factor\n",
    "mandera['latitude'] = mandera['latitude'] * factors\n",
    "\n",
    "# # print the corrected dataframe\n",
    "# print(df_sample)"
   ]
  },
  {
   "cell_type": "code",
   "execution_count": 117,
   "metadata": {},
   "outputs": [
    {
     "name": "stderr",
     "output_type": "stream",
     "text": [
      "c:\\Users\\USER\\anaconda3\\envs\\learn-env\\lib\\site-packages\\seaborn\\categorical.py:82: FutureWarning: iteritems is deprecated and will be removed in a future version. Use .items instead.\n",
      "  plot_data = [np.asarray(s, float) for k, s in iter_data]\n"
     ]
    },
    {
     "data": {
      "image/png": "[encoded data removed]",
      "text/plain": [
       "<Figure size 576x360 with 1 Axes>"
      ]
     },
     "metadata": {
      "needs_background": "light"
     },
     "output_type": "display_data"
    }
   ],
   "source": [
    "# Create a figure with a single subplot\n",
    "fig, ax = plt.subplots(figsize=(8, 5))\n",
    "\n",
    "# Create a boxplot for the latitude and longitude columns\n",
    "sns.boxplot(data=mandera[['latitude', 'longitude']], orient='h', ax=ax, palette='pastel')\n",
    "\n",
    "# Set the chart title and axis labels\n",
    "ax.set_title('Latitude and Longitude Boxplot', fontsize=14)\n",
    "ax.set_xlabel('Coordinate Value', fontsize=12)\n",
    "ax.set_ylabel('Coordinate Type', fontsize=12)\n",
    "ax.tick_params(labelsize=10)\n",
    "\n",
    "# Show the chart\n",
    "plt.show()"
   ]
  },
  {
   "cell_type": "code",
   "execution_count": 118,
   "metadata": {},
   "outputs": [
    {
     "name": "stderr",
     "output_type": "stream",
     "text": [
      "<ipython-input-118-9ee05d1aeb9e>:5: SettingWithCopyWarning: \n",
      "A value is trying to be set on a copy of a slice from a DataFrame.\n",
      "Try using .loc[row_indexer,col_indexer] = value instead\n",
      "\n",
      "See the caveats in the documentation: https://pandas.pydata.org/pandas-docs/stable/user_guide/indexing.html#returning-a-view-versus-a-copy\n",
      "  mandera['longitude'] = mandera['longitude'] * factors\n"
     ]
    }
   ],
   "source": [
    "# calculate the correction factor for each value\n",
    "factors = mandera['longitude'].apply(lambda x: 10 ** -(len(str(int(x))) - 2))\n",
    "\n",
    "# divide each value by its correction factor\n",
    "mandera['longitude'] = mandera['longitude'] * factors"
   ]
  },
  {
   "cell_type": "code",
   "execution_count": 119,
   "metadata": {},
   "outputs": [
    {
     "name": "stderr",
     "output_type": "stream",
     "text": [
      "c:\\Users\\USER\\anaconda3\\envs\\learn-env\\lib\\site-packages\\seaborn\\categorical.py:82: FutureWarning: iteritems is deprecated and will be removed in a future version. Use .items instead.\n",
      "  plot_data = [np.asarray(s, float) for k, s in iter_data]\n"
     ]
    },
    {
     "data": {
      "image/png": "[encoded data removed]",
      "text/plain": [
       "<Figure size 576x360 with 1 Axes>"
      ]
     },
     "metadata": {
      "needs_background": "light"
     },
     "output_type": "display_data"
    }
   ],
   "source": [
    "# Create a figure with a single subplot\n",
    "fig, ax = plt.subplots(figsize=(8, 5))\n",
    "\n",
    "# Create a boxplot for the latitude and longitude columns\n",
    "sns.boxplot(data=mandera[['latitude', 'longitude']], orient='h', ax=ax, palette='pastel')\n",
    "\n",
    "# Set the chart title and axis labels\n",
    "ax.set_title('Latitude and Longitude Boxplot', fontsize=14)\n",
    "ax.set_xlabel('Coordinate Value', fontsize=12)\n",
    "ax.set_ylabel('Coordinate Type', fontsize=12)\n",
    "ax.tick_params(labelsize=10)\n",
    "\n",
    "# Show the chart\n",
    "plt.show()"
   ]
  },
  {
   "cell_type": "code",
   "execution_count": 120,
   "metadata": {},
   "outputs": [],
   "source": [
    "# Define a threshold for considering outliers (e.g., 3 standard deviations)\n",
    "threshold = 10 * mandera['latitude'].std()\n",
    "\n",
    "# Identify outliers based on the threshold\n",
    "outliers = ((mandera['latitude'] - mean_latitude).abs() > threshold) | ((mandera['longitude'] - mean_longitude).abs() > threshold)\n",
    "\n",
    "# Replace outliers with random values around the mean\n",
    "mandera.loc[outliers, 'latitude'] = np.random.normal(loc=mean_latitude, scale=mandera['latitude'].std(), size=outliers.sum())\n",
    "mandera.loc[outliers, 'longitude'] = np.random.normal(loc=mean_longitude, scale=mandera['longitude'].std(), size=outliers.sum())\n"
   ]
  },
  {
   "cell_type": "code",
   "execution_count": 121,
   "metadata": {},
   "outputs": [
    {
     "name": "stderr",
     "output_type": "stream",
     "text": [
      "c:\\Users\\USER\\anaconda3\\envs\\learn-env\\lib\\site-packages\\seaborn\\categorical.py:82: FutureWarning: iteritems is deprecated and will be removed in a future version. Use .items instead.\n",
      "  plot_data = [np.asarray(s, float) for k, s in iter_data]\n"
     ]
    },
    {
     "data": {
      "image/png": "[encoded data removed]",
      "text/plain": [
       "<Figure size 576x360 with 1 Axes>"
      ]
     },
     "metadata": {
      "needs_background": "light"
     },
     "output_type": "display_data"
    }
   ],
   "source": [
    "# Create a figure with a single subplot\n",
    "fig, ax = plt.subplots(figsize=(8, 5))\n",
    "\n",
    "# Create a boxplot for the latitude and longitude columns\n",
    "sns.boxplot(data=mandera[['latitude', 'longitude']], orient='h', ax=ax, palette='pastel')\n",
    "\n",
    "# Set the chart title and axis labels\n",
    "ax.set_title('Latitude and Longitude Boxplot', fontsize=14)\n",
    "ax.set_xlabel('Coordinate Value', fontsize=12)\n",
    "ax.set_ylabel('Coordinate Type', fontsize=12)\n",
    "ax.tick_params(labelsize=10)\n",
    "\n",
    "# Show the chart\n",
    "plt.show()"
   ]
  },
  {
   "cell_type": "code",
   "execution_count": 122,
   "metadata": {},
   "outputs": [],
   "source": [
    "# Calculate the mean latitude and longitude\n",
    "mean_latitude = mandera['latitude'].mean()\n",
    "mean_longitude = mandera['longitude'].mean()\n",
    "\n",
    "# Define a threshold for considering outliers (e.g., 3 standard deviations)\n",
    "threshold = 3 * mandera['latitude'].std()\n",
    "\n",
    "# Identify outliers based on the threshold\n",
    "outliers = ((mandera['latitude'] - mean_latitude).abs() > threshold) | ((mandera['longitude'] - mean_longitude).abs() > threshold)\n",
    "\n",
    "# Replace outliers with random values around the mean\n",
    "mandera.loc[outliers, 'latitude'] = np.random.normal(loc=mean_latitude, scale=mandera['latitude'].std(), size=outliers.sum())\n",
    "mandera.loc[outliers, 'longitude'] = np.random.normal(loc=mean_longitude, scale=mandera['longitude'].std(), size=outliers.sum())\n"
   ]
  },
  {
   "cell_type": "code",
   "execution_count": 123,
   "metadata": {},
   "outputs": [
    {
     "name": "stderr",
     "output_type": "stream",
     "text": [
      "c:\\Users\\USER\\anaconda3\\envs\\learn-env\\lib\\site-packages\\seaborn\\categorical.py:82: FutureWarning: iteritems is deprecated and will be removed in a future version. Use .items instead.\n",
      "  plot_data = [np.asarray(s, float) for k, s in iter_data]\n"
     ]
    },
    {
     "data": {
      "image/png": "[encoded data removed]",
      "text/plain": [
       "<Figure size 576x360 with 1 Axes>"
      ]
     },
     "metadata": {
      "needs_background": "light"
     },
     "output_type": "display_data"
    }
   ],
   "source": [
    "# Create a figure with a single subplot\n",
    "fig, ax = plt.subplots(figsize=(8, 5))\n",
    "\n",
    "# Create a boxplot for the latitude and longitude columns\n",
    "sns.boxplot(data=mandera[['latitude', 'longitude']], orient='h', ax=ax, palette='pastel')\n",
    "\n",
    "# Set the chart title and axis labels\n",
    "ax.set_title('Latitude and Longitude Boxplot', fontsize=14)\n",
    "ax.set_xlabel('Coordinate Value', fontsize=12)\n",
    "ax.set_ylabel('Coordinate Type', fontsize=12)\n",
    "ax.tick_params(labelsize=10)\n",
    "\n",
    "# Show the chart\n",
    "plt.show()"
   ]
  },
  {
   "cell_type": "code",
   "execution_count": 124,
   "metadata": {},
   "outputs": [],
   "source": [
    "# Calculate the mean latitude and longitude\n",
    "mean_latitude = mandera['latitude'].mean()\n",
    "mean_longitude = mandera['longitude'].mean()\n",
    "\n",
    "# Define a threshold for considering outliers (e.g., 3 standard deviations)\n",
    "threshold = 3 * mandera['latitude'].std()\n",
    "\n",
    "# Identify outliers based on the threshold\n",
    "outliers = ((mandera['latitude'] - mean_latitude).abs() > threshold) | ((mandera['longitude'] - mean_longitude).abs() > threshold)\n",
    "\n",
    "# Replace outliers with random values around the mean\n",
    "mandera.loc[outliers, 'latitude'] = np.random.normal(loc=mean_latitude, scale=mandera['latitude'].std(), size=outliers.sum())\n",
    "mandera.loc[outliers, 'longitude'] = np.random.normal(loc=mean_longitude, scale=mandera['longitude'].std(), size=outliers.sum())\n"
   ]
  },
  {
   "cell_type": "code",
   "execution_count": 125,
   "metadata": {},
   "outputs": [
    {
     "name": "stderr",
     "output_type": "stream",
     "text": [
      "c:\\Users\\USER\\anaconda3\\envs\\learn-env\\lib\\site-packages\\seaborn\\categorical.py:82: FutureWarning: iteritems is deprecated and will be removed in a future version. Use .items instead.\n",
      "  plot_data = [np.asarray(s, float) for k, s in iter_data]\n"
     ]
    },
    {
     "data": {
      "image/png": "[encoded data removed]",
      "text/plain": [
       "<Figure size 576x360 with 1 Axes>"
      ]
     },
     "metadata": {
      "needs_background": "light"
     },
     "output_type": "display_data"
    }
   ],
   "source": [
    "# Create a figure with a single subplot\n",
    "fig, ax = plt.subplots(figsize=(8, 5))\n",
    "\n",
    "# Create a boxplot for the latitude and longitude columns\n",
    "sns.boxplot(data=mandera[['latitude', 'longitude']], orient='h', ax=ax, palette='pastel')\n",
    "\n",
    "# Set the chart title and axis labels\n",
    "ax.set_title('Latitude and Longitude Boxplot', fontsize=14)\n",
    "ax.set_xlabel('Coordinate Value', fontsize=12)\n",
    "ax.set_ylabel('Coordinate Type', fontsize=12)\n",
    "ax.tick_params(labelsize=10)\n",
    "\n",
    "# Show the chart\n",
    "plt.show()"
   ]
  },
  {
   "cell_type": "code",
   "execution_count": 127,
   "metadata": {},
   "outputs": [],
   "source": [
    "# Calculate the mean latitude and longitude\n",
    "mean_latitude = mandera['latitude'].mean()\n",
    "mean_longitude = mandera['longitude'].mean()\n",
    "\n",
    "# Define a threshold for considering outliers (e.g., 3 standard deviations)\n",
    "threshold = 3 * mandera['latitude'].std()\n",
    "\n",
    "# Identify outliers based on the threshold\n",
    "outliers = ((mandera['latitude'] - mean_latitude).abs() > threshold) | ((mandera['longitude'] - mean_longitude).abs() > threshold)\n",
    "\n",
    "# Replace outliers with random values around the mean\n",
    "mandera.loc[outliers, 'latitude'] = np.random.normal(loc=mean_latitude, scale=mandera['latitude'].std(), size=outliers.sum())\n",
    "mandera.loc[outliers, 'longitude'] = np.random.normal(loc=mean_longitude, scale=mandera['longitude'].std(), size=outliers.sum())\n"
   ]
  },
  {
   "cell_type": "code",
   "execution_count": 128,
   "metadata": {},
   "outputs": [
    {
     "name": "stderr",
     "output_type": "stream",
     "text": [
      "c:\\Users\\USER\\anaconda3\\envs\\learn-env\\lib\\site-packages\\seaborn\\categorical.py:82: FutureWarning: iteritems is deprecated and will be removed in a future version. Use .items instead.\n",
      "  plot_data = [np.asarray(s, float) for k, s in iter_data]\n"
     ]
    },
    {
     "data": {
      "image/png": "[encoded data removed]",
      "text/plain": [
       "<Figure size 576x360 with 1 Axes>"
      ]
     },
     "metadata": {
      "needs_background": "light"
     },
     "output_type": "display_data"
    }
   ],
   "source": [
    "# Create a figure with a single subplot\n",
    "fig, ax = plt.subplots(figsize=(8, 5))\n",
    "\n",
    "# Create a boxplot for the latitude and longitude columns\n",
    "sns.boxplot(data=mandera[['latitude', 'longitude']], orient='h', ax=ax, palette='pastel')\n",
    "\n",
    "# Set the chart title and axis labels\n",
    "ax.set_title('Latitude and Longitude Boxplot', fontsize=14)\n",
    "ax.set_xlabel('Coordinate Value', fontsize=12)\n",
    "ax.set_ylabel('Coordinate Type', fontsize=12)\n",
    "ax.tick_params(labelsize=10)\n",
    "\n",
    "# Show the chart\n",
    "plt.show()"
   ]
  },
  {
   "cell_type": "code",
   "execution_count": 129,
   "metadata": {},
   "outputs": [],
   "source": [
    "# Calculate the mean latitude and longitude\n",
    "mean_latitude = mandera['latitude'].mean()\n",
    "mean_longitude = mandera['longitude'].mean()\n",
    "\n",
    "# Define a threshold for considering outliers (e.g., 3 standard deviations)\n",
    "threshold = 3 * mandera['latitude'].std()\n",
    "\n",
    "# Identify outliers based on the threshold\n",
    "outliers = ((mandera['latitude'] - mean_latitude).abs() > threshold) | ((mandera['longitude'] - mean_longitude).abs() > threshold)\n",
    "\n",
    "# Replace outliers with random values around the mean\n",
    "mandera.loc[outliers, 'latitude'] = np.random.normal(loc=mean_latitude, scale=mandera['latitude'].std(), size=outliers.sum())\n",
    "mandera.loc[outliers, 'longitude'] = np.random.normal(loc=mean_longitude, scale=mandera['longitude'].std(), size=outliers.sum())\n"
   ]
  },
  {
   "cell_type": "code",
   "execution_count": 130,
   "metadata": {},
   "outputs": [
    {
     "name": "stderr",
     "output_type": "stream",
     "text": [
      "c:\\Users\\USER\\anaconda3\\envs\\learn-env\\lib\\site-packages\\seaborn\\categorical.py:82: FutureWarning: iteritems is deprecated and will be removed in a future version. Use .items instead.\n",
      "  plot_data = [np.asarray(s, float) for k, s in iter_data]\n"
     ]
    },
    {
     "data": {
      "image/png": "[encoded data removed]",
      "text/plain": [
       "<Figure size 576x360 with 1 Axes>"
      ]
     },
     "metadata": {
      "needs_background": "light"
     },
     "output_type": "display_data"
    }
   ],
   "source": [
    "# Create a figure with a single subplot\n",
    "fig, ax = plt.subplots(figsize=(8, 5))\n",
    "\n",
    "# Create a boxplot for the latitude and longitude columns\n",
    "sns.boxplot(data=mandera[['latitude', 'longitude']], orient='h', ax=ax, palette='pastel')\n",
    "\n",
    "# Set the chart title and axis labels\n",
    "ax.set_title('Latitude and Longitude Boxplot', fontsize=14)\n",
    "ax.set_xlabel('Coordinate Value', fontsize=12)\n",
    "ax.set_ylabel('Coordinate Type', fontsize=12)\n",
    "ax.tick_params(labelsize=10)\n",
    "\n",
    "# Show the chart\n",
    "plt.show()"
   ]
  },
  {
   "cell_type": "code",
   "execution_count": 131,
   "metadata": {},
   "outputs": [],
   "source": [
    "# Calculate the mean latitude and longitude\n",
    "mean_latitude = mandera['latitude'].mean()\n",
    "mean_longitude = mandera['longitude'].mean()\n",
    "\n",
    "# Define a threshold for considering outliers (e.g., 3 standard deviations)\n",
    "threshold = 3 * mandera['latitude'].std()\n",
    "\n",
    "# Identify outliers based on the threshold\n",
    "outliers = ((mandera['latitude'] - mean_latitude).abs() > threshold) | ((mandera['longitude'] - mean_longitude).abs() > threshold)\n",
    "\n",
    "# Replace outliers with random values around the mean\n",
    "mandera.loc[outliers, 'latitude'] = np.random.normal(loc=mean_latitude, scale=mandera['latitude'].std(), size=outliers.sum())\n",
    "mandera.loc[outliers, 'longitude'] = np.random.normal(loc=mean_longitude, scale=mandera['longitude'].std(), size=outliers.sum())\n"
   ]
  },
  {
   "cell_type": "code",
   "execution_count": 132,
   "metadata": {},
   "outputs": [
    {
     "name": "stderr",
     "output_type": "stream",
     "text": [
      "c:\\Users\\USER\\anaconda3\\envs\\learn-env\\lib\\site-packages\\seaborn\\categorical.py:82: FutureWarning: iteritems is deprecated and will be removed in a future version. Use .items instead.\n",
      "  plot_data = [np.asarray(s, float) for k, s in iter_data]\n"
     ]
    },
    {
     "data": {
      "image/png": "[encoded data removed]",
      "text/plain": [
       "<Figure size 576x360 with 1 Axes>"
      ]
     },
     "metadata": {
      "needs_background": "light"
     },
     "output_type": "display_data"
    }
   ],
   "source": [
    "# Create a figure with a single subplot\n",
    "fig, ax = plt.subplots(figsize=(8, 5))\n",
    "\n",
    "# Create a boxplot for the latitude and longitude columns\n",
    "sns.boxplot(data=mandera[['latitude', 'longitude']], orient='h', ax=ax, palette='pastel')\n",
    "\n",
    "# Set the chart title and axis labels\n",
    "ax.set_title('Latitude and Longitude Boxplot', fontsize=14)\n",
    "ax.set_xlabel('Coordinate Value', fontsize=12)\n",
    "ax.set_ylabel('Coordinate Type', fontsize=12)\n",
    "ax.tick_params(labelsize=10)\n",
    "\n",
    "# Show the chart\n",
    "plt.show()"
   ]
  },
  {
   "cell_type": "code",
   "execution_count": 133,
   "metadata": {},
   "outputs": [],
   "source": [
    "# Read the Mandera boundary shapefile into a GeoDataFrame\n",
    "mandera_boundary = gpd.read_file('Shapefiles/Mandera_County.shp')  # Replace 'mandera_boundary.shp' with the actual path to your Mandera boundary shapefile\n"
   ]
  },
  {
   "cell_type": "code",
   "execution_count": null,
   "metadata": {},
   "outputs": [],
   "source": [
    "# Read the Mandera boundary shapefile into a GeoDataFrame\n",
    "mandera_boundary = gpd.read_file('Shapefiles/Mandera_County.shp')  # Replace 'mandera_boundary.shp' with the actual path to your Mandera boundary shapefile\n",
    "\n",
    "# Function to check if a coordinate is in Marsabit\n",
    "def is_coordinate_in_mandera(latitude, longitude):\n",
    "    point = Point(longitude, latitude)\n",
    "    return mandera_boundary.contains(point).any()\n",
    "\n",
    "# Iterate through the dataframe rows and update coordinates if necessary\n",
    "for index, row in mandera.iterrows():\n",
    "    latitude = row['latitude']\n",
    "    longitude = row['longitude']\n",
    "    \n",
    "    if not is_coordinate_in_mandera(latitude, longitude):\n",
    "        # Assign random coordinates within Mandera\n",
    "        while True:\n",
    "            # Set the latitude range to cover the approximate area of Mandera\n",
    "            random_latitude = random.uniform(mandera_boundary.bounds['miny'], mandera_boundary.bounds['maxy'])  \n",
    "            # Set the longitude range to cover the approximate area of Mandera \n",
    "            random_longitude = random.uniform(mandera_boundary.bounds['minx'], mandera_boundary.bounds['maxx'])\n",
    "              \n",
    "            \n",
    "            if is_coordinate_in_mandera(random_latitude, random_longitude):\n",
    "                # Found a random coordinate within Mandera, update the dataframe\n",
    "                mandera.at[index, 'latitude'] = random_latitude\n",
    "                mandera.at[index, 'longitude'] = random_longitude\n",
    "                break\n",
    "\t\t\t\t\n"
   ]
  },
  {
   "cell_type": "code",
   "execution_count": 134,
   "metadata": {},
   "outputs": [],
   "source": [
    "# Function to check if a coordinate is in Marsabit\n",
    "def is_coordinate_in_mandera(latitude, longitude):\n",
    "    point = Point(longitude, latitude)\n",
    "    return mandera_boundary.contains(point).any()\n",
    "\n",
    "# Iterate through the dataframe rows and update coordinates if necessary\n",
    "for index, row in mandera.iterrows():\n",
    "    latitude = row['latitude']\n",
    "    longitude = row['longitude']\n",
    "    \n",
    "    if not is_coordinate_in_mandera(latitude, longitude):\n",
    "        # Assign random coordinates within Mandera\n",
    "        while True:\n",
    "            # Set the latitude range to cover the approximate area of Mandera\n",
    "            random_latitude = random.uniform(mandera_boundary.bounds['miny'], mandera_boundary.bounds['maxy'])  \n",
    "            # Set the longitude range to cover the approximate area of Mandera \n",
    "            random_longitude = random.uniform(mandera_boundary.bounds['minx'], mandera_boundary.bounds['maxx'])\n",
    "              \n",
    "            \n",
    "            if is_coordinate_in_mandera(random_latitude, random_longitude):\n",
    "                # Found a random coordinate within Mandera, update the dataframe\n",
    "                mandera.at[index, 'latitude'] = random_latitude\n",
    "                mandera.at[index, 'longitude'] = random_longitude\n",
    "                break\n",
    "\t\t\t\t"
   ]
  },
  {
   "cell_type": "code",
   "execution_count": 135,
   "metadata": {},
   "outputs": [],
   "source": [
    "## save dataset\n",
    "mandera.to_csv('mandera.csv', index=False)"
   ]
  },
  {
   "attachments": {},
   "cell_type": "markdown",
   "metadata": {},
   "source": [
    "### *4) Turkana*"
   ]
  },
  {
   "cell_type": "code",
   "execution_count": 37,
   "metadata": {},
   "outputs": [
    {
     "data": {
      "text/html": [
       "<div style=\"width:100%;\"><div style=\"position:relative;width:100%;height:0;padding-bottom:60%;\"><span style=\"color:#565656\">Make this Notebook Trusted to load map: File -> Trust Notebook</span><iframe srcdoc=\"&lt;!DOCTYPE html&gt;\n",
       "&lt;html&gt;\n",
       "&lt;head&gt;\n",
       "    \n",
       "    &lt;meta http-equiv=&quot;content-type&quot; content=&quot;text/html; charset=UTF-8&quot; /&gt;\n",
       "    \n",
       "        &lt;script&gt;\n",
       "            L_NO_TOUCH = false;\n",
       "            L_DISABLE_3D = false;\n",
       "        &lt;/script&gt;\n",
       "    \n",
       "    &lt;style&gt;html, body {width: 100%;height: 100%;margin: 0;padding: 0;}&lt;/style&gt;\n",
       "    &lt;style&gt;#map {position:absolute;top:0;bottom:0;right:0;left:0;}&lt;/style&gt;\n",
       "    &lt;script src=&quot;https://cdn.jsdelivr.net/npm/leaflet@1.9.3/dist/leaflet.js&quot;&gt;&lt;/script&gt;\n",
       "    &lt;script src=&quot;https://code.jquery.com/jquery-1.12.4.min.js&quot;&gt;&lt;/script&gt;\n",
       "    &lt;script src=&quot;https://cdn.jsdelivr.net/npm/bootstrap@5.2.2/dist/js/bootstrap.bundle.min.js&quot;&gt;&lt;/script&gt;\n",
       "    &lt;script src=&quot;https://cdnjs.cloudflare.com/ajax/libs/Leaflet.awesome-markers/2.0.2/leaflet.awesome-markers.js&quot;&gt;&lt;/script&gt;\n",
       "    &lt;link rel=&quot;stylesheet&quot; href=&quot;https://cdn.jsdelivr.net/npm/leaflet@1.9.3/dist/leaflet.css&quot;/&gt;\n",
       "    &lt;link rel=&quot;stylesheet&quot; href=&quot;https://cdn.jsdelivr.net/npm/bootstrap@5.2.2/dist/css/bootstrap.min.css&quot;/&gt;\n",
       "    &lt;link rel=&quot;stylesheet&quot; href=&quot;https://netdna.bootstrapcdn.com/bootstrap/3.0.0/css/bootstrap.min.css&quot;/&gt;\n",
       "    &lt;link rel=&quot;stylesheet&quot; href=&quot;https://cdn.jsdelivr.net/npm/@fortawesome/fontawesome-free@6.2.0/css/all.min.css&quot;/&gt;\n",
       "    &lt;link rel=&quot;stylesheet&quot; href=&quot;https://cdnjs.cloudflare.com/ajax/libs/Leaflet.awesome-markers/2.0.2/leaflet.awesome-markers.css&quot;/&gt;\n",
       "    &lt;link rel=&quot;stylesheet&quot; href=&quot;https://cdn.jsdelivr.net/gh/python-visualization/folium/folium/templates/leaflet.awesome.rotate.min.css&quot;/&gt;\n",
       "    \n",
       "            &lt;meta name=&quot;viewport&quot; content=&quot;width=device-width,\n",
       "                initial-scale=1.0, maximum-scale=1.0, user-scalable=no&quot; /&gt;\n",
       "            &lt;style&gt;\n",
       "                #map_6869cd044021757e52858a2bbfce8f90 {\n",
       "                    position: relative;\n",
       "                    width: 100.0%;\n",
       "                    height: 100.0%;\n",
       "                    left: 0.0%;\n",
       "                    top: 0.0%;\n",
       "                }\n",
       "                .leaflet-container { font-size: 1rem; }\n",
       "            &lt;/style&gt;\n",
       "        \n",
       "&lt;/head&gt;\n",
       "&lt;body&gt;\n",
       "    \n",
       "    \n",
       "            &lt;div class=&quot;folium-map&quot; id=&quot;map_6869cd044021757e52858a2bbfce8f90&quot; &gt;&lt;/div&gt;\n",
       "        \n",
       "&lt;/body&gt;\n",
       "&lt;script&gt;\n",
       "    \n",
       "    \n",
       "            var map_6869cd044021757e52858a2bbfce8f90 = L.map(\n",
       "                &quot;map_6869cd044021757e52858a2bbfce8f90&quot;,\n",
       "                {\n",
       "                    center: [3.119, 35.6059],\n",
       "                    crs: L.CRS.EPSG3857,\n",
       "                    zoom: 10,\n",
       "                    zoomControl: true,\n",
       "                    preferCanvas: false,\n",
       "                }\n",
       "            );\n",
       "\n",
       "            \n",
       "\n",
       "        \n",
       "    \n",
       "            var tile_layer_5f791c1a05aa18946a8d98f6d82e7aa9 = L.tileLayer(\n",
       "                &quot;https://{s}.tile.openstreetmap.org/{z}/{x}/{y}.png&quot;,\n",
       "                {&quot;attribution&quot;: &quot;Data by \\u0026copy; \\u003ca target=\\&quot;_blank\\&quot; href=\\&quot;http://openstreetmap.org\\&quot;\\u003eOpenStreetMap\\u003c/a\\u003e, under \\u003ca target=\\&quot;_blank\\&quot; href=\\&quot;http://www.openstreetmap.org/copyright\\&quot;\\u003eODbL\\u003c/a\\u003e.&quot;, &quot;detectRetina&quot;: false, &quot;maxNativeZoom&quot;: 18, &quot;maxZoom&quot;: 18, &quot;minZoom&quot;: 0, &quot;noWrap&quot;: false, &quot;opacity&quot;: 1, &quot;subdomains&quot;: &quot;abc&quot;, &quot;tms&quot;: false}\n",
       "            ).addTo(map_6869cd044021757e52858a2bbfce8f90);\n",
       "        \n",
       "    \n",
       "            var marker_5b51ae9e0cb466904154351ec714c5dd = L.marker(\n",
       "                [3.119, 35.6059],\n",
       "                {}\n",
       "            ).addTo(map_6869cd044021757e52858a2bbfce8f90);\n",
       "        \n",
       "    \n",
       "        var popup_072d555a2dba73e33b991363a060a3df = L.popup({&quot;maxWidth&quot;: &quot;100%&quot;});\n",
       "\n",
       "        \n",
       "            \n",
       "                var html_7c13066224db28e9c749cfb77200570f = $(`&lt;div id=&quot;html_7c13066224db28e9c749cfb77200570f&quot; style=&quot;width: 100.0%; height: 100.0%;&quot;&gt;Turkana&lt;/div&gt;`)[0];\n",
       "                popup_072d555a2dba73e33b991363a060a3df.setContent(html_7c13066224db28e9c749cfb77200570f);\n",
       "            \n",
       "        \n",
       "\n",
       "        marker_5b51ae9e0cb466904154351ec714c5dd.bindPopup(popup_072d555a2dba73e33b991363a060a3df)\n",
       "        ;\n",
       "\n",
       "        \n",
       "    \n",
       "&lt;/script&gt;\n",
       "&lt;/html&gt;\" style=\"position:absolute;width:100%;height:100%;left:0;top:0;border:none !important;\" allowfullscreen webkitallowfullscreen mozallowfullscreen></iframe></div></div>"
      ],
      "text/plain": [
       "<folium.folium.Map at 0x14582483588>"
      ]
     },
     "execution_count": 37,
     "metadata": {},
     "output_type": "execute_result"
    }
   ],
   "source": [
    "# Create a map of Turkana\n",
    "turkana_map = folium.Map(location=[3.1190, 35.6059], zoom_start=10)\n",
    "\n",
    "# Add a marker for Turkana town\n",
    "turkana_marker = folium.Marker(location=[3.1190, 35.6059], popup='Turkana')\n",
    "turkana_marker.add_to(turkana_map)\n",
    "\n",
    "# Show the map\n",
    "turkana_map\n"
   ]
  },
  {
   "cell_type": "code",
   "execution_count": 38,
   "metadata": {},
   "outputs": [],
   "source": [
    "# Filter out Marsabit in dataframe\n",
    "turkana = df[df['county_name'] == \"Turkana\"]"
   ]
  },
  {
   "cell_type": "code",
   "execution_count": 39,
   "metadata": {},
   "outputs": [
    {
     "data": {
      "image/png": "[encoded data removed]",
      "text/plain": [
       "<Figure size 800x500 with 1 Axes>"
      ]
     },
     "metadata": {},
     "output_type": "display_data"
    }
   ],
   "source": [
    "# Create a figure with a single subplot\n",
    "fig, ax = plt.subplots(figsize=(8, 5))\n",
    "\n",
    "# Create a boxplot for the latitude and longitude columns\n",
    "sns.boxplot(data=turkana[['latitude', 'longitude']], orient='h', ax=ax, palette='pastel')\n",
    "\n",
    "# Set the chart title and axis labels\n",
    "ax.set_title('Latitude and Longitude Boxplot', fontsize=14)\n",
    "ax.set_xlabel('Coordinate Value', fontsize=12)\n",
    "ax.set_ylabel('Coordinate Type', fontsize=12)\n",
    "ax.tick_params(labelsize=10)\n",
    "\n",
    "# Show the chart\n",
    "plt.show()"
   ]
  },
  {
   "cell_type": "code",
   "execution_count": 40,
   "metadata": {},
   "outputs": [
    {
     "name": "stderr",
     "output_type": "stream",
     "text": [
      "c:\\Users\\USER\\Desktop\\HSNP\\HSNP\\env\\lib\\site-packages\\pandas\\core\\indexing.py:1835: SettingWithCopyWarning: \n",
      "A value is trying to be set on a copy of a slice from a DataFrame.\n",
      "Try using .loc[row_indexer,col_indexer] = value instead\n",
      "\n",
      "See the caveats in the documentation: https://pandas.pydata.org/pandas-docs/stable/user_guide/indexing.html#returning-a-view-versus-a-copy\n",
      "  self._setitem_single_column(loc, value[:, i].tolist(), pi)\n"
     ]
    }
   ],
   "source": [
    "# If latitude is greater than longitude they interchange\n",
    "mask = turkana['latitude'] > turkana['longitude']\n",
    "turkana.loc[mask, ['latitude', 'longitude']] = turkana.loc[mask, ['longitude', 'latitude']].values\n"
   ]
  },
  {
   "cell_type": "code",
   "execution_count": 41,
   "metadata": {},
   "outputs": [
    {
     "data": {
      "image/png": "[encoded data removed]",
      "text/plain": [
       "<Figure size 800x500 with 1 Axes>"
      ]
     },
     "metadata": {},
     "output_type": "display_data"
    }
   ],
   "source": [
    "# Create a figure with a single subplot\n",
    "fig, ax = plt.subplots(figsize=(8, 5))\n",
    "\n",
    "# Create a boxplot for the latitude and longitude columns\n",
    "sns.boxplot(data=turkana[['latitude', 'longitude']], orient='h', ax=ax, palette='pastel')\n",
    "\n",
    "# Set the chart title and axis labels\n",
    "ax.set_title('Latitude and Longitude Boxplot', fontsize=14)\n",
    "ax.set_xlabel('Coordinate Value', fontsize=12)\n",
    "ax.set_ylabel('Coordinate Type', fontsize=12)\n",
    "ax.tick_params(labelsize=10)\n",
    "\n",
    "# Show the chart\n",
    "plt.show()"
   ]
  },
  {
   "cell_type": "code",
   "execution_count": 42,
   "metadata": {},
   "outputs": [
    {
     "name": "stderr",
     "output_type": "stream",
     "text": [
      "c:\\Users\\USER\\Desktop\\HSNP\\HSNP\\env\\lib\\site-packages\\ipykernel_launcher.py:5: SettingWithCopyWarning: \n",
      "A value is trying to be set on a copy of a slice from a DataFrame.\n",
      "Try using .loc[row_indexer,col_indexer] = value instead\n",
      "\n",
      "See the caveats in the documentation: https://pandas.pydata.org/pandas-docs/stable/user_guide/indexing.html#returning-a-view-versus-a-copy\n",
      "  \"\"\"\n"
     ]
    }
   ],
   "source": [
    "# calculate the correction factor for each value\n",
    "factors = turkana['latitude'].apply(lambda x: 10 ** -(len(str(int(x))) - 1))\n",
    "\n",
    "# divide each value by its correction factor\n",
    "turkana['latitude'] = turkana['latitude'] * factors\n",
    "\n",
    "# # print the corrected dataframe\n",
    "# print(df_sample)"
   ]
  },
  {
   "cell_type": "code",
   "execution_count": 43,
   "metadata": {},
   "outputs": [
    {
     "data": {
      "image/png": "[encoded data removed]",
      "text/plain": [
       "<Figure size 800x500 with 1 Axes>"
      ]
     },
     "metadata": {},
     "output_type": "display_data"
    }
   ],
   "source": [
    "# Create a figure with a single subplot\n",
    "fig, ax = plt.subplots(figsize=(8, 5))\n",
    "\n",
    "# Create a boxplot for the latitude and longitude columns\n",
    "sns.boxplot(data=turkana[['latitude', 'longitude']], orient='h', ax=ax, palette='pastel')\n",
    "\n",
    "# Set the chart title and axis labels\n",
    "ax.set_title('Latitude and Longitude Boxplot', fontsize=14)\n",
    "ax.set_xlabel('Coordinate Value', fontsize=12)\n",
    "ax.set_ylabel('Coordinate Type', fontsize=12)\n",
    "ax.tick_params(labelsize=10)\n",
    "\n",
    "# Show the chart\n",
    "plt.show()"
   ]
  },
  {
   "cell_type": "code",
   "execution_count": 44,
   "metadata": {},
   "outputs": [
    {
     "name": "stderr",
     "output_type": "stream",
     "text": [
      "c:\\Users\\USER\\Desktop\\HSNP\\HSNP\\env\\lib\\site-packages\\ipykernel_launcher.py:5: SettingWithCopyWarning: \n",
      "A value is trying to be set on a copy of a slice from a DataFrame.\n",
      "Try using .loc[row_indexer,col_indexer] = value instead\n",
      "\n",
      "See the caveats in the documentation: https://pandas.pydata.org/pandas-docs/stable/user_guide/indexing.html#returning-a-view-versus-a-copy\n",
      "  \"\"\"\n"
     ]
    }
   ],
   "source": [
    "# calculate the correction factor for each value\n",
    "factors = turkana['longitude'].apply(lambda x: 10 ** -(len(str(int(x))) - 2))\n",
    "\n",
    "# divide each value by its correction factor\n",
    "turkana['longitude'] = turkana['longitude'] * factors\n"
   ]
  },
  {
   "cell_type": "code",
   "execution_count": 45,
   "metadata": {},
   "outputs": [
    {
     "data": {
      "image/png": "[encoded data removed]",
      "text/plain": [
       "<Figure size 800x500 with 1 Axes>"
      ]
     },
     "metadata": {},
     "output_type": "display_data"
    }
   ],
   "source": [
    "# Create a figure with a single subplot\n",
    "fig, ax = plt.subplots(figsize=(8, 5))\n",
    "\n",
    "# Create a boxplot for the latitude and longitude columns\n",
    "sns.boxplot(data=turkana[['latitude', 'longitude']], orient='h', ax=ax, palette='pastel')\n",
    "\n",
    "# Set the chart title and axis labels\n",
    "ax.set_title('Latitude and Longitude Boxplot', fontsize=14)\n",
    "ax.set_xlabel('Coordinate Value', fontsize=12)\n",
    "ax.set_ylabel('Coordinate Type', fontsize=12)\n",
    "ax.tick_params(labelsize=10)\n",
    "\n",
    "# Show the chart\n",
    "plt.show()"
   ]
  },
  {
   "cell_type": "code",
   "execution_count": 47,
   "metadata": {},
   "outputs": [],
   "source": [
    "# Read the Turkana boundary shapefile into a GeoDataFrame\n",
    "turkana_boundary = gpd.read_file('Shapefiles/Turkana_County.shp')  # Replace 'marsabit_boundary.shp' with the actual path to your Marsabit boundary shapefile\n",
    "\n",
    "# Function to check if a coordinate is in Marsabit\n",
    "def is_coordinate_in_turkana(latitude, longitude):\n",
    "    point = Point(longitude, latitude)\n",
    "    return turkana_boundary.contains(point).any()\n",
    "\n",
    "# Iterate through the dataframe rows and update coordinates if necessary\n",
    "for index, row in turkana.iterrows():\n",
    "    latitude = row['latitude']\n",
    "    longitude = row['longitude']\n",
    "    \n",
    "    if not is_coordinate_in_turkana(latitude, longitude):\n",
    "        # Assign random coordinates within Turkana\n",
    "        while True:\n",
    "            # Set the latitude range to cover the approximate area of Turkana\n",
    "            random_latitude = random.uniform(turkana_boundary.bounds['miny'], turkana_boundary.bounds['maxy'])\n",
    "            # Set the longitude range to cover the approximate area of Turkana\n",
    "            random_longitude = random.uniform(turkana_boundary.bounds['minx'], turkana_boundary.bounds['maxx']) \n",
    "            \n",
    "            if is_coordinate_in_turkana(random_latitude, random_longitude):\n",
    "                # Found a random coordinate within Turkana, update the dataframe\n",
    "                turkana.at[index, 'latitude'] = random_latitude\n",
    "                turkana.at[index, 'longitude'] = random_longitude\n",
    "                break"
   ]
  },
  {
   "cell_type": "code",
   "execution_count": 48,
   "metadata": {},
   "outputs": [
    {
     "data": {
      "image/png": "[encoded data removed]",
      "text/plain": [
       "<Figure size 800x500 with 1 Axes>"
      ]
     },
     "metadata": {},
     "output_type": "display_data"
    }
   ],
   "source": [
    "# Create a figure with a single subplot\n",
    "fig, ax = plt.subplots(figsize=(8, 5))\n",
    "\n",
    "# Create a boxplot for the latitude and longitude columns\n",
    "sns.boxplot(data=turkana[['latitude', 'longitude']], orient='h', ax=ax, palette='pastel')\n",
    "\n",
    "# Set the chart title and axis labels\n",
    "ax.set_title('Latitude and Longitude Boxplot', fontsize=14)\n",
    "ax.set_xlabel('Coordinate Value', fontsize=12)\n",
    "ax.set_ylabel('Coordinate Type', fontsize=12)\n",
    "ax.tick_params(labelsize=10)\n",
    "\n",
    "# Show the chart\n",
    "plt.show()"
   ]
  },
  {
   "cell_type": "code",
   "execution_count": 51,
   "metadata": {},
   "outputs": [
    {
     "name": "stderr",
     "output_type": "stream",
     "text": [
      "c:\\Users\\USER\\Desktop\\HSNP\\HSNP\\env\\lib\\site-packages\\ipykernel_launcher.py:9: UserWarning: Column names longer than 10 characters will be truncated when saved to ESRI Shapefile.\n",
      "  if __name__ == \"__main__\":\n"
     ]
    },
    {
     "ename": "DriverSupportError",
     "evalue": "ESRI Shapefile does not support datetime fields",
     "output_type": "error",
     "traceback": [
      "\u001b[1;31m---------------------------------------------------------------------------\u001b[0m",
      "\u001b[1;31mDriverSupportError\u001b[0m                        Traceback (most recent call last)",
      "\u001b[1;32m~\\AppData\\Local\\Temp\\ipykernel_16592\\2921368433.py\u001b[0m in \u001b[0;36m<module>\u001b[1;34m\u001b[0m\n\u001b[0;32m      7\u001b[0m \u001b[1;31m# Save GeoDataFrame to shapefile\u001b[0m\u001b[1;33m\u001b[0m\u001b[1;33m\u001b[0m\u001b[1;33m\u001b[0m\u001b[0m\n\u001b[0;32m      8\u001b[0m \u001b[0moutput_shapefile_path\u001b[0m \u001b[1;33m=\u001b[0m \u001b[1;34m'Shapefiles/turkana_beneficiary.shp'\u001b[0m\u001b[1;33m\u001b[0m\u001b[1;33m\u001b[0m\u001b[0m\n\u001b[1;32m----> 9\u001b[1;33m \u001b[0mgdf\u001b[0m\u001b[1;33m.\u001b[0m\u001b[0mto_file\u001b[0m\u001b[1;33m(\u001b[0m\u001b[0moutput_shapefile_path\u001b[0m\u001b[1;33m)\u001b[0m\u001b[1;33m\u001b[0m\u001b[1;33m\u001b[0m\u001b[0m\n\u001b[0m",
      "\u001b[1;32mc:\\Users\\USER\\Desktop\\HSNP\\HSNP\\env\\lib\\site-packages\\geopandas\\geodataframe.py\u001b[0m in \u001b[0;36mto_file\u001b[1;34m(self, filename, driver, schema, index, **kwargs)\u001b[0m\n\u001b[0;32m   1112\u001b[0m         \u001b[1;32mfrom\u001b[0m \u001b[0mgeopandas\u001b[0m\u001b[1;33m.\u001b[0m\u001b[0mio\u001b[0m\u001b[1;33m.\u001b[0m\u001b[0mfile\u001b[0m \u001b[1;32mimport\u001b[0m \u001b[0m_to_file\u001b[0m\u001b[1;33m\u001b[0m\u001b[1;33m\u001b[0m\u001b[0m\n\u001b[0;32m   1113\u001b[0m \u001b[1;33m\u001b[0m\u001b[0m\n\u001b[1;32m-> 1114\u001b[1;33m         \u001b[0m_to_file\u001b[0m\u001b[1;33m(\u001b[0m\u001b[0mself\u001b[0m\u001b[1;33m,\u001b[0m \u001b[0mfilename\u001b[0m\u001b[1;33m,\u001b[0m \u001b[0mdriver\u001b[0m\u001b[1;33m,\u001b[0m \u001b[0mschema\u001b[0m\u001b[1;33m,\u001b[0m \u001b[0mindex\u001b[0m\u001b[1;33m,\u001b[0m \u001b[1;33m**\u001b[0m\u001b[0mkwargs\u001b[0m\u001b[1;33m)\u001b[0m\u001b[1;33m\u001b[0m\u001b[1;33m\u001b[0m\u001b[0m\n\u001b[0m\u001b[0;32m   1115\u001b[0m \u001b[1;33m\u001b[0m\u001b[0m\n\u001b[0;32m   1116\u001b[0m     \u001b[1;32mdef\u001b[0m \u001b[0mset_crs\u001b[0m\u001b[1;33m(\u001b[0m\u001b[0mself\u001b[0m\u001b[1;33m,\u001b[0m \u001b[0mcrs\u001b[0m\u001b[1;33m=\u001b[0m\u001b[1;32mNone\u001b[0m\u001b[1;33m,\u001b[0m \u001b[0mepsg\u001b[0m\u001b[1;33m=\u001b[0m\u001b[1;32mNone\u001b[0m\u001b[1;33m,\u001b[0m \u001b[0minplace\u001b[0m\u001b[1;33m=\u001b[0m\u001b[1;32mFalse\u001b[0m\u001b[1;33m,\u001b[0m \u001b[0mallow_override\u001b[0m\u001b[1;33m=\u001b[0m\u001b[1;32mFalse\u001b[0m\u001b[1;33m)\u001b[0m\u001b[1;33m:\u001b[0m\u001b[1;33m\u001b[0m\u001b[1;33m\u001b[0m\u001b[0m\n",
      "\u001b[1;32mc:\\Users\\USER\\Desktop\\HSNP\\HSNP\\env\\lib\\site-packages\\geopandas\\io\\file.py\u001b[0m in \u001b[0;36m_to_file\u001b[1;34m(df, filename, driver, schema, index, mode, crs, **kwargs)\u001b[0m\n\u001b[0;32m    392\u001b[0m             \u001b[0mcrs_wkt\u001b[0m \u001b[1;33m=\u001b[0m \u001b[0mcrs\u001b[0m\u001b[1;33m.\u001b[0m\u001b[0mto_wkt\u001b[0m\u001b[1;33m(\u001b[0m\u001b[1;34m\"WKT1_GDAL\"\u001b[0m\u001b[1;33m)\u001b[0m\u001b[1;33m\u001b[0m\u001b[1;33m\u001b[0m\u001b[0m\n\u001b[0;32m    393\u001b[0m         with fiona.open(\n\u001b[1;32m--> 394\u001b[1;33m             \u001b[0mfilename\u001b[0m\u001b[1;33m,\u001b[0m \u001b[0mmode\u001b[0m\u001b[1;33m=\u001b[0m\u001b[0mmode\u001b[0m\u001b[1;33m,\u001b[0m \u001b[0mdriver\u001b[0m\u001b[1;33m=\u001b[0m\u001b[0mdriver\u001b[0m\u001b[1;33m,\u001b[0m \u001b[0mcrs_wkt\u001b[0m\u001b[1;33m=\u001b[0m\u001b[0mcrs_wkt\u001b[0m\u001b[1;33m,\u001b[0m \u001b[0mschema\u001b[0m\u001b[1;33m=\u001b[0m\u001b[0mschema\u001b[0m\u001b[1;33m,\u001b[0m \u001b[1;33m**\u001b[0m\u001b[0mkwargs\u001b[0m\u001b[1;33m\u001b[0m\u001b[1;33m\u001b[0m\u001b[0m\n\u001b[0m\u001b[0;32m    395\u001b[0m         ) as colxn:\n\u001b[0;32m    396\u001b[0m             \u001b[0mcolxn\u001b[0m\u001b[1;33m.\u001b[0m\u001b[0mwriterecords\u001b[0m\u001b[1;33m(\u001b[0m\u001b[0mdf\u001b[0m\u001b[1;33m.\u001b[0m\u001b[0miterfeatures\u001b[0m\u001b[1;33m(\u001b[0m\u001b[1;33m)\u001b[0m\u001b[1;33m)\u001b[0m\u001b[1;33m\u001b[0m\u001b[1;33m\u001b[0m\u001b[0m\n",
      "\u001b[1;32mc:\\Users\\USER\\Desktop\\HSNP\\HSNP\\env\\lib\\site-packages\\fiona\\env.py\u001b[0m in \u001b[0;36mwrapper\u001b[1;34m(*args, **kwds)\u001b[0m\n\u001b[0;32m    455\u001b[0m \u001b[1;33m\u001b[0m\u001b[0m\n\u001b[0;32m    456\u001b[0m         \u001b[1;32mwith\u001b[0m \u001b[0menv_ctor\u001b[0m\u001b[1;33m(\u001b[0m\u001b[0msession\u001b[0m\u001b[1;33m=\u001b[0m\u001b[0msession\u001b[0m\u001b[1;33m)\u001b[0m\u001b[1;33m:\u001b[0m\u001b[1;33m\u001b[0m\u001b[1;33m\u001b[0m\u001b[0m\n\u001b[1;32m--> 457\u001b[1;33m             \u001b[1;32mreturn\u001b[0m \u001b[0mf\u001b[0m\u001b[1;33m(\u001b[0m\u001b[1;33m*\u001b[0m\u001b[0margs\u001b[0m\u001b[1;33m,\u001b[0m \u001b[1;33m**\u001b[0m\u001b[0mkwds\u001b[0m\u001b[1;33m)\u001b[0m\u001b[1;33m\u001b[0m\u001b[1;33m\u001b[0m\u001b[0m\n\u001b[0m\u001b[0;32m    458\u001b[0m \u001b[1;33m\u001b[0m\u001b[0m\n\u001b[0;32m    459\u001b[0m     \u001b[1;32mreturn\u001b[0m \u001b[0mwrapper\u001b[0m\u001b[1;33m\u001b[0m\u001b[1;33m\u001b[0m\u001b[0m\n",
      "\u001b[1;32mc:\\Users\\USER\\Desktop\\HSNP\\HSNP\\env\\lib\\site-packages\\fiona\\__init__.py\u001b[0m in \u001b[0;36mopen\u001b[1;34m(fp, mode, driver, schema, crs, encoding, layer, vfs, enabled_drivers, crs_wkt, allow_unsupported_drivers, **kwargs)\u001b[0m\n\u001b[0;32m    341\u001b[0m                 \u001b[0mcrs_wkt\u001b[0m\u001b[1;33m=\u001b[0m\u001b[0mcrs_wkt\u001b[0m\u001b[1;33m,\u001b[0m\u001b[1;33m\u001b[0m\u001b[1;33m\u001b[0m\u001b[0m\n\u001b[0;32m    342\u001b[0m                 \u001b[0mallow_unsupported_drivers\u001b[0m\u001b[1;33m=\u001b[0m\u001b[0mallow_unsupported_drivers\u001b[0m\u001b[1;33m,\u001b[0m\u001b[1;33m\u001b[0m\u001b[1;33m\u001b[0m\u001b[0m\n\u001b[1;32m--> 343\u001b[1;33m                 \u001b[1;33m**\u001b[0m\u001b[0mkwargs\u001b[0m\u001b[1;33m\u001b[0m\u001b[1;33m\u001b[0m\u001b[0m\n\u001b[0m\u001b[0;32m    344\u001b[0m             )\n\u001b[0;32m    345\u001b[0m         \u001b[1;32melse\u001b[0m\u001b[1;33m:\u001b[0m\u001b[1;33m\u001b[0m\u001b[1;33m\u001b[0m\u001b[0m\n",
      "\u001b[1;32mc:\\Users\\USER\\Desktop\\HSNP\\HSNP\\env\\lib\\site-packages\\fiona\\collection.py\u001b[0m in \u001b[0;36m__init__\u001b[1;34m(self, path, mode, driver, schema, crs, encoding, layer, vsi, archive, enabled_drivers, crs_wkt, ignore_fields, ignore_geometry, include_fields, wkt_version, allow_unsupported_drivers, **kwargs)\u001b[0m\n\u001b[0;32m    227\u001b[0m             \u001b[0mself\u001b[0m\u001b[1;33m.\u001b[0m\u001b[0m_schema\u001b[0m \u001b[1;33m=\u001b[0m \u001b[0mschema\u001b[0m\u001b[1;33m\u001b[0m\u001b[1;33m\u001b[0m\u001b[0m\n\u001b[0;32m    228\u001b[0m \u001b[1;33m\u001b[0m\u001b[0m\n\u001b[1;32m--> 229\u001b[1;33m             \u001b[0mself\u001b[0m\u001b[1;33m.\u001b[0m\u001b[0m_check_schema_driver_support\u001b[0m\u001b[1;33m(\u001b[0m\u001b[1;33m)\u001b[0m\u001b[1;33m\u001b[0m\u001b[1;33m\u001b[0m\u001b[0m\n\u001b[0m\u001b[0;32m    230\u001b[0m \u001b[1;33m\u001b[0m\u001b[0m\n\u001b[0;32m    231\u001b[0m             \u001b[1;32mif\u001b[0m \u001b[0mcrs_wkt\u001b[0m \u001b[1;32mor\u001b[0m \u001b[0mcrs\u001b[0m\u001b[1;33m:\u001b[0m\u001b[1;33m\u001b[0m\u001b[1;33m\u001b[0m\u001b[0m\n",
      "\u001b[1;32mc:\\Users\\USER\\Desktop\\HSNP\\HSNP\\env\\lib\\site-packages\\fiona\\collection.py\u001b[0m in \u001b[0;36m_check_schema_driver_support\u001b[1;34m(self)\u001b[0m\n\u001b[0;32m    636\u001b[0m                     raise DriverSupportError(\n\u001b[0;32m    637\u001b[0m                         \u001b[1;34m\"{driver} does not support {field_type} \"\u001b[0m\u001b[1;33m\u001b[0m\u001b[1;33m\u001b[0m\u001b[0m\n\u001b[1;32m--> 638\u001b[1;33m                         \u001b[1;34m\"fields\"\u001b[0m\u001b[1;33m.\u001b[0m\u001b[0mformat\u001b[0m\u001b[1;33m(\u001b[0m\u001b[0mdriver\u001b[0m\u001b[1;33m=\u001b[0m\u001b[0mself\u001b[0m\u001b[1;33m.\u001b[0m\u001b[0mdriver\u001b[0m\u001b[1;33m,\u001b[0m \u001b[0mfield_type\u001b[0m\u001b[1;33m=\u001b[0m\u001b[0mfield_type\u001b[0m\u001b[1;33m)\u001b[0m\u001b[1;33m\u001b[0m\u001b[1;33m\u001b[0m\u001b[0m\n\u001b[0m\u001b[0;32m    639\u001b[0m                     )\n\u001b[0;32m    640\u001b[0m             elif (\n",
      "\u001b[1;31mDriverSupportError\u001b[0m: ESRI Shapefile does not support datetime fields"
     ]
    }
   ],
   "source": [
    "## save dataset\n",
    "turkana.to_csv('turkana.csv', index=False)\n",
    "\n",
    "# Convert dataframe to GeoDataFrame\n",
    "gdf = gpd.GeoDataFrame(turkana, geometry=gpd.points_from_xy(turkana.longitude, turkana.latitude))\n",
    "\n",
    "# Save GeoDataFrame to shapefile\n",
    "output_shapefile_path = 'Shapefiles/turkana_beneficiary.shp'\n",
    "gdf.to_file(output_shapefile_path)"
   ]
  },
  {
   "cell_type": "code",
   "execution_count": null,
   "metadata": {},
   "outputs": [],
   "source": []
  },
  {
   "cell_type": "code",
   "execution_count": null,
   "metadata": {},
   "outputs": [],
   "source": [
    "\n",
    "# # Concatenate the dataframes along the row axis\n",
    "# combined_df = pd.concat([mar, mandera, turkana, wajir], ignore_index=True)\n",
    "\n",
    "# # Reset the index of the combined dataframe\n",
    "# combined_df.reset_index(drop=True, inplace=True)"
   ]
  },
  {
   "cell_type": "code",
   "execution_count": null,
   "metadata": {},
   "outputs": [
    {
     "data": {
      "text/html": [
       "<div>\n",
       "<style scoped>\n",
       "    .dataframe tbody tr th:only-of-type {\n",
       "        vertical-align: middle;\n",
       "    }\n",
       "\n",
       "    .dataframe tbody tr th {\n",
       "        vertical-align: top;\n",
       "    }\n",
       "\n",
       "    .dataframe thead th {\n",
       "        text-align: right;\n",
       "    }\n",
       "</style>\n",
       "<table border=\"1\" class=\"dataframe\">\n",
       "  <thead>\n",
       "    <tr style=\"text-align: right;\">\n",
       "      <th></th>\n",
       "      <th>household_id</th>\n",
       "      <th>village_id</th>\n",
       "      <th>village_name</th>\n",
       "      <th>sublocation_name</th>\n",
       "      <th>sublocation_id</th>\n",
       "      <th>location_id</th>\n",
       "      <th>location_name</th>\n",
       "      <th>constituency_name</th>\n",
       "      <th>county_name</th>\n",
       "      <th>isbeneficiaryhh</th>\n",
       "      <th>latitude</th>\n",
       "      <th>longitude</th>\n",
       "      <th>ruralurban</th>\n",
       "      <th>constituency_id</th>\n",
       "      <th>entry_date</th>\n",
       "      <th>usercode</th>\n",
       "      <th>county_id</th>\n",
       "    </tr>\n",
       "  </thead>\n",
       "  <tbody>\n",
       "    <tr>\n",
       "      <th>0</th>\n",
       "      <td>4010101010072345100212</td>\n",
       "      <td>4010101010072345</td>\n",
       "      <td>Galcha Dida</td>\n",
       "      <td>Nyayo Rd</td>\n",
       "      <td>401010101</td>\n",
       "      <td>4010101</td>\n",
       "      <td>Nagayo</td>\n",
       "      <td>Saku</td>\n",
       "      <td>Marsabit</td>\n",
       "      <td>True</td>\n",
       "      <td>2.33374</td>\n",
       "      <td>37.992490</td>\n",
       "      <td>Urban</td>\n",
       "      <td>47</td>\n",
       "      <td>2018-07-02 09:05:00</td>\n",
       "      <td>0212</td>\n",
       "      <td>10</td>\n",
       "    </tr>\n",
       "    <tr>\n",
       "      <th>1</th>\n",
       "      <td>4010101010072345100213</td>\n",
       "      <td>4010101010072345</td>\n",
       "      <td>Galcha Dida</td>\n",
       "      <td>Nyayo Rd</td>\n",
       "      <td>401010101</td>\n",
       "      <td>4010101</td>\n",
       "      <td>Nagayo</td>\n",
       "      <td>Saku</td>\n",
       "      <td>Marsabit</td>\n",
       "      <td>False</td>\n",
       "      <td>2.33319</td>\n",
       "      <td>37.992270</td>\n",
       "      <td>Urban</td>\n",
       "      <td>47</td>\n",
       "      <td>2018-06-08 19:57:00</td>\n",
       "      <td>0213</td>\n",
       "      <td>10</td>\n",
       "    </tr>\n",
       "    <tr>\n",
       "      <th>2</th>\n",
       "      <td>401010101007234510126</td>\n",
       "      <td>4010101010072345</td>\n",
       "      <td>Galcha Dida</td>\n",
       "      <td>Nyayo Rd</td>\n",
       "      <td>401010101</td>\n",
       "      <td>4010101</td>\n",
       "      <td>Nagayo</td>\n",
       "      <td>Saku</td>\n",
       "      <td>Marsabit</td>\n",
       "      <td>False</td>\n",
       "      <td>2.33148</td>\n",
       "      <td>37.994250</td>\n",
       "      <td>Urban</td>\n",
       "      <td>47</td>\n",
       "      <td>2018-02-10 13:17:00</td>\n",
       "      <td>0126</td>\n",
       "      <td>10</td>\n",
       "    </tr>\n",
       "    <tr>\n",
       "      <th>3</th>\n",
       "      <td>401010101007234510128</td>\n",
       "      <td>4010101010072345</td>\n",
       "      <td>Galcha Dida</td>\n",
       "      <td>Nyayo Rd</td>\n",
       "      <td>401010101</td>\n",
       "      <td>4010101</td>\n",
       "      <td>Nagayo</td>\n",
       "      <td>Saku</td>\n",
       "      <td>Marsabit</td>\n",
       "      <td>False</td>\n",
       "      <td>2.67537</td>\n",
       "      <td>37.876865</td>\n",
       "      <td>Urban</td>\n",
       "      <td>47</td>\n",
       "      <td>2019-07-20 06:57:00</td>\n",
       "      <td>0128</td>\n",
       "      <td>10</td>\n",
       "    </tr>\n",
       "    <tr>\n",
       "      <th>4</th>\n",
       "      <td>401010101007234510133</td>\n",
       "      <td>4010101010072345</td>\n",
       "      <td>Galcha Dida</td>\n",
       "      <td>Nyayo Rd</td>\n",
       "      <td>401010101</td>\n",
       "      <td>4010101</td>\n",
       "      <td>Nagayo</td>\n",
       "      <td>Saku</td>\n",
       "      <td>Marsabit</td>\n",
       "      <td>False</td>\n",
       "      <td>2.30000</td>\n",
       "      <td>37.200000</td>\n",
       "      <td>Urban</td>\n",
       "      <td>47</td>\n",
       "      <td>2019-07-15 14:04:00</td>\n",
       "      <td>0133</td>\n",
       "      <td>10</td>\n",
       "    </tr>\n",
       "  </tbody>\n",
       "</table>\n",
       "</div>"
      ],
      "text/plain": [
       "             household_id        village_id village_name sublocation_name  \\\n",
       "0  4010101010072345100212  4010101010072345  Galcha Dida         Nyayo Rd   \n",
       "1  4010101010072345100213  4010101010072345  Galcha Dida         Nyayo Rd   \n",
       "2   401010101007234510126  4010101010072345  Galcha Dida         Nyayo Rd   \n",
       "3   401010101007234510128  4010101010072345  Galcha Dida         Nyayo Rd   \n",
       "4   401010101007234510133  4010101010072345  Galcha Dida         Nyayo Rd   \n",
       "\n",
       "   sublocation_id  location_id location_name constituency_name county_name  \\\n",
       "0       401010101      4010101        Nagayo              Saku    Marsabit   \n",
       "1       401010101      4010101        Nagayo              Saku    Marsabit   \n",
       "2       401010101      4010101        Nagayo              Saku    Marsabit   \n",
       "3       401010101      4010101        Nagayo              Saku    Marsabit   \n",
       "4       401010101      4010101        Nagayo              Saku    Marsabit   \n",
       "\n",
       "   isbeneficiaryhh  latitude  longitude ruralurban  constituency_id  \\\n",
       "0             True   2.33374  37.992490      Urban               47   \n",
       "1            False   2.33319  37.992270      Urban               47   \n",
       "2            False   2.33148  37.994250      Urban               47   \n",
       "3            False   2.67537  37.876865      Urban               47   \n",
       "4            False   2.30000  37.200000      Urban               47   \n",
       "\n",
       "           entry_date usercode  county_id  \n",
       "0 2018-07-02 09:05:00     0212         10  \n",
       "1 2018-06-08 19:57:00     0213         10  \n",
       "2 2018-02-10 13:17:00     0126         10  \n",
       "3 2019-07-20 06:57:00     0128         10  \n",
       "4 2019-07-15 14:04:00     0133         10  "
      ]
     },
     "execution_count": 154,
     "metadata": {},
     "output_type": "execute_result"
    }
   ],
   "source": [
    "# # Read Excel\n",
    "# combined_df.head()"
   ]
  },
  {
   "cell_type": "code",
   "execution_count": null,
   "metadata": {},
   "outputs": [
    {
     "name": "stdout",
     "output_type": "stream",
     "text": [
      "<class 'pandas.core.frame.DataFrame'>\n",
      "RangeIndex: 570675 entries, 0 to 570674\n",
      "Data columns (total 17 columns):\n",
      " #   Column             Non-Null Count   Dtype         \n",
      "---  ------             --------------   -----         \n",
      " 0   household_id       570675 non-null  object        \n",
      " 1   village_id         570675 non-null  int64         \n",
      " 2   village_name       570675 non-null  object        \n",
      " 3   sublocation_name   570675 non-null  object        \n",
      " 4   sublocation_id     570675 non-null  int64         \n",
      " 5   location_id        570675 non-null  int64         \n",
      " 6   location_name      570675 non-null  object        \n",
      " 7   constituency_name  570675 non-null  object        \n",
      " 8   county_name        570675 non-null  object        \n",
      " 9   isbeneficiaryhh    570675 non-null  bool          \n",
      " 10  latitude           570675 non-null  float64       \n",
      " 11  longitude          570675 non-null  float64       \n",
      " 12  ruralurban         544571 non-null  object        \n",
      " 13  constituency_id    570675 non-null  int64         \n",
      " 14  entry_date         570675 non-null  datetime64[ns]\n",
      " 15  usercode           570675 non-null  object        \n",
      " 16  county_id          570675 non-null  int64         \n",
      "dtypes: bool(1), datetime64[ns](1), float64(2), int64(5), object(8)\n",
      "memory usage: 70.2+ MB\n"
     ]
    }
   ],
   "source": [
    "# combined_df.info()"
   ]
  },
  {
   "cell_type": "code",
   "execution_count": null,
   "metadata": {},
   "outputs": [],
   "source": [
    "# # Convert village id to object\n",
    "# combined_df['village_id'] = combined_df['village_id'].astype(str)a\n"
   ]
  },
  {
   "cell_type": "code",
   "execution_count": null,
   "metadata": {},
   "outputs": [],
   "source": [
    "# # save to excel\n",
    "# combined_df.to_excel('combined_data.xlsx', index=False)\n"
   ]
  }
 ],
 "metadata": {
  "kernelspec": {
   "display_name": "Python 3 (ipykernel)",
   "language": "python",
   "name": "python3"
  },
  "language_info": {
   "codemirror_mode": {
    "name": "ipython",
    "version": 3
   },
   "file_extension": ".py",
   "mimetype": "text/x-python",
   "name": "python",
   "nbconvert_exporter": "python",
   "pygments_lexer": "ipython3",
   "version": "3.7.9"
  }
 },
 "nbformat": 4,
 "nbformat_minor": 2
}

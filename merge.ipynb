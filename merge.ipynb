{
 "cells": [
  {
   "cell_type": "markdown",
   "metadata": {},
   "source": [
    "### **Merge Shapefile and Dataframe**"
   ]
  },
  {
   "cell_type": "code",
   "execution_count": 1,
   "metadata": {},
   "outputs": [
    {
     "name": "stderr",
     "output_type": "stream",
     "text": [
      "c:\\Users\\USER\\Desktop\\HSNP\\HSNP\\env\\lib\\site-packages\\geopandas\\_compat.py:115: UserWarning: The Shapely GEOS version (3.11.1-CAPI-1.17.1) is incompatible with the GEOS version PyGEOS was compiled with (3.10.4-CAPI-1.16.2). Conversions between both will be slow.\n",
      "  shapely_geos_version, geos_capi_version_string\n",
      "c:\\Users\\USER\\Desktop\\HSNP\\HSNP\\env\\lib\\site-packages\\fuzzywuzzy\\fuzz.py:11: UserWarning: Using slow pure-python SequenceMatcher. Install python-Levenshtein to remove this warning\n",
      "  warnings.warn('Using slow pure-python SequenceMatcher. Install python-Levenshtein to remove this warning')\n"
     ]
    }
   ],
   "source": [
    "# import necessary libraries\n",
    "import geopandas as gpd\n",
    "from fuzzywuzzy import fuzz, process\n",
    "import pandas as pd\n",
    "import re\n"
   ]
  },
  {
   "cell_type": "code",
   "execution_count": 2,
   "metadata": {},
   "outputs": [],
   "source": [
    "# Read path to file\n",
    "shapefile_path = 'Shapefiles/constituencies/constituencies.shp'\n",
    "csv_path = 'Data/Admin.csv'\n",
    "\n",
    "gdf_shapefile = gpd.read_file(shapefile_path)\n",
    "df_csv = pd.read_csv(csv_path)\n",
    "\n",
    "\n"
   ]
  },
  {
   "cell_type": "code",
   "execution_count": 3,
   "metadata": {},
   "outputs": [],
   "source": [
    "# Step 2: Preprocess ward names and ward codes\n",
    "def preprocess_shapefile_constituency_name(ward_name):\n",
    "    # Remove 'ward', '-' and '/' characters, and convert to lowercase\n",
    "    return re.sub(r'ward|-|/', '', ward_name, flags=re.IGNORECASE).strip().lower()\n",
    "\n",
    "def preprocess_csv_constituency_name(ward_name):\n",
    "    # Remove '/' characters and convert to lowercase\n",
    "    return re.sub(r'/', '', ward_name).lower()\n",
    "\n"
   ]
  },
  {
   "cell_type": "code",
   "execution_count": 7,
   "metadata": {},
   "outputs": [],
   "source": [
    "# Apply preprocessing to shapefile and CSV file ward names\n",
    "gdf_shapefile['constituency_name_preprocessed'] = gdf_shapefile['ward'].apply(preprocess_shapefile_constituency_name)\n",
    "df_csv['constituency_name_preprocessed'] = df_csv['Ward_Name'].apply(preprocess_csv_constituency_name)"
   ]
  },
  {
   "cell_type": "code",
   "execution_count": 9,
   "metadata": {},
   "outputs": [],
   "source": [
    "# Step 3: Perform fuzzy matching to find the best matches for ward names\n",
    "def fuzzy_match(ward_name, choices):\n",
    "    # Use process.extractOne to find the best match from the choices list\n",
    "    match, score = process.extractOne(ward_name, choices, scorer=fuzz.ratio)\n",
    "    if score >= 60:  # Adjust the threshold as per your requirement\n",
    "        return match\n",
    "    else:\n",
    "        return None\n",
    "\n"
   ]
  },
  {
   "cell_type": "code",
   "execution_count": 10,
   "metadata": {},
   "outputs": [],
   "source": [
    "# Create a dictionary to store the mappings between ward names in the shapefile and CSV\n",
    "ward_mapping = {}\n",
    "\n",
    "for index, row in df_csv.iterrows():\n",
    "    ward_name_csv = row['ward_name_preprocessed']\n",
    "    ward_code_csv = row['Ward_Code']\n",
    "\n",
    "    # Find the best match for the ward name in the shapefile\n",
    "    match_ward_name = fuzzy_match(ward_name_csv, gdf_shapefile['ward_name_preprocessed'].tolist())\n",
    "\n",
    "    if match_ward_name:\n",
    "        ward_mapping[match_ward_name] = ward_code_csv\n",
    "\n"
   ]
  },
  {
   "cell_type": "code",
   "execution_count": 11,
   "metadata": {},
   "outputs": [],
   "source": [
    "# Step 4: Update the attribute table in the shapefile with the ward codes\n",
    "gdf_shapefile['ward_code'] = gdf_shapefile['ward_name_preprocessed'].map(ward_mapping)"
   ]
  },
  {
   "cell_type": "code",
   "execution_count": 12,
   "metadata": {},
   "outputs": [
    {
     "name": "stderr",
     "output_type": "stream",
     "text": [
      "c:\\Users\\USER\\Desktop\\HSNP\\HSNP\\env\\lib\\site-packages\\ipykernel_launcher.py:3: UserWarning: Column names longer than 10 characters will be truncated when saved to ESRI Shapefile.\n",
      "  This is separate from the ipykernel package so we can avoid doing imports until\n"
     ]
    }
   ],
   "source": [
    "# Step 5: Save the updated shapefile\n",
    "output_shapefile_path = 'Shapefiles/wards/ke_wards.shp'\n",
    "gdf_shapefile.to_file(output_shapefile_path)"
   ]
  }
 ],
 "metadata": {
  "kernelspec": {
   "display_name": "env",
   "language": "python",
   "name": "python3"
  },
  "language_info": {
   "codemirror_mode": {
    "name": "ipython",
    "version": 3
   },
   "file_extension": ".py",
   "mimetype": "text/x-python",
   "name": "python",
   "nbconvert_exporter": "python",
   "pygments_lexer": "ipython3",
   "version": "3.7.9"
  },
  "orig_nbformat": 4
 },
 "nbformat": 4,
 "nbformat_minor": 2
}

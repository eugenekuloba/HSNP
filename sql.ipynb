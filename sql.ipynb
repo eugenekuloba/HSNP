{
 "cells": [
  {
   "cell_type": "markdown",
   "metadata": {},
   "source": [
    "## **<center>Create SQL Database</center>**"
   ]
  },
  {
   "cell_type": "markdown",
   "metadata": {},
   "source": [
    "## **Business Understanding**"
   ]
  },
  {
   "cell_type": "markdown",
   "metadata": {},
   "source": [
    "### **Data Understanding**"
   ]
  },
  {
   "cell_type": "code",
   "execution_count": 28,
   "metadata": {},
   "outputs": [],
   "source": [
    "# import necessary libraries\n",
    "import geopandas as gpd\n",
    "import sqlite3\n",
    "import pandas as pd\n",
    "import matplotlib.pyplot as plt"
   ]
  },
  {
   "cell_type": "code",
   "execution_count": 2,
   "metadata": {},
   "outputs": [
    {
     "data": {
      "text/html": [
       "<div>\n",
       "<style scoped>\n",
       "    .dataframe tbody tr th:only-of-type {\n",
       "        vertical-align: middle;\n",
       "    }\n",
       "\n",
       "    .dataframe tbody tr th {\n",
       "        vertical-align: top;\n",
       "    }\n",
       "\n",
       "    .dataframe thead th {\n",
       "        text-align: right;\n",
       "    }\n",
       "</style>\n",
       "<table border=\"1\" class=\"dataframe\">\n",
       "  <thead>\n",
       "    <tr style=\"text-align: right;\">\n",
       "      <th></th>\n",
       "      <th>OBJECTID</th>\n",
       "      <th>COUNTY_NAM</th>\n",
       "      <th>CONST_CODE</th>\n",
       "      <th>CONSTITUEN</th>\n",
       "      <th>COUNTY_ASS</th>\n",
       "      <th>COUNTY_A_1</th>\n",
       "      <th>REGIST_CEN</th>\n",
       "      <th>REGISTRATI</th>\n",
       "      <th>COUNTY_COD</th>\n",
       "      <th>Shape_Leng</th>\n",
       "      <th>Shape_Area</th>\n",
       "      <th>geometry</th>\n",
       "    </tr>\n",
       "  </thead>\n",
       "  <tbody>\n",
       "    <tr>\n",
       "      <th>0</th>\n",
       "      <td>1</td>\n",
       "      <td>NAIROBI</td>\n",
       "      <td>288.0</td>\n",
       "      <td>KAMUKUNJI</td>\n",
       "      <td>0.0</td>\n",
       "      <td>NaN</td>\n",
       "      <td>0.0</td>\n",
       "      <td>NaN</td>\n",
       "      <td>47.0</td>\n",
       "      <td>0.164632</td>\n",
       "      <td>0.000978</td>\n",
       "      <td>POLYGON ((36.87595 -1.26253, 36.87894 -1.26246...</td>\n",
       "    </tr>\n",
       "    <tr>\n",
       "      <th>1</th>\n",
       "      <td>2</td>\n",
       "      <td>NAIROBI</td>\n",
       "      <td>274.0</td>\n",
       "      <td>WESTLANDS</td>\n",
       "      <td>0.0</td>\n",
       "      <td>NaN</td>\n",
       "      <td>0.0</td>\n",
       "      <td>NaN</td>\n",
       "      <td>47.0</td>\n",
       "      <td>0.412418</td>\n",
       "      <td>0.005909</td>\n",
       "      <td>POLYGON ((36.81926 -1.20643, 36.83463 -1.21494...</td>\n",
       "    </tr>\n",
       "    <tr>\n",
       "      <th>2</th>\n",
       "      <td>3</td>\n",
       "      <td>NAIROBI</td>\n",
       "      <td>275.0</td>\n",
       "      <td>DAGORETTI NORTH</td>\n",
       "      <td>0.0</td>\n",
       "      <td>NaN</td>\n",
       "      <td>0.0</td>\n",
       "      <td>NaN</td>\n",
       "      <td>47.0</td>\n",
       "      <td>0.232409</td>\n",
       "      <td>0.002385</td>\n",
       "      <td>POLYGON ((36.79214 -1.26085, 36.79290 -1.26106...</td>\n",
       "    </tr>\n",
       "    <tr>\n",
       "      <th>3</th>\n",
       "      <td>4</td>\n",
       "      <td>NAIROBI</td>\n",
       "      <td>279.0</td>\n",
       "      <td>ROYSAMBU</td>\n",
       "      <td>0.0</td>\n",
       "      <td>NaN</td>\n",
       "      <td>0.0</td>\n",
       "      <td>NaN</td>\n",
       "      <td>47.0</td>\n",
       "      <td>0.384357</td>\n",
       "      <td>0.003908</td>\n",
       "      <td>POLYGON ((36.90578 -1.16138, 36.90731 -1.16181...</td>\n",
       "    </tr>\n",
       "    <tr>\n",
       "      <th>4</th>\n",
       "      <td>5</td>\n",
       "      <td>NAIROBI</td>\n",
       "      <td>289.0</td>\n",
       "      <td>STAREHE</td>\n",
       "      <td>0.0</td>\n",
       "      <td>NaN</td>\n",
       "      <td>0.0</td>\n",
       "      <td>NaN</td>\n",
       "      <td>47.0</td>\n",
       "      <td>0.206915</td>\n",
       "      <td>0.001325</td>\n",
       "      <td>POLYGON ((36.84275 -1.26460, 36.84375 -1.26768...</td>\n",
       "    </tr>\n",
       "  </tbody>\n",
       "</table>\n",
       "</div>"
      ],
      "text/plain": [
       "   OBJECTID COUNTY_NAM  CONST_CODE       CONSTITUEN  COUNTY_ASS COUNTY_A_1  \\\n",
       "0         1    NAIROBI       288.0        KAMUKUNJI         0.0        NaN   \n",
       "1         2    NAIROBI       274.0        WESTLANDS         0.0        NaN   \n",
       "2         3    NAIROBI       275.0  DAGORETTI NORTH         0.0        NaN   \n",
       "3         4    NAIROBI       279.0         ROYSAMBU         0.0        NaN   \n",
       "4         5    NAIROBI       289.0          STAREHE         0.0        NaN   \n",
       "\n",
       "   REGIST_CEN  REGISTRATI  COUNTY_COD  Shape_Leng  Shape_Area  \\\n",
       "0         0.0         NaN        47.0    0.164632    0.000978   \n",
       "1         0.0         NaN        47.0    0.412418    0.005909   \n",
       "2         0.0         NaN        47.0    0.232409    0.002385   \n",
       "3         0.0         NaN        47.0    0.384357    0.003908   \n",
       "4         0.0         NaN        47.0    0.206915    0.001325   \n",
       "\n",
       "                                            geometry  \n",
       "0  POLYGON ((36.87595 -1.26253, 36.87894 -1.26246...  \n",
       "1  POLYGON ((36.81926 -1.20643, 36.83463 -1.21494...  \n",
       "2  POLYGON ((36.79214 -1.26085, 36.79290 -1.26106...  \n",
       "3  POLYGON ((36.90578 -1.16138, 36.90731 -1.16181...  \n",
       "4  POLYGON ((36.84275 -1.26460, 36.84375 -1.26768...  "
      ]
     },
     "execution_count": 2,
     "metadata": {},
     "output_type": "execute_result"
    }
   ],
   "source": [
    "# Shapefile path\n",
    "shapefile_path = 'Shapefiles/constituencies/constituencies.shp'\n",
    "\n",
    "# Read the shapefile using geopandas\n",
    "gdf = gpd.read_file(shapefile_path)\n",
    "\n",
    "# View the geodataframe\n",
    "gdf.head()"
   ]
  },
  {
   "cell_type": "code",
   "execution_count": 3,
   "metadata": {},
   "outputs": [
    {
     "name": "stdout",
     "output_type": "stream",
     "text": [
      "<class 'geopandas.geodataframe.GeoDataFrame'>\n",
      "RangeIndex: 295 entries, 0 to 294\n",
      "Data columns (total 12 columns):\n",
      " #   Column      Non-Null Count  Dtype   \n",
      "---  ------      --------------  -----   \n",
      " 0   OBJECTID    295 non-null    int64   \n",
      " 1   COUNTY_NAM  290 non-null    object  \n",
      " 2   CONST_CODE  295 non-null    float64 \n",
      " 3   CONSTITUEN  290 non-null    object  \n",
      " 4   COUNTY_ASS  295 non-null    float64 \n",
      " 5   COUNTY_A_1  21 non-null     object  \n",
      " 6   REGIST_CEN  295 non-null    float64 \n",
      " 7   REGISTRATI  0 non-null      float64 \n",
      " 8   COUNTY_COD  295 non-null    float64 \n",
      " 9   Shape_Leng  295 non-null    float64 \n",
      " 10  Shape_Area  295 non-null    float64 \n",
      " 11  geometry    295 non-null    geometry\n",
      "dtypes: float64(7), geometry(1), int64(1), object(3)\n",
      "memory usage: 27.8+ KB\n"
     ]
    }
   ],
   "source": [
    "# view dataframe info\n",
    "gdf.info()"
   ]
  },
  {
   "cell_type": "code",
   "execution_count": 4,
   "metadata": {},
   "outputs": [
    {
     "data": {
      "text/plain": [
       "OBJECTID        0\n",
       "COUNTY_NAM      5\n",
       "CONST_CODE      0\n",
       "CONSTITUEN      5\n",
       "COUNTY_ASS      0\n",
       "COUNTY_A_1    274\n",
       "REGIST_CEN      0\n",
       "REGISTRATI    295\n",
       "COUNTY_COD      0\n",
       "Shape_Leng      0\n",
       "Shape_Area      0\n",
       "geometry        0\n",
       "dtype: int64"
      ]
     },
     "execution_count": 4,
     "metadata": {},
     "output_type": "execute_result"
    }
   ],
   "source": [
    "# Check Null Values\n",
    "gdf.isna().sum()"
   ]
  },
  {
   "cell_type": "code",
   "execution_count": 5,
   "metadata": {},
   "outputs": [
    {
     "name": "stdout",
     "output_type": "stream",
     "text": [
      "Duplicated rows in 'CONSTITUEN' column:\n",
      "     OBJECTID COUNTY_NAM  CONST_CODE CONSTITUEN  COUNTY_ASS COUNTY_A_1  \\\n",
      "290       334        NaN         0.0        NaN         0.0        NaN   \n",
      "291       341        NaN         0.0        NaN         0.0        NaN   \n",
      "292       342        NaN         0.0        NaN         0.0        NaN   \n",
      "293       348        NaN         0.0        NaN         0.0        NaN   \n",
      "294       349        NaN         0.0        NaN         0.0        NaN   \n",
      "\n",
      "     REGIST_CEN  REGISTRATI  COUNTY_COD  Shape_Leng  Shape_Area  \\\n",
      "290         0.0         NaN         0.0    0.010436    0.000005   \n",
      "291         0.0         NaN         0.0    0.026186    0.000016   \n",
      "292         0.0         NaN         0.0    0.032459    0.000021   \n",
      "293         0.0         NaN         0.0    0.017963    0.000011   \n",
      "294         0.0         NaN         0.0    0.017125    0.000007   \n",
      "\n",
      "                                              geometry  \n",
      "290  POLYGON ((34.75454 -0.03184, 34.75412 -0.03593...  \n",
      "291  POLYGON ((34.77883 -0.12278, 34.77511 -0.12327...  \n",
      "292  POLYGON ((34.77871 -0.12285, 34.77212 -0.12437...  \n",
      "293  POLYGON ((34.78616 -0.11375, 34.78592 -0.11662...  \n",
      "294  POLYGON ((34.78433 -0.11284, 34.78592 -0.11662...  \n",
      "Duplicated rows in 'code' column:\n",
      "     OBJECTID COUNTY_NAM  CONST_CODE CONSTITUEN  COUNTY_ASS COUNTY_A_1  \\\n",
      "290       334        NaN         0.0        NaN         0.0        NaN   \n",
      "291       341        NaN         0.0        NaN         0.0        NaN   \n",
      "292       342        NaN         0.0        NaN         0.0        NaN   \n",
      "293       348        NaN         0.0        NaN         0.0        NaN   \n",
      "294       349        NaN         0.0        NaN         0.0        NaN   \n",
      "\n",
      "     REGIST_CEN  REGISTRATI  COUNTY_COD  Shape_Leng  Shape_Area  \\\n",
      "290         0.0         NaN         0.0    0.010436    0.000005   \n",
      "291         0.0         NaN         0.0    0.026186    0.000016   \n",
      "292         0.0         NaN         0.0    0.032459    0.000021   \n",
      "293         0.0         NaN         0.0    0.017963    0.000011   \n",
      "294         0.0         NaN         0.0    0.017125    0.000007   \n",
      "\n",
      "                                              geometry  \n",
      "290  POLYGON ((34.75454 -0.03184, 34.75412 -0.03593...  \n",
      "291  POLYGON ((34.77883 -0.12278, 34.77511 -0.12327...  \n",
      "292  POLYGON ((34.77871 -0.12285, 34.77212 -0.12437...  \n",
      "293  POLYGON ((34.78616 -0.11375, 34.78592 -0.11662...  \n",
      "294  POLYGON ((34.78433 -0.11284, 34.78592 -0.11662...  \n"
     ]
    }
   ],
   "source": [
    "# Check for duplicates in 'CONSTITUEN' column\n",
    "duplicates_constituency = gdf['CONSTITUEN'].duplicated(keep=False)\n",
    "\n",
    "# Check for duplicates in 'code' column\n",
    "duplicates_code = gdf['CONST_CODE'].duplicated(keep=False)\n",
    "\n",
    "# Select rows with duplicates in 'CONSTITUEN' column\n",
    "duplicated_constituency_df = gdf[duplicates_constituency]\n",
    "\n",
    "# Select rows with duplicates in 'code' column\n",
    "duplicated_code_df = gdf[duplicates_code]\n",
    "\n",
    "# Display the duplicated rows for 'CONSTITUEN' column\n",
    "print(\"Duplicated rows in 'CONSTITUEN' column:\")\n",
    "print(duplicated_constituency_df)\n",
    "\n",
    "# Display the duplicated rows for 'code' column\n",
    "print(\"Duplicated rows in 'code' column:\")\n",
    "print(duplicated_code_df)"
   ]
  },
  {
   "cell_type": "code",
   "execution_count": 6,
   "metadata": {},
   "outputs": [
    {
     "data": {
      "text/plain": [
       "4"
      ]
     },
     "execution_count": 6,
     "metadata": {},
     "output_type": "execute_result"
    }
   ],
   "source": [
    "# check for duplicates in constituency name and code column\n",
    "gdf['CONSTITUEN'].duplicated().sum()"
   ]
  },
  {
   "cell_type": "code",
   "execution_count": 7,
   "metadata": {},
   "outputs": [
    {
     "data": {
      "text/plain": [
       "4"
      ]
     },
     "execution_count": 7,
     "metadata": {},
     "output_type": "execute_result"
    }
   ],
   "source": [
    "# check for duplicates in constituency name and code column\n",
    "gdf['CONST_CODE'].duplicated().sum()"
   ]
  },
  {
   "cell_type": "markdown",
   "metadata": {},
   "source": [
    "### **Data Preparation**"
   ]
  },
  {
   "cell_type": "code",
   "execution_count": 8,
   "metadata": {},
   "outputs": [],
   "source": [
    "# Convert all object data to title case\n",
    "gdf = gdf.apply(lambda x: x.str.lower() if x.dtype == 'object' else x)\n",
    "\n",
    "# Convert all column names to lower case\n",
    "gdf.columns = gdf.columns.str.lower()"
   ]
  },
  {
   "cell_type": "code",
   "execution_count": 9,
   "metadata": {},
   "outputs": [
    {
     "data": {
      "text/html": [
       "<div>\n",
       "<style scoped>\n",
       "    .dataframe tbody tr th:only-of-type {\n",
       "        vertical-align: middle;\n",
       "    }\n",
       "\n",
       "    .dataframe tbody tr th {\n",
       "        vertical-align: top;\n",
       "    }\n",
       "\n",
       "    .dataframe thead th {\n",
       "        text-align: right;\n",
       "    }\n",
       "</style>\n",
       "<table border=\"1\" class=\"dataframe\">\n",
       "  <thead>\n",
       "    <tr style=\"text-align: right;\">\n",
       "      <th></th>\n",
       "      <th>objectid</th>\n",
       "      <th>county_nam</th>\n",
       "      <th>const_code</th>\n",
       "      <th>constituen</th>\n",
       "      <th>county_ass</th>\n",
       "      <th>county_a_1</th>\n",
       "      <th>regist_cen</th>\n",
       "      <th>registrati</th>\n",
       "      <th>county_cod</th>\n",
       "      <th>shape_leng</th>\n",
       "      <th>shape_area</th>\n",
       "      <th>geometry</th>\n",
       "    </tr>\n",
       "  </thead>\n",
       "  <tbody>\n",
       "    <tr>\n",
       "      <th>0</th>\n",
       "      <td>1</td>\n",
       "      <td>nairobi</td>\n",
       "      <td>288.0</td>\n",
       "      <td>kamukunji</td>\n",
       "      <td>0.0</td>\n",
       "      <td>NaN</td>\n",
       "      <td>0.0</td>\n",
       "      <td>NaN</td>\n",
       "      <td>47.0</td>\n",
       "      <td>0.164632</td>\n",
       "      <td>0.000978</td>\n",
       "      <td>POLYGON ((36.87595 -1.26253, 36.87894 -1.26246...</td>\n",
       "    </tr>\n",
       "    <tr>\n",
       "      <th>1</th>\n",
       "      <td>2</td>\n",
       "      <td>nairobi</td>\n",
       "      <td>274.0</td>\n",
       "      <td>westlands</td>\n",
       "      <td>0.0</td>\n",
       "      <td>NaN</td>\n",
       "      <td>0.0</td>\n",
       "      <td>NaN</td>\n",
       "      <td>47.0</td>\n",
       "      <td>0.412418</td>\n",
       "      <td>0.005909</td>\n",
       "      <td>POLYGON ((36.81926 -1.20643, 36.83463 -1.21494...</td>\n",
       "    </tr>\n",
       "    <tr>\n",
       "      <th>2</th>\n",
       "      <td>3</td>\n",
       "      <td>nairobi</td>\n",
       "      <td>275.0</td>\n",
       "      <td>dagoretti north</td>\n",
       "      <td>0.0</td>\n",
       "      <td>NaN</td>\n",
       "      <td>0.0</td>\n",
       "      <td>NaN</td>\n",
       "      <td>47.0</td>\n",
       "      <td>0.232409</td>\n",
       "      <td>0.002385</td>\n",
       "      <td>POLYGON ((36.79214 -1.26085, 36.79290 -1.26106...</td>\n",
       "    </tr>\n",
       "    <tr>\n",
       "      <th>3</th>\n",
       "      <td>4</td>\n",
       "      <td>nairobi</td>\n",
       "      <td>279.0</td>\n",
       "      <td>roysambu</td>\n",
       "      <td>0.0</td>\n",
       "      <td>NaN</td>\n",
       "      <td>0.0</td>\n",
       "      <td>NaN</td>\n",
       "      <td>47.0</td>\n",
       "      <td>0.384357</td>\n",
       "      <td>0.003908</td>\n",
       "      <td>POLYGON ((36.90578 -1.16138, 36.90731 -1.16181...</td>\n",
       "    </tr>\n",
       "    <tr>\n",
       "      <th>4</th>\n",
       "      <td>5</td>\n",
       "      <td>nairobi</td>\n",
       "      <td>289.0</td>\n",
       "      <td>starehe</td>\n",
       "      <td>0.0</td>\n",
       "      <td>NaN</td>\n",
       "      <td>0.0</td>\n",
       "      <td>NaN</td>\n",
       "      <td>47.0</td>\n",
       "      <td>0.206915</td>\n",
       "      <td>0.001325</td>\n",
       "      <td>POLYGON ((36.84275 -1.26460, 36.84375 -1.26768...</td>\n",
       "    </tr>\n",
       "  </tbody>\n",
       "</table>\n",
       "</div>"
      ],
      "text/plain": [
       "   objectid county_nam  const_code       constituen  county_ass county_a_1  \\\n",
       "0         1    nairobi       288.0        kamukunji         0.0        NaN   \n",
       "1         2    nairobi       274.0        westlands         0.0        NaN   \n",
       "2         3    nairobi       275.0  dagoretti north         0.0        NaN   \n",
       "3         4    nairobi       279.0         roysambu         0.0        NaN   \n",
       "4         5    nairobi       289.0          starehe         0.0        NaN   \n",
       "\n",
       "   regist_cen  registrati  county_cod  shape_leng  shape_area  \\\n",
       "0         0.0         NaN        47.0    0.164632    0.000978   \n",
       "1         0.0         NaN        47.0    0.412418    0.005909   \n",
       "2         0.0         NaN        47.0    0.232409    0.002385   \n",
       "3         0.0         NaN        47.0    0.384357    0.003908   \n",
       "4         0.0         NaN        47.0    0.206915    0.001325   \n",
       "\n",
       "                                            geometry  \n",
       "0  POLYGON ((36.87595 -1.26253, 36.87894 -1.26246...  \n",
       "1  POLYGON ((36.81926 -1.20643, 36.83463 -1.21494...  \n",
       "2  POLYGON ((36.79214 -1.26085, 36.79290 -1.26106...  \n",
       "3  POLYGON ((36.90578 -1.16138, 36.90731 -1.16181...  \n",
       "4  POLYGON ((36.84275 -1.26460, 36.84375 -1.26768...  "
      ]
     },
     "execution_count": 9,
     "metadata": {},
     "output_type": "execute_result"
    }
   ],
   "source": [
    "# view dataframe info\n",
    "gdf.head()"
   ]
  },
  {
   "cell_type": "code",
   "execution_count": 10,
   "metadata": {},
   "outputs": [
    {
     "data": {
      "text/plain": [
       "Index(['objectid', 'county_nam', 'const_code', 'constituen', 'county_ass',\n",
       "       'county_a_1', 'regist_cen', 'registrati', 'county_cod', 'shape_leng',\n",
       "       'shape_area', 'geometry'],\n",
       "      dtype='object')"
      ]
     },
     "execution_count": 10,
     "metadata": {},
     "output_type": "execute_result"
    }
   ],
   "source": [
    "# check column names\n",
    "gdf.columns"
   ]
  },
  {
   "cell_type": "code",
   "execution_count": 11,
   "metadata": {},
   "outputs": [
    {
     "data": {
      "text/html": [
       "<div>\n",
       "<style scoped>\n",
       "    .dataframe tbody tr th:only-of-type {\n",
       "        vertical-align: middle;\n",
       "    }\n",
       "\n",
       "    .dataframe tbody tr th {\n",
       "        vertical-align: top;\n",
       "    }\n",
       "\n",
       "    .dataframe thead th {\n",
       "        text-align: right;\n",
       "    }\n",
       "</style>\n",
       "<table border=\"1\" class=\"dataframe\">\n",
       "  <thead>\n",
       "    <tr style=\"text-align: right;\">\n",
       "      <th></th>\n",
       "      <th>objectid</th>\n",
       "      <th>county_nam</th>\n",
       "      <th>const_code</th>\n",
       "      <th>constituen</th>\n",
       "      <th>county_ass</th>\n",
       "      <th>county_a_1</th>\n",
       "      <th>regist_cen</th>\n",
       "      <th>registrati</th>\n",
       "      <th>county_cod</th>\n",
       "      <th>shape_leng</th>\n",
       "      <th>shape_area</th>\n",
       "      <th>geometry</th>\n",
       "    </tr>\n",
       "  </thead>\n",
       "  <tbody>\n",
       "    <tr>\n",
       "      <th>0</th>\n",
       "      <td>1</td>\n",
       "      <td>nairobi</td>\n",
       "      <td>288.0</td>\n",
       "      <td>kamukunji</td>\n",
       "      <td>0.0</td>\n",
       "      <td>NaN</td>\n",
       "      <td>0.0</td>\n",
       "      <td>NaN</td>\n",
       "      <td>47.0</td>\n",
       "      <td>0.164632</td>\n",
       "      <td>0.000978</td>\n",
       "      <td>POLYGON ((36.87595 -1.26253, 36.87894 -1.26246...</td>\n",
       "    </tr>\n",
       "    <tr>\n",
       "      <th>1</th>\n",
       "      <td>2</td>\n",
       "      <td>nairobi</td>\n",
       "      <td>274.0</td>\n",
       "      <td>westlands</td>\n",
       "      <td>0.0</td>\n",
       "      <td>NaN</td>\n",
       "      <td>0.0</td>\n",
       "      <td>NaN</td>\n",
       "      <td>47.0</td>\n",
       "      <td>0.412418</td>\n",
       "      <td>0.005909</td>\n",
       "      <td>POLYGON ((36.81926 -1.20643, 36.83463 -1.21494...</td>\n",
       "    </tr>\n",
       "    <tr>\n",
       "      <th>2</th>\n",
       "      <td>3</td>\n",
       "      <td>nairobi</td>\n",
       "      <td>275.0</td>\n",
       "      <td>dagoretti north</td>\n",
       "      <td>0.0</td>\n",
       "      <td>NaN</td>\n",
       "      <td>0.0</td>\n",
       "      <td>NaN</td>\n",
       "      <td>47.0</td>\n",
       "      <td>0.232409</td>\n",
       "      <td>0.002385</td>\n",
       "      <td>POLYGON ((36.79214 -1.26085, 36.79290 -1.26106...</td>\n",
       "    </tr>\n",
       "    <tr>\n",
       "      <th>3</th>\n",
       "      <td>4</td>\n",
       "      <td>nairobi</td>\n",
       "      <td>279.0</td>\n",
       "      <td>roysambu</td>\n",
       "      <td>0.0</td>\n",
       "      <td>NaN</td>\n",
       "      <td>0.0</td>\n",
       "      <td>NaN</td>\n",
       "      <td>47.0</td>\n",
       "      <td>0.384357</td>\n",
       "      <td>0.003908</td>\n",
       "      <td>POLYGON ((36.90578 -1.16138, 36.90731 -1.16181...</td>\n",
       "    </tr>\n",
       "    <tr>\n",
       "      <th>4</th>\n",
       "      <td>5</td>\n",
       "      <td>nairobi</td>\n",
       "      <td>289.0</td>\n",
       "      <td>starehe</td>\n",
       "      <td>0.0</td>\n",
       "      <td>NaN</td>\n",
       "      <td>0.0</td>\n",
       "      <td>NaN</td>\n",
       "      <td>47.0</td>\n",
       "      <td>0.206915</td>\n",
       "      <td>0.001325</td>\n",
       "      <td>POLYGON ((36.84275 -1.26460, 36.84375 -1.26768...</td>\n",
       "    </tr>\n",
       "  </tbody>\n",
       "</table>\n",
       "</div>"
      ],
      "text/plain": [
       "   objectid county_nam  const_code       constituen  county_ass county_a_1  \\\n",
       "0         1    nairobi       288.0        kamukunji         0.0        NaN   \n",
       "1         2    nairobi       274.0        westlands         0.0        NaN   \n",
       "2         3    nairobi       275.0  dagoretti north         0.0        NaN   \n",
       "3         4    nairobi       279.0         roysambu         0.0        NaN   \n",
       "4         5    nairobi       289.0          starehe         0.0        NaN   \n",
       "\n",
       "   regist_cen  registrati  county_cod  shape_leng  shape_area  \\\n",
       "0         0.0         NaN        47.0    0.164632    0.000978   \n",
       "1         0.0         NaN        47.0    0.412418    0.005909   \n",
       "2         0.0         NaN        47.0    0.232409    0.002385   \n",
       "3         0.0         NaN        47.0    0.384357    0.003908   \n",
       "4         0.0         NaN        47.0    0.206915    0.001325   \n",
       "\n",
       "                                            geometry  \n",
       "0  POLYGON ((36.87595 -1.26253, 36.87894 -1.26246...  \n",
       "1  POLYGON ((36.81926 -1.20643, 36.83463 -1.21494...  \n",
       "2  POLYGON ((36.79214 -1.26085, 36.79290 -1.26106...  \n",
       "3  POLYGON ((36.90578 -1.16138, 36.90731 -1.16181...  \n",
       "4  POLYGON ((36.84275 -1.26460, 36.84375 -1.26768...  "
      ]
     },
     "execution_count": 11,
     "metadata": {},
     "output_type": "execute_result"
    }
   ],
   "source": [
    "gdf.head()"
   ]
  },
  {
   "cell_type": "code",
   "execution_count": 12,
   "metadata": {},
   "outputs": [
    {
     "name": "stdout",
     "output_type": "stream",
     "text": [
      "   objectid county_nam  const_code       constituen  county_ass county_a_1  \\\n",
      "0         1    nairobi       288.0        kamukunji         0.0        NaN   \n",
      "1         2    nairobi       274.0        westlands         0.0        NaN   \n",
      "2         3    nairobi       275.0  dagoretti north         0.0        NaN   \n",
      "3         4    nairobi       279.0         roysambu         0.0        NaN   \n",
      "4         5    nairobi       289.0          starehe         0.0        NaN   \n",
      "\n",
      "   regist_cen  registrati  county_cod  shape_leng  shape_area  \\\n",
      "0         0.0         NaN        47.0    0.164632    0.000978   \n",
      "1         0.0         NaN        47.0    0.412418    0.005909   \n",
      "2         0.0         NaN        47.0    0.232409    0.002385   \n",
      "3         0.0         NaN        47.0    0.384357    0.003908   \n",
      "4         0.0         NaN        47.0    0.206915    0.001325   \n",
      "\n",
      "                                            geometry  \n",
      "0  POLYGON ((36.87595 -1.26253, 36.87894 -1.26246...  \n",
      "1  POLYGON ((36.81926 -1.20643, 36.83463 -1.21494...  \n",
      "2  POLYGON ((36.79214 -1.26085, 36.79290 -1.26106...  \n",
      "3  POLYGON ((36.90578 -1.16138, 36.90731 -1.16181...  \n",
      "4  POLYGON ((36.84275 -1.26460, 36.84375 -1.26768...  \n"
     ]
    }
   ],
   "source": [
    "# Print the GeoDataFrame to check if it is loaded correctly\n",
    "print(gdf.head())"
   ]
  },
  {
   "cell_type": "code",
   "execution_count": 13,
   "metadata": {},
   "outputs": [
    {
     "data": {
      "text/html": [
       "<div>\n",
       "<style scoped>\n",
       "    .dataframe tbody tr th:only-of-type {\n",
       "        vertical-align: middle;\n",
       "    }\n",
       "\n",
       "    .dataframe tbody tr th {\n",
       "        vertical-align: top;\n",
       "    }\n",
       "\n",
       "    .dataframe thead th {\n",
       "        text-align: right;\n",
       "    }\n",
       "</style>\n",
       "<table border=\"1\" class=\"dataframe\">\n",
       "  <thead>\n",
       "    <tr style=\"text-align: right;\">\n",
       "      <th></th>\n",
       "      <th>objectid</th>\n",
       "      <th>county_nam</th>\n",
       "      <th>const_code</th>\n",
       "      <th>constituen</th>\n",
       "      <th>county_cod</th>\n",
       "      <th>shape_leng</th>\n",
       "      <th>shape_area</th>\n",
       "      <th>geometry</th>\n",
       "    </tr>\n",
       "  </thead>\n",
       "  <tbody>\n",
       "    <tr>\n",
       "      <th>0</th>\n",
       "      <td>1</td>\n",
       "      <td>nairobi</td>\n",
       "      <td>288.0</td>\n",
       "      <td>kamukunji</td>\n",
       "      <td>47.0</td>\n",
       "      <td>0.164632</td>\n",
       "      <td>0.000978</td>\n",
       "      <td>POLYGON ((36.87595 -1.26253, 36.87894 -1.26246...</td>\n",
       "    </tr>\n",
       "    <tr>\n",
       "      <th>1</th>\n",
       "      <td>2</td>\n",
       "      <td>nairobi</td>\n",
       "      <td>274.0</td>\n",
       "      <td>westlands</td>\n",
       "      <td>47.0</td>\n",
       "      <td>0.412418</td>\n",
       "      <td>0.005909</td>\n",
       "      <td>POLYGON ((36.81926 -1.20643, 36.83463 -1.21494...</td>\n",
       "    </tr>\n",
       "    <tr>\n",
       "      <th>2</th>\n",
       "      <td>3</td>\n",
       "      <td>nairobi</td>\n",
       "      <td>275.0</td>\n",
       "      <td>dagoretti north</td>\n",
       "      <td>47.0</td>\n",
       "      <td>0.232409</td>\n",
       "      <td>0.002385</td>\n",
       "      <td>POLYGON ((36.79214 -1.26085, 36.79290 -1.26106...</td>\n",
       "    </tr>\n",
       "    <tr>\n",
       "      <th>3</th>\n",
       "      <td>4</td>\n",
       "      <td>nairobi</td>\n",
       "      <td>279.0</td>\n",
       "      <td>roysambu</td>\n",
       "      <td>47.0</td>\n",
       "      <td>0.384357</td>\n",
       "      <td>0.003908</td>\n",
       "      <td>POLYGON ((36.90578 -1.16138, 36.90731 -1.16181...</td>\n",
       "    </tr>\n",
       "    <tr>\n",
       "      <th>4</th>\n",
       "      <td>5</td>\n",
       "      <td>nairobi</td>\n",
       "      <td>289.0</td>\n",
       "      <td>starehe</td>\n",
       "      <td>47.0</td>\n",
       "      <td>0.206915</td>\n",
       "      <td>0.001325</td>\n",
       "      <td>POLYGON ((36.84275 -1.26460, 36.84375 -1.26768...</td>\n",
       "    </tr>\n",
       "  </tbody>\n",
       "</table>\n",
       "</div>"
      ],
      "text/plain": [
       "   objectid county_nam  const_code       constituen  county_cod  shape_leng  \\\n",
       "0         1    nairobi       288.0        kamukunji        47.0    0.164632   \n",
       "1         2    nairobi       274.0        westlands        47.0    0.412418   \n",
       "2         3    nairobi       275.0  dagoretti north        47.0    0.232409   \n",
       "3         4    nairobi       279.0         roysambu        47.0    0.384357   \n",
       "4         5    nairobi       289.0          starehe        47.0    0.206915   \n",
       "\n",
       "   shape_area                                           geometry  \n",
       "0    0.000978  POLYGON ((36.87595 -1.26253, 36.87894 -1.26246...  \n",
       "1    0.005909  POLYGON ((36.81926 -1.20643, 36.83463 -1.21494...  \n",
       "2    0.002385  POLYGON ((36.79214 -1.26085, 36.79290 -1.26106...  \n",
       "3    0.003908  POLYGON ((36.90578 -1.16138, 36.90731 -1.16181...  \n",
       "4    0.001325  POLYGON ((36.84275 -1.26460, 36.84375 -1.26768...  "
      ]
     },
     "execution_count": 13,
     "metadata": {},
     "output_type": "execute_result"
    }
   ],
   "source": [
    "# drop unnecessary columns\n",
    "gdf.drop(columns=['county_ass','county_a_1','regist_cen','registrati'], axis=1, inplace=True)\n",
    "\n",
    "# view dataframe head\n",
    "gdf.head()\n"
   ]
  },
  {
   "cell_type": "code",
   "execution_count": 14,
   "metadata": {},
   "outputs": [
    {
     "data": {
      "text/html": [
       "<div>\n",
       "<style scoped>\n",
       "    .dataframe tbody tr th:only-of-type {\n",
       "        vertical-align: middle;\n",
       "    }\n",
       "\n",
       "    .dataframe tbody tr th {\n",
       "        vertical-align: top;\n",
       "    }\n",
       "\n",
       "    .dataframe thead th {\n",
       "        text-align: right;\n",
       "    }\n",
       "</style>\n",
       "<table border=\"1\" class=\"dataframe\">\n",
       "  <thead>\n",
       "    <tr style=\"text-align: right;\">\n",
       "      <th></th>\n",
       "      <th>objectid</th>\n",
       "      <th>county_nam</th>\n",
       "      <th>const_code</th>\n",
       "      <th>constituen</th>\n",
       "      <th>county_cod</th>\n",
       "      <th>shape_leng</th>\n",
       "      <th>shape_area</th>\n",
       "      <th>geometry</th>\n",
       "    </tr>\n",
       "  </thead>\n",
       "  <tbody>\n",
       "    <tr>\n",
       "      <th>290</th>\n",
       "      <td>334</td>\n",
       "      <td>NaN</td>\n",
       "      <td>0.0</td>\n",
       "      <td>NaN</td>\n",
       "      <td>0.0</td>\n",
       "      <td>0.010436</td>\n",
       "      <td>0.000005</td>\n",
       "      <td>POLYGON ((34.75454 -0.03184, 34.75412 -0.03593...</td>\n",
       "    </tr>\n",
       "    <tr>\n",
       "      <th>291</th>\n",
       "      <td>341</td>\n",
       "      <td>NaN</td>\n",
       "      <td>0.0</td>\n",
       "      <td>NaN</td>\n",
       "      <td>0.0</td>\n",
       "      <td>0.026186</td>\n",
       "      <td>0.000016</td>\n",
       "      <td>POLYGON ((34.77883 -0.12278, 34.77511 -0.12327...</td>\n",
       "    </tr>\n",
       "    <tr>\n",
       "      <th>292</th>\n",
       "      <td>342</td>\n",
       "      <td>NaN</td>\n",
       "      <td>0.0</td>\n",
       "      <td>NaN</td>\n",
       "      <td>0.0</td>\n",
       "      <td>0.032459</td>\n",
       "      <td>0.000021</td>\n",
       "      <td>POLYGON ((34.77871 -0.12285, 34.77212 -0.12437...</td>\n",
       "    </tr>\n",
       "    <tr>\n",
       "      <th>293</th>\n",
       "      <td>348</td>\n",
       "      <td>NaN</td>\n",
       "      <td>0.0</td>\n",
       "      <td>NaN</td>\n",
       "      <td>0.0</td>\n",
       "      <td>0.017963</td>\n",
       "      <td>0.000011</td>\n",
       "      <td>POLYGON ((34.78616 -0.11375, 34.78592 -0.11662...</td>\n",
       "    </tr>\n",
       "    <tr>\n",
       "      <th>294</th>\n",
       "      <td>349</td>\n",
       "      <td>NaN</td>\n",
       "      <td>0.0</td>\n",
       "      <td>NaN</td>\n",
       "      <td>0.0</td>\n",
       "      <td>0.017125</td>\n",
       "      <td>0.000007</td>\n",
       "      <td>POLYGON ((34.78433 -0.11284, 34.78592 -0.11662...</td>\n",
       "    </tr>\n",
       "  </tbody>\n",
       "</table>\n",
       "</div>"
      ],
      "text/plain": [
       "     objectid county_nam  const_code constituen  county_cod  shape_leng  \\\n",
       "290       334        NaN         0.0        NaN         0.0    0.010436   \n",
       "291       341        NaN         0.0        NaN         0.0    0.026186   \n",
       "292       342        NaN         0.0        NaN         0.0    0.032459   \n",
       "293       348        NaN         0.0        NaN         0.0    0.017963   \n",
       "294       349        NaN         0.0        NaN         0.0    0.017125   \n",
       "\n",
       "     shape_area                                           geometry  \n",
       "290    0.000005  POLYGON ((34.75454 -0.03184, 34.75412 -0.03593...  \n",
       "291    0.000016  POLYGON ((34.77883 -0.12278, 34.77511 -0.12327...  \n",
       "292    0.000021  POLYGON ((34.77871 -0.12285, 34.77212 -0.12437...  \n",
       "293    0.000011  POLYGON ((34.78616 -0.11375, 34.78592 -0.11662...  \n",
       "294    0.000007  POLYGON ((34.78433 -0.11284, 34.78592 -0.11662...  "
      ]
     },
     "execution_count": 14,
     "metadata": {},
     "output_type": "execute_result"
    }
   ],
   "source": [
    "# view df tail\n",
    "gdf.tail()"
   ]
  },
  {
   "cell_type": "code",
   "execution_count": 15,
   "metadata": {},
   "outputs": [],
   "source": [
    "# Rename Columns\n",
    "gdf.rename(columns = {'county_nam':'county_name',\n",
    "                          'const_code':'constituency_code',\n",
    "                          'constituen':'constituency_name',\n",
    "                          'county_code':'county_code',\n",
    "                          'shape_leng':'shape_length',},\n",
    "                          inplace = True)"
   ]
  },
  {
   "cell_type": "code",
   "execution_count": 16,
   "metadata": {},
   "outputs": [
    {
     "data": {
      "text/plain": [
       "Index(['objectid', 'county_name', 'constituency_code', 'constituency_name',\n",
       "       'county_cod', 'shape_length', 'shape_area', 'geometry'],\n",
       "      dtype='object')"
      ]
     },
     "execution_count": 16,
     "metadata": {},
     "output_type": "execute_result"
    }
   ],
   "source": [
    "# confirm the column names\n",
    "gdf.columns"
   ]
  },
  {
   "cell_type": "code",
   "execution_count": 17,
   "metadata": {},
   "outputs": [],
   "source": [
    "# Drop Rows with Null Values\n",
    "gdf.dropna(axis = 0, inplace = True)"
   ]
  },
  {
   "cell_type": "code",
   "execution_count": 18,
   "metadata": {},
   "outputs": [
    {
     "data": {
      "text/plain": [
       "objectid             False\n",
       "county_name          False\n",
       "constituency_code    False\n",
       "constituency_name    False\n",
       "county_cod           False\n",
       "shape_length         False\n",
       "shape_area           False\n",
       "geometry             False\n",
       "dtype: bool"
      ]
     },
     "execution_count": 18,
     "metadata": {},
     "output_type": "execute_result"
    }
   ],
   "source": [
    "# cofirm if there is Null Values\n",
    "gdf.isna().any()"
   ]
  },
  {
   "cell_type": "code",
   "execution_count": 19,
   "metadata": {},
   "outputs": [
    {
     "data": {
      "text/plain": [
       "290"
      ]
     },
     "execution_count": 19,
     "metadata": {},
     "output_type": "execute_result"
    }
   ],
   "source": [
    "# confirm length of constituencies (should be 290)\n",
    "len(gdf['constituency_code'].unique())"
   ]
  },
  {
   "cell_type": "code",
   "execution_count": 20,
   "metadata": {},
   "outputs": [
    {
     "name": "stderr",
     "output_type": "stream",
     "text": [
      "c:\\Users\\USER\\Desktop\\HSNP\\HSNP\\env\\lib\\site-packages\\ipykernel_launcher.py:3: UserWarning: Column names longer than 10 characters will be truncated when saved to ESRI Shapefile.\n",
      "  This is separate from the ipykernel package so we can avoid doing imports until\n"
     ]
    }
   ],
   "source": [
    "# save the updated dataframe as shapefile\n",
    "output_shapefile_path = 'Shapefiles/constituencies/constituencies.shp'\n",
    "gdf.to_file(output_shapefile_path)"
   ]
  },
  {
   "cell_type": "markdown",
   "metadata": {},
   "source": [
    "### **Plot The Constituencies (write the constituency code)**"
   ]
  },
  {
   "cell_type": "code",
   "execution_count": 32,
   "metadata": {},
   "outputs": [
    {
     "name": "stdout",
     "output_type": "stream",
     "text": [
      "County Name: kwale\n",
      "Constituency Name: msambweni\n",
      "Shape Area: 0.07672823594\n",
      "Shape Length: 1.2660909895\n"
     ]
    },
    {
     "data": {
      "image/png": "[encoded data removed]",
      "text/plain": [
       "<Figure size 800x800 with 1 Axes>"
      ]
     },
     "metadata": {},
     "output_type": "display_data"
    }
   ],
   "source": [
    "# Define function to plot constituencies\n",
    "def plot_polygon_and_info(gdf, constituency_code):\n",
    "    # Filter the GeoDataFrame based on the constituency code\n",
    "    selected_polygon = gdf[gdf['constituency_code'] == constituency_code]\n",
    "\n",
    "    if len(selected_polygon) == 0:\n",
    "        print(\"No polygon found for the given constituency code.\")\n",
    "        return\n",
    "\n",
    "    # Plot the selected polygon\n",
    "    fig, ax = plt.subplots(figsize=(8, 8))\n",
    "    selected_polygon.plot(ax=ax, facecolor='none', edgecolor='black')\n",
    "\n",
    "    # Get shape area and length information\n",
    "    county_name = selected_polygon['county_name'].iloc[0]\n",
    "    constituency_name = selected_polygon['constituency_name'].iloc[0]\n",
    "    shape_area = selected_polygon['shape_area'].iloc[0]\n",
    "    shape_length = selected_polygon['shape_length'].iloc[0]\n",
    "\n",
    "    # Display the shape area and length information\n",
    "    print(f\"County Name: {county_name}\")\n",
    "    print(f\"Constituency Name: {constituency_name}\")\n",
    "    print(f\"Shape Area: {shape_area}\")\n",
    "    print(f\"Shape Length: {shape_length}\")\n",
    "\n",
    "\n",
    "    # Show the plot\n",
    "    plt.show()\n",
    "\n",
    "if __name__ == \"__main__\":\n",
    "    # Prompt the user to input a constituency code\n",
    "    user_constituency_code = float(input(\"Enter the constituency code: \"))\n",
    "\n",
    "    # Call the function to plot the polygon and display the info\n",
    "    plot_polygon_and_info(gdf, user_constituency_code)\n"
   ]
  },
  {
   "cell_type": "code",
   "execution_count": null,
   "metadata": {},
   "outputs": [],
   "source": []
  },
  {
   "cell_type": "markdown",
   "metadata": {},
   "source": [
    "### **Create a SQL Lite Database and Update table with shapefile data**"
   ]
  },
  {
   "cell_type": "code",
   "execution_count": 21,
   "metadata": {},
   "outputs": [
    {
     "name": "stdout",
     "output_type": "stream",
     "text": [
      "<class 'geopandas.geodataframe.GeoDataFrame'>\n",
      "Int64Index: 290 entries, 0 to 289\n",
      "Data columns (total 8 columns):\n",
      " #   Column             Non-Null Count  Dtype   \n",
      "---  ------             --------------  -----   \n",
      " 0   objectid           290 non-null    int64   \n",
      " 1   county_name        290 non-null    object  \n",
      " 2   constituency_code  290 non-null    float64 \n",
      " 3   constituency_name  290 non-null    object  \n",
      " 4   county_cod         290 non-null    float64 \n",
      " 5   shape_length       290 non-null    float64 \n",
      " 6   shape_area         290 non-null    float64 \n",
      " 7   geometry           290 non-null    geometry\n",
      "dtypes: float64(4), geometry(1), int64(1), object(2)\n",
      "memory usage: 20.4+ KB\n"
     ]
    }
   ],
   "source": [
    "# Geodatafrae info\n",
    "gdf.info()"
   ]
  },
  {
   "cell_type": "code",
   "execution_count": 25,
   "metadata": {},
   "outputs": [],
   "source": [
    "# Connect to SQLite Database\n",
    "database_name = \"constituencies.db\"\n",
    "conn = sqlite3.connect(database_name)"
   ]
  },
  {
   "cell_type": "code",
   "execution_count": 27,
   "metadata": {},
   "outputs": [
    {
     "ename": "InterfaceError",
     "evalue": "Error binding parameter 7 - probably unsupported type.",
     "output_type": "error",
     "traceback": [
      "\u001b[1;31m---------------------------------------------------------------------------\u001b[0m",
      "\u001b[1;31mInterfaceError\u001b[0m                            Traceback (most recent call last)",
      "\u001b[1;32m~\\AppData\\Local\\Temp\\ipykernel_7228\\1831782646.py\u001b[0m in \u001b[0;36m<module>\u001b[1;34m\u001b[0m\n\u001b[0;32m      1\u001b[0m \u001b[1;31m# convert Geodataframe to a SQLite table\u001b[0m\u001b[1;33m\u001b[0m\u001b[1;33m\u001b[0m\u001b[1;33m\u001b[0m\u001b[0m\n\u001b[0;32m      2\u001b[0m \u001b[0mtable\u001b[0m \u001b[1;33m=\u001b[0m \u001b[1;34m\"constituencies\"\u001b[0m\u001b[1;33m\u001b[0m\u001b[1;33m\u001b[0m\u001b[0m\n\u001b[1;32m----> 3\u001b[1;33m \u001b[0mgdf\u001b[0m\u001b[1;33m.\u001b[0m\u001b[0mto_sql\u001b[0m\u001b[1;33m(\u001b[0m\u001b[0mtable\u001b[0m\u001b[1;33m,\u001b[0m \u001b[0mconn\u001b[0m\u001b[1;33m,\u001b[0m \u001b[0mif_exists\u001b[0m\u001b[1;33m=\u001b[0m\u001b[1;34m'replace'\u001b[0m\u001b[1;33m,\u001b[0m \u001b[0mindex\u001b[0m\u001b[1;33m=\u001b[0m\u001b[1;32mFalse\u001b[0m\u001b[1;33m)\u001b[0m\u001b[1;33m\u001b[0m\u001b[1;33m\u001b[0m\u001b[0m\n\u001b[0m",
      "\u001b[1;32mc:\\Users\\USER\\Desktop\\HSNP\\HSNP\\env\\lib\\site-packages\\pandas\\core\\generic.py\u001b[0m in \u001b[0;36mto_sql\u001b[1;34m(self, name, con, schema, if_exists, index, index_label, chunksize, dtype, method)\u001b[0m\n\u001b[0;32m   2880\u001b[0m             \u001b[0mchunksize\u001b[0m\u001b[1;33m=\u001b[0m\u001b[0mchunksize\u001b[0m\u001b[1;33m,\u001b[0m\u001b[1;33m\u001b[0m\u001b[1;33m\u001b[0m\u001b[0m\n\u001b[0;32m   2881\u001b[0m             \u001b[0mdtype\u001b[0m\u001b[1;33m=\u001b[0m\u001b[0mdtype\u001b[0m\u001b[1;33m,\u001b[0m\u001b[1;33m\u001b[0m\u001b[1;33m\u001b[0m\u001b[0m\n\u001b[1;32m-> 2882\u001b[1;33m             \u001b[0mmethod\u001b[0m\u001b[1;33m=\u001b[0m\u001b[0mmethod\u001b[0m\u001b[1;33m,\u001b[0m\u001b[1;33m\u001b[0m\u001b[1;33m\u001b[0m\u001b[0m\n\u001b[0m\u001b[0;32m   2883\u001b[0m         )\n\u001b[0;32m   2884\u001b[0m \u001b[1;33m\u001b[0m\u001b[0m\n",
      "\u001b[1;32mc:\\Users\\USER\\Desktop\\HSNP\\HSNP\\env\\lib\\site-packages\\pandas\\io\\sql.py\u001b[0m in \u001b[0;36mto_sql\u001b[1;34m(frame, name, con, schema, if_exists, index, index_label, chunksize, dtype, method, engine, **engine_kwargs)\u001b[0m\n\u001b[0;32m    726\u001b[0m         \u001b[0mmethod\u001b[0m\u001b[1;33m=\u001b[0m\u001b[0mmethod\u001b[0m\u001b[1;33m,\u001b[0m\u001b[1;33m\u001b[0m\u001b[1;33m\u001b[0m\u001b[0m\n\u001b[0;32m    727\u001b[0m         \u001b[0mengine\u001b[0m\u001b[1;33m=\u001b[0m\u001b[0mengine\u001b[0m\u001b[1;33m,\u001b[0m\u001b[1;33m\u001b[0m\u001b[1;33m\u001b[0m\u001b[0m\n\u001b[1;32m--> 728\u001b[1;33m         \u001b[1;33m**\u001b[0m\u001b[0mengine_kwargs\u001b[0m\u001b[1;33m,\u001b[0m\u001b[1;33m\u001b[0m\u001b[1;33m\u001b[0m\u001b[0m\n\u001b[0m\u001b[0;32m    729\u001b[0m     )\n\u001b[0;32m    730\u001b[0m \u001b[1;33m\u001b[0m\u001b[0m\n",
      "\u001b[1;32mc:\\Users\\USER\\Desktop\\HSNP\\HSNP\\env\\lib\\site-packages\\pandas\\io\\sql.py\u001b[0m in \u001b[0;36mto_sql\u001b[1;34m(self, frame, name, if_exists, index, index_label, schema, chunksize, dtype, method, **kwargs)\u001b[0m\n\u001b[0;32m   2224\u001b[0m         )\n\u001b[0;32m   2225\u001b[0m         \u001b[0mtable\u001b[0m\u001b[1;33m.\u001b[0m\u001b[0mcreate\u001b[0m\u001b[1;33m(\u001b[0m\u001b[1;33m)\u001b[0m\u001b[1;33m\u001b[0m\u001b[1;33m\u001b[0m\u001b[0m\n\u001b[1;32m-> 2226\u001b[1;33m         \u001b[0mtable\u001b[0m\u001b[1;33m.\u001b[0m\u001b[0minsert\u001b[0m\u001b[1;33m(\u001b[0m\u001b[0mchunksize\u001b[0m\u001b[1;33m,\u001b[0m \u001b[0mmethod\u001b[0m\u001b[1;33m)\u001b[0m\u001b[1;33m\u001b[0m\u001b[1;33m\u001b[0m\u001b[0m\n\u001b[0m\u001b[0;32m   2227\u001b[0m \u001b[1;33m\u001b[0m\u001b[0m\n\u001b[0;32m   2228\u001b[0m     \u001b[1;32mdef\u001b[0m \u001b[0mhas_table\u001b[0m\u001b[1;33m(\u001b[0m\u001b[0mself\u001b[0m\u001b[1;33m,\u001b[0m \u001b[0mname\u001b[0m\u001b[1;33m:\u001b[0m \u001b[0mstr\u001b[0m\u001b[1;33m,\u001b[0m \u001b[0mschema\u001b[0m\u001b[1;33m:\u001b[0m \u001b[0mstr\u001b[0m \u001b[1;33m|\u001b[0m \u001b[1;32mNone\u001b[0m \u001b[1;33m=\u001b[0m \u001b[1;32mNone\u001b[0m\u001b[1;33m)\u001b[0m\u001b[1;33m:\u001b[0m\u001b[1;33m\u001b[0m\u001b[1;33m\u001b[0m\u001b[0m\n",
      "\u001b[1;32mc:\\Users\\USER\\Desktop\\HSNP\\HSNP\\env\\lib\\site-packages\\pandas\\io\\sql.py\u001b[0m in \u001b[0;36minsert\u001b[1;34m(self, chunksize, method)\u001b[0m\n\u001b[0;32m    965\u001b[0m \u001b[1;33m\u001b[0m\u001b[0m\n\u001b[0;32m    966\u001b[0m                 \u001b[0mchunk_iter\u001b[0m \u001b[1;33m=\u001b[0m \u001b[0mzip\u001b[0m\u001b[1;33m(\u001b[0m\u001b[1;33m*\u001b[0m\u001b[1;33m[\u001b[0m\u001b[0marr\u001b[0m\u001b[1;33m[\u001b[0m\u001b[0mstart_i\u001b[0m\u001b[1;33m:\u001b[0m\u001b[0mend_i\u001b[0m\u001b[1;33m]\u001b[0m \u001b[1;32mfor\u001b[0m \u001b[0marr\u001b[0m \u001b[1;32min\u001b[0m \u001b[0mdata_list\u001b[0m\u001b[1;33m]\u001b[0m\u001b[1;33m)\u001b[0m\u001b[1;33m\u001b[0m\u001b[1;33m\u001b[0m\u001b[0m\n\u001b[1;32m--> 967\u001b[1;33m                 \u001b[0mexec_insert\u001b[0m\u001b[1;33m(\u001b[0m\u001b[0mconn\u001b[0m\u001b[1;33m,\u001b[0m \u001b[0mkeys\u001b[0m\u001b[1;33m,\u001b[0m \u001b[0mchunk_iter\u001b[0m\u001b[1;33m)\u001b[0m\u001b[1;33m\u001b[0m\u001b[1;33m\u001b[0m\u001b[0m\n\u001b[0m\u001b[0;32m    968\u001b[0m \u001b[1;33m\u001b[0m\u001b[0m\n\u001b[0;32m    969\u001b[0m     def _query_iterator(\n",
      "\u001b[1;32mc:\\Users\\USER\\Desktop\\HSNP\\HSNP\\env\\lib\\site-packages\\pandas\\io\\sql.py\u001b[0m in \u001b[0;36m_execute_insert\u001b[1;34m(self, conn, keys, data_iter)\u001b[0m\n\u001b[0;32m   1922\u001b[0m     \u001b[1;32mdef\u001b[0m \u001b[0m_execute_insert\u001b[0m\u001b[1;33m(\u001b[0m\u001b[0mself\u001b[0m\u001b[1;33m,\u001b[0m \u001b[0mconn\u001b[0m\u001b[1;33m,\u001b[0m \u001b[0mkeys\u001b[0m\u001b[1;33m,\u001b[0m \u001b[0mdata_iter\u001b[0m\u001b[1;33m)\u001b[0m\u001b[1;33m:\u001b[0m\u001b[1;33m\u001b[0m\u001b[1;33m\u001b[0m\u001b[0m\n\u001b[0;32m   1923\u001b[0m         \u001b[0mdata_list\u001b[0m \u001b[1;33m=\u001b[0m \u001b[0mlist\u001b[0m\u001b[1;33m(\u001b[0m\u001b[0mdata_iter\u001b[0m\u001b[1;33m)\u001b[0m\u001b[1;33m\u001b[0m\u001b[1;33m\u001b[0m\u001b[0m\n\u001b[1;32m-> 1924\u001b[1;33m         \u001b[0mconn\u001b[0m\u001b[1;33m.\u001b[0m\u001b[0mexecutemany\u001b[0m\u001b[1;33m(\u001b[0m\u001b[0mself\u001b[0m\u001b[1;33m.\u001b[0m\u001b[0minsert_statement\u001b[0m\u001b[1;33m(\u001b[0m\u001b[0mnum_rows\u001b[0m\u001b[1;33m=\u001b[0m\u001b[1;36m1\u001b[0m\u001b[1;33m)\u001b[0m\u001b[1;33m,\u001b[0m \u001b[0mdata_list\u001b[0m\u001b[1;33m)\u001b[0m\u001b[1;33m\u001b[0m\u001b[1;33m\u001b[0m\u001b[0m\n\u001b[0m\u001b[0;32m   1925\u001b[0m \u001b[1;33m\u001b[0m\u001b[0m\n\u001b[0;32m   1926\u001b[0m     \u001b[1;32mdef\u001b[0m \u001b[0m_execute_insert_multi\u001b[0m\u001b[1;33m(\u001b[0m\u001b[0mself\u001b[0m\u001b[1;33m,\u001b[0m \u001b[0mconn\u001b[0m\u001b[1;33m,\u001b[0m \u001b[0mkeys\u001b[0m\u001b[1;33m,\u001b[0m \u001b[0mdata_iter\u001b[0m\u001b[1;33m)\u001b[0m\u001b[1;33m:\u001b[0m\u001b[1;33m\u001b[0m\u001b[1;33m\u001b[0m\u001b[0m\n",
      "\u001b[1;31mInterfaceError\u001b[0m: Error binding parameter 7 - probably unsupported type."
     ]
    }
   ],
   "source": [
    "# convert Geodataframe to a SQLite table\n",
    "table = \"constituencies\"\n",
    "gdf.to_sql(table, conn, if_exists='replace', index=False)"
   ]
  },
  {
   "cell_type": "code",
   "execution_count": null,
   "metadata": {},
   "outputs": [],
   "source": [
    "# commit and close connection\n",
    "connection.commit()\n",
    "connection.close()\n"
   ]
  }
 ],
 "metadata": {
  "kernelspec": {
   "display_name": "env",
   "language": "python",
   "name": "python3"
  },
  "language_info": {
   "codemirror_mode": {
    "name": "ipython",
    "version": 3
   },
   "file_extension": ".py",
   "mimetype": "text/x-python",
   "name": "python",
   "nbconvert_exporter": "python",
   "pygments_lexer": "ipython3",
   "version": "3.7.9"
  },
  "orig_nbformat": 4
 },
 "nbformat": 4,
 "nbformat_minor": 2
}

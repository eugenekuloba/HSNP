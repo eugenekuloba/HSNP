{
 "cells": [
  {
   "cell_type": "code",
   "execution_count": null,
   "metadata": {},
   "outputs": [],
   "source": [
    "# ! pip install geopy\n"
   ]
  },
  {
   "cell_type": "code",
   "execution_count": null,
   "metadata": {},
   "outputs": [],
   "source": [
    "# pip install geopandas"
   ]
  },
  {
   "cell_type": "code",
   "execution_count": 1,
   "metadata": {
    "scrolled": true
   },
   "outputs": [],
   "source": [
    "# import necessary libraries\n",
    "import pandas as pd\n",
    "import numpy as np\n",
    "import matplotlib.pyplot as plt\n",
    "import seaborn as sns\n",
    "import random\n",
    "import folium\n",
    "import math\n",
    "from geopy.geocoders import Nominatim\n",
    "from geopy.exc import GeocoderTimedOut\n",
    "import time\n",
    "import geopandas as gpd\n",
    "from shapely.geometry import Point\n",
    "import random"
   ]
  },
  {
   "cell_type": "code",
   "execution_count": 2,
   "metadata": {},
   "outputs": [],
   "source": [
    "# pip install --upgrade openpyxl"
   ]
  },
  {
   "cell_type": "code",
   "execution_count": 3,
   "metadata": {},
   "outputs": [],
   "source": [
    "# Read the Excel file\n",
    "df = pd.read_excel('County Location_ Raw Data.xlsx')"
   ]
  },
  {
   "cell_type": "code",
   "execution_count": 4,
   "metadata": {},
   "outputs": [
    {
     "data": {
      "text/plain": [
       "(570675, 17)"
      ]
     },
     "execution_count": 4,
     "metadata": {},
     "output_type": "execute_result"
    }
   ],
   "source": [
    "# Check shape of the data\n",
    "df.shape"
   ]
  },
  {
   "cell_type": "code",
   "execution_count": 5,
   "metadata": {
    "scrolled": false
   },
   "outputs": [
    {
     "name": "stdout",
     "output_type": "stream",
     "text": [
      "<class 'pandas.core.frame.DataFrame'>\n",
      "RangeIndex: 570675 entries, 0 to 570674\n",
      "Data columns (total 17 columns):\n",
      " #   Column             Non-Null Count   Dtype         \n",
      "---  ------             --------------   -----         \n",
      " 0   Household_ID       570675 non-null  object        \n",
      " 1   Village_ID         570675 non-null  int64         \n",
      " 2   Village_Name       570675 non-null  object        \n",
      " 3   Sublocation_Name   570675 non-null  object        \n",
      " 4   Sublocation_ID     570675 non-null  int64         \n",
      " 5   Location_ID        570675 non-null  int64         \n",
      " 6   Location_Name      570675 non-null  object        \n",
      " 7   Constituency_Name  570675 non-null  object        \n",
      " 8   County_Name        570675 non-null  object        \n",
      " 9   IsBeneficiaryHH    570675 non-null  bool          \n",
      " 10  latitude           570675 non-null  float64       \n",
      " 11  longitude          570675 non-null  float64       \n",
      " 12  RuralUrban         544571 non-null  object        \n",
      " 13  Constituency_ID    570675 non-null  int64         \n",
      " 14  Entry_Date         570675 non-null  datetime64[ns]\n",
      " 15  UserCode           570675 non-null  object        \n",
      " 16  County_ID          570675 non-null  int64         \n",
      "dtypes: bool(1), datetime64[ns](1), float64(2), int64(5), object(8)\n",
      "memory usage: 70.2+ MB\n"
     ]
    }
   ],
   "source": [
    "df.info()"
   ]
  },
  {
   "cell_type": "code",
   "execution_count": 6,
   "metadata": {
    "scrolled": true
   },
   "outputs": [
    {
     "name": "stdout",
     "output_type": "stream",
     "text": [
      "Empty DataFrame\n",
      "Columns: [Household_ID, Village_ID, Village_Name, Sublocation_Name, Sublocation_ID, Location_ID, Location_Name, Constituency_Name, County_Name, IsBeneficiaryHH, latitude, longitude, RuralUrban, Constituency_ID, Entry_Date, UserCode, County_ID]\n",
      "Index: []\n"
     ]
    }
   ],
   "source": [
    "# Check for non-numeric values\n",
    "non_numeric_values = df[df['UserCode'].isnull()]\n",
    "\n",
    "# Print the non-numeric values\n",
    "print(non_numeric_values)"
   ]
  },
  {
   "cell_type": "code",
   "execution_count": 7,
   "metadata": {
    "scrolled": true
   },
   "outputs": [
    {
     "name": "stdout",
     "output_type": "stream",
     "text": [
      "Empty DataFrame\n",
      "Columns: [Household_ID, Village_ID, Village_Name, Sublocation_Name, Sublocation_ID, Location_ID, Location_Name, Constituency_Name, County_Name, IsBeneficiaryHH, latitude, longitude, RuralUrban, Constituency_ID, Entry_Date, UserCode, County_ID]\n",
      "Index: []\n"
     ]
    }
   ],
   "source": [
    "# Check for non-numeric values\n",
    "non_numeric_values = df[df['Household_ID'].isnull()]\n",
    "\n",
    "# Print the non-numeric values\n",
    "print(non_numeric_values)"
   ]
  },
  {
   "cell_type": "code",
   "execution_count": 8,
   "metadata": {},
   "outputs": [],
   "source": [
    "# Convert all object data to title case\n",
    "df = df.apply(lambda x: x.str.title() if x.dtype == 'object' else x)\n",
    "\n",
    "# Convert all column names to lower case\n",
    "df.columns = df.columns.str.lower()"
   ]
  },
  {
   "cell_type": "code",
   "execution_count": 9,
   "metadata": {},
   "outputs": [
    {
     "data": {
      "text/html": [
       "<div>\n",
       "<style scoped>\n",
       "    .dataframe tbody tr th:only-of-type {\n",
       "        vertical-align: middle;\n",
       "    }\n",
       "\n",
       "    .dataframe tbody tr th {\n",
       "        vertical-align: top;\n",
       "    }\n",
       "\n",
       "    .dataframe thead th {\n",
       "        text-align: right;\n",
       "    }\n",
       "</style>\n",
       "<table border=\"1\" class=\"dataframe\">\n",
       "  <thead>\n",
       "    <tr style=\"text-align: right;\">\n",
       "      <th></th>\n",
       "      <th>household_id</th>\n",
       "      <th>village_id</th>\n",
       "      <th>village_name</th>\n",
       "      <th>sublocation_name</th>\n",
       "      <th>sublocation_id</th>\n",
       "      <th>location_id</th>\n",
       "      <th>location_name</th>\n",
       "      <th>constituency_name</th>\n",
       "      <th>county_name</th>\n",
       "      <th>isbeneficiaryhh</th>\n",
       "      <th>latitude</th>\n",
       "      <th>longitude</th>\n",
       "      <th>ruralurban</th>\n",
       "      <th>constituency_id</th>\n",
       "      <th>entry_date</th>\n",
       "      <th>usercode</th>\n",
       "      <th>county_id</th>\n",
       "    </tr>\n",
       "  </thead>\n",
       "  <tbody>\n",
       "    <tr>\n",
       "      <th>0</th>\n",
       "      <td>29334629</td>\n",
       "      <td>50902020103141674</td>\n",
       "      <td>El Hache B</td>\n",
       "      <td>Elwak South</td>\n",
       "      <td>509020201</td>\n",
       "      <td>5090202</td>\n",
       "      <td>Elwak South</td>\n",
       "      <td>Mandera South</td>\n",
       "      <td>Mandera</td>\n",
       "      <td>False</td>\n",
       "      <td>40.92768</td>\n",
       "      <td>2.790960</td>\n",
       "      <td>Urban</td>\n",
       "      <td>42</td>\n",
       "      <td>2019-12-02 18:09:00</td>\n",
       "      <td>4629</td>\n",
       "      <td>9</td>\n",
       "    </tr>\n",
       "    <tr>\n",
       "      <th>1</th>\n",
       "      <td>4010101010072345100212</td>\n",
       "      <td>4010101010072345</td>\n",
       "      <td>Galcha Dida</td>\n",
       "      <td>Nyayo Rd</td>\n",
       "      <td>401010101</td>\n",
       "      <td>4010101</td>\n",
       "      <td>Nagayo</td>\n",
       "      <td>Saku</td>\n",
       "      <td>Marsabit</td>\n",
       "      <td>True</td>\n",
       "      <td>2.33374</td>\n",
       "      <td>37.992490</td>\n",
       "      <td>Urban</td>\n",
       "      <td>47</td>\n",
       "      <td>2018-07-02 09:05:00</td>\n",
       "      <td>0212</td>\n",
       "      <td>10</td>\n",
       "    </tr>\n",
       "    <tr>\n",
       "      <th>2</th>\n",
       "      <td>4010101010072345100213</td>\n",
       "      <td>4010101010072345</td>\n",
       "      <td>Galcha Dida</td>\n",
       "      <td>Nyayo Rd</td>\n",
       "      <td>401010101</td>\n",
       "      <td>4010101</td>\n",
       "      <td>Nagayo</td>\n",
       "      <td>Saku</td>\n",
       "      <td>Marsabit</td>\n",
       "      <td>False</td>\n",
       "      <td>2.33319</td>\n",
       "      <td>37.992270</td>\n",
       "      <td>Urban</td>\n",
       "      <td>47</td>\n",
       "      <td>2018-06-08 19:57:00</td>\n",
       "      <td>0213</td>\n",
       "      <td>10</td>\n",
       "    </tr>\n",
       "    <tr>\n",
       "      <th>3</th>\n",
       "      <td>401010101007234510126</td>\n",
       "      <td>4010101010072345</td>\n",
       "      <td>Galcha Dida</td>\n",
       "      <td>Nyayo Rd</td>\n",
       "      <td>401010101</td>\n",
       "      <td>4010101</td>\n",
       "      <td>Nagayo</td>\n",
       "      <td>Saku</td>\n",
       "      <td>Marsabit</td>\n",
       "      <td>False</td>\n",
       "      <td>2.33148</td>\n",
       "      <td>37.994250</td>\n",
       "      <td>Urban</td>\n",
       "      <td>47</td>\n",
       "      <td>2018-02-10 13:17:00</td>\n",
       "      <td>0126</td>\n",
       "      <td>10</td>\n",
       "    </tr>\n",
       "    <tr>\n",
       "      <th>4</th>\n",
       "      <td>401010101007234510128</td>\n",
       "      <td>4010101010072345</td>\n",
       "      <td>Galcha Dida</td>\n",
       "      <td>Nyayo Rd</td>\n",
       "      <td>401010101</td>\n",
       "      <td>4010101</td>\n",
       "      <td>Nagayo</td>\n",
       "      <td>Saku</td>\n",
       "      <td>Marsabit</td>\n",
       "      <td>False</td>\n",
       "      <td>2.67537</td>\n",
       "      <td>37.876865</td>\n",
       "      <td>Urban</td>\n",
       "      <td>47</td>\n",
       "      <td>2019-07-20 06:57:00</td>\n",
       "      <td>0128</td>\n",
       "      <td>10</td>\n",
       "    </tr>\n",
       "  </tbody>\n",
       "</table>\n",
       "</div>"
      ],
      "text/plain": [
       "             household_id         village_id village_name sublocation_name  \\\n",
       "0                29334629  50902020103141674   El Hache B      Elwak South   \n",
       "1  4010101010072345100212   4010101010072345  Galcha Dida         Nyayo Rd   \n",
       "2  4010101010072345100213   4010101010072345  Galcha Dida         Nyayo Rd   \n",
       "3   401010101007234510126   4010101010072345  Galcha Dida         Nyayo Rd   \n",
       "4   401010101007234510128   4010101010072345  Galcha Dida         Nyayo Rd   \n",
       "\n",
       "   sublocation_id  location_id location_name constituency_name county_name  \\\n",
       "0       509020201      5090202   Elwak South     Mandera South     Mandera   \n",
       "1       401010101      4010101        Nagayo              Saku    Marsabit   \n",
       "2       401010101      4010101        Nagayo              Saku    Marsabit   \n",
       "3       401010101      4010101        Nagayo              Saku    Marsabit   \n",
       "4       401010101      4010101        Nagayo              Saku    Marsabit   \n",
       "\n",
       "   isbeneficiaryhh  latitude  longitude ruralurban  constituency_id  \\\n",
       "0            False  40.92768   2.790960      Urban               42   \n",
       "1             True   2.33374  37.992490      Urban               47   \n",
       "2            False   2.33319  37.992270      Urban               47   \n",
       "3            False   2.33148  37.994250      Urban               47   \n",
       "4            False   2.67537  37.876865      Urban               47   \n",
       "\n",
       "           entry_date usercode  county_id  \n",
       "0 2019-12-02 18:09:00     4629          9  \n",
       "1 2018-07-02 09:05:00     0212         10  \n",
       "2 2018-06-08 19:57:00     0213         10  \n",
       "3 2018-02-10 13:17:00     0126         10  \n",
       "4 2019-07-20 06:57:00     0128         10  "
      ]
     },
     "execution_count": 9,
     "metadata": {},
     "output_type": "execute_result"
    }
   ],
   "source": [
    "df.head()"
   ]
  },
  {
   "cell_type": "code",
   "execution_count": 10,
   "metadata": {},
   "outputs": [
    {
     "data": {
      "text/plain": [
       "household_id             0\n",
       "village_id               0\n",
       "village_name             0\n",
       "sublocation_name         0\n",
       "sublocation_id           0\n",
       "location_id              0\n",
       "location_name            0\n",
       "constituency_name        0\n",
       "county_name              0\n",
       "isbeneficiaryhh          0\n",
       "latitude                 0\n",
       "longitude                0\n",
       "ruralurban           26104\n",
       "constituency_id          0\n",
       "entry_date               0\n",
       "usercode                 0\n",
       "county_id                0\n",
       "dtype: int64"
      ]
     },
     "execution_count": 10,
     "metadata": {},
     "output_type": "execute_result"
    }
   ],
   "source": [
    "# Check for missing values\n",
    "df.isna().sum()"
   ]
  },
  {
   "cell_type": "code",
   "execution_count": 11,
   "metadata": {
    "scrolled": true
   },
   "outputs": [
    {
     "data": {
      "text/plain": [
       "array(['Mandera', 'Marsabit', 'Wajir', 'Turkana'], dtype=object)"
      ]
     },
     "execution_count": 11,
     "metadata": {},
     "output_type": "execute_result"
    }
   ],
   "source": [
    "# checkout the counties in the df\n",
    "df['county_name'].unique()"
   ]
  },
  {
   "cell_type": "code",
   "execution_count": 12,
   "metadata": {
    "scrolled": true
   },
   "outputs": [
    {
     "data": {
      "image/png": "[encoded data removed]",
      "text/plain": [
       "<Figure size 432x288 with 1 Axes>"
      ]
     },
     "metadata": {
      "needs_background": "light"
     },
     "output_type": "display_data"
    }
   ],
   "source": [
    "# Group the DataFrame by county and count the number of households in each county\n",
    "county_counts = df.groupby('county_name')['household_id'].count()\n",
    "\n",
    "# Sort the county counts in ascending order\n",
    "county_counts = county_counts.sort_values()\n",
    "\n",
    "# Plot a bar chart of the county counts\n",
    "county_counts.plot(kind='bar')\n",
    "\n",
    "# Set the chart title and axis labels\n",
    "plt.title('Household Counts by County')\n",
    "plt.xlabel('County')\n",
    "plt.ylabel('Household Count')\n",
    "\n",
    "# Show the chart\n",
    "plt.show()"
   ]
  },
  {
   "cell_type": "code",
   "execution_count": 13,
   "metadata": {
    "scrolled": true
   },
   "outputs": [
    {
     "data": {
      "image/png": "[encoded data removed]",
      "text/plain": [
       "<Figure size 864x576 with 4 Axes>"
      ]
     },
     "metadata": {
      "needs_background": "light"
     },
     "output_type": "display_data"
    }
   ],
   "source": [
    "# Group the DataFrame by county and count the unique values of Village_Name, Sublocation_Name, Location_Name, and Constituency_Name\n",
    "county_counts = df.groupby('county_name').nunique()[['village_name', 'sublocation_name', 'location_name', 'constituency_name']]\n",
    "\n",
    "# Plot four bar graphs, one for each column\n",
    "fig, axes = plt.subplots(2, 2, figsize=(12, 8))\n",
    "axes = axes.flatten()\n",
    "\n",
    "for i, col in enumerate(county_counts.columns):\n",
    "    ax = axes[i]\n",
    "    ax.bar(county_counts.index, county_counts[col])\n",
    "    ax.set_title(col)\n",
    "    ax.tick_params(axis='x', rotation=90)\n",
    "\n",
    "plt.tight_layout()\n",
    "plt.show()"
   ]
  },
  {
   "cell_type": "markdown",
   "metadata": {},
   "source": [
    "### 1) Marsabit County"
   ]
  },
  {
   "cell_type": "code",
   "execution_count": 14,
   "metadata": {},
   "outputs": [
    {
     "data": {
      "text/html": [
       "<div style=\"width:100%;\"><div style=\"position:relative;width:100%;height:0;padding-bottom:60%;\"><span style=\"color:#565656\">Make this Notebook Trusted to load map: File -> Trust Notebook</span><iframe src=\"about:blank\" style=\"position:absolute;width:100%;height:100%;left:0;top:0;border:none !important;\" data-html=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 onload=\"this.contentDocument.open();this.contentDocument.write(atob(this.getAttribute('data-html')));this.contentDocument.close();\" allowfullscreen webkitallowfullscreen mozallowfullscreen></iframe></div></div>"
      ],
      "text/plain": [
       "<folium.folium.Map at 0x278edee25b0>"
      ]
     },
     "execution_count": 14,
     "metadata": {},
     "output_type": "execute_result"
    }
   ],
   "source": [
    "# Create a map of Marsabit\n",
    "marsabit_map = folium.Map(location=[2.96776, 37.98612], zoom_start=5)\n",
    "\n",
    "# Add a marker for Marsabit town\n",
    "marsabit_marker = folium.Marker(location=[2.96776, 37.98612], popup='Marsabit')\n",
    "marsabit_marker.add_to(marsabit_map)\n",
    "\n",
    "# Show the map\n",
    "marsabit_map"
   ]
  },
  {
   "cell_type": "code",
   "execution_count": 15,
   "metadata": {},
   "outputs": [],
   "source": [
    "# Filter out Marsabit in dataframe\n",
    "mar = df[df['county_name'] == \"Marsabit\"]"
   ]
  },
  {
   "cell_type": "code",
   "execution_count": 16,
   "metadata": {
    "scrolled": true
   },
   "outputs": [
    {
     "name": "stdout",
     "output_type": "stream",
     "text": [
      "<class 'pandas.core.frame.DataFrame'>\n",
      "Int64Index: 100538 entries, 1 to 100538\n",
      "Data columns (total 17 columns):\n",
      " #   Column             Non-Null Count   Dtype         \n",
      "---  ------             --------------   -----         \n",
      " 0   household_id       100538 non-null  object        \n",
      " 1   village_id         100538 non-null  int64         \n",
      " 2   village_name       100538 non-null  object        \n",
      " 3   sublocation_name   100538 non-null  object        \n",
      " 4   sublocation_id     100538 non-null  int64         \n",
      " 5   location_id        100538 non-null  int64         \n",
      " 6   location_name      100538 non-null  object        \n",
      " 7   constituency_name  100538 non-null  object        \n",
      " 8   county_name        100538 non-null  object        \n",
      " 9   isbeneficiaryhh    100538 non-null  bool          \n",
      " 10  latitude           100538 non-null  float64       \n",
      " 11  longitude          100538 non-null  float64       \n",
      " 12  ruralurban         94807 non-null   object        \n",
      " 13  constituency_id    100538 non-null  int64         \n",
      " 14  entry_date         100538 non-null  datetime64[ns]\n",
      " 15  usercode           100538 non-null  object        \n",
      " 16  county_id          100538 non-null  int64         \n",
      "dtypes: bool(1), datetime64[ns](1), float64(2), int64(5), object(8)\n",
      "memory usage: 13.1+ MB\n"
     ]
    }
   ],
   "source": [
    "# data info\n",
    "mar.info()"
   ]
  },
  {
   "cell_type": "code",
   "execution_count": 17,
   "metadata": {
    "scrolled": true
   },
   "outputs": [
    {
     "data": {
      "text/html": [
       "<div>\n",
       "<style scoped>\n",
       "    .dataframe tbody tr th:only-of-type {\n",
       "        vertical-align: middle;\n",
       "    }\n",
       "\n",
       "    .dataframe tbody tr th {\n",
       "        vertical-align: top;\n",
       "    }\n",
       "\n",
       "    .dataframe thead th {\n",
       "        text-align: right;\n",
       "    }\n",
       "</style>\n",
       "<table border=\"1\" class=\"dataframe\">\n",
       "  <thead>\n",
       "    <tr style=\"text-align: right;\">\n",
       "      <th></th>\n",
       "      <th>household_id</th>\n",
       "      <th>village_id</th>\n",
       "      <th>village_name</th>\n",
       "      <th>sublocation_name</th>\n",
       "      <th>sublocation_id</th>\n",
       "      <th>location_id</th>\n",
       "      <th>location_name</th>\n",
       "      <th>constituency_name</th>\n",
       "      <th>county_name</th>\n",
       "      <th>isbeneficiaryhh</th>\n",
       "      <th>latitude</th>\n",
       "      <th>longitude</th>\n",
       "      <th>ruralurban</th>\n",
       "      <th>constituency_id</th>\n",
       "      <th>entry_date</th>\n",
       "      <th>usercode</th>\n",
       "      <th>county_id</th>\n",
       "    </tr>\n",
       "  </thead>\n",
       "  <tbody>\n",
       "    <tr>\n",
       "      <th>1</th>\n",
       "      <td>4010101010072345100212</td>\n",
       "      <td>4010101010072345</td>\n",
       "      <td>Galcha Dida</td>\n",
       "      <td>Nyayo Rd</td>\n",
       "      <td>401010101</td>\n",
       "      <td>4010101</td>\n",
       "      <td>Nagayo</td>\n",
       "      <td>Saku</td>\n",
       "      <td>Marsabit</td>\n",
       "      <td>True</td>\n",
       "      <td>2.33374</td>\n",
       "      <td>37.992490</td>\n",
       "      <td>Urban</td>\n",
       "      <td>47</td>\n",
       "      <td>2018-07-02 09:05:00</td>\n",
       "      <td>0212</td>\n",
       "      <td>10</td>\n",
       "    </tr>\n",
       "    <tr>\n",
       "      <th>2</th>\n",
       "      <td>4010101010072345100213</td>\n",
       "      <td>4010101010072345</td>\n",
       "      <td>Galcha Dida</td>\n",
       "      <td>Nyayo Rd</td>\n",
       "      <td>401010101</td>\n",
       "      <td>4010101</td>\n",
       "      <td>Nagayo</td>\n",
       "      <td>Saku</td>\n",
       "      <td>Marsabit</td>\n",
       "      <td>False</td>\n",
       "      <td>2.33319</td>\n",
       "      <td>37.992270</td>\n",
       "      <td>Urban</td>\n",
       "      <td>47</td>\n",
       "      <td>2018-06-08 19:57:00</td>\n",
       "      <td>0213</td>\n",
       "      <td>10</td>\n",
       "    </tr>\n",
       "    <tr>\n",
       "      <th>3</th>\n",
       "      <td>401010101007234510126</td>\n",
       "      <td>4010101010072345</td>\n",
       "      <td>Galcha Dida</td>\n",
       "      <td>Nyayo Rd</td>\n",
       "      <td>401010101</td>\n",
       "      <td>4010101</td>\n",
       "      <td>Nagayo</td>\n",
       "      <td>Saku</td>\n",
       "      <td>Marsabit</td>\n",
       "      <td>False</td>\n",
       "      <td>2.33148</td>\n",
       "      <td>37.994250</td>\n",
       "      <td>Urban</td>\n",
       "      <td>47</td>\n",
       "      <td>2018-02-10 13:17:00</td>\n",
       "      <td>0126</td>\n",
       "      <td>10</td>\n",
       "    </tr>\n",
       "    <tr>\n",
       "      <th>4</th>\n",
       "      <td>401010101007234510128</td>\n",
       "      <td>4010101010072345</td>\n",
       "      <td>Galcha Dida</td>\n",
       "      <td>Nyayo Rd</td>\n",
       "      <td>401010101</td>\n",
       "      <td>4010101</td>\n",
       "      <td>Nagayo</td>\n",
       "      <td>Saku</td>\n",
       "      <td>Marsabit</td>\n",
       "      <td>False</td>\n",
       "      <td>2.67537</td>\n",
       "      <td>37.876865</td>\n",
       "      <td>Urban</td>\n",
       "      <td>47</td>\n",
       "      <td>2019-07-20 06:57:00</td>\n",
       "      <td>0128</td>\n",
       "      <td>10</td>\n",
       "    </tr>\n",
       "    <tr>\n",
       "      <th>5</th>\n",
       "      <td>401010101007234510133</td>\n",
       "      <td>4010101010072345</td>\n",
       "      <td>Galcha Dida</td>\n",
       "      <td>Nyayo Rd</td>\n",
       "      <td>401010101</td>\n",
       "      <td>4010101</td>\n",
       "      <td>Nagayo</td>\n",
       "      <td>Saku</td>\n",
       "      <td>Marsabit</td>\n",
       "      <td>False</td>\n",
       "      <td>2.30000</td>\n",
       "      <td>37.200000</td>\n",
       "      <td>Urban</td>\n",
       "      <td>47</td>\n",
       "      <td>2019-07-15 14:04:00</td>\n",
       "      <td>0133</td>\n",
       "      <td>10</td>\n",
       "    </tr>\n",
       "  </tbody>\n",
       "</table>\n",
       "</div>"
      ],
      "text/plain": [
       "             household_id        village_id village_name sublocation_name  \\\n",
       "1  4010101010072345100212  4010101010072345  Galcha Dida         Nyayo Rd   \n",
       "2  4010101010072345100213  4010101010072345  Galcha Dida         Nyayo Rd   \n",
       "3   401010101007234510126  4010101010072345  Galcha Dida         Nyayo Rd   \n",
       "4   401010101007234510128  4010101010072345  Galcha Dida         Nyayo Rd   \n",
       "5   401010101007234510133  4010101010072345  Galcha Dida         Nyayo Rd   \n",
       "\n",
       "   sublocation_id  location_id location_name constituency_name county_name  \\\n",
       "1       401010101      4010101        Nagayo              Saku    Marsabit   \n",
       "2       401010101      4010101        Nagayo              Saku    Marsabit   \n",
       "3       401010101      4010101        Nagayo              Saku    Marsabit   \n",
       "4       401010101      4010101        Nagayo              Saku    Marsabit   \n",
       "5       401010101      4010101        Nagayo              Saku    Marsabit   \n",
       "\n",
       "   isbeneficiaryhh  latitude  longitude ruralurban  constituency_id  \\\n",
       "1             True   2.33374  37.992490      Urban               47   \n",
       "2            False   2.33319  37.992270      Urban               47   \n",
       "3            False   2.33148  37.994250      Urban               47   \n",
       "4            False   2.67537  37.876865      Urban               47   \n",
       "5            False   2.30000  37.200000      Urban               47   \n",
       "\n",
       "           entry_date usercode  county_id  \n",
       "1 2018-07-02 09:05:00     0212         10  \n",
       "2 2018-06-08 19:57:00     0213         10  \n",
       "3 2018-02-10 13:17:00     0126         10  \n",
       "4 2019-07-20 06:57:00     0128         10  \n",
       "5 2019-07-15 14:04:00     0133         10  "
      ]
     },
     "execution_count": 17,
     "metadata": {},
     "output_type": "execute_result"
    }
   ],
   "source": [
    "mar.head()"
   ]
  },
  {
   "cell_type": "code",
   "execution_count": 18,
   "metadata": {
    "scrolled": true
   },
   "outputs": [
    {
     "data": {
      "text/plain": [
       "(100538, 17)"
      ]
     },
     "execution_count": 18,
     "metadata": {},
     "output_type": "execute_result"
    }
   ],
   "source": [
    "# shape of dataframe\n",
    "mar.shape"
   ]
  },
  {
   "cell_type": "code",
   "execution_count": 19,
   "metadata": {
    "scrolled": true
   },
   "outputs": [
    {
     "data": {
      "text/plain": [
       "household_id         False\n",
       "village_id           False\n",
       "village_name         False\n",
       "sublocation_name     False\n",
       "sublocation_id       False\n",
       "location_id          False\n",
       "location_name        False\n",
       "constituency_name    False\n",
       "county_name          False\n",
       "isbeneficiaryhh      False\n",
       "latitude             False\n",
       "longitude            False\n",
       "ruralurban            True\n",
       "constituency_id      False\n",
       "entry_date           False\n",
       "usercode             False\n",
       "county_id            False\n",
       "dtype: bool"
      ]
     },
     "execution_count": 19,
     "metadata": {},
     "output_type": "execute_result"
    }
   ],
   "source": [
    "# checkout missing values\n",
    "mar.isna().any()"
   ]
  },
  {
   "cell_type": "code",
   "execution_count": 20,
   "metadata": {},
   "outputs": [
    {
     "data": {
      "text/plain": [
       "100472"
      ]
     },
     "execution_count": 20,
     "metadata": {},
     "output_type": "execute_result"
    }
   ],
   "source": [
    "# check for duplicates\n",
    "mar['usercode'].duplicated().sum()"
   ]
  },
  {
   "cell_type": "code",
   "execution_count": 21,
   "metadata": {},
   "outputs": [
    {
     "name": "stderr",
     "output_type": "stream",
     "text": [
      "<ipython-input-21-0a8e629ac144>:4: SettingWithCopyWarning: \n",
      "A value is trying to be set on a copy of a slice from a DataFrame.\n",
      "Try using .loc[row_indexer,col_indexer] = value instead\n",
      "\n",
      "See the caveats in the documentation: https://pandas.pydata.org/pandas-docs/stable/user_guide/indexing.html#returning-a-view-versus-a-copy\n",
      "  mar[column] = mar[column].str.strip()\n"
     ]
    }
   ],
   "source": [
    "categorical_columns = [\"household_id\", \"village_name\", \"sublocation_name\", \"location_name\", \"constituency_name\", \"county_name\"]\n",
    "\n",
    "for column in categorical_columns:\n",
    "    mar[column] = mar[column].str.strip()\n"
   ]
  },
  {
   "cell_type": "code",
   "execution_count": 22,
   "metadata": {
    "scrolled": true
   },
   "outputs": [
    {
     "data": {
      "text/html": [
       "<div>\n",
       "<style scoped>\n",
       "    .dataframe tbody tr th:only-of-type {\n",
       "        vertical-align: middle;\n",
       "    }\n",
       "\n",
       "    .dataframe tbody tr th {\n",
       "        vertical-align: top;\n",
       "    }\n",
       "\n",
       "    .dataframe thead th {\n",
       "        text-align: right;\n",
       "    }\n",
       "</style>\n",
       "<table border=\"1\" class=\"dataframe\">\n",
       "  <thead>\n",
       "    <tr style=\"text-align: right;\">\n",
       "      <th></th>\n",
       "      <th>household_id</th>\n",
       "      <th>village_id</th>\n",
       "      <th>village_name</th>\n",
       "      <th>sublocation_name</th>\n",
       "      <th>sublocation_id</th>\n",
       "      <th>location_id</th>\n",
       "      <th>location_name</th>\n",
       "      <th>constituency_name</th>\n",
       "      <th>county_name</th>\n",
       "      <th>isbeneficiaryhh</th>\n",
       "      <th>latitude</th>\n",
       "      <th>longitude</th>\n",
       "      <th>ruralurban</th>\n",
       "      <th>constituency_id</th>\n",
       "      <th>entry_date</th>\n",
       "      <th>usercode</th>\n",
       "      <th>county_id</th>\n",
       "    </tr>\n",
       "  </thead>\n",
       "  <tbody>\n",
       "    <tr>\n",
       "      <th>1</th>\n",
       "      <td>4010101010072345100212</td>\n",
       "      <td>4010101010072345</td>\n",
       "      <td>Galcha Dida</td>\n",
       "      <td>Nyayo Rd</td>\n",
       "      <td>401010101</td>\n",
       "      <td>4010101</td>\n",
       "      <td>Nagayo</td>\n",
       "      <td>Saku</td>\n",
       "      <td>Marsabit</td>\n",
       "      <td>True</td>\n",
       "      <td>2.33374</td>\n",
       "      <td>37.992490</td>\n",
       "      <td>Urban</td>\n",
       "      <td>47</td>\n",
       "      <td>2018-07-02 09:05:00</td>\n",
       "      <td>0212</td>\n",
       "      <td>10</td>\n",
       "    </tr>\n",
       "    <tr>\n",
       "      <th>2</th>\n",
       "      <td>4010101010072345100213</td>\n",
       "      <td>4010101010072345</td>\n",
       "      <td>Galcha Dida</td>\n",
       "      <td>Nyayo Rd</td>\n",
       "      <td>401010101</td>\n",
       "      <td>4010101</td>\n",
       "      <td>Nagayo</td>\n",
       "      <td>Saku</td>\n",
       "      <td>Marsabit</td>\n",
       "      <td>False</td>\n",
       "      <td>2.33319</td>\n",
       "      <td>37.992270</td>\n",
       "      <td>Urban</td>\n",
       "      <td>47</td>\n",
       "      <td>2018-06-08 19:57:00</td>\n",
       "      <td>0213</td>\n",
       "      <td>10</td>\n",
       "    </tr>\n",
       "    <tr>\n",
       "      <th>3</th>\n",
       "      <td>401010101007234510126</td>\n",
       "      <td>4010101010072345</td>\n",
       "      <td>Galcha Dida</td>\n",
       "      <td>Nyayo Rd</td>\n",
       "      <td>401010101</td>\n",
       "      <td>4010101</td>\n",
       "      <td>Nagayo</td>\n",
       "      <td>Saku</td>\n",
       "      <td>Marsabit</td>\n",
       "      <td>False</td>\n",
       "      <td>2.33148</td>\n",
       "      <td>37.994250</td>\n",
       "      <td>Urban</td>\n",
       "      <td>47</td>\n",
       "      <td>2018-02-10 13:17:00</td>\n",
       "      <td>0126</td>\n",
       "      <td>10</td>\n",
       "    </tr>\n",
       "    <tr>\n",
       "      <th>4</th>\n",
       "      <td>401010101007234510128</td>\n",
       "      <td>4010101010072345</td>\n",
       "      <td>Galcha Dida</td>\n",
       "      <td>Nyayo Rd</td>\n",
       "      <td>401010101</td>\n",
       "      <td>4010101</td>\n",
       "      <td>Nagayo</td>\n",
       "      <td>Saku</td>\n",
       "      <td>Marsabit</td>\n",
       "      <td>False</td>\n",
       "      <td>2.67537</td>\n",
       "      <td>37.876865</td>\n",
       "      <td>Urban</td>\n",
       "      <td>47</td>\n",
       "      <td>2019-07-20 06:57:00</td>\n",
       "      <td>0128</td>\n",
       "      <td>10</td>\n",
       "    </tr>\n",
       "    <tr>\n",
       "      <th>5</th>\n",
       "      <td>401010101007234510133</td>\n",
       "      <td>4010101010072345</td>\n",
       "      <td>Galcha Dida</td>\n",
       "      <td>Nyayo Rd</td>\n",
       "      <td>401010101</td>\n",
       "      <td>4010101</td>\n",
       "      <td>Nagayo</td>\n",
       "      <td>Saku</td>\n",
       "      <td>Marsabit</td>\n",
       "      <td>False</td>\n",
       "      <td>2.30000</td>\n",
       "      <td>37.200000</td>\n",
       "      <td>Urban</td>\n",
       "      <td>47</td>\n",
       "      <td>2019-07-15 14:04:00</td>\n",
       "      <td>0133</td>\n",
       "      <td>10</td>\n",
       "    </tr>\n",
       "  </tbody>\n",
       "</table>\n",
       "</div>"
      ],
      "text/plain": [
       "             household_id        village_id village_name sublocation_name  \\\n",
       "1  4010101010072345100212  4010101010072345  Galcha Dida         Nyayo Rd   \n",
       "2  4010101010072345100213  4010101010072345  Galcha Dida         Nyayo Rd   \n",
       "3   401010101007234510126  4010101010072345  Galcha Dida         Nyayo Rd   \n",
       "4   401010101007234510128  4010101010072345  Galcha Dida         Nyayo Rd   \n",
       "5   401010101007234510133  4010101010072345  Galcha Dida         Nyayo Rd   \n",
       "\n",
       "   sublocation_id  location_id location_name constituency_name county_name  \\\n",
       "1       401010101      4010101        Nagayo              Saku    Marsabit   \n",
       "2       401010101      4010101        Nagayo              Saku    Marsabit   \n",
       "3       401010101      4010101        Nagayo              Saku    Marsabit   \n",
       "4       401010101      4010101        Nagayo              Saku    Marsabit   \n",
       "5       401010101      4010101        Nagayo              Saku    Marsabit   \n",
       "\n",
       "   isbeneficiaryhh  latitude  longitude ruralurban  constituency_id  \\\n",
       "1             True   2.33374  37.992490      Urban               47   \n",
       "2            False   2.33319  37.992270      Urban               47   \n",
       "3            False   2.33148  37.994250      Urban               47   \n",
       "4            False   2.67537  37.876865      Urban               47   \n",
       "5            False   2.30000  37.200000      Urban               47   \n",
       "\n",
       "           entry_date usercode  county_id  \n",
       "1 2018-07-02 09:05:00     0212         10  \n",
       "2 2018-06-08 19:57:00     0213         10  \n",
       "3 2018-02-10 13:17:00     0126         10  \n",
       "4 2019-07-20 06:57:00     0128         10  \n",
       "5 2019-07-15 14:04:00     0133         10  "
      ]
     },
     "execution_count": 22,
     "metadata": {},
     "output_type": "execute_result"
    }
   ],
   "source": [
    "mar.head()"
   ]
  },
  {
   "cell_type": "code",
   "execution_count": 23,
   "metadata": {},
   "outputs": [
    {
     "name": "stderr",
     "output_type": "stream",
     "text": [
      "c:\\Users\\USER\\anaconda3\\envs\\learn-env\\lib\\site-packages\\seaborn\\categorical.py:82: FutureWarning: iteritems is deprecated and will be removed in a future version. Use .items instead.\n",
      "  plot_data = [np.asarray(s, float) for k, s in iter_data]\n"
     ]
    },
    {
     "data": {
      "image/png": "[encoded data removed]",
      "text/plain": [
       "<Figure size 576x360 with 1 Axes>"
      ]
     },
     "metadata": {
      "needs_background": "light"
     },
     "output_type": "display_data"
    }
   ],
   "source": [
    "# Create a figure with a single subplot\n",
    "fig, ax = plt.subplots(figsize=(8, 5))\n",
    "\n",
    "# Create a boxplot for the latitude and longitude columns\n",
    "sns.boxplot(data=mar[['latitude', 'longitude']], orient='h', ax=ax, palette='pastel')\n",
    "\n",
    "# Set the chart title and axis labels\n",
    "ax.set_title('Latitude and Longitude Boxplot', fontsize=14)\n",
    "ax.set_xlabel('Coordinate Value', fontsize=12)\n",
    "ax.set_ylabel('Coordinate Type', fontsize=12)\n",
    "ax.tick_params(labelsize=10)\n",
    "\n",
    "# Show the chart\n",
    "plt.show()"
   ]
  },
  {
   "cell_type": "code",
   "execution_count": 24,
   "metadata": {},
   "outputs": [],
   "source": [
    "# If latitude is greater than longitude they interchange\n",
    "mask = mar['latitude'] > mar['longitude']\n",
    "mar.loc[mask, ['latitude', 'longitude']] = mar.loc[mask, ['longitude', 'latitude']].values\n"
   ]
  },
  {
   "cell_type": "code",
   "execution_count": 25,
   "metadata": {
    "scrolled": false
   },
   "outputs": [
    {
     "name": "stderr",
     "output_type": "stream",
     "text": [
      "c:\\Users\\USER\\anaconda3\\envs\\learn-env\\lib\\site-packages\\seaborn\\categorical.py:82: FutureWarning: iteritems is deprecated and will be removed in a future version. Use .items instead.\n",
      "  plot_data = [np.asarray(s, float) for k, s in iter_data]\n"
     ]
    },
    {
     "data": {
      "image/png": "[encoded data removed]",
      "text/plain": [
       "<Figure size 576x360 with 1 Axes>"
      ]
     },
     "metadata": {
      "needs_background": "light"
     },
     "output_type": "display_data"
    }
   ],
   "source": [
    "# Create a figure with a single subplot\n",
    "fig, ax = plt.subplots(figsize=(8, 5))\n",
    "\n",
    "# Create a boxplot for the latitude and longitude columns\n",
    "sns.boxplot(data=mar[['latitude', 'longitude']], orient='h', ax=ax, palette='pastel')\n",
    "\n",
    "# Set the chart title and axis labels\n",
    "ax.set_title('Latitude and Longitude Boxplot', fontsize=14)\n",
    "ax.set_xlabel('Coordinate Value', fontsize=12)\n",
    "ax.set_ylabel('Coordinate Type', fontsize=12)\n",
    "ax.tick_params(labelsize=10)\n",
    "\n",
    "# Show the chart\n",
    "plt.show()"
   ]
  },
  {
   "cell_type": "code",
   "execution_count": 26,
   "metadata": {
    "scrolled": true
   },
   "outputs": [
    {
     "name": "stdout",
     "output_type": "stream",
     "text": [
      "Min lat =  0.0 Max lat =  3333333.0\n"
     ]
    }
   ],
   "source": [
    "print(\"Min lat = \",mar['latitude'].min(), \"Max lat = \",mar['latitude'].max())"
   ]
  },
  {
   "cell_type": "code",
   "execution_count": 27,
   "metadata": {},
   "outputs": [
    {
     "name": "stdout",
     "output_type": "stream",
     "text": [
      "Min long =  0.0 Max long =  89823455.0\n"
     ]
    }
   ],
   "source": [
    "print(\"Min long = \",mar['longitude'].min(), \"Max long = \",mar['longitude'].max())"
   ]
  },
  {
   "cell_type": "code",
   "execution_count": 28,
   "metadata": {
    "scrolled": true
   },
   "outputs": [
    {
     "name": "stderr",
     "output_type": "stream",
     "text": [
      "<ipython-input-28-33719cec4d01>:5: SettingWithCopyWarning: \n",
      "A value is trying to be set on a copy of a slice from a DataFrame.\n",
      "Try using .loc[row_indexer,col_indexer] = value instead\n",
      "\n",
      "See the caveats in the documentation: https://pandas.pydata.org/pandas-docs/stable/user_guide/indexing.html#returning-a-view-versus-a-copy\n",
      "  mar['latitude'] = mar['latitude'] * factors\n"
     ]
    }
   ],
   "source": [
    "# calculate the correction factor for each value\n",
    "factors = mar['latitude'].apply(lambda x: 10 ** -(len(str(int(x))) - 1))\n",
    "\n",
    "# divide each value by its correction factor\n",
    "mar['latitude'] = mar['latitude'] * factors\n",
    "\n"
   ]
  },
  {
   "cell_type": "code",
   "execution_count": 29,
   "metadata": {},
   "outputs": [
    {
     "name": "stdout",
     "output_type": "stream",
     "text": [
      "Min lat =  0.0 Max lat =  9.9\n"
     ]
    }
   ],
   "source": [
    "print(\"Min lat = \",mar['latitude'].min(), \"Max lat = \",mar['latitude'].max())"
   ]
  },
  {
   "cell_type": "code",
   "execution_count": 30,
   "metadata": {
    "scrolled": false
   },
   "outputs": [
    {
     "name": "stderr",
     "output_type": "stream",
     "text": [
      "c:\\Users\\USER\\anaconda3\\envs\\learn-env\\lib\\site-packages\\seaborn\\categorical.py:82: FutureWarning: iteritems is deprecated and will be removed in a future version. Use .items instead.\n",
      "  plot_data = [np.asarray(s, float) for k, s in iter_data]\n"
     ]
    },
    {
     "data": {
      "image/png": "[encoded data removed]",
      "text/plain": [
       "<Figure size 576x360 with 1 Axes>"
      ]
     },
     "metadata": {
      "needs_background": "light"
     },
     "output_type": "display_data"
    }
   ],
   "source": [
    "# Create a figure with a single subplot\n",
    "fig, ax = plt.subplots(figsize=(8, 5))\n",
    "\n",
    "# Create a boxplot for the latitude and longitude columns\n",
    "sns.boxplot(data=mar[['latitude', 'longitude']], orient='h', ax=ax, palette='pastel')\n",
    "\n",
    "# Set the chart title and axis labels\n",
    "ax.set_title('Latitude and Longitude Boxplot', fontsize=14)\n",
    "ax.set_xlabel('Coordinate Value', fontsize=12)\n",
    "ax.set_ylabel('Coordinate Type', fontsize=12)\n",
    "ax.tick_params(labelsize=10)\n",
    "\n",
    "# Show the chart\n",
    "plt.show()"
   ]
  },
  {
   "cell_type": "code",
   "execution_count": 31,
   "metadata": {},
   "outputs": [
    {
     "name": "stderr",
     "output_type": "stream",
     "text": [
      "<ipython-input-31-7ef8bf162a08>:5: SettingWithCopyWarning: \n",
      "A value is trying to be set on a copy of a slice from a DataFrame.\n",
      "Try using .loc[row_indexer,col_indexer] = value instead\n",
      "\n",
      "See the caveats in the documentation: https://pandas.pydata.org/pandas-docs/stable/user_guide/indexing.html#returning-a-view-versus-a-copy\n",
      "  mar['longitude'] = mar['longitude'] * factors\n"
     ]
    }
   ],
   "source": [
    "# calculate the correction factor for each value\n",
    "factors = mar['longitude'].apply(lambda x: 10 ** -(len(str(int(x))) - 2))\n",
    "\n",
    "# divide each value by its correction factor\n",
    "mar['longitude'] = mar['longitude'] * factors\n"
   ]
  },
  {
   "cell_type": "code",
   "execution_count": 32,
   "metadata": {
    "scrolled": true
   },
   "outputs": [
    {
     "name": "stdout",
     "output_type": "stream",
     "text": [
      "Min long =  0.0 Max long =  99.999\n"
     ]
    }
   ],
   "source": [
    "print(\"Min long = \",mar['longitude'].min(), \"Max long = \",mar['longitude'].max())"
   ]
  },
  {
   "cell_type": "code",
   "execution_count": 33,
   "metadata": {
    "scrolled": true
   },
   "outputs": [
    {
     "name": "stderr",
     "output_type": "stream",
     "text": [
      "c:\\Users\\USER\\anaconda3\\envs\\learn-env\\lib\\site-packages\\seaborn\\categorical.py:82: FutureWarning: iteritems is deprecated and will be removed in a future version. Use .items instead.\n",
      "  plot_data = [np.asarray(s, float) for k, s in iter_data]\n"
     ]
    },
    {
     "data": {
      "image/png": "[encoded data removed]",
      "text/plain": [
       "<Figure size 576x360 with 1 Axes>"
      ]
     },
     "metadata": {
      "needs_background": "light"
     },
     "output_type": "display_data"
    }
   ],
   "source": [
    "# Create a figure with a single subplot\n",
    "fig, ax = plt.subplots(figsize=(8, 5))\n",
    "\n",
    "# Create a boxplot for the latitude and longitude columns\n",
    "sns.boxplot(data=mar[['latitude', 'longitude']], orient='h', ax=ax, palette='pastel')\n",
    "\n",
    "# Set the chart title and axis labels\n",
    "ax.set_title('Latitude and Longitude Boxplot', fontsize=14)\n",
    "ax.set_xlabel('Coordinate Value', fontsize=12)\n",
    "ax.set_ylabel('Coordinate Type', fontsize=12)\n",
    "ax.tick_params(labelsize=10)\n",
    "\n",
    "# Show the chart\n",
    "plt.show()\n"
   ]
  },
  {
   "cell_type": "code",
   "execution_count": 34,
   "metadata": {},
   "outputs": [],
   "source": [
    "# Calculate the mean latitude and longitude\n",
    "mean_latitude = mar['latitude'].mean()\n",
    "mean_longitude = mar['longitude'].mean()"
   ]
  },
  {
   "cell_type": "code",
   "execution_count": 35,
   "metadata": {},
   "outputs": [
    {
     "data": {
      "text/plain": [
       "3.006505675082725"
      ]
     },
     "execution_count": 35,
     "metadata": {},
     "output_type": "execute_result"
    }
   ],
   "source": [
    "mean_latitude"
   ]
  },
  {
   "cell_type": "code",
   "execution_count": 36,
   "metadata": {},
   "outputs": [
    {
     "data": {
      "text/plain": [
       "38.10805760671885"
      ]
     },
     "execution_count": 36,
     "metadata": {},
     "output_type": "execute_result"
    }
   ],
   "source": [
    "mean_longitude"
   ]
  },
  {
   "cell_type": "code",
   "execution_count": 37,
   "metadata": {},
   "outputs": [],
   "source": [
    "# Define a threshold for considering outliers (e.g., 3 standard deviations)\n",
    "threshold = 10 * mar['latitude'].std()"
   ]
  },
  {
   "cell_type": "code",
   "execution_count": 38,
   "metadata": {},
   "outputs": [
    {
     "data": {
      "text/plain": [
       "7.394863080445737"
      ]
     },
     "execution_count": 38,
     "metadata": {},
     "output_type": "execute_result"
    }
   ],
   "source": [
    "threshold"
   ]
  },
  {
   "cell_type": "code",
   "execution_count": 39,
   "metadata": {},
   "outputs": [],
   "source": [
    "# Identify outliers based on the threshold\n",
    "outliers = ((mar['latitude'] - mean_latitude).abs() > threshold) | ((mar['longitude'] - mean_longitude).abs() > threshold)\n"
   ]
  },
  {
   "cell_type": "code",
   "execution_count": 40,
   "metadata": {},
   "outputs": [],
   "source": [
    "# Replace outliers with random values around the mean\n",
    "mar.loc[outliers, 'latitude'] = np.random.normal(loc=mean_latitude, scale=mar['latitude'].std(), size=outliers.sum())\n",
    "mar.loc[outliers, 'longitude'] = np.random.normal(loc=mean_longitude, scale=mar['longitude'].std(), size=outliers.sum())\n"
   ]
  },
  {
   "cell_type": "code",
   "execution_count": 41,
   "metadata": {
    "scrolled": false
   },
   "outputs": [
    {
     "data": {
      "text/html": [
       "<div>\n",
       "<style scoped>\n",
       "    .dataframe tbody tr th:only-of-type {\n",
       "        vertical-align: middle;\n",
       "    }\n",
       "\n",
       "    .dataframe tbody tr th {\n",
       "        vertical-align: top;\n",
       "    }\n",
       "\n",
       "    .dataframe thead th {\n",
       "        text-align: right;\n",
       "    }\n",
       "</style>\n",
       "<table border=\"1\" class=\"dataframe\">\n",
       "  <thead>\n",
       "    <tr style=\"text-align: right;\">\n",
       "      <th></th>\n",
       "      <th>household_id</th>\n",
       "      <th>village_id</th>\n",
       "      <th>village_name</th>\n",
       "      <th>sublocation_name</th>\n",
       "      <th>sublocation_id</th>\n",
       "      <th>location_id</th>\n",
       "      <th>location_name</th>\n",
       "      <th>constituency_name</th>\n",
       "      <th>county_name</th>\n",
       "      <th>isbeneficiaryhh</th>\n",
       "      <th>latitude</th>\n",
       "      <th>longitude</th>\n",
       "      <th>ruralurban</th>\n",
       "      <th>constituency_id</th>\n",
       "      <th>entry_date</th>\n",
       "      <th>usercode</th>\n",
       "      <th>county_id</th>\n",
       "    </tr>\n",
       "  </thead>\n",
       "  <tbody>\n",
       "    <tr>\n",
       "      <th>1</th>\n",
       "      <td>4010101010072345100212</td>\n",
       "      <td>4010101010072345</td>\n",
       "      <td>Galcha Dida</td>\n",
       "      <td>Nyayo Rd</td>\n",
       "      <td>401010101</td>\n",
       "      <td>4010101</td>\n",
       "      <td>Nagayo</td>\n",
       "      <td>Saku</td>\n",
       "      <td>Marsabit</td>\n",
       "      <td>True</td>\n",
       "      <td>2.33374</td>\n",
       "      <td>37.992490</td>\n",
       "      <td>Urban</td>\n",
       "      <td>47</td>\n",
       "      <td>2018-07-02 09:05:00</td>\n",
       "      <td>0212</td>\n",
       "      <td>10</td>\n",
       "    </tr>\n",
       "    <tr>\n",
       "      <th>2</th>\n",
       "      <td>4010101010072345100213</td>\n",
       "      <td>4010101010072345</td>\n",
       "      <td>Galcha Dida</td>\n",
       "      <td>Nyayo Rd</td>\n",
       "      <td>401010101</td>\n",
       "      <td>4010101</td>\n",
       "      <td>Nagayo</td>\n",
       "      <td>Saku</td>\n",
       "      <td>Marsabit</td>\n",
       "      <td>False</td>\n",
       "      <td>2.33319</td>\n",
       "      <td>37.992270</td>\n",
       "      <td>Urban</td>\n",
       "      <td>47</td>\n",
       "      <td>2018-06-08 19:57:00</td>\n",
       "      <td>0213</td>\n",
       "      <td>10</td>\n",
       "    </tr>\n",
       "    <tr>\n",
       "      <th>3</th>\n",
       "      <td>401010101007234510126</td>\n",
       "      <td>4010101010072345</td>\n",
       "      <td>Galcha Dida</td>\n",
       "      <td>Nyayo Rd</td>\n",
       "      <td>401010101</td>\n",
       "      <td>4010101</td>\n",
       "      <td>Nagayo</td>\n",
       "      <td>Saku</td>\n",
       "      <td>Marsabit</td>\n",
       "      <td>False</td>\n",
       "      <td>2.33148</td>\n",
       "      <td>37.994250</td>\n",
       "      <td>Urban</td>\n",
       "      <td>47</td>\n",
       "      <td>2018-02-10 13:17:00</td>\n",
       "      <td>0126</td>\n",
       "      <td>10</td>\n",
       "    </tr>\n",
       "    <tr>\n",
       "      <th>4</th>\n",
       "      <td>401010101007234510128</td>\n",
       "      <td>4010101010072345</td>\n",
       "      <td>Galcha Dida</td>\n",
       "      <td>Nyayo Rd</td>\n",
       "      <td>401010101</td>\n",
       "      <td>4010101</td>\n",
       "      <td>Nagayo</td>\n",
       "      <td>Saku</td>\n",
       "      <td>Marsabit</td>\n",
       "      <td>False</td>\n",
       "      <td>2.67537</td>\n",
       "      <td>37.876865</td>\n",
       "      <td>Urban</td>\n",
       "      <td>47</td>\n",
       "      <td>2019-07-20 06:57:00</td>\n",
       "      <td>0128</td>\n",
       "      <td>10</td>\n",
       "    </tr>\n",
       "    <tr>\n",
       "      <th>5</th>\n",
       "      <td>401010101007234510133</td>\n",
       "      <td>4010101010072345</td>\n",
       "      <td>Galcha Dida</td>\n",
       "      <td>Nyayo Rd</td>\n",
       "      <td>401010101</td>\n",
       "      <td>4010101</td>\n",
       "      <td>Nagayo</td>\n",
       "      <td>Saku</td>\n",
       "      <td>Marsabit</td>\n",
       "      <td>False</td>\n",
       "      <td>2.30000</td>\n",
       "      <td>37.200000</td>\n",
       "      <td>Urban</td>\n",
       "      <td>47</td>\n",
       "      <td>2019-07-15 14:04:00</td>\n",
       "      <td>0133</td>\n",
       "      <td>10</td>\n",
       "    </tr>\n",
       "  </tbody>\n",
       "</table>\n",
       "</div>"
      ],
      "text/plain": [
       "             household_id        village_id village_name sublocation_name  \\\n",
       "1  4010101010072345100212  4010101010072345  Galcha Dida         Nyayo Rd   \n",
       "2  4010101010072345100213  4010101010072345  Galcha Dida         Nyayo Rd   \n",
       "3   401010101007234510126  4010101010072345  Galcha Dida         Nyayo Rd   \n",
       "4   401010101007234510128  4010101010072345  Galcha Dida         Nyayo Rd   \n",
       "5   401010101007234510133  4010101010072345  Galcha Dida         Nyayo Rd   \n",
       "\n",
       "   sublocation_id  location_id location_name constituency_name county_name  \\\n",
       "1       401010101      4010101        Nagayo              Saku    Marsabit   \n",
       "2       401010101      4010101        Nagayo              Saku    Marsabit   \n",
       "3       401010101      4010101        Nagayo              Saku    Marsabit   \n",
       "4       401010101      4010101        Nagayo              Saku    Marsabit   \n",
       "5       401010101      4010101        Nagayo              Saku    Marsabit   \n",
       "\n",
       "   isbeneficiaryhh  latitude  longitude ruralurban  constituency_id  \\\n",
       "1             True   2.33374  37.992490      Urban               47   \n",
       "2            False   2.33319  37.992270      Urban               47   \n",
       "3            False   2.33148  37.994250      Urban               47   \n",
       "4            False   2.67537  37.876865      Urban               47   \n",
       "5            False   2.30000  37.200000      Urban               47   \n",
       "\n",
       "           entry_date usercode  county_id  \n",
       "1 2018-07-02 09:05:00     0212         10  \n",
       "2 2018-06-08 19:57:00     0213         10  \n",
       "3 2018-02-10 13:17:00     0126         10  \n",
       "4 2019-07-20 06:57:00     0128         10  \n",
       "5 2019-07-15 14:04:00     0133         10  "
      ]
     },
     "execution_count": 41,
     "metadata": {},
     "output_type": "execute_result"
    }
   ],
   "source": [
    "mar.head()"
   ]
  },
  {
   "cell_type": "code",
   "execution_count": 42,
   "metadata": {},
   "outputs": [
    {
     "name": "stderr",
     "output_type": "stream",
     "text": [
      "c:\\Users\\USER\\anaconda3\\envs\\learn-env\\lib\\site-packages\\seaborn\\categorical.py:82: FutureWarning: iteritems is deprecated and will be removed in a future version. Use .items instead.\n",
      "  plot_data = [np.asarray(s, float) for k, s in iter_data]\n"
     ]
    },
    {
     "data": {
      "image/png": "[encoded data removed]",
      "text/plain": [
       "<Figure size 576x360 with 1 Axes>"
      ]
     },
     "metadata": {
      "needs_background": "light"
     },
     "output_type": "display_data"
    }
   ],
   "source": [
    "# Create a figure with a single subplot\n",
    "fig, ax = plt.subplots(figsize=(8, 5))\n",
    "\n",
    "# Create a boxplot for the latitude and longitude columns\n",
    "sns.boxplot(data=mar[['latitude', 'longitude']], orient='h', ax=ax, palette='pastel')\n",
    "\n",
    "# Set the chart title and axis labels\n",
    "ax.set_title('Latitude and Longitude Boxplot', fontsize=14)\n",
    "ax.set_xlabel('Coordinate Value', fontsize=12)\n",
    "ax.set_ylabel('Coordinate Type', fontsize=12)\n",
    "ax.tick_params(labelsize=10)\n",
    "\n",
    "# Show the chart\n",
    "plt.show()\n"
   ]
  },
  {
   "cell_type": "code",
   "execution_count": 43,
   "metadata": {},
   "outputs": [],
   "source": [
    "# Calculate the mean latitude and longitude\n",
    "mean_latitude = mar['latitude'].mean()\n",
    "mean_longitude = mar['longitude'].mean()\n",
    "\n",
    "# Define a threshold for considering outliers (e.g., 3 standard deviations)\n",
    "threshold = 3 * mar['latitude'].std()\n",
    "\n",
    "# Identify outliers based on the threshold\n",
    "outliers = ((mar['latitude'] - mean_latitude).abs() > threshold) | ((mar['longitude'] - mean_longitude).abs() > threshold)\n",
    "\n",
    "# Replace outliers with random values around the mean\n",
    "mar.loc[outliers, 'latitude'] = np.random.normal(loc=mean_latitude, scale=mar['latitude'].std(), size=outliers.sum())\n",
    "mar.loc[outliers, 'longitude'] = np.random.normal(loc=mean_longitude, scale=mar['longitude'].std(), size=outliers.sum())\n"
   ]
  },
  {
   "cell_type": "code",
   "execution_count": 44,
   "metadata": {},
   "outputs": [
    {
     "name": "stderr",
     "output_type": "stream",
     "text": [
      "c:\\Users\\USER\\anaconda3\\envs\\learn-env\\lib\\site-packages\\seaborn\\categorical.py:82: FutureWarning: iteritems is deprecated and will be removed in a future version. Use .items instead.\n",
      "  plot_data = [np.asarray(s, float) for k, s in iter_data]\n"
     ]
    },
    {
     "data": {
      "image/png": "[encoded data removed]",
      "text/plain": [
       "<Figure size 576x360 with 1 Axes>"
      ]
     },
     "metadata": {
      "needs_background": "light"
     },
     "output_type": "display_data"
    }
   ],
   "source": [
    "# Create a figure with a single subplot\n",
    "fig, ax = plt.subplots(figsize=(8, 5))\n",
    "\n",
    "# Create a boxplot for the latitude and longitude columns\n",
    "sns.boxplot(data=mar[['latitude', 'longitude']], orient='h', ax=ax, palette='pastel')\n",
    "\n",
    "# Set the chart title and axis labels\n",
    "ax.set_title('Latitude and Longitude Boxplot', fontsize=14)\n",
    "ax.set_xlabel('Coordinate Value', fontsize=12)\n",
    "ax.set_ylabel('Coordinate Type', fontsize=12)\n",
    "ax.tick_params(labelsize=10)\n",
    "\n",
    "# Show the chart\n",
    "plt.show()\n"
   ]
  },
  {
   "cell_type": "code",
   "execution_count": 45,
   "metadata": {},
   "outputs": [],
   "source": [
    "# Calculate the mean latitude and longitude\n",
    "mean_latitude = mar['latitude'].mean()\n",
    "mean_longitude = mar['longitude'].mean()\n",
    "\n",
    "# Define a threshold for considering outliers (e.g., 3 standard deviations)\n",
    "threshold = 3 * mar['latitude'].std()\n",
    "\n",
    "# Identify outliers based on the threshold\n",
    "outliers = ((mar['latitude'] - mean_latitude).abs() > threshold) | ((mar['longitude'] - mean_longitude).abs() > threshold)\n",
    "\n",
    "# Replace outliers with random values around the mean\n",
    "mar.loc[outliers, 'latitude'] = np.random.normal(loc=mean_latitude, scale=mar['latitude'].std(), size=outliers.sum())\n",
    "mar.loc[outliers, 'longitude'] = np.random.normal(loc=mean_longitude, scale=mar['longitude'].std(), size=outliers.sum())\n"
   ]
  },
  {
   "cell_type": "code",
   "execution_count": 46,
   "metadata": {},
   "outputs": [],
   "source": [
    "# Calculate the mean latitude and longitude\n",
    "mean_latitude = mar['latitude'].mean()\n",
    "mean_longitude = mar['longitude'].mean()\n",
    "\n",
    "# Define a threshold for considering outliers (e.g., 3 standard deviations)\n",
    "threshold = 3 * mar['latitude'].std()\n",
    "\n",
    "# Identify outliers based on the threshold\n",
    "outliers = ((mar['latitude'] - mean_latitude).abs() > threshold) | ((mar['longitude'] - mean_longitude).abs() > threshold)\n",
    "\n",
    "# Replace outliers with random values around the mean\n",
    "mar.loc[outliers, 'latitude'] = np.random.normal(loc=mean_latitude, scale=mar['latitude'].std(), size=outliers.sum())\n",
    "mar.loc[outliers, 'longitude'] = np.random.normal(loc=mean_longitude, scale=mar['longitude'].std(), size=outliers.sum())\n"
   ]
  },
  {
   "cell_type": "code",
   "execution_count": 47,
   "metadata": {
    "scrolled": false
   },
   "outputs": [
    {
     "name": "stderr",
     "output_type": "stream",
     "text": [
      "c:\\Users\\USER\\anaconda3\\envs\\learn-env\\lib\\site-packages\\seaborn\\categorical.py:82: FutureWarning: iteritems is deprecated and will be removed in a future version. Use .items instead.\n",
      "  plot_data = [np.asarray(s, float) for k, s in iter_data]\n"
     ]
    },
    {
     "data": {
      "image/png": "[encoded data removed]",
      "text/plain": [
       "<Figure size 576x360 with 1 Axes>"
      ]
     },
     "metadata": {
      "needs_background": "light"
     },
     "output_type": "display_data"
    }
   ],
   "source": [
    "# Create a figure with a single subplot\n",
    "fig, ax = plt.subplots(figsize=(8, 5))\n",
    "\n",
    "# Create a boxplot for the latitude and longitude columns\n",
    "sns.boxplot(data=mar[['latitude', 'longitude']], orient='h', ax=ax, palette='pastel')\n",
    "\n",
    "# Set the chart title and axis labels\n",
    "ax.set_title('Latitude and Longitude Boxplot', fontsize=14)\n",
    "ax.set_xlabel('Coordinate Value', fontsize=12)\n",
    "ax.set_ylabel('Coordinate Type', fontsize=12)\n",
    "ax.tick_params(labelsize=10)\n",
    "\n",
    "# Show the chart\n",
    "plt.show()\n"
   ]
  },
  {
   "cell_type": "code",
   "execution_count": 48,
   "metadata": {},
   "outputs": [],
   "source": [
    "# Read the Marsabit boundary shapefile into a GeoDataFrame\n",
    "marsabit_boundary = gpd.read_file('Shapefiles/Marsabit_County.shp')  # Replace 'marsabit_boundary.shp' with the actual path to your Marsabit boundary shapefile\n"
   ]
  },
  {
   "cell_type": "code",
   "execution_count": 49,
   "metadata": {},
   "outputs": [],
   "source": [
    "# Function to check if a coordinate is in Marsabit\n",
    "def is_coordinate_in_marsabit(latitude, longitude):\n",
    "    point = Point(longitude, latitude)\n",
    "    return marsabit_boundary.contains(point).any()\n",
    "\n",
    "# Iterate through the dataframe rows and update coordinates if necessary\n",
    "for index, row in mar.iterrows():\n",
    "    latitude = row['latitude']\n",
    "    longitude = row['longitude']\n",
    "    \n",
    "    if not is_coordinate_in_marsabit(latitude, longitude):\n",
    "        # Assign random coordinates within Marsabit\n",
    "        while True:\n",
    "            random_latitude = random.uniform(2.2769, 4.6429)  # Set the latitude range to cover the approximate area of Marsabit\n",
    "            random_longitude = random.uniform(36.4842, 40.9980 )  # Set the longitude range to cover the approximate area of Marsabit\n",
    "            \n",
    "            if is_coordinate_in_marsabit(random_latitude, random_longitude):\n",
    "                # Found a random coordinate within Marsabit, update the dataframe\n",
    "                mar.at[index, 'latitude'] = random_latitude\n",
    "                mar.at[index, 'longitude'] = random_longitude\n",
    "                break"
   ]
  },
  {
   "cell_type": "code",
   "execution_count": null,
   "metadata": {},
   "outputs": [],
   "source": [
    "# # #  save dataset\n",
    "mar.to_csv('marsabit.csv', index=False)"
   ]
  },
  {
   "cell_type": "markdown",
   "metadata": {},
   "source": [
    "### *2) Wajir*"
   ]
  },
  {
   "cell_type": "code",
   "execution_count": 76,
   "metadata": {},
   "outputs": [
    {
     "data": {
      "text/html": [
       "<div style=\"width:100%;\"><div style=\"position:relative;width:100%;height:0;padding-bottom:60%;\"><span style=\"color:#565656\">Make this Notebook Trusted to load map: File -> Trust Notebook</span><iframe src=\"about:blank\" style=\"position:absolute;width:100%;height:100%;left:0;top:0;border:none !important;\" data-html=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 onload=\"this.contentDocument.open();this.contentDocument.write(atob(this.getAttribute('data-html')));this.contentDocument.close();\" allowfullscreen webkitallowfullscreen mozallowfullscreen></iframe></div></div>"
      ],
      "text/plain": [
       "<folium.folium.Map at 0x27881c7aaf0>"
      ]
     },
     "execution_count": 76,
     "metadata": {},
     "output_type": "execute_result"
    }
   ],
   "source": [
    "# Create a map of Marsabit\n",
    "wajir_map = folium.Map(location=[1.7470, 40.0682], zoom_start=10)\n",
    "\n",
    "# Add a marker for Marsabit town\n",
    "wajir_marker = folium.Marker(location=[1.7470, 40.0682], popup='Wajir')\n",
    "wajir_marker.add_to(wajir_map)\n",
    "\n",
    "# Show the map\n",
    "wajir_map"
   ]
  },
  {
   "cell_type": "code",
   "execution_count": 77,
   "metadata": {},
   "outputs": [],
   "source": [
    "# Filter out Marsabit in dataframe\n",
    "wajir = df[df['county_name'] == \"Wajir\"]"
   ]
  },
  {
   "cell_type": "code",
   "execution_count": 78,
   "metadata": {},
   "outputs": [
    {
     "name": "stderr",
     "output_type": "stream",
     "text": [
      "c:\\Users\\USER\\anaconda3\\envs\\learn-env\\lib\\site-packages\\seaborn\\categorical.py:82: FutureWarning: iteritems is deprecated and will be removed in a future version. Use .items instead.\n",
      "  plot_data = [np.asarray(s, float) for k, s in iter_data]\n"
     ]
    },
    {
     "data": {
      "image/png": "[encoded data removed]",
      "text/plain": [
       "<Figure size 576x360 with 1 Axes>"
      ]
     },
     "metadata": {
      "needs_background": "light"
     },
     "output_type": "display_data"
    }
   ],
   "source": [
    "# Create a figure with a single subplot\n",
    "fig, ax = plt.subplots(figsize=(8, 5))\n",
    "\n",
    "# Create a boxplot for the latitude and longitude columns\n",
    "sns.boxplot(data=wajir[['latitude', 'longitude']], orient='h', ax=ax, palette='pastel')\n",
    "\n",
    "# Set the chart title and axis labels\n",
    "ax.set_title('Latitude and Longitude Boxplot', fontsize=14)\n",
    "ax.set_xlabel('Coordinate Value', fontsize=12)\n",
    "ax.set_ylabel('Coordinate Type', fontsize=12)\n",
    "ax.tick_params(labelsize=10)\n",
    "\n",
    "# Show the chart\n",
    "plt.show()"
   ]
  },
  {
   "cell_type": "code",
   "execution_count": 79,
   "metadata": {},
   "outputs": [],
   "source": [
    "# If latitude is greater than longitude they interchange\n",
    "mask = wajir['latitude'] > wajir['longitude']\n",
    "wajir.loc[mask, ['latitude', 'longitude']] = wajir.loc[mask, ['longitude', 'latitude']].values\n"
   ]
  },
  {
   "cell_type": "code",
   "execution_count": 80,
   "metadata": {},
   "outputs": [
    {
     "name": "stderr",
     "output_type": "stream",
     "text": [
      "c:\\Users\\USER\\anaconda3\\envs\\learn-env\\lib\\site-packages\\seaborn\\categorical.py:82: FutureWarning: iteritems is deprecated and will be removed in a future version. Use .items instead.\n",
      "  plot_data = [np.asarray(s, float) for k, s in iter_data]\n"
     ]
    },
    {
     "data": {
      "image/png": "[encoded data removed]",
      "text/plain": [
       "<Figure size 576x360 with 1 Axes>"
      ]
     },
     "metadata": {
      "needs_background": "light"
     },
     "output_type": "display_data"
    }
   ],
   "source": [
    "# Create a figure with a single subplot\n",
    "fig, ax = plt.subplots(figsize=(8, 5))\n",
    "\n",
    "# Create a boxplot for the latitude and longitude columns\n",
    "sns.boxplot(data=wajir[['latitude', 'longitude']], orient='h', ax=ax, palette='pastel')\n",
    "\n",
    "# Set the chart title and axis labels\n",
    "ax.set_title('Latitude and Longitude Boxplot', fontsize=14)\n",
    "ax.set_xlabel('Coordinate Value', fontsize=12)\n",
    "ax.set_ylabel('Coordinate Type', fontsize=12)\n",
    "ax.tick_params(labelsize=10)\n",
    "\n",
    "# Show the chart\n",
    "plt.show()"
   ]
  },
  {
   "cell_type": "code",
   "execution_count": 81,
   "metadata": {},
   "outputs": [
    {
     "name": "stderr",
     "output_type": "stream",
     "text": [
      "<ipython-input-81-0be54d746f88>:5: SettingWithCopyWarning: \n",
      "A value is trying to be set on a copy of a slice from a DataFrame.\n",
      "Try using .loc[row_indexer,col_indexer] = value instead\n",
      "\n",
      "See the caveats in the documentation: https://pandas.pydata.org/pandas-docs/stable/user_guide/indexing.html#returning-a-view-versus-a-copy\n",
      "  wajir['latitude'] = wajir['latitude'] * factors\n"
     ]
    }
   ],
   "source": [
    "# calculate the correction factor for each value\n",
    "factors = wajir['latitude'].apply(lambda x: 10 ** -(len(str(int(x))) - 1))\n",
    "\n",
    "# divide each value by its correction factor\n",
    "wajir['latitude'] = wajir['latitude'] * factors\n",
    "\n",
    "# # print the corrected dataframe\n",
    "# print(df_sample)"
   ]
  },
  {
   "cell_type": "code",
   "execution_count": 82,
   "metadata": {},
   "outputs": [
    {
     "name": "stderr",
     "output_type": "stream",
     "text": [
      "c:\\Users\\USER\\anaconda3\\envs\\learn-env\\lib\\site-packages\\seaborn\\categorical.py:82: FutureWarning: iteritems is deprecated and will be removed in a future version. Use .items instead.\n",
      "  plot_data = [np.asarray(s, float) for k, s in iter_data]\n"
     ]
    },
    {
     "data": {
      "image/png": "[encoded data removed]",
      "text/plain": [
       "<Figure size 576x360 with 1 Axes>"
      ]
     },
     "metadata": {
      "needs_background": "light"
     },
     "output_type": "display_data"
    }
   ],
   "source": [
    "# Create a figure with a single subplot\n",
    "fig, ax = plt.subplots(figsize=(8, 5))\n",
    "\n",
    "# Create a boxplot for the latitude and longitude columns\n",
    "sns.boxplot(data=wajir[['latitude', 'longitude']], orient='h', ax=ax, palette='pastel')\n",
    "\n",
    "# Set the chart title and axis labels\n",
    "ax.set_title('Latitude and Longitude Boxplot', fontsize=14)\n",
    "ax.set_xlabel('Coordinate Value', fontsize=12)\n",
    "ax.set_ylabel('Coordinate Type', fontsize=12)\n",
    "ax.tick_params(labelsize=10)\n",
    "\n",
    "# Show the chart\n",
    "plt.show()"
   ]
  },
  {
   "cell_type": "code",
   "execution_count": 83,
   "metadata": {},
   "outputs": [
    {
     "name": "stderr",
     "output_type": "stream",
     "text": [
      "<ipython-input-83-b91090bf27e7>:5: SettingWithCopyWarning: \n",
      "A value is trying to be set on a copy of a slice from a DataFrame.\n",
      "Try using .loc[row_indexer,col_indexer] = value instead\n",
      "\n",
      "See the caveats in the documentation: https://pandas.pydata.org/pandas-docs/stable/user_guide/indexing.html#returning-a-view-versus-a-copy\n",
      "  wajir['longitude'] = wajir['longitude'] * factors\n"
     ]
    }
   ],
   "source": [
    "# calculate the correction factor for each value\n",
    "factors = wajir['longitude'].apply(lambda x: 10 ** -(len(str(int(x))) - 2))\n",
    "\n",
    "# divide each value by its correction factor\n",
    "wajir['longitude'] = wajir['longitude'] * factors\n"
   ]
  },
  {
   "cell_type": "code",
   "execution_count": 84,
   "metadata": {},
   "outputs": [
    {
     "name": "stderr",
     "output_type": "stream",
     "text": [
      "c:\\Users\\USER\\anaconda3\\envs\\learn-env\\lib\\site-packages\\seaborn\\categorical.py:82: FutureWarning: iteritems is deprecated and will be removed in a future version. Use .items instead.\n",
      "  plot_data = [np.asarray(s, float) for k, s in iter_data]\n"
     ]
    },
    {
     "data": {
      "image/png": "[encoded data removed]",
      "text/plain": [
       "<Figure size 576x360 with 1 Axes>"
      ]
     },
     "metadata": {
      "needs_background": "light"
     },
     "output_type": "display_data"
    }
   ],
   "source": [
    "# Create a figure with a single subplot\n",
    "fig, ax = plt.subplots(figsize=(8, 5))\n",
    "\n",
    "# Create a boxplot for the latitude and longitude columns\n",
    "sns.boxplot(data=wajir[['latitude', 'longitude']], orient='h', ax=ax, palette='pastel')\n",
    "\n",
    "# Set the chart title and axis labels\n",
    "ax.set_title('Latitude and Longitude Boxplot', fontsize=14)\n",
    "ax.set_xlabel('Coordinate Value', fontsize=12)\n",
    "ax.set_ylabel('Coordinate Type', fontsize=12)\n",
    "ax.tick_params(labelsize=10)\n",
    "\n",
    "# Show the chart\n",
    "plt.show()\n"
   ]
  },
  {
   "cell_type": "code",
   "execution_count": 85,
   "metadata": {},
   "outputs": [],
   "source": [
    "# Define a threshold for considering outliers (e.g., 3 standard deviations)\n",
    "threshold = 10 * wajir['latitude'].std()"
   ]
  },
  {
   "cell_type": "code",
   "execution_count": 86,
   "metadata": {},
   "outputs": [],
   "source": [
    "# Identify outliers based on the threshold\n",
    "outliers = ((wajir['latitude'] - mean_latitude).abs() > threshold) | ((wajir['longitude'] - mean_longitude).abs() > threshold)\n"
   ]
  },
  {
   "cell_type": "code",
   "execution_count": 87,
   "metadata": {},
   "outputs": [],
   "source": [
    "# Replace outliers with random values around the mean\n",
    "wajir.loc[outliers, 'latitude'] = np.random.normal(loc=mean_latitude, scale=wajir['latitude'].std(), size=outliers.sum())\n",
    "wajir.loc[outliers, 'longitude'] = np.random.normal(loc=mean_longitude, scale=wajir['longitude'].std(), size=outliers.sum())\n"
   ]
  },
  {
   "cell_type": "code",
   "execution_count": 88,
   "metadata": {},
   "outputs": [
    {
     "name": "stderr",
     "output_type": "stream",
     "text": [
      "c:\\Users\\USER\\anaconda3\\envs\\learn-env\\lib\\site-packages\\seaborn\\categorical.py:82: FutureWarning: iteritems is deprecated and will be removed in a future version. Use .items instead.\n",
      "  plot_data = [np.asarray(s, float) for k, s in iter_data]\n"
     ]
    },
    {
     "data": {
      "image/png": "[encoded data removed]",
      "text/plain": [
       "<Figure size 576x360 with 1 Axes>"
      ]
     },
     "metadata": {
      "needs_background": "light"
     },
     "output_type": "display_data"
    }
   ],
   "source": [
    "# Create a figure with a single subplot\n",
    "fig, ax = plt.subplots(figsize=(8, 5))\n",
    "\n",
    "# Create a boxplot for the latitude and longitude columns\n",
    "sns.boxplot(data=wajir[['latitude', 'longitude']], orient='h', ax=ax, palette='pastel')\n",
    "\n",
    "# Set the chart title and axis labels\n",
    "ax.set_title('Latitude and Longitude Boxplot', fontsize=14)\n",
    "ax.set_xlabel('Coordinate Value', fontsize=12)\n",
    "ax.set_ylabel('Coordinate Type', fontsize=12)\n",
    "ax.tick_params(labelsize=10)\n",
    "\n",
    "# Show the chart\n",
    "plt.show()\n"
   ]
  },
  {
   "cell_type": "code",
   "execution_count": 89,
   "metadata": {},
   "outputs": [],
   "source": [
    "# Calculate the mean latitude and longitude\n",
    "mean_latitude = wajir['latitude'].mean()\n",
    "mean_longitude = wajir['longitude'].mean()\n",
    "\n",
    "# Define a threshold for considering outliers (e.g., 3 standard deviations)\n",
    "threshold = 3 * wajir['latitude'].std()\n",
    "\n",
    "# Identify outliers based on the threshold\n",
    "outliers = ((wajir['latitude'] - mean_latitude).abs() > threshold) | ((wajir['longitude'] - mean_longitude).abs() > threshold)\n",
    "\n",
    "# Replace outliers with random values around the mean\n",
    "wajir.loc[outliers, 'latitude'] = np.random.normal(loc=mean_latitude, scale=wajir['latitude'].std(), size=outliers.sum())\n",
    "wajir.loc[outliers, 'longitude'] = np.random.normal(loc=mean_longitude, scale=wajir['longitude'].std(), size=outliers.sum())\n"
   ]
  },
  {
   "cell_type": "code",
   "execution_count": 90,
   "metadata": {},
   "outputs": [
    {
     "name": "stderr",
     "output_type": "stream",
     "text": [
      "c:\\Users\\USER\\anaconda3\\envs\\learn-env\\lib\\site-packages\\seaborn\\categorical.py:82: FutureWarning: iteritems is deprecated and will be removed in a future version. Use .items instead.\n",
      "  plot_data = [np.asarray(s, float) for k, s in iter_data]\n"
     ]
    },
    {
     "data": {
      "image/png": "[encoded data removed]",
      "text/plain": [
       "<Figure size 576x360 with 1 Axes>"
      ]
     },
     "metadata": {
      "needs_background": "light"
     },
     "output_type": "display_data"
    }
   ],
   "source": [
    "# Create a figure with a single subplot\n",
    "fig, ax = plt.subplots(figsize=(8, 5))\n",
    "\n",
    "# Create a boxplot for the latitude and longitude columns\n",
    "sns.boxplot(data=wajir[['latitude', 'longitude']], orient='h', ax=ax, palette='pastel')\n",
    "\n",
    "# Set the chart title and axis labels\n",
    "ax.set_title('Latitude and Longitude Boxplot', fontsize=14)\n",
    "ax.set_xlabel('Coordinate Value', fontsize=12)\n",
    "ax.set_ylabel('Coordinate Type', fontsize=12)\n",
    "ax.tick_params(labelsize=10)\n",
    "\n",
    "# Show the chart\n",
    "plt.show()\n"
   ]
  },
  {
   "cell_type": "code",
   "execution_count": 91,
   "metadata": {},
   "outputs": [],
   "source": [
    "# Calculate the mean latitude and longitude\n",
    "mean_latitude = wajir['latitude'].mean()\n",
    "mean_longitude = wajir['longitude'].mean()\n",
    "\n",
    "# Define a threshold for considering outliers (e.g., 3 standard deviations)\n",
    "threshold = 3 * wajir['latitude'].std()\n",
    "\n",
    "# Identify outliers based on the threshold\n",
    "outliers = ((wajir['latitude'] - mean_latitude).abs() > threshold) | ((wajir['longitude'] - mean_longitude).abs() > threshold)\n",
    "\n",
    "# Replace outliers with random values around the mean\n",
    "wajir.loc[outliers, 'latitude'] = np.random.normal(loc=mean_latitude, scale=wajir['latitude'].std(), size=outliers.sum())\n",
    "wajir.loc[outliers, 'longitude'] = np.random.normal(loc=mean_longitude, scale=wajir['longitude'].std(), size=outliers.sum())\n"
   ]
  },
  {
   "cell_type": "code",
   "execution_count": 92,
   "metadata": {},
   "outputs": [
    {
     "name": "stderr",
     "output_type": "stream",
     "text": [
      "c:\\Users\\USER\\anaconda3\\envs\\learn-env\\lib\\site-packages\\seaborn\\categorical.py:82: FutureWarning: iteritems is deprecated and will be removed in a future version. Use .items instead.\n",
      "  plot_data = [np.asarray(s, float) for k, s in iter_data]\n"
     ]
    },
    {
     "data": {
      "image/png": "[encoded data removed]",
      "text/plain": [
       "<Figure size 576x360 with 1 Axes>"
      ]
     },
     "metadata": {
      "needs_background": "light"
     },
     "output_type": "display_data"
    }
   ],
   "source": [
    "# Create a figure with a single subplot\n",
    "fig, ax = plt.subplots(figsize=(8, 5))\n",
    "\n",
    "# Create a boxplot for the latitude and longitude columns\n",
    "sns.boxplot(data=wajir[['latitude', 'longitude']], orient='h', ax=ax, palette='pastel')\n",
    "\n",
    "# Set the chart title and axis labels\n",
    "ax.set_title('Latitude and Longitude Boxplot', fontsize=14)\n",
    "ax.set_xlabel('Coordinate Value', fontsize=12)\n",
    "ax.set_ylabel('Coordinate Type', fontsize=12)\n",
    "ax.tick_params(labelsize=10)\n",
    "\n",
    "# Show the chart\n",
    "plt.show()\n"
   ]
  },
  {
   "cell_type": "code",
   "execution_count": 93,
   "metadata": {},
   "outputs": [],
   "source": [
    "# Calculate the mean latitude and longitude\n",
    "mean_latitude = wajir['latitude'].mean()\n",
    "mean_longitude = wajir['longitude'].mean()\n",
    "\n",
    "# Define a threshold for considering outliers (e.g., 3 standard deviations)\n",
    "threshold = 3 * wajir['latitude'].std()\n",
    "\n",
    "# Identify outliers based on the threshold\n",
    "outliers = ((wajir['latitude'] - mean_latitude).abs() > threshold) | ((wajir['longitude'] - mean_longitude).abs() > threshold)\n",
    "\n",
    "# Replace outliers with random values around the mean\n",
    "wajir.loc[outliers, 'latitude'] = np.random.normal(loc=mean_latitude, scale=wajir['latitude'].std(), size=outliers.sum())\n",
    "wajir.loc[outliers, 'longitude'] = np.random.normal(loc=mean_longitude, scale=wajir['longitude'].std(), size=outliers.sum())\n"
   ]
  },
  {
   "cell_type": "code",
   "execution_count": 94,
   "metadata": {},
   "outputs": [
    {
     "name": "stderr",
     "output_type": "stream",
     "text": [
      "c:\\Users\\USER\\anaconda3\\envs\\learn-env\\lib\\site-packages\\seaborn\\categorical.py:82: FutureWarning: iteritems is deprecated and will be removed in a future version. Use .items instead.\n",
      "  plot_data = [np.asarray(s, float) for k, s in iter_data]\n"
     ]
    },
    {
     "data": {
      "image/png": "[encoded data removed]",
      "text/plain": [
       "<Figure size 576x360 with 1 Axes>"
      ]
     },
     "metadata": {
      "needs_background": "light"
     },
     "output_type": "display_data"
    }
   ],
   "source": [
    "# Create a figure with a single subplot\n",
    "fig, ax = plt.subplots(figsize=(8, 5))\n",
    "\n",
    "# Create a boxplot for the latitude and longitude columns\n",
    "sns.boxplot(data=wajir[['latitude', 'longitude']], orient='h', ax=ax, palette='pastel')\n",
    "\n",
    "# Set the chart title and axis labels\n",
    "ax.set_title('Latitude and Longitude Boxplot', fontsize=14)\n",
    "ax.set_xlabel('Coordinate Value', fontsize=12)\n",
    "ax.set_ylabel('Coordinate Type', fontsize=12)\n",
    "ax.tick_params(labelsize=10)\n",
    "\n",
    "# Show the chart\n",
    "plt.show()\n"
   ]
  },
  {
   "cell_type": "code",
   "execution_count": 95,
   "metadata": {},
   "outputs": [],
   "source": [
    "# Calculate the mean latitude and longitude\n",
    "mean_latitude = wajir['latitude'].mean()\n",
    "mean_longitude = wajir['longitude'].mean()\n",
    "\n",
    "# Define a threshold for considering outliers (e.g., 3 standard deviations)\n",
    "threshold = 3 * wajir['latitude'].std()\n",
    "\n",
    "# Identify outliers based on the threshold\n",
    "outliers = ((wajir['latitude'] - mean_latitude).abs() > threshold) | ((wajir['longitude'] - mean_longitude).abs() > threshold)\n",
    "\n",
    "# Replace outliers with random values around the mean\n",
    "wajir.loc[outliers, 'latitude'] = np.random.normal(loc=mean_latitude, scale=wajir['latitude'].std(), size=outliers.sum())\n",
    "wajir.loc[outliers, 'longitude'] = np.random.normal(loc=mean_longitude, scale=wajir['longitude'].std(), size=outliers.sum())\n"
   ]
  },
  {
   "cell_type": "code",
   "execution_count": 96,
   "metadata": {},
   "outputs": [
    {
     "name": "stderr",
     "output_type": "stream",
     "text": [
      "c:\\Users\\USER\\anaconda3\\envs\\learn-env\\lib\\site-packages\\seaborn\\categorical.py:82: FutureWarning: iteritems is deprecated and will be removed in a future version. Use .items instead.\n",
      "  plot_data = [np.asarray(s, float) for k, s in iter_data]\n"
     ]
    },
    {
     "data": {
      "image/png": "[encoded data removed]",
      "text/plain": [
       "<Figure size 576x360 with 1 Axes>"
      ]
     },
     "metadata": {
      "needs_background": "light"
     },
     "output_type": "display_data"
    }
   ],
   "source": [
    "# Create a figure with a single subplot\n",
    "fig, ax = plt.subplots(figsize=(8, 5))\n",
    "\n",
    "# Create a boxplot for the latitude and longitude columns\n",
    "sns.boxplot(data=wajir[['latitude', 'longitude']], orient='h', ax=ax, palette='pastel')\n",
    "\n",
    "# Set the chart title and axis labels\n",
    "ax.set_title('Latitude and Longitude Boxplot', fontsize=14)\n",
    "ax.set_xlabel('Coordinate Value', fontsize=12)\n",
    "ax.set_ylabel('Coordinate Type', fontsize=12)\n",
    "ax.tick_params(labelsize=10)\n",
    "\n",
    "# Show the chart\n",
    "plt.show()\n"
   ]
  },
  {
   "cell_type": "code",
   "execution_count": 97,
   "metadata": {},
   "outputs": [],
   "source": [
    "# Calculate the mean latitude and longitude\n",
    "mean_latitude = wajir['latitude'].mean()\n",
    "mean_longitude = wajir['longitude'].mean()\n",
    "\n",
    "# Define a threshold for considering outliers (e.g., 3 standard deviations)\n",
    "threshold =3 * wajir['latitude'].std()\n",
    "\n",
    "# Identify outliers based on the threshold\n",
    "outliers = ((wajir['latitude'] - mean_latitude).abs() > threshold) | ((wajir['longitude'] - mean_longitude).abs() > threshold)\n",
    "\n",
    "# Replace outliers with random values around the mean\n",
    "wajir.loc[outliers, 'latitude'] = np.random.normal(loc=mean_latitude, scale=wajir['latitude'].std(), size=outliers.sum())\n",
    "wajir.loc[outliers, 'longitude'] = np.random.normal(loc=mean_longitude, scale=wajir['longitude'].std(), size=outliers.sum())\n"
   ]
  },
  {
   "cell_type": "code",
   "execution_count": 98,
   "metadata": {},
   "outputs": [
    {
     "name": "stderr",
     "output_type": "stream",
     "text": [
      "c:\\Users\\USER\\anaconda3\\envs\\learn-env\\lib\\site-packages\\seaborn\\categorical.py:82: FutureWarning: iteritems is deprecated and will be removed in a future version. Use .items instead.\n",
      "  plot_data = [np.asarray(s, float) for k, s in iter_data]\n"
     ]
    },
    {
     "data": {
      "image/png": "[encoded data removed]",
      "text/plain": [
       "<Figure size 576x360 with 1 Axes>"
      ]
     },
     "metadata": {
      "needs_background": "light"
     },
     "output_type": "display_data"
    }
   ],
   "source": [
    "# Create a figure with a single subplot\n",
    "fig, ax = plt.subplots(figsize=(8, 5))\n",
    "\n",
    "# Create a boxplot for the latitude and longitude columns\n",
    "sns.boxplot(data=wajir[['latitude', 'longitude']], orient='h', ax=ax, palette='pastel')\n",
    "\n",
    "# Set the chart title and axis labels\n",
    "ax.set_title('Latitude and Longitude Boxplot', fontsize=14)\n",
    "ax.set_xlabel('Coordinate Value', fontsize=12)\n",
    "ax.set_ylabel('Coordinate Type', fontsize=12)\n",
    "ax.tick_params(labelsize=10)\n",
    "\n",
    "# Show the chart\n",
    "plt.show()\n"
   ]
  },
  {
   "cell_type": "code",
   "execution_count": 99,
   "metadata": {},
   "outputs": [],
   "source": [
    "# Calculate the mean latitude and longitude\n",
    "mean_latitude = wajir['latitude'].mean()\n",
    "mean_longitude = wajir['longitude'].mean()\n",
    "\n",
    "# Define a threshold for considering outliers (e.g., 3 standard deviations)\n",
    "threshold = 3 * wajir['latitude'].std()\n",
    "\n",
    "# Identify outliers based on the threshold\n",
    "outliers = ((wajir['latitude'] - mean_latitude).abs() > threshold) | ((wajir['longitude'] - mean_longitude).abs() > threshold)\n",
    "\n",
    "# Replace outliers with random values around the mean\n",
    "wajir.loc[outliers, 'latitude'] = np.random.normal(loc=mean_latitude, scale=wajir['latitude'].std(), size=outliers.sum())\n",
    "wajir.loc[outliers, 'longitude'] = np.random.normal(loc=mean_longitude, scale=wajir['longitude'].std(), size=outliers.sum())\n"
   ]
  },
  {
   "cell_type": "code",
   "execution_count": 100,
   "metadata": {},
   "outputs": [
    {
     "name": "stderr",
     "output_type": "stream",
     "text": [
      "c:\\Users\\USER\\anaconda3\\envs\\learn-env\\lib\\site-packages\\seaborn\\categorical.py:82: FutureWarning: iteritems is deprecated and will be removed in a future version. Use .items instead.\n",
      "  plot_data = [np.asarray(s, float) for k, s in iter_data]\n"
     ]
    },
    {
     "data": {
      "image/png": "[encoded data removed]",
      "text/plain": [
       "<Figure size 576x360 with 1 Axes>"
      ]
     },
     "metadata": {
      "needs_background": "light"
     },
     "output_type": "display_data"
    }
   ],
   "source": [
    "# Create a figure with a single subplot\n",
    "fig, ax = plt.subplots(figsize=(8, 5))\n",
    "\n",
    "# Create a boxplot for the latitude and longitude columns\n",
    "sns.boxplot(data=wajir[['latitude', 'longitude']], orient='h', ax=ax, palette='pastel')\n",
    "\n",
    "# Set the chart title and axis labels\n",
    "ax.set_title('Latitude and Longitude Boxplot', fontsize=14)\n",
    "ax.set_xlabel('Coordinate Value', fontsize=12)\n",
    "ax.set_ylabel('Coordinate Type', fontsize=12)\n",
    "ax.tick_params(labelsize=10)\n",
    "\n",
    "# Show the chart\n",
    "plt.show()\n"
   ]
  },
  {
   "cell_type": "code",
   "execution_count": 101,
   "metadata": {},
   "outputs": [],
   "source": [
    "# Calculate the mean latitude and longitude\n",
    "mean_latitude = wajir['latitude'].mean()\n",
    "mean_longitude = wajir['longitude'].mean()\n",
    "\n",
    "# Define a threshold for considering outliers (e.g., 3 standard deviations)\n",
    "threshold = 3 * wajir['latitude'].std()\n",
    "\n",
    "# Identify outliers based on the threshold\n",
    "outliers = ((wajir['latitude'] - mean_latitude).abs() > threshold) | ((wajir['longitude'] - mean_longitude).abs() > threshold)\n",
    "\n",
    "# Replace outliers with random values around the mean\n",
    "wajir.loc[outliers, 'latitude'] = np.random.normal(loc=mean_latitude, scale=wajir['latitude'].std(), size=outliers.sum())\n",
    "wajir.loc[outliers, 'longitude'] = np.random.normal(loc=mean_longitude, scale=wajir['longitude'].std(), size=outliers.sum())\n"
   ]
  },
  {
   "cell_type": "code",
   "execution_count": 102,
   "metadata": {},
   "outputs": [
    {
     "name": "stderr",
     "output_type": "stream",
     "text": [
      "c:\\Users\\USER\\anaconda3\\envs\\learn-env\\lib\\site-packages\\seaborn\\categorical.py:82: FutureWarning: iteritems is deprecated and will be removed in a future version. Use .items instead.\n",
      "  plot_data = [np.asarray(s, float) for k, s in iter_data]\n"
     ]
    },
    {
     "data": {
      "image/png": "[encoded data removed]",
      "text/plain": [
       "<Figure size 576x360 with 1 Axes>"
      ]
     },
     "metadata": {
      "needs_background": "light"
     },
     "output_type": "display_data"
    }
   ],
   "source": [
    "# Create a figure with a single subplot\n",
    "fig, ax = plt.subplots(figsize=(8, 5))\n",
    "\n",
    "# Create a boxplot for the latitude and longitude columns\n",
    "sns.boxplot(data=wajir[['latitude', 'longitude']], orient='h', ax=ax, palette='pastel')\n",
    "\n",
    "# Set the chart title and axis labels\n",
    "ax.set_title('Latitude and Longitude Boxplot', fontsize=14)\n",
    "ax.set_xlabel('Coordinate Value', fontsize=12)\n",
    "ax.set_ylabel('Coordinate Type', fontsize=12)\n",
    "ax.tick_params(labelsize=10)\n",
    "\n",
    "# Show the chart\n",
    "plt.show()\n"
   ]
  },
  {
   "cell_type": "code",
   "execution_count": 103,
   "metadata": {},
   "outputs": [],
   "source": [
    "# Calculate the mean latitude and longitude\n",
    "mean_latitude = wajir['latitude'].mean()\n",
    "mean_longitude = wajir['longitude'].mean()\n",
    "\n",
    "# Define a threshold for considering outliers (e.g., 3 standard deviations)\n",
    "threshold = 3 * wajir['latitude'].std()\n",
    "\n",
    "# Identify outliers based on the threshold\n",
    "outliers = ((wajir['latitude'] - mean_latitude).abs() > threshold) | ((wajir['longitude'] - mean_longitude).abs() > threshold)\n",
    "\n",
    "# Replace outliers with random values around the mean\n",
    "wajir.loc[outliers, 'latitude'] = np.random.normal(loc=mean_latitude, scale=wajir['latitude'].std(), size=outliers.sum())\n",
    "wajir.loc[outliers, 'longitude'] = np.random.normal(loc=mean_longitude, scale=wajir['longitude'].std(), size=outliers.sum())\n"
   ]
  },
  {
   "cell_type": "code",
   "execution_count": 104,
   "metadata": {},
   "outputs": [
    {
     "name": "stderr",
     "output_type": "stream",
     "text": [
      "c:\\Users\\USER\\anaconda3\\envs\\learn-env\\lib\\site-packages\\seaborn\\categorical.py:82: FutureWarning: iteritems is deprecated and will be removed in a future version. Use .items instead.\n",
      "  plot_data = [np.asarray(s, float) for k, s in iter_data]\n"
     ]
    },
    {
     "data": {
      "image/png": "[encoded data removed]",
      "text/plain": [
       "<Figure size 576x360 with 1 Axes>"
      ]
     },
     "metadata": {
      "needs_background": "light"
     },
     "output_type": "display_data"
    }
   ],
   "source": [
    "# Create a figure with a single subplot\n",
    "fig, ax = plt.subplots(figsize=(8, 5))\n",
    "\n",
    "# Create a boxplot for the latitude and longitude columns\n",
    "sns.boxplot(data=wajir[['latitude', 'longitude']], orient='h', ax=ax, palette='pastel')\n",
    "\n",
    "# Set the chart title and axis labels\n",
    "ax.set_title('Latitude and Longitude Boxplot', fontsize=14)\n",
    "ax.set_xlabel('Coordinate Value', fontsize=12)\n",
    "ax.set_ylabel('Coordinate Type', fontsize=12)\n",
    "ax.tick_params(labelsize=10)\n",
    "\n",
    "# Show the chart\n",
    "plt.show()\n"
   ]
  },
  {
   "cell_type": "code",
   "execution_count": 105,
   "metadata": {},
   "outputs": [],
   "source": [
    "# Calculate the mean latitude and longitude\n",
    "mean_latitude = wajir['latitude'].mean()\n",
    "mean_longitude = wajir['longitude'].mean()\n",
    "\n",
    "# Define a threshold for considering outliers (e.g., 3 standard deviations)\n",
    "threshold = 3 * wajir['latitude'].std()\n",
    "\n",
    "# Identify outliers based on the threshold\n",
    "outliers = ((wajir['latitude'] - mean_latitude).abs() > threshold) | ((wajir['longitude'] - mean_longitude).abs() > threshold)\n",
    "\n",
    "# Replace outliers with random values around the mean\n",
    "wajir.loc[outliers, 'latitude'] = np.random.normal(loc=mean_latitude, scale=wajir['latitude'].std(), size=outliers.sum())\n",
    "wajir.loc[outliers, 'longitude'] = np.random.normal(loc=mean_longitude, scale=wajir['longitude'].std(), size=outliers.sum())\n"
   ]
  },
  {
   "cell_type": "code",
   "execution_count": 106,
   "metadata": {},
   "outputs": [
    {
     "name": "stderr",
     "output_type": "stream",
     "text": [
      "c:\\Users\\USER\\anaconda3\\envs\\learn-env\\lib\\site-packages\\seaborn\\categorical.py:82: FutureWarning: iteritems is deprecated and will be removed in a future version. Use .items instead.\n",
      "  plot_data = [np.asarray(s, float) for k, s in iter_data]\n"
     ]
    },
    {
     "data": {
      "image/png": "[encoded data removed]",
      "text/plain": [
       "<Figure size 576x360 with 1 Axes>"
      ]
     },
     "metadata": {
      "needs_background": "light"
     },
     "output_type": "display_data"
    }
   ],
   "source": [
    "# Create a figure with a single subplot\n",
    "fig, ax = plt.subplots(figsize=(8, 5))\n",
    "\n",
    "# Create a boxplot for the latitude and longitude columns\n",
    "sns.boxplot(data=wajir[['latitude', 'longitude']], orient='h', ax=ax, palette='pastel')\n",
    "\n",
    "# Set the chart title and axis labels\n",
    "ax.set_title('Latitude and Longitude Boxplot', fontsize=14)\n",
    "ax.set_xlabel('Coordinate Value', fontsize=12)\n",
    "ax.set_ylabel('Coordinate Type', fontsize=12)\n",
    "ax.tick_params(labelsize=10)\n",
    "\n",
    "# Show the chart\n",
    "plt.show()\n"
   ]
  },
  {
   "cell_type": "code",
   "execution_count": 107,
   "metadata": {},
   "outputs": [],
   "source": [
    "# Read the Wajir boundary shapefile into a GeoDataFrame\n",
    "wajir_boundary = gpd.read_file('Shapefiles/Wajir_County.shp')  # Replace 'wajir_boundary.shp' with the actual path to your Wajir boundary shapefile\n"
   ]
  },
  {
   "cell_type": "code",
   "execution_count": 108,
   "metadata": {},
   "outputs": [],
   "source": [
    "# Function to check if a coordinate is in Wajir\n",
    "def is_coordinate_in_wajir(latitude, longitude):\n",
    "    point = Point(longitude, latitude)\n",
    "    return wajir_boundary.contains(point).any()\n",
    "\n",
    "# Iterate through the dataframe rows and update coordinates if necessary\n",
    "for index, row in wajir.iterrows():\n",
    "    latitude = row['latitude']\n",
    "    longitude = row['longitude']\n",
    "    \n",
    "    if not is_coordinate_in_wajir(latitude, longitude):\n",
    "        # Assign random coordinates within Wajir\n",
    "        while True:\n",
    "            random_latitude = random.uniform(wajir_boundary.bounds['miny'], wajir_boundary.bounds['maxy'])\n",
    "            random_longitude = random.uniform(wajir_boundary.bounds['minx'], wajir_boundary.bounds['maxx'])\n",
    "            \n",
    "            if is_coordinate_in_wajir(random_latitude, random_longitude):\n",
    "                # Found a random coordinate within Wajir, update the dataframe\n",
    "                wajir.at[index, 'latitude'] = random_latitude\n",
    "                wajir.at[index, 'longitude'] = random_longitude\n",
    "                break"
   ]
  },
  {
   "cell_type": "code",
   "execution_count": 109,
   "metadata": {},
   "outputs": [],
   "source": [
    "## save dataset\n",
    "wajir.to_csv('wajir.csv', index=False)"
   ]
  },
  {
   "cell_type": "markdown",
   "metadata": {},
   "source": [
    "### *3) Mandera*"
   ]
  },
  {
   "cell_type": "code",
   "execution_count": 110,
   "metadata": {},
   "outputs": [
    {
     "data": {
      "text/html": [
       "<div style=\"width:100%;\"><div style=\"position:relative;width:100%;height:0;padding-bottom:60%;\"><span style=\"color:#565656\">Make this Notebook Trusted to load map: File -> Trust Notebook</span><iframe src=\"about:blank\" style=\"position:absolute;width:100%;height:100%;left:0;top:0;border:none !important;\" data-html=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 onload=\"this.contentDocument.open();this.contentDocument.write(atob(this.getAttribute('data-html')));this.contentDocument.close();\" allowfullscreen webkitallowfullscreen mozallowfullscreen></iframe></div></div>"
      ],
      "text/plain": [
       "<folium.folium.Map at 0x2789aa76a30>"
      ]
     },
     "execution_count": 110,
     "metadata": {},
     "output_type": "execute_result"
    }
   ],
   "source": [
    "# Create a map of Mandera\n",
    "mandera_map = folium.Map(location=[3.4421, 40.9382], zoom_start=10)\n",
    "\n",
    "# Add a marker for Marsabit town\n",
    "mandera_marker = folium.Marker(location=[3.4421, 40.9382], popup='Mandera')\n",
    "mandera_marker.add_to(mandera_map)\n",
    "\n",
    "# Show the map\n",
    "mandera_map"
   ]
  },
  {
   "cell_type": "code",
   "execution_count": 111,
   "metadata": {},
   "outputs": [],
   "source": [
    "# Filter out Marsabit in dataframe\n",
    "mandera = df[df['county_name'] == \"Mandera\"]"
   ]
  },
  {
   "cell_type": "code",
   "execution_count": 112,
   "metadata": {},
   "outputs": [
    {
     "name": "stdout",
     "output_type": "stream",
     "text": [
      "<class 'pandas.core.frame.DataFrame'>\n",
      "Int64Index: 151606 entries, 0 to 400783\n",
      "Data columns (total 17 columns):\n",
      " #   Column             Non-Null Count   Dtype         \n",
      "---  ------             --------------   -----         \n",
      " 0   household_id       151606 non-null  object        \n",
      " 1   village_id         151606 non-null  int64         \n",
      " 2   village_name       151606 non-null  object        \n",
      " 3   sublocation_name   151606 non-null  object        \n",
      " 4   sublocation_id     151606 non-null  int64         \n",
      " 5   location_id        151606 non-null  int64         \n",
      " 6   location_name      151606 non-null  object        \n",
      " 7   constituency_name  151606 non-null  object        \n",
      " 8   county_name        151606 non-null  object        \n",
      " 9   isbeneficiaryhh    151606 non-null  bool          \n",
      " 10  latitude           151606 non-null  float64       \n",
      " 11  longitude          151606 non-null  float64       \n",
      " 12  ruralurban         139321 non-null  object        \n",
      " 13  constituency_id    151606 non-null  int64         \n",
      " 14  entry_date         151606 non-null  datetime64[ns]\n",
      " 15  usercode           151606 non-null  object        \n",
      " 16  county_id          151606 non-null  int64         \n",
      "dtypes: bool(1), datetime64[ns](1), float64(2), int64(5), object(8)\n",
      "memory usage: 19.8+ MB\n"
     ]
    }
   ],
   "source": [
    "mandera.info()"
   ]
  },
  {
   "cell_type": "code",
   "execution_count": 113,
   "metadata": {},
   "outputs": [
    {
     "name": "stderr",
     "output_type": "stream",
     "text": [
      "c:\\Users\\USER\\anaconda3\\envs\\learn-env\\lib\\site-packages\\seaborn\\categorical.py:82: FutureWarning: iteritems is deprecated and will be removed in a future version. Use .items instead.\n",
      "  plot_data = [np.asarray(s, float) for k, s in iter_data]\n"
     ]
    },
    {
     "data": {
      "image/png": "[encoded data removed]",
      "text/plain": [
       "<Figure size 576x360 with 1 Axes>"
      ]
     },
     "metadata": {
      "needs_background": "light"
     },
     "output_type": "display_data"
    }
   ],
   "source": [
    "# Create a figure with a single subplot\n",
    "fig, ax = plt.subplots(figsize=(8, 5))\n",
    "\n",
    "# Create a boxplot for the latitude and longitude columns\n",
    "sns.boxplot(data=mandera[['latitude', 'longitude']], orient='h', ax=ax, palette='pastel')\n",
    "\n",
    "# Set the chart title and axis labels\n",
    "ax.set_title('Latitude and Longitude Boxplot', fontsize=14)\n",
    "ax.set_xlabel('Coordinate Value', fontsize=12)\n",
    "ax.set_ylabel('Coordinate Type', fontsize=12)\n",
    "ax.tick_params(labelsize=10)\n",
    "\n",
    "# Show the chart\n",
    "plt.show()"
   ]
  },
  {
   "cell_type": "code",
   "execution_count": 114,
   "metadata": {},
   "outputs": [],
   "source": [
    "# If latitude is greater than longitude they interchange\n",
    "mask = mandera['latitude'] > mandera['longitude']\n",
    "mandera.loc[mask, ['latitude', 'longitude']] = mandera.loc[mask, ['longitude', 'latitude']].values\n"
   ]
  },
  {
   "cell_type": "code",
   "execution_count": 115,
   "metadata": {},
   "outputs": [
    {
     "name": "stderr",
     "output_type": "stream",
     "text": [
      "c:\\Users\\USER\\anaconda3\\envs\\learn-env\\lib\\site-packages\\seaborn\\categorical.py:82: FutureWarning: iteritems is deprecated and will be removed in a future version. Use .items instead.\n",
      "  plot_data = [np.asarray(s, float) for k, s in iter_data]\n"
     ]
    },
    {
     "data": {
      "image/png": "[encoded data removed]",
      "text/plain": [
       "<Figure size 576x360 with 1 Axes>"
      ]
     },
     "metadata": {
      "needs_background": "light"
     },
     "output_type": "display_data"
    }
   ],
   "source": [
    "# Create a figure with a single subplot\n",
    "fig, ax = plt.subplots(figsize=(8, 5))\n",
    "\n",
    "# Create a boxplot for the latitude and longitude columns\n",
    "sns.boxplot(data=mandera[['latitude', 'longitude']], orient='h', ax=ax, palette='pastel')\n",
    "\n",
    "# Set the chart title and axis labels\n",
    "ax.set_title('Latitude and Longitude Boxplot', fontsize=14)\n",
    "ax.set_xlabel('Coordinate Value', fontsize=12)\n",
    "ax.set_ylabel('Coordinate Type', fontsize=12)\n",
    "ax.tick_params(labelsize=10)\n",
    "\n",
    "# Show the chart\n",
    "plt.show()"
   ]
  },
  {
   "cell_type": "code",
   "execution_count": 116,
   "metadata": {},
   "outputs": [
    {
     "name": "stderr",
     "output_type": "stream",
     "text": [
      "<ipython-input-116-92c563b375b9>:5: SettingWithCopyWarning: \n",
      "A value is trying to be set on a copy of a slice from a DataFrame.\n",
      "Try using .loc[row_indexer,col_indexer] = value instead\n",
      "\n",
      "See the caveats in the documentation: https://pandas.pydata.org/pandas-docs/stable/user_guide/indexing.html#returning-a-view-versus-a-copy\n",
      "  mandera['latitude'] = mandera['latitude'] * factors\n"
     ]
    }
   ],
   "source": [
    "# calculate the correction factor for each value\n",
    "factors = mandera['latitude'].apply(lambda x: 10 ** -(len(str(int(x))) - 1))\n",
    "\n",
    "# divide each value by its correction factor\n",
    "mandera['latitude'] = mandera['latitude'] * factors\n",
    "\n",
    "# # print the corrected dataframe\n",
    "# print(df_sample)"
   ]
  },
  {
   "cell_type": "code",
   "execution_count": 117,
   "metadata": {},
   "outputs": [
    {
     "name": "stderr",
     "output_type": "stream",
     "text": [
      "c:\\Users\\USER\\anaconda3\\envs\\learn-env\\lib\\site-packages\\seaborn\\categorical.py:82: FutureWarning: iteritems is deprecated and will be removed in a future version. Use .items instead.\n",
      "  plot_data = [np.asarray(s, float) for k, s in iter_data]\n"
     ]
    },
    {
     "data": {
      "image/png": "[encoded data removed]",
      "text/plain": [
       "<Figure size 576x360 with 1 Axes>"
      ]
     },
     "metadata": {
      "needs_background": "light"
     },
     "output_type": "display_data"
    }
   ],
   "source": [
    "# Create a figure with a single subplot\n",
    "fig, ax = plt.subplots(figsize=(8, 5))\n",
    "\n",
    "# Create a boxplot for the latitude and longitude columns\n",
    "sns.boxplot(data=mandera[['latitude', 'longitude']], orient='h', ax=ax, palette='pastel')\n",
    "\n",
    "# Set the chart title and axis labels\n",
    "ax.set_title('Latitude and Longitude Boxplot', fontsize=14)\n",
    "ax.set_xlabel('Coordinate Value', fontsize=12)\n",
    "ax.set_ylabel('Coordinate Type', fontsize=12)\n",
    "ax.tick_params(labelsize=10)\n",
    "\n",
    "# Show the chart\n",
    "plt.show()"
   ]
  },
  {
   "cell_type": "code",
   "execution_count": 118,
   "metadata": {},
   "outputs": [
    {
     "name": "stderr",
     "output_type": "stream",
     "text": [
      "<ipython-input-118-9ee05d1aeb9e>:5: SettingWithCopyWarning: \n",
      "A value is trying to be set on a copy of a slice from a DataFrame.\n",
      "Try using .loc[row_indexer,col_indexer] = value instead\n",
      "\n",
      "See the caveats in the documentation: https://pandas.pydata.org/pandas-docs/stable/user_guide/indexing.html#returning-a-view-versus-a-copy\n",
      "  mandera['longitude'] = mandera['longitude'] * factors\n"
     ]
    }
   ],
   "source": [
    "# calculate the correction factor for each value\n",
    "factors = mandera['longitude'].apply(lambda x: 10 ** -(len(str(int(x))) - 2))\n",
    "\n",
    "# divide each value by its correction factor\n",
    "mandera['longitude'] = mandera['longitude'] * factors"
   ]
  },
  {
   "cell_type": "code",
   "execution_count": 119,
   "metadata": {},
   "outputs": [
    {
     "name": "stderr",
     "output_type": "stream",
     "text": [
      "c:\\Users\\USER\\anaconda3\\envs\\learn-env\\lib\\site-packages\\seaborn\\categorical.py:82: FutureWarning: iteritems is deprecated and will be removed in a future version. Use .items instead.\n",
      "  plot_data = [np.asarray(s, float) for k, s in iter_data]\n"
     ]
    },
    {
     "data": {
      "image/png": "[encoded data removed]",
      "text/plain": [
       "<Figure size 576x360 with 1 Axes>"
      ]
     },
     "metadata": {
      "needs_background": "light"
     },
     "output_type": "display_data"
    }
   ],
   "source": [
    "# Create a figure with a single subplot\n",
    "fig, ax = plt.subplots(figsize=(8, 5))\n",
    "\n",
    "# Create a boxplot for the latitude and longitude columns\n",
    "sns.boxplot(data=mandera[['latitude', 'longitude']], orient='h', ax=ax, palette='pastel')\n",
    "\n",
    "# Set the chart title and axis labels\n",
    "ax.set_title('Latitude and Longitude Boxplot', fontsize=14)\n",
    "ax.set_xlabel('Coordinate Value', fontsize=12)\n",
    "ax.set_ylabel('Coordinate Type', fontsize=12)\n",
    "ax.tick_params(labelsize=10)\n",
    "\n",
    "# Show the chart\n",
    "plt.show()"
   ]
  },
  {
   "cell_type": "code",
   "execution_count": 120,
   "metadata": {},
   "outputs": [],
   "source": [
    "# Define a threshold for considering outliers (e.g., 3 standard deviations)\n",
    "threshold = 10 * mandera['latitude'].std()\n",
    "\n",
    "# Identify outliers based on the threshold\n",
    "outliers = ((mandera['latitude'] - mean_latitude).abs() > threshold) | ((mandera['longitude'] - mean_longitude).abs() > threshold)\n",
    "\n",
    "# Replace outliers with random values around the mean\n",
    "mandera.loc[outliers, 'latitude'] = np.random.normal(loc=mean_latitude, scale=mandera['latitude'].std(), size=outliers.sum())\n",
    "mandera.loc[outliers, 'longitude'] = np.random.normal(loc=mean_longitude, scale=mandera['longitude'].std(), size=outliers.sum())\n"
   ]
  },
  {
   "cell_type": "code",
   "execution_count": 121,
   "metadata": {},
   "outputs": [
    {
     "name": "stderr",
     "output_type": "stream",
     "text": [
      "c:\\Users\\USER\\anaconda3\\envs\\learn-env\\lib\\site-packages\\seaborn\\categorical.py:82: FutureWarning: iteritems is deprecated and will be removed in a future version. Use .items instead.\n",
      "  plot_data = [np.asarray(s, float) for k, s in iter_data]\n"
     ]
    },
    {
     "data": {
      "image/png": "[encoded data removed]",
      "text/plain": [
       "<Figure size 576x360 with 1 Axes>"
      ]
     },
     "metadata": {
      "needs_background": "light"
     },
     "output_type": "display_data"
    }
   ],
   "source": [
    "# Create a figure with a single subplot\n",
    "fig, ax = plt.subplots(figsize=(8, 5))\n",
    "\n",
    "# Create a boxplot for the latitude and longitude columns\n",
    "sns.boxplot(data=mandera[['latitude', 'longitude']], orient='h', ax=ax, palette='pastel')\n",
    "\n",
    "# Set the chart title and axis labels\n",
    "ax.set_title('Latitude and Longitude Boxplot', fontsize=14)\n",
    "ax.set_xlabel('Coordinate Value', fontsize=12)\n",
    "ax.set_ylabel('Coordinate Type', fontsize=12)\n",
    "ax.tick_params(labelsize=10)\n",
    "\n",
    "# Show the chart\n",
    "plt.show()"
   ]
  },
  {
   "cell_type": "code",
   "execution_count": 122,
   "metadata": {},
   "outputs": [],
   "source": [
    "# Calculate the mean latitude and longitude\n",
    "mean_latitude = mandera['latitude'].mean()\n",
    "mean_longitude = mandera['longitude'].mean()\n",
    "\n",
    "# Define a threshold for considering outliers (e.g., 3 standard deviations)\n",
    "threshold = 3 * mandera['latitude'].std()\n",
    "\n",
    "# Identify outliers based on the threshold\n",
    "outliers = ((mandera['latitude'] - mean_latitude).abs() > threshold) | ((mandera['longitude'] - mean_longitude).abs() > threshold)\n",
    "\n",
    "# Replace outliers with random values around the mean\n",
    "mandera.loc[outliers, 'latitude'] = np.random.normal(loc=mean_latitude, scale=mandera['latitude'].std(), size=outliers.sum())\n",
    "mandera.loc[outliers, 'longitude'] = np.random.normal(loc=mean_longitude, scale=mandera['longitude'].std(), size=outliers.sum())\n"
   ]
  },
  {
   "cell_type": "code",
   "execution_count": 123,
   "metadata": {},
   "outputs": [
    {
     "name": "stderr",
     "output_type": "stream",
     "text": [
      "c:\\Users\\USER\\anaconda3\\envs\\learn-env\\lib\\site-packages\\seaborn\\categorical.py:82: FutureWarning: iteritems is deprecated and will be removed in a future version. Use .items instead.\n",
      "  plot_data = [np.asarray(s, float) for k, s in iter_data]\n"
     ]
    },
    {
     "data": {
      "image/png": "[encoded data removed]",
      "text/plain": [
       "<Figure size 576x360 with 1 Axes>"
      ]
     },
     "metadata": {
      "needs_background": "light"
     },
     "output_type": "display_data"
    }
   ],
   "source": [
    "# Create a figure with a single subplot\n",
    "fig, ax = plt.subplots(figsize=(8, 5))\n",
    "\n",
    "# Create a boxplot for the latitude and longitude columns\n",
    "sns.boxplot(data=mandera[['latitude', 'longitude']], orient='h', ax=ax, palette='pastel')\n",
    "\n",
    "# Set the chart title and axis labels\n",
    "ax.set_title('Latitude and Longitude Boxplot', fontsize=14)\n",
    "ax.set_xlabel('Coordinate Value', fontsize=12)\n",
    "ax.set_ylabel('Coordinate Type', fontsize=12)\n",
    "ax.tick_params(labelsize=10)\n",
    "\n",
    "# Show the chart\n",
    "plt.show()"
   ]
  },
  {
   "cell_type": "code",
   "execution_count": 124,
   "metadata": {},
   "outputs": [],
   "source": [
    "# Calculate the mean latitude and longitude\n",
    "mean_latitude = mandera['latitude'].mean()\n",
    "mean_longitude = mandera['longitude'].mean()\n",
    "\n",
    "# Define a threshold for considering outliers (e.g., 3 standard deviations)\n",
    "threshold = 3 * mandera['latitude'].std()\n",
    "\n",
    "# Identify outliers based on the threshold\n",
    "outliers = ((mandera['latitude'] - mean_latitude).abs() > threshold) | ((mandera['longitude'] - mean_longitude).abs() > threshold)\n",
    "\n",
    "# Replace outliers with random values around the mean\n",
    "mandera.loc[outliers, 'latitude'] = np.random.normal(loc=mean_latitude, scale=mandera['latitude'].std(), size=outliers.sum())\n",
    "mandera.loc[outliers, 'longitude'] = np.random.normal(loc=mean_longitude, scale=mandera['longitude'].std(), size=outliers.sum())\n"
   ]
  },
  {
   "cell_type": "code",
   "execution_count": 125,
   "metadata": {},
   "outputs": [
    {
     "name": "stderr",
     "output_type": "stream",
     "text": [
      "c:\\Users\\USER\\anaconda3\\envs\\learn-env\\lib\\site-packages\\seaborn\\categorical.py:82: FutureWarning: iteritems is deprecated and will be removed in a future version. Use .items instead.\n",
      "  plot_data = [np.asarray(s, float) for k, s in iter_data]\n"
     ]
    },
    {
     "data": {
      "image/png": "[encoded data removed]",
      "text/plain": [
       "<Figure size 576x360 with 1 Axes>"
      ]
     },
     "metadata": {
      "needs_background": "light"
     },
     "output_type": "display_data"
    }
   ],
   "source": [
    "# Create a figure with a single subplot\n",
    "fig, ax = plt.subplots(figsize=(8, 5))\n",
    "\n",
    "# Create a boxplot for the latitude and longitude columns\n",
    "sns.boxplot(data=mandera[['latitude', 'longitude']], orient='h', ax=ax, palette='pastel')\n",
    "\n",
    "# Set the chart title and axis labels\n",
    "ax.set_title('Latitude and Longitude Boxplot', fontsize=14)\n",
    "ax.set_xlabel('Coordinate Value', fontsize=12)\n",
    "ax.set_ylabel('Coordinate Type', fontsize=12)\n",
    "ax.tick_params(labelsize=10)\n",
    "\n",
    "# Show the chart\n",
    "plt.show()"
   ]
  },
  {
   "cell_type": "code",
   "execution_count": 127,
   "metadata": {},
   "outputs": [],
   "source": [
    "# Calculate the mean latitude and longitude\n",
    "mean_latitude = mandera['latitude'].mean()\n",
    "mean_longitude = mandera['longitude'].mean()\n",
    "\n",
    "# Define a threshold for considering outliers (e.g., 3 standard deviations)\n",
    "threshold = 3 * mandera['latitude'].std()\n",
    "\n",
    "# Identify outliers based on the threshold\n",
    "outliers = ((mandera['latitude'] - mean_latitude).abs() > threshold) | ((mandera['longitude'] - mean_longitude).abs() > threshold)\n",
    "\n",
    "# Replace outliers with random values around the mean\n",
    "mandera.loc[outliers, 'latitude'] = np.random.normal(loc=mean_latitude, scale=mandera['latitude'].std(), size=outliers.sum())\n",
    "mandera.loc[outliers, 'longitude'] = np.random.normal(loc=mean_longitude, scale=mandera['longitude'].std(), size=outliers.sum())\n"
   ]
  },
  {
   "cell_type": "code",
   "execution_count": 128,
   "metadata": {},
   "outputs": [
    {
     "name": "stderr",
     "output_type": "stream",
     "text": [
      "c:\\Users\\USER\\anaconda3\\envs\\learn-env\\lib\\site-packages\\seaborn\\categorical.py:82: FutureWarning: iteritems is deprecated and will be removed in a future version. Use .items instead.\n",
      "  plot_data = [np.asarray(s, float) for k, s in iter_data]\n"
     ]
    },
    {
     "data": {
      "image/png": "[encoded data removed]",
      "text/plain": [
       "<Figure size 576x360 with 1 Axes>"
      ]
     },
     "metadata": {
      "needs_background": "light"
     },
     "output_type": "display_data"
    }
   ],
   "source": [
    "# Create a figure with a single subplot\n",
    "fig, ax = plt.subplots(figsize=(8, 5))\n",
    "\n",
    "# Create a boxplot for the latitude and longitude columns\n",
    "sns.boxplot(data=mandera[['latitude', 'longitude']], orient='h', ax=ax, palette='pastel')\n",
    "\n",
    "# Set the chart title and axis labels\n",
    "ax.set_title('Latitude and Longitude Boxplot', fontsize=14)\n",
    "ax.set_xlabel('Coordinate Value', fontsize=12)\n",
    "ax.set_ylabel('Coordinate Type', fontsize=12)\n",
    "ax.tick_params(labelsize=10)\n",
    "\n",
    "# Show the chart\n",
    "plt.show()"
   ]
  },
  {
   "cell_type": "code",
   "execution_count": 129,
   "metadata": {},
   "outputs": [],
   "source": [
    "# Calculate the mean latitude and longitude\n",
    "mean_latitude = mandera['latitude'].mean()\n",
    "mean_longitude = mandera['longitude'].mean()\n",
    "\n",
    "# Define a threshold for considering outliers (e.g., 3 standard deviations)\n",
    "threshold = 3 * mandera['latitude'].std()\n",
    "\n",
    "# Identify outliers based on the threshold\n",
    "outliers = ((mandera['latitude'] - mean_latitude).abs() > threshold) | ((mandera['longitude'] - mean_longitude).abs() > threshold)\n",
    "\n",
    "# Replace outliers with random values around the mean\n",
    "mandera.loc[outliers, 'latitude'] = np.random.normal(loc=mean_latitude, scale=mandera['latitude'].std(), size=outliers.sum())\n",
    "mandera.loc[outliers, 'longitude'] = np.random.normal(loc=mean_longitude, scale=mandera['longitude'].std(), size=outliers.sum())\n"
   ]
  },
  {
   "cell_type": "code",
   "execution_count": 130,
   "metadata": {},
   "outputs": [
    {
     "name": "stderr",
     "output_type": "stream",
     "text": [
      "c:\\Users\\USER\\anaconda3\\envs\\learn-env\\lib\\site-packages\\seaborn\\categorical.py:82: FutureWarning: iteritems is deprecated and will be removed in a future version. Use .items instead.\n",
      "  plot_data = [np.asarray(s, float) for k, s in iter_data]\n"
     ]
    },
    {
     "data": {
      "image/png": "[encoded data removed]",
      "text/plain": [
       "<Figure size 576x360 with 1 Axes>"
      ]
     },
     "metadata": {
      "needs_background": "light"
     },
     "output_type": "display_data"
    }
   ],
   "source": [
    "# Create a figure with a single subplot\n",
    "fig, ax = plt.subplots(figsize=(8, 5))\n",
    "\n",
    "# Create a boxplot for the latitude and longitude columns\n",
    "sns.boxplot(data=mandera[['latitude', 'longitude']], orient='h', ax=ax, palette='pastel')\n",
    "\n",
    "# Set the chart title and axis labels\n",
    "ax.set_title('Latitude and Longitude Boxplot', fontsize=14)\n",
    "ax.set_xlabel('Coordinate Value', fontsize=12)\n",
    "ax.set_ylabel('Coordinate Type', fontsize=12)\n",
    "ax.tick_params(labelsize=10)\n",
    "\n",
    "# Show the chart\n",
    "plt.show()"
   ]
  },
  {
   "cell_type": "code",
   "execution_count": 131,
   "metadata": {},
   "outputs": [],
   "source": [
    "# Calculate the mean latitude and longitude\n",
    "mean_latitude = mandera['latitude'].mean()\n",
    "mean_longitude = mandera['longitude'].mean()\n",
    "\n",
    "# Define a threshold for considering outliers (e.g., 3 standard deviations)\n",
    "threshold = 3 * mandera['latitude'].std()\n",
    "\n",
    "# Identify outliers based on the threshold\n",
    "outliers = ((mandera['latitude'] - mean_latitude).abs() > threshold) | ((mandera['longitude'] - mean_longitude).abs() > threshold)\n",
    "\n",
    "# Replace outliers with random values around the mean\n",
    "mandera.loc[outliers, 'latitude'] = np.random.normal(loc=mean_latitude, scale=mandera['latitude'].std(), size=outliers.sum())\n",
    "mandera.loc[outliers, 'longitude'] = np.random.normal(loc=mean_longitude, scale=mandera['longitude'].std(), size=outliers.sum())\n"
   ]
  },
  {
   "cell_type": "code",
   "execution_count": 132,
   "metadata": {},
   "outputs": [
    {
     "name": "stderr",
     "output_type": "stream",
     "text": [
      "c:\\Users\\USER\\anaconda3\\envs\\learn-env\\lib\\site-packages\\seaborn\\categorical.py:82: FutureWarning: iteritems is deprecated and will be removed in a future version. Use .items instead.\n",
      "  plot_data = [np.asarray(s, float) for k, s in iter_data]\n"
     ]
    },
    {
     "data": {
      "image/png": "[encoded data removed]",
      "text/plain": [
       "<Figure size 576x360 with 1 Axes>"
      ]
     },
     "metadata": {
      "needs_background": "light"
     },
     "output_type": "display_data"
    }
   ],
   "source": [
    "# Create a figure with a single subplot\n",
    "fig, ax = plt.subplots(figsize=(8, 5))\n",
    "\n",
    "# Create a boxplot for the latitude and longitude columns\n",
    "sns.boxplot(data=mandera[['latitude', 'longitude']], orient='h', ax=ax, palette='pastel')\n",
    "\n",
    "# Set the chart title and axis labels\n",
    "ax.set_title('Latitude and Longitude Boxplot', fontsize=14)\n",
    "ax.set_xlabel('Coordinate Value', fontsize=12)\n",
    "ax.set_ylabel('Coordinate Type', fontsize=12)\n",
    "ax.tick_params(labelsize=10)\n",
    "\n",
    "# Show the chart\n",
    "plt.show()"
   ]
  },
  {
   "cell_type": "code",
   "execution_count": 133,
   "metadata": {},
   "outputs": [],
   "source": [
    "# Read the Mandera boundary shapefile into a GeoDataFrame\n",
    "mandera_boundary = gpd.read_file('Shapefiles/Mandera_County.shp')  # Replace 'mandera_boundary.shp' with the actual path to your Mandera boundary shapefile\n"
   ]
  },
  {
   "cell_type": "code",
   "execution_count": 134,
   "metadata": {},
   "outputs": [],
   "source": [
    "# Function to check if a coordinate is in Marsabit\n",
    "def is_coordinate_in_mandera(latitude, longitude):\n",
    "    point = Point(longitude, latitude)\n",
    "    return mandera_boundary.contains(point).any()\n",
    "\n",
    "# Iterate through the dataframe rows and update coordinates if necessary\n",
    "for index, row in mandera.iterrows():\n",
    "    latitude = row['latitude']\n",
    "    longitude = row['longitude']\n",
    "    \n",
    "    if not is_coordinate_in_mandera(latitude, longitude):\n",
    "        # Assign random coordinates within Mandera\n",
    "        while True:\n",
    "            # Set the latitude range to cover the approximate area of Mandera\n",
    "            random_latitude = random.uniform(mandera_boundary.bounds['miny'], mandera_boundary.bounds['maxy'])  \n",
    "            # Set the longitude range to cover the approximate area of Mandera \n",
    "            random_longitude = random.uniform(mandera_boundary.bounds['minx'], mandera_boundary.bounds['maxx'])\n",
    "              \n",
    "            \n",
    "            if is_coordinate_in_mandera(random_latitude, random_longitude):\n",
    "                # Found a random coordinate within Mandera, update the dataframe\n",
    "                mandera.at[index, 'latitude'] = random_latitude\n",
    "                mandera.at[index, 'longitude'] = random_longitude\n",
    "                break\n",
    "\t\t\t\t"
   ]
  },
  {
   "cell_type": "code",
   "execution_count": 135,
   "metadata": {},
   "outputs": [],
   "source": [
    "## save dataset\n",
    "mandera.to_csv('mandera.csv', index=False)"
   ]
  },
  {
   "cell_type": "markdown",
   "metadata": {},
   "source": [
    "### *4) Turkana*"
   ]
  },
  {
   "cell_type": "code",
   "execution_count": 136,
   "metadata": {},
   "outputs": [
    {
     "data": {
      "text/html": [
       "<div style=\"width:100%;\"><div style=\"position:relative;width:100%;height:0;padding-bottom:60%;\"><span style=\"color:#565656\">Make this Notebook Trusted to load map: File -> Trust Notebook</span><iframe src=\"about:blank\" style=\"position:absolute;width:100%;height:100%;left:0;top:0;border:none !important;\" data-html=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 onload=\"this.contentDocument.open();this.contentDocument.write(atob(this.getAttribute('data-html')));this.contentDocument.close();\" allowfullscreen webkitallowfullscreen mozallowfullscreen></iframe></div></div>"
      ],
      "text/plain": [
       "<folium.folium.Map at 0x27881d7d190>"
      ]
     },
     "execution_count": 136,
     "metadata": {},
     "output_type": "execute_result"
    }
   ],
   "source": [
    "# Create a map of Turkana\n",
    "turkana_map = folium.Map(location=[3.1190, 35.6059], zoom_start=10)\n",
    "\n",
    "# Add a marker for Turkana town\n",
    "turkana_marker = folium.Marker(location=[3.1190, 35.6059], popup='Turkana')\n",
    "turkana_marker.add_to(turkana_map)\n",
    "\n",
    "# Show the map\n",
    "turkana_map\n"
   ]
  },
  {
   "cell_type": "code",
   "execution_count": 137,
   "metadata": {},
   "outputs": [],
   "source": [
    "# Filter out Marsabit in dataframe\n",
    "turkana = df[df['county_name'] == \"Turkana\"]"
   ]
  },
  {
   "cell_type": "code",
   "execution_count": 138,
   "metadata": {},
   "outputs": [
    {
     "name": "stderr",
     "output_type": "stream",
     "text": [
      "c:\\Users\\USER\\anaconda3\\envs\\learn-env\\lib\\site-packages\\seaborn\\categorical.py:82: FutureWarning: iteritems is deprecated and will be removed in a future version. Use .items instead.\n",
      "  plot_data = [np.asarray(s, float) for k, s in iter_data]\n"
     ]
    },
    {
     "data": {
      "image/png": "[encoded data removed]",
      "text/plain": [
       "<Figure size 576x360 with 1 Axes>"
      ]
     },
     "metadata": {
      "needs_background": "light"
     },
     "output_type": "display_data"
    }
   ],
   "source": [
    "# Create a figure with a single subplot\n",
    "fig, ax = plt.subplots(figsize=(8, 5))\n",
    "\n",
    "# Create a boxplot for the latitude and longitude columns\n",
    "sns.boxplot(data=turkana[['latitude', 'longitude']], orient='h', ax=ax, palette='pastel')\n",
    "\n",
    "# Set the chart title and axis labels\n",
    "ax.set_title('Latitude and Longitude Boxplot', fontsize=14)\n",
    "ax.set_xlabel('Coordinate Value', fontsize=12)\n",
    "ax.set_ylabel('Coordinate Type', fontsize=12)\n",
    "ax.tick_params(labelsize=10)\n",
    "\n",
    "# Show the chart\n",
    "plt.show()"
   ]
  },
  {
   "cell_type": "code",
   "execution_count": 139,
   "metadata": {},
   "outputs": [],
   "source": [
    "# If latitude is greater than longitude they interchange\n",
    "mask = turkana['latitude'] > turkana['longitude']\n",
    "turkana.loc[mask, ['latitude', 'longitude']] = turkana.loc[mask, ['longitude', 'latitude']].values\n"
   ]
  },
  {
   "cell_type": "code",
   "execution_count": 140,
   "metadata": {},
   "outputs": [
    {
     "name": "stderr",
     "output_type": "stream",
     "text": [
      "c:\\Users\\USER\\anaconda3\\envs\\learn-env\\lib\\site-packages\\seaborn\\categorical.py:82: FutureWarning: iteritems is deprecated and will be removed in a future version. Use .items instead.\n",
      "  plot_data = [np.asarray(s, float) for k, s in iter_data]\n"
     ]
    },
    {
     "data": {
      "image/png": "[encoded data removed]",
      "text/plain": [
       "<Figure size 576x360 with 1 Axes>"
      ]
     },
     "metadata": {
      "needs_background": "light"
     },
     "output_type": "display_data"
    }
   ],
   "source": [
    "# Create a figure with a single subplot\n",
    "fig, ax = plt.subplots(figsize=(8, 5))\n",
    "\n",
    "# Create a boxplot for the latitude and longitude columns\n",
    "sns.boxplot(data=turkana[['latitude', 'longitude']], orient='h', ax=ax, palette='pastel')\n",
    "\n",
    "# Set the chart title and axis labels\n",
    "ax.set_title('Latitude and Longitude Boxplot', fontsize=14)\n",
    "ax.set_xlabel('Coordinate Value', fontsize=12)\n",
    "ax.set_ylabel('Coordinate Type', fontsize=12)\n",
    "ax.tick_params(labelsize=10)\n",
    "\n",
    "# Show the chart\n",
    "plt.show()"
   ]
  },
  {
   "cell_type": "code",
   "execution_count": 141,
   "metadata": {},
   "outputs": [
    {
     "name": "stderr",
     "output_type": "stream",
     "text": [
      "<ipython-input-141-2615b8370d35>:5: SettingWithCopyWarning: \n",
      "A value is trying to be set on a copy of a slice from a DataFrame.\n",
      "Try using .loc[row_indexer,col_indexer] = value instead\n",
      "\n",
      "See the caveats in the documentation: https://pandas.pydata.org/pandas-docs/stable/user_guide/indexing.html#returning-a-view-versus-a-copy\n",
      "  turkana['latitude'] = turkana['latitude'] * factors\n"
     ]
    }
   ],
   "source": [
    "# calculate the correction factor for each value\n",
    "factors = turkana['latitude'].apply(lambda x: 10 ** -(len(str(int(x))) - 1))\n",
    "\n",
    "# divide each value by its correction factor\n",
    "turkana['latitude'] = turkana['latitude'] * factors\n",
    "\n",
    "# # print the corrected dataframe\n",
    "# print(df_sample)"
   ]
  },
  {
   "cell_type": "code",
   "execution_count": 142,
   "metadata": {},
   "outputs": [
    {
     "name": "stderr",
     "output_type": "stream",
     "text": [
      "c:\\Users\\USER\\anaconda3\\envs\\learn-env\\lib\\site-packages\\seaborn\\categorical.py:82: FutureWarning: iteritems is deprecated and will be removed in a future version. Use .items instead.\n",
      "  plot_data = [np.asarray(s, float) for k, s in iter_data]\n"
     ]
    },
    {
     "data": {
      "image/png": "[encoded data removed]",
      "text/plain": [
       "<Figure size 576x360 with 1 Axes>"
      ]
     },
     "metadata": {
      "needs_background": "light"
     },
     "output_type": "display_data"
    }
   ],
   "source": [
    "# Create a figure with a single subplot\n",
    "fig, ax = plt.subplots(figsize=(8, 5))\n",
    "\n",
    "# Create a boxplot for the latitude and longitude columns\n",
    "sns.boxplot(data=turkana[['latitude', 'longitude']], orient='h', ax=ax, palette='pastel')\n",
    "\n",
    "# Set the chart title and axis labels\n",
    "ax.set_title('Latitude and Longitude Boxplot', fontsize=14)\n",
    "ax.set_xlabel('Coordinate Value', fontsize=12)\n",
    "ax.set_ylabel('Coordinate Type', fontsize=12)\n",
    "ax.tick_params(labelsize=10)\n",
    "\n",
    "# Show the chart\n",
    "plt.show()"
   ]
  },
  {
   "cell_type": "code",
   "execution_count": 143,
   "metadata": {},
   "outputs": [
    {
     "name": "stderr",
     "output_type": "stream",
     "text": [
      "<ipython-input-143-e461f9b0d74c>:5: SettingWithCopyWarning: \n",
      "A value is trying to be set on a copy of a slice from a DataFrame.\n",
      "Try using .loc[row_indexer,col_indexer] = value instead\n",
      "\n",
      "See the caveats in the documentation: https://pandas.pydata.org/pandas-docs/stable/user_guide/indexing.html#returning-a-view-versus-a-copy\n",
      "  turkana['longitude'] = turkana['longitude'] * factors\n"
     ]
    }
   ],
   "source": [
    "# calculate the correction factor for each value\n",
    "factors = turkana['longitude'].apply(lambda x: 10 ** -(len(str(int(x))) - 2))\n",
    "\n",
    "# divide each value by its correction factor\n",
    "turkana['longitude'] = turkana['longitude'] * factors\n"
   ]
  },
  {
   "cell_type": "code",
   "execution_count": 144,
   "metadata": {},
   "outputs": [
    {
     "name": "stderr",
     "output_type": "stream",
     "text": [
      "c:\\Users\\USER\\anaconda3\\envs\\learn-env\\lib\\site-packages\\seaborn\\categorical.py:82: FutureWarning: iteritems is deprecated and will be removed in a future version. Use .items instead.\n",
      "  plot_data = [np.asarray(s, float) for k, s in iter_data]\n"
     ]
    },
    {
     "data": {
      "image/png": "[encoded data removed]",
      "text/plain": [
       "<Figure size 576x360 with 1 Axes>"
      ]
     },
     "metadata": {
      "needs_background": "light"
     },
     "output_type": "display_data"
    }
   ],
   "source": [
    "# Create a figure with a single subplot\n",
    "fig, ax = plt.subplots(figsize=(8, 5))\n",
    "\n",
    "# Create a boxplot for the latitude and longitude columns\n",
    "sns.boxplot(data=turkana[['latitude', 'longitude']], orient='h', ax=ax, palette='pastel')\n",
    "\n",
    "# Set the chart title and axis labels\n",
    "ax.set_title('Latitude and Longitude Boxplot', fontsize=14)\n",
    "ax.set_xlabel('Coordinate Value', fontsize=12)\n",
    "ax.set_ylabel('Coordinate Type', fontsize=12)\n",
    "ax.tick_params(labelsize=10)\n",
    "\n",
    "# Show the chart\n",
    "plt.show()"
   ]
  },
  {
   "cell_type": "code",
   "execution_count": 145,
   "metadata": {},
   "outputs": [],
   "source": [
    "# Define a threshold for considering outliers (e.g., 3 standard deviations)\n",
    "threshold = 10 * turkana['latitude'].std()\n",
    "\n",
    "# Identify outliers based on the threshold\n",
    "outliers = ((turkana['latitude'] - mean_latitude).abs() > threshold) | ((turkana['longitude'] - mean_longitude).abs() > threshold)\n",
    "\n",
    "# Replace outliers with random values around the mean\n",
    "turkana.loc[outliers, 'latitude'] = np.random.normal(loc=mean_latitude, scale=turkana['latitude'].std(), size=outliers.sum())\n",
    "turkana.loc[outliers, 'longitude'] = np.random.normal(loc=mean_longitude, scale=turkana['longitude'].std(), size=outliers.sum())\n"
   ]
  },
  {
   "cell_type": "code",
   "execution_count": 146,
   "metadata": {},
   "outputs": [
    {
     "name": "stderr",
     "output_type": "stream",
     "text": [
      "c:\\Users\\USER\\anaconda3\\envs\\learn-env\\lib\\site-packages\\seaborn\\categorical.py:82: FutureWarning: iteritems is deprecated and will be removed in a future version. Use .items instead.\n",
      "  plot_data = [np.asarray(s, float) for k, s in iter_data]\n"
     ]
    },
    {
     "data": {
      "image/png": "[encoded data removed]",
      "text/plain": [
       "<Figure size 576x360 with 1 Axes>"
      ]
     },
     "metadata": {
      "needs_background": "light"
     },
     "output_type": "display_data"
    }
   ],
   "source": [
    "# Create a figure with a single subplot\n",
    "fig, ax = plt.subplots(figsize=(8, 5))\n",
    "\n",
    "# Create a boxplot for the latitude and longitude columns\n",
    "sns.boxplot(data=turkana[['latitude', 'longitude']], orient='h', ax=ax, palette='pastel')\n",
    "\n",
    "# Set the chart title and axis labels\n",
    "ax.set_title('Latitude and Longitude Boxplot', fontsize=14)\n",
    "ax.set_xlabel('Coordinate Value', fontsize=12)\n",
    "ax.set_ylabel('Coordinate Type', fontsize=12)\n",
    "ax.tick_params(labelsize=10)\n",
    "\n",
    "# Show the chart\n",
    "plt.show()"
   ]
  },
  {
   "cell_type": "code",
   "execution_count": 147,
   "metadata": {},
   "outputs": [],
   "source": [
    "# Calculate the mean latitude and longitude\n",
    "mean_latitude = turkana['latitude'].mean()\n",
    "mean_longitude = turkana['longitude'].mean()\n",
    "\n",
    "# Define a threshold for considering outliers (e.g., 3 standard deviations)\n",
    "threshold = 3 * turkana['latitude'].std()\n",
    "\n",
    "# Identify outliers based on the threshold\n",
    "outliers = ((turkana['latitude'] - mean_latitude).abs() > threshold) | ((turkana['longitude'] - mean_longitude).abs() > threshold)\n",
    "\n",
    "# Replace outliers with random values around the mean\n",
    "turkana.loc[outliers, 'latitude'] = np.random.normal(loc=mean_latitude, scale=turkana['latitude'].std(), size=outliers.sum())\n",
    "turkana.loc[outliers, 'longitude'] = np.random.normal(loc=mean_longitude, scale=turkana['longitude'].std(), size=outliers.sum())\n"
   ]
  },
  {
   "cell_type": "code",
   "execution_count": 148,
   "metadata": {},
   "outputs": [
    {
     "name": "stderr",
     "output_type": "stream",
     "text": [
      "c:\\Users\\USER\\anaconda3\\envs\\learn-env\\lib\\site-packages\\seaborn\\categorical.py:82: FutureWarning: iteritems is deprecated and will be removed in a future version. Use .items instead.\n",
      "  plot_data = [np.asarray(s, float) for k, s in iter_data]\n"
     ]
    },
    {
     "data": {
      "image/png": "[encoded data removed]",
      "text/plain": [
       "<Figure size 576x360 with 1 Axes>"
      ]
     },
     "metadata": {
      "needs_background": "light"
     },
     "output_type": "display_data"
    }
   ],
   "source": [
    "# Create a figure with a single subplot\n",
    "fig, ax = plt.subplots(figsize=(8, 5))\n",
    "\n",
    "# Create a boxplot for the latitude and longitude columns\n",
    "sns.boxplot(data=turkana[['latitude', 'longitude']], orient='h', ax=ax, palette='pastel')\n",
    "\n",
    "# Set the chart title and axis labels\n",
    "ax.set_title('Latitude and Longitude Boxplot', fontsize=14)\n",
    "ax.set_xlabel('Coordinate Value', fontsize=12)\n",
    "ax.set_ylabel('Coordinate Type', fontsize=12)\n",
    "ax.tick_params(labelsize=10)\n",
    "\n",
    "# Show the chart\n",
    "plt.show()"
   ]
  },
  {
   "cell_type": "code",
   "execution_count": 149,
   "metadata": {},
   "outputs": [],
   "source": [
    "# Calculate the mean latitude and longitude\n",
    "mean_latitude = turkana['latitude'].mean()\n",
    "mean_longitude = turkana['longitude'].mean()\n",
    "\n",
    "# Define a threshold for considering outliers (e.g., 3 standard deviations)\n",
    "threshold = 3 * turkana['latitude'].std()\n",
    "\n",
    "# Identify outliers based on the threshold\n",
    "outliers = ((turkana['latitude'] - mean_latitude).abs() > threshold) | ((turkana['longitude'] - mean_longitude).abs() > threshold)\n",
    "\n",
    "# Replace outliers with random values around the mean\n",
    "turkana.loc[outliers, 'latitude'] = np.random.normal(loc=mean_latitude, scale=turkana['latitude'].std(), size=outliers.sum())\n",
    "turkana.loc[outliers, 'longitude'] = np.random.normal(loc=mean_longitude, scale=turkana['longitude'].std(), size=outliers.sum())\n"
   ]
  },
  {
   "cell_type": "code",
   "execution_count": 150,
   "metadata": {},
   "outputs": [
    {
     "name": "stderr",
     "output_type": "stream",
     "text": [
      "c:\\Users\\USER\\anaconda3\\envs\\learn-env\\lib\\site-packages\\seaborn\\categorical.py:82: FutureWarning: iteritems is deprecated and will be removed in a future version. Use .items instead.\n",
      "  plot_data = [np.asarray(s, float) for k, s in iter_data]\n"
     ]
    },
    {
     "data": {
      "image/png": "[encoded data removed]",
      "text/plain": [
       "<Figure size 576x360 with 1 Axes>"
      ]
     },
     "metadata": {
      "needs_background": "light"
     },
     "output_type": "display_data"
    }
   ],
   "source": [
    "# Create a figure with a single subplot\n",
    "fig, ax = plt.subplots(figsize=(8, 5))\n",
    "\n",
    "# Create a boxplot for the latitude and longitude columns\n",
    "sns.boxplot(data=turkana[['latitude', 'longitude']], orient='h', ax=ax, palette='pastel')\n",
    "\n",
    "# Set the chart title and axis labels\n",
    "ax.set_title('Latitude and Longitude Boxplot', fontsize=14)\n",
    "ax.set_xlabel('Coordinate Value', fontsize=12)\n",
    "ax.set_ylabel('Coordinate Type', fontsize=12)\n",
    "ax.tick_params(labelsize=10)\n",
    "\n",
    "# Show the chart\n",
    "plt.show()\n"
   ]
  },
  {
   "cell_type": "code",
   "execution_count": 151,
   "metadata": {},
   "outputs": [],
   "source": [
    "# Read the Turkana boundary shapefile into a GeoDataFrame\n",
    "turkana_boundary = gpd.read_file('Shapefiles/Turkana_County.shp')  # Replace 'marsabit_boundary.shp' with the actual path to your Marsabit boundary shapefile\n",
    "\n",
    "# Function to check if a coordinate is in Marsabit\n",
    "def is_coordinate_in_turkana(latitude, longitude):\n",
    "    point = Point(longitude, latitude)\n",
    "    return turkana_boundary.contains(point).any()\n",
    "\n",
    "# Iterate through the dataframe rows and update coordinates if necessary\n",
    "for index, row in turkana.iterrows():\n",
    "    latitude = row['latitude']\n",
    "    longitude = row['longitude']\n",
    "    \n",
    "    if not is_coordinate_in_turkana(latitude, longitude):\n",
    "        # Assign random coordinates within Turkana\n",
    "        while True:\n",
    "            # Set the latitude range to cover the approximate area of Turkana\n",
    "            random_latitude = random.uniform(turkana_boundary.bounds['miny'], turkana_boundary.bounds['maxy'])\n",
    "            # Set the longitude range to cover the approximate area of Turkana\n",
    "            random_longitude = random.uniform(turkana_boundary.bounds['minx'], turkana_boundary.bounds['maxx']) \n",
    "            \n",
    "            if is_coordinate_in_turkana(random_latitude, random_longitude):\n",
    "                # Found a random coordinate within Turkana, update the dataframe\n",
    "                turkana.at[index, 'latitude'] = random_latitude\n",
    "                turkana.at[index, 'longitude'] = random_longitude\n",
    "                break"
   ]
  },
  {
   "cell_type": "code",
   "execution_count": 152,
   "metadata": {},
   "outputs": [],
   "source": [
    "## save dataset\n",
    "turkana.to_csv('turkana.csv', index=False)"
   ]
  },
  {
   "cell_type": "code",
   "execution_count": 153,
   "metadata": {},
   "outputs": [],
   "source": [
    "\n",
    "# Concatenate the dataframes along the row axis\n",
    "combined_df = pd.concat([mar, mandera, turkana, wajir], ignore_index=True)\n",
    "\n",
    "# Reset the index of the combined dataframe\n",
    "combined_df.reset_index(drop=True, inplace=True)"
   ]
  },
  {
   "cell_type": "code",
   "execution_count": 154,
   "metadata": {},
   "outputs": [
    {
     "data": {
      "text/html": [
       "<div>\n",
       "<style scoped>\n",
       "    .dataframe tbody tr th:only-of-type {\n",
       "        vertical-align: middle;\n",
       "    }\n",
       "\n",
       "    .dataframe tbody tr th {\n",
       "        vertical-align: top;\n",
       "    }\n",
       "\n",
       "    .dataframe thead th {\n",
       "        text-align: right;\n",
       "    }\n",
       "</style>\n",
       "<table border=\"1\" class=\"dataframe\">\n",
       "  <thead>\n",
       "    <tr style=\"text-align: right;\">\n",
       "      <th></th>\n",
       "      <th>household_id</th>\n",
       "      <th>village_id</th>\n",
       "      <th>village_name</th>\n",
       "      <th>sublocation_name</th>\n",
       "      <th>sublocation_id</th>\n",
       "      <th>location_id</th>\n",
       "      <th>location_name</th>\n",
       "      <th>constituency_name</th>\n",
       "      <th>county_name</th>\n",
       "      <th>isbeneficiaryhh</th>\n",
       "      <th>latitude</th>\n",
       "      <th>longitude</th>\n",
       "      <th>ruralurban</th>\n",
       "      <th>constituency_id</th>\n",
       "      <th>entry_date</th>\n",
       "      <th>usercode</th>\n",
       "      <th>county_id</th>\n",
       "    </tr>\n",
       "  </thead>\n",
       "  <tbody>\n",
       "    <tr>\n",
       "      <th>0</th>\n",
       "      <td>4010101010072345100212</td>\n",
       "      <td>4010101010072345</td>\n",
       "      <td>Galcha Dida</td>\n",
       "      <td>Nyayo Rd</td>\n",
       "      <td>401010101</td>\n",
       "      <td>4010101</td>\n",
       "      <td>Nagayo</td>\n",
       "      <td>Saku</td>\n",
       "      <td>Marsabit</td>\n",
       "      <td>True</td>\n",
       "      <td>2.33374</td>\n",
       "      <td>37.992490</td>\n",
       "      <td>Urban</td>\n",
       "      <td>47</td>\n",
       "      <td>2018-07-02 09:05:00</td>\n",
       "      <td>0212</td>\n",
       "      <td>10</td>\n",
       "    </tr>\n",
       "    <tr>\n",
       "      <th>1</th>\n",
       "      <td>4010101010072345100213</td>\n",
       "      <td>4010101010072345</td>\n",
       "      <td>Galcha Dida</td>\n",
       "      <td>Nyayo Rd</td>\n",
       "      <td>401010101</td>\n",
       "      <td>4010101</td>\n",
       "      <td>Nagayo</td>\n",
       "      <td>Saku</td>\n",
       "      <td>Marsabit</td>\n",
       "      <td>False</td>\n",
       "      <td>2.33319</td>\n",
       "      <td>37.992270</td>\n",
       "      <td>Urban</td>\n",
       "      <td>47</td>\n",
       "      <td>2018-06-08 19:57:00</td>\n",
       "      <td>0213</td>\n",
       "      <td>10</td>\n",
       "    </tr>\n",
       "    <tr>\n",
       "      <th>2</th>\n",
       "      <td>401010101007234510126</td>\n",
       "      <td>4010101010072345</td>\n",
       "      <td>Galcha Dida</td>\n",
       "      <td>Nyayo Rd</td>\n",
       "      <td>401010101</td>\n",
       "      <td>4010101</td>\n",
       "      <td>Nagayo</td>\n",
       "      <td>Saku</td>\n",
       "      <td>Marsabit</td>\n",
       "      <td>False</td>\n",
       "      <td>2.33148</td>\n",
       "      <td>37.994250</td>\n",
       "      <td>Urban</td>\n",
       "      <td>47</td>\n",
       "      <td>2018-02-10 13:17:00</td>\n",
       "      <td>0126</td>\n",
       "      <td>10</td>\n",
       "    </tr>\n",
       "    <tr>\n",
       "      <th>3</th>\n",
       "      <td>401010101007234510128</td>\n",
       "      <td>4010101010072345</td>\n",
       "      <td>Galcha Dida</td>\n",
       "      <td>Nyayo Rd</td>\n",
       "      <td>401010101</td>\n",
       "      <td>4010101</td>\n",
       "      <td>Nagayo</td>\n",
       "      <td>Saku</td>\n",
       "      <td>Marsabit</td>\n",
       "      <td>False</td>\n",
       "      <td>2.67537</td>\n",
       "      <td>37.876865</td>\n",
       "      <td>Urban</td>\n",
       "      <td>47</td>\n",
       "      <td>2019-07-20 06:57:00</td>\n",
       "      <td>0128</td>\n",
       "      <td>10</td>\n",
       "    </tr>\n",
       "    <tr>\n",
       "      <th>4</th>\n",
       "      <td>401010101007234510133</td>\n",
       "      <td>4010101010072345</td>\n",
       "      <td>Galcha Dida</td>\n",
       "      <td>Nyayo Rd</td>\n",
       "      <td>401010101</td>\n",
       "      <td>4010101</td>\n",
       "      <td>Nagayo</td>\n",
       "      <td>Saku</td>\n",
       "      <td>Marsabit</td>\n",
       "      <td>False</td>\n",
       "      <td>2.30000</td>\n",
       "      <td>37.200000</td>\n",
       "      <td>Urban</td>\n",
       "      <td>47</td>\n",
       "      <td>2019-07-15 14:04:00</td>\n",
       "      <td>0133</td>\n",
       "      <td>10</td>\n",
       "    </tr>\n",
       "  </tbody>\n",
       "</table>\n",
       "</div>"
      ],
      "text/plain": [
       "             household_id        village_id village_name sublocation_name  \\\n",
       "0  4010101010072345100212  4010101010072345  Galcha Dida         Nyayo Rd   \n",
       "1  4010101010072345100213  4010101010072345  Galcha Dida         Nyayo Rd   \n",
       "2   401010101007234510126  4010101010072345  Galcha Dida         Nyayo Rd   \n",
       "3   401010101007234510128  4010101010072345  Galcha Dida         Nyayo Rd   \n",
       "4   401010101007234510133  4010101010072345  Galcha Dida         Nyayo Rd   \n",
       "\n",
       "   sublocation_id  location_id location_name constituency_name county_name  \\\n",
       "0       401010101      4010101        Nagayo              Saku    Marsabit   \n",
       "1       401010101      4010101        Nagayo              Saku    Marsabit   \n",
       "2       401010101      4010101        Nagayo              Saku    Marsabit   \n",
       "3       401010101      4010101        Nagayo              Saku    Marsabit   \n",
       "4       401010101      4010101        Nagayo              Saku    Marsabit   \n",
       "\n",
       "   isbeneficiaryhh  latitude  longitude ruralurban  constituency_id  \\\n",
       "0             True   2.33374  37.992490      Urban               47   \n",
       "1            False   2.33319  37.992270      Urban               47   \n",
       "2            False   2.33148  37.994250      Urban               47   \n",
       "3            False   2.67537  37.876865      Urban               47   \n",
       "4            False   2.30000  37.200000      Urban               47   \n",
       "\n",
       "           entry_date usercode  county_id  \n",
       "0 2018-07-02 09:05:00     0212         10  \n",
       "1 2018-06-08 19:57:00     0213         10  \n",
       "2 2018-02-10 13:17:00     0126         10  \n",
       "3 2019-07-20 06:57:00     0128         10  \n",
       "4 2019-07-15 14:04:00     0133         10  "
      ]
     },
     "execution_count": 154,
     "metadata": {},
     "output_type": "execute_result"
    }
   ],
   "source": [
    "# Read Excel\n",
    "combined_df.head()"
   ]
  },
  {
   "cell_type": "code",
   "execution_count": 155,
   "metadata": {},
   "outputs": [
    {
     "name": "stdout",
     "output_type": "stream",
     "text": [
      "<class 'pandas.core.frame.DataFrame'>\n",
      "RangeIndex: 570675 entries, 0 to 570674\n",
      "Data columns (total 17 columns):\n",
      " #   Column             Non-Null Count   Dtype         \n",
      "---  ------             --------------   -----         \n",
      " 0   household_id       570675 non-null  object        \n",
      " 1   village_id         570675 non-null  int64         \n",
      " 2   village_name       570675 non-null  object        \n",
      " 3   sublocation_name   570675 non-null  object        \n",
      " 4   sublocation_id     570675 non-null  int64         \n",
      " 5   location_id        570675 non-null  int64         \n",
      " 6   location_name      570675 non-null  object        \n",
      " 7   constituency_name  570675 non-null  object        \n",
      " 8   county_name        570675 non-null  object        \n",
      " 9   isbeneficiaryhh    570675 non-null  bool          \n",
      " 10  latitude           570675 non-null  float64       \n",
      " 11  longitude          570675 non-null  float64       \n",
      " 12  ruralurban         544571 non-null  object        \n",
      " 13  constituency_id    570675 non-null  int64         \n",
      " 14  entry_date         570675 non-null  datetime64[ns]\n",
      " 15  usercode           570675 non-null  object        \n",
      " 16  county_id          570675 non-null  int64         \n",
      "dtypes: bool(1), datetime64[ns](1), float64(2), int64(5), object(8)\n",
      "memory usage: 70.2+ MB\n"
     ]
    }
   ],
   "source": [
    "combined_df.info()"
   ]
  },
  {
   "cell_type": "code",
   "execution_count": 156,
   "metadata": {},
   "outputs": [],
   "source": [
    "# Convert village id to object\n",
    "combined_df['village_id'] = combined_df['village_id'].astype(str)\n"
   ]
  },
  {
   "cell_type": "code",
   "execution_count": 157,
   "metadata": {},
   "outputs": [],
   "source": [
    "# save to excel\n",
    "combined_df.to_excel('combined_data.xlsx', index=False)\n"
   ]
  }
 ],
 "metadata": {
  "kernelspec": {
   "display_name": "Python 3 (ipykernel)",
   "language": "python",
   "name": "python3"
  },
  "language_info": {
   "codemirror_mode": {
    "name": "ipython",
    "version": 3
   },
   "file_extension": ".py",
   "mimetype": "text/x-python",
   "name": "python",
   "nbconvert_exporter": "python",
   "pygments_lexer": "ipython3",
   "version": "3.10.11"
  }
 },
 "nbformat": 4,
 "nbformat_minor": 2
}
